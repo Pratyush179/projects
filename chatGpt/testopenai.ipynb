{
 "cells": [
  {
   "cell_type": "code",
   "execution_count": 1,
   "metadata": {},
   "outputs": [],
   "source": [
    "import openai\n",
    "from dotenv import load_dotenv"
   ]
  },
  {
   "cell_type": "code",
   "execution_count": 2,
   "metadata": {},
   "outputs": [],
   "source": [
    "import os \n",
    "openai.api_key = os.getenv('OPENAI_API_KEY')"
   ]
  },
  {
   "cell_type": "code",
   "execution_count": 5,
   "metadata": {},
   "outputs": [
    {
     "data": {
      "text/html": [
       "<div>\n",
       "<style scoped>\n",
       "    .dataframe tbody tr th:only-of-type {\n",
       "        vertical-align: middle;\n",
       "    }\n",
       "\n",
       "    .dataframe tbody tr th {\n",
       "        vertical-align: top;\n",
       "    }\n",
       "\n",
       "    .dataframe thead th {\n",
       "        text-align: right;\n",
       "    }\n",
       "</style>\n",
       "<table border=\"1\" class=\"dataframe\">\n",
       "  <thead>\n",
       "    <tr style=\"text-align: right;\">\n",
       "      <th></th>\n",
       "      <th>id</th>\n",
       "      <th>object</th>\n",
       "      <th>created</th>\n",
       "      <th>owned_by</th>\n",
       "      <th>permission</th>\n",
       "      <th>root</th>\n",
       "      <th>parent</th>\n",
       "    </tr>\n",
       "  </thead>\n",
       "  <tbody>\n",
       "    <tr>\n",
       "      <th>0</th>\n",
       "      <td>davinci</td>\n",
       "      <td>model</td>\n",
       "      <td>1649359874</td>\n",
       "      <td>openai</td>\n",
       "      <td>[{'id': 'modelperm-uJaD4C9nXA6tPNoBII9hcYF4', ...</td>\n",
       "      <td>davinci</td>\n",
       "      <td>None</td>\n",
       "    </tr>\n",
       "    <tr>\n",
       "      <th>1</th>\n",
       "      <td>text-davinci-001</td>\n",
       "      <td>model</td>\n",
       "      <td>1649364042</td>\n",
       "      <td>openai</td>\n",
       "      <td>[{'id': 'modelperm-CDlahk1RbkghXDjtxqzXoPNo', ...</td>\n",
       "      <td>text-davinci-001</td>\n",
       "      <td>None</td>\n",
       "    </tr>\n",
       "    <tr>\n",
       "      <th>2</th>\n",
       "      <td>text-search-curie-query-001</td>\n",
       "      <td>model</td>\n",
       "      <td>1651172509</td>\n",
       "      <td>openai-dev</td>\n",
       "      <td>[{'id': 'modelperm-fNgpMH6ZEQulSq1CjzlfQuIe', ...</td>\n",
       "      <td>text-search-curie-query-001</td>\n",
       "      <td>None</td>\n",
       "    </tr>\n",
       "    <tr>\n",
       "      <th>3</th>\n",
       "      <td>gpt-3.5-turbo</td>\n",
       "      <td>model</td>\n",
       "      <td>1677610602</td>\n",
       "      <td>openai</td>\n",
       "      <td>[{'id': 'modelperm-aRL68Vu37kh2Z0wi2tmPhGZT', ...</td>\n",
       "      <td>gpt-3.5-turbo</td>\n",
       "      <td>None</td>\n",
       "    </tr>\n",
       "    <tr>\n",
       "      <th>4</th>\n",
       "      <td>babbage</td>\n",
       "      <td>model</td>\n",
       "      <td>1649358449</td>\n",
       "      <td>openai</td>\n",
       "      <td>[{'id': 'modelperm-h574xGeqWyBeFDDKaoVTC4CO', ...</td>\n",
       "      <td>babbage</td>\n",
       "      <td>None</td>\n",
       "    </tr>\n",
       "  </tbody>\n",
       "</table>\n",
       "</div>"
      ],
      "text/plain": [
       "                            id object     created    owned_by  \\\n",
       "0                      davinci  model  1649359874      openai   \n",
       "1             text-davinci-001  model  1649364042      openai   \n",
       "2  text-search-curie-query-001  model  1651172509  openai-dev   \n",
       "3                gpt-3.5-turbo  model  1677610602      openai   \n",
       "4                      babbage  model  1649358449      openai   \n",
       "\n",
       "                                          permission  \\\n",
       "0  [{'id': 'modelperm-uJaD4C9nXA6tPNoBII9hcYF4', ...   \n",
       "1  [{'id': 'modelperm-CDlahk1RbkghXDjtxqzXoPNo', ...   \n",
       "2  [{'id': 'modelperm-fNgpMH6ZEQulSq1CjzlfQuIe', ...   \n",
       "3  [{'id': 'modelperm-aRL68Vu37kh2Z0wi2tmPhGZT', ...   \n",
       "4  [{'id': 'modelperm-h574xGeqWyBeFDDKaoVTC4CO', ...   \n",
       "\n",
       "                          root parent  \n",
       "0                      davinci   None  \n",
       "1             text-davinci-001   None  \n",
       "2  text-search-curie-query-001   None  \n",
       "3                gpt-3.5-turbo   None  \n",
       "4                      babbage   None  "
      ]
     },
     "execution_count": 5,
     "metadata": {},
     "output_type": "execute_result"
    }
   ],
   "source": [
    "import pandas as pd\n",
    "\n",
    "pd.DataFrame(openai.Model.list()['data']).head()"
   ]
  },
  {
   "cell_type": "code",
   "execution_count": 13,
   "metadata": {},
   "outputs": [
    {
     "data": {
      "text/plain": [
       "<OpenAIObject text_completion id=cmpl-7rKVI2cws2hXUB4iHCQ31nfN3AsAO at 0x1614ea429a0> JSON: {\n",
       "  \"warning\": \"This model version is deprecated. Migrate before January 4, 2024 to avoid disruption of service. Learn more https://platform.openai.com/docs/deprecations\",\n",
       "  \"id\": \"cmpl-7rKVI2cws2hXUB4iHCQ31nfN3AsAO\",\n",
       "  \"object\": \"text_completion\",\n",
       "  \"created\": 1692944556,\n",
       "  \"model\": \"text-curie-001\",\n",
       "  \"choices\": [\n",
       "    {\n",
       "      \"text\": \"\\n\\nMachine learning is a way to make computers \\\"learn\\\" by themselves. When you give a machine learning algorithm a set\",\n",
       "      \"index\": 0,\n",
       "      \"logprobs\": null,\n",
       "      \"finish_reason\": \"length\"\n",
       "    }\n",
       "  ],\n",
       "  \"usage\": {\n",
       "    \"prompt_tokens\": 15,\n",
       "    \"completion_tokens\": 25,\n",
       "    \"total_tokens\": 40\n",
       "  }\n",
       "}"
      ]
     },
     "execution_count": 13,
     "metadata": {},
     "output_type": "execute_result"
    }
   ],
   "source": [
    "## Chat completion API\n",
    "\n",
    "## Completion API\n",
    "response = openai.Completion.create(\n",
    "    model = 'text-curie-001',\n",
    "    prompt = \"Act as an AI assistance and explain machine learning to a 5 year old?\",\n",
    "    max_tokens = 25\n",
    ")\n",
    "\n",
    "response"
   ]
  },
  {
   "cell_type": "code",
   "execution_count": 15,
   "metadata": {},
   "outputs": [
    {
     "data": {
      "text/plain": [
       "<OpenAIObject text_completion id=cmpl-7rKWTvAQiLHVzrTzsssCEKIVFFDr1 at 0x161364721d0> JSON: {\n",
       "  \"warning\": \"This model version is deprecated. Migrate before January 4, 2024 to avoid disruption of service. Learn more https://platform.openai.com/docs/deprecations\",\n",
       "  \"id\": \"cmpl-7rKWTvAQiLHVzrTzsssCEKIVFFDr1\",\n",
       "  \"object\": \"text_completion\",\n",
       "  \"created\": 1692944629,\n",
       "  \"model\": \"text-curie-001\",\n",
       "  \"choices\": [\n",
       "    {\n",
       "      \"text\": \"\\n\\nMachine learning is a process of getting a computer to learn from experience. This means that the computer can figure out things\",\n",
       "      \"index\": 0,\n",
       "      \"logprobs\": null,\n",
       "      \"finish_reason\": \"length\"\n",
       "    },\n",
       "    {\n",
       "      \"text\": \"\\n\\nMachine learning is a process where a machine is taught to learn from data. This process can be used to make decisions\",\n",
       "      \"index\": 1,\n",
       "      \"logprobs\": null,\n",
       "      \"finish_reason\": \"length\"\n",
       "    },\n",
       "    {\n",
       "      \"text\": \"\\n\\nMachine learning is a process of teaching a computer how to learn on its own. The computer is given a set of\",\n",
       "      \"index\": 2,\n",
       "      \"logprobs\": null,\n",
       "      \"finish_reason\": \"length\"\n",
       "    },\n",
       "    {\n",
       "      \"text\": \"\\n\\nMachine learning is a process where a computer is taught how to recognize patterns in data. The computer then uses this knowledge\",\n",
       "      \"index\": 3,\n",
       "      \"logprobs\": null,\n",
       "      \"finish_reason\": \"length\"\n",
       "    },\n",
       "    {\n",
       "      \"text\": \"\\n\\nMachine learning is a process where computers learn to do things on their own, by observing and taking data from examples.\",\n",
       "      \"index\": 4,\n",
       "      \"logprobs\": null,\n",
       "      \"finish_reason\": \"length\"\n",
       "    }\n",
       "  ],\n",
       "  \"usage\": {\n",
       "    \"prompt_tokens\": 15,\n",
       "    \"completion_tokens\": 125,\n",
       "    \"total_tokens\": 140\n",
       "  }\n",
       "}"
      ]
     },
     "execution_count": 15,
     "metadata": {},
     "output_type": "execute_result"
    }
   ],
   "source": [
    "## Completion API\n",
    "response = openai.Completion.create(\n",
    "    model = 'text-curie-001',\n",
    "    prompt = \"Act as an AI assistance and explain machine learning to a 5 year old?\",\n",
    "    max_tokens = 25,\n",
    "    temperature = 0.6,\n",
    "    n = 5\n",
    ")\n",
    "\n",
    "response"
   ]
  },
  {
   "cell_type": "code",
   "execution_count": 22,
   "metadata": {},
   "outputs": [
    {
     "data": {
      "text/plain": [
       "<OpenAIObject text_completion id=cmpl-7rKZgmD8jnaxHBrGymTeSBdXj4KAw at 0x1614ea560e0> JSON: {\n",
       "  \"warning\": \"This model version is deprecated. Migrate before January 4, 2024 to avoid disruption of service. Learn more https://platform.openai.com/docs/deprecations\",\n",
       "  \"id\": \"cmpl-7rKZgmD8jnaxHBrGymTeSBdXj4KAw\",\n",
       "  \"object\": \"text_completion\",\n",
       "  \"created\": 1692944828,\n",
       "  \"model\": \"text-curie-001\",\n",
       "  \"choices\": [\n",
       "    {\n",
       "      \"text\": \" with the most millionaires\\n\\n1. New York City, New York\\n2. Los Angeles, California\\n3. Chicago\",\n",
       "      \"index\": 0,\n",
       "      \"logprobs\": null,\n",
       "      \"finish_reason\": \"length\"\n",
       "    },\n",
       "    {\n",
       "      \"text\": \" with the best quality of life\\n\\n1. Geneva, Switzerland\\n2. Vienna, Austria\\n3. Zurich, Switzerland\",\n",
       "      \"index\": 1,\n",
       "      \"logprobs\": null,\n",
       "      \"finish_reason\": \"length\"\n",
       "    },\n",
       "    {\n",
       "      \"text\": \" where you can see the most stars\\n\\n1. Cape Town, South Africa\\n\\n2. Sydney, Australia\\n\\n\",\n",
       "      \"index\": 2,\n",
       "      \"logprobs\": null,\n",
       "      \"finish_reason\": \"length\"\n",
       "    },\n",
       "    {\n",
       "      \"text\": \" with the best quality of life\\n\\n1. Vancouver, Canada\\n2. Vienna, Austria\\n3. Zurich, Switzerland\",\n",
       "      \"index\": 3,\n",
       "      \"logprobs\": null,\n",
       "      \"finish_reason\": \"length\"\n",
       "    },\n",
       "    {\n",
       "      \"text\": \" with the most millionaires\\n\\n1. New York City, New York\\n2. Los Angeles, California\\n3. Chicago\",\n",
       "      \"index\": 4,\n",
       "      \"logprobs\": null,\n",
       "      \"finish_reason\": \"length\"\n",
       "    }\n",
       "  ],\n",
       "  \"usage\": {\n",
       "    \"prompt_tokens\": 6,\n",
       "    \"completion_tokens\": 125,\n",
       "    \"total_tokens\": 131\n",
       "  }\n",
       "}"
      ]
     },
     "execution_count": 22,
     "metadata": {},
     "output_type": "execute_result"
    }
   ],
   "source": [
    "## Completion API\n",
    "response = openai.Completion.create(\n",
    "    model = 'text-curie-001',\n",
    "    prompt = \"Top 6 cities in the world\",\n",
    "    max_tokens = 25,\n",
    "    temperature = 0.6,\n",
    "    n = 5\n",
    ")\n",
    "\n",
    "response"
   ]
  },
  {
   "cell_type": "code",
   "execution_count": 28,
   "metadata": {},
   "outputs": [
    {
     "name": "stdout",
     "output_type": "stream",
     "text": [
      " with the most millionaires\n",
      "\n",
      "1. New York City, New York\n",
      "2. Los Angeles, California\n",
      "3. Chicago\n"
     ]
    }
   ],
   "source": [
    "print(response['choices'][0]['text'])"
   ]
  },
  {
   "cell_type": "code",
   "execution_count": 32,
   "metadata": {},
   "outputs": [
    {
     "data": {
      "text/plain": [
       "<OpenAIObject text_completion id=cmpl-7rKe58AbfU0yTsxQq1jBDN8YHeFtI at 0x1614fee7310> JSON: {\n",
       "  \"warning\": \"This model version is deprecated. Migrate before January 4, 2024 to avoid disruption of service. Learn more https://platform.openai.com/docs/deprecations\",\n",
       "  \"id\": \"cmpl-7rKe58AbfU0yTsxQq1jBDN8YHeFtI\",\n",
       "  \"object\": \"text_completion\",\n",
       "  \"created\": 1692945101,\n",
       "  \"model\": \"text-curie-001\",\n",
       "  \"choices\": [\n",
       "    {\n",
       "      \"text\": \" \\\"Bienvenue, Comment allez-vous\\\"\",\n",
       "      \"index\": 0,\n",
       "      \"logprobs\": null,\n",
       "      \"finish_reason\": \"stop\"\n",
       "    }\n",
       "  ],\n",
       "  \"usage\": {\n",
       "    \"prompt_tokens\": 26,\n",
       "    \"completion_tokens\": 11,\n",
       "    \"total_tokens\": 37\n",
       "  }\n",
       "}"
      ]
     },
     "execution_count": 32,
     "metadata": {},
     "output_type": "execute_result"
    }
   ],
   "source": [
    "response = openai.Completion.create(\n",
    "    model = 'text-curie-001',\n",
    "    prompt = \"\"\"Act as an AI model to translate text to French:\n",
    "    \"Hello How are you \"\n",
    "    \"\"\",\n",
    "    max_tokens = 25,\n",
    "    temperature = 1,\n",
    "    n = 1\n",
    ")\n",
    "\n",
    "response"
   ]
  },
  {
   "cell_type": "markdown",
   "metadata": {},
   "source": [
    "### Chat Completion API"
   ]
  },
  {
   "cell_type": "code",
   "execution_count": 35,
   "metadata": {},
   "outputs": [
    {
     "data": {
      "text/plain": [
       "<OpenAIObject chat.completion id=chatcmpl-7rKkVs5E8mDiVagr9vIfyO6qIrB9N at 0x1614fe37400> JSON: {\n",
       "  \"id\": \"chatcmpl-7rKkVs5E8mDiVagr9vIfyO6qIrB9N\",\n",
       "  \"object\": \"chat.completion\",\n",
       "  \"created\": 1692945499,\n",
       "  \"model\": \"gpt-3.5-turbo-0613\",\n",
       "  \"choices\": [\n",
       "    {\n",
       "      \"index\": 0,\n",
       "      \"message\": {\n",
       "        \"role\": \"assistant\",\n",
       "        \"content\": \"Your name is Suraj.\"\n",
       "      },\n",
       "      \"finish_reason\": \"stop\"\n",
       "    }\n",
       "  ],\n",
       "  \"usage\": {\n",
       "    \"prompt_tokens\": 46,\n",
       "    \"completion_tokens\": 6,\n",
       "    \"total_tokens\": 52\n",
       "  }\n",
       "}"
      ]
     },
     "execution_count": 35,
     "metadata": {},
     "output_type": "execute_result"
    }
   ],
   "source": [
    "openai.ChatCompletion.create(\n",
    "    model = 'gpt-3.5-turbo',\n",
    "    messages = [{'role':'system', 'content': 'Act as an AI assitant'},\n",
    "    {'role':'user', 'content':'Hello How are you?'},\n",
    "    {'role':'user', 'content':'My age is 30 and my name is Suraj'},\n",
    "    {'role':'user', 'content':'Hello what is my name'}]\n",
    ")"
   ]
  },
  {
   "cell_type": "code",
   "execution_count": null,
   "metadata": {},
   "outputs": [],
   "source": []
  },
  {
   "cell_type": "code",
   "execution_count": null,
   "metadata": {},
   "outputs": [],
   "source": []
  },
  {
   "cell_type": "code",
   "execution_count": null,
   "metadata": {},
   "outputs": [],
   "source": []
  },
  {
   "cell_type": "code",
   "execution_count": null,
   "metadata": {},
   "outputs": [],
   "source": []
  },
  {
   "cell_type": "code",
   "execution_count": null,
   "metadata": {},
   "outputs": [],
   "source": []
  }
 ],
 "metadata": {
  "kernelspec": {
   "display_name": "Python 3",
   "language": "python",
   "name": "python3"
  },
  "language_info": {
   "codemirror_mode": {
    "name": "ipython",
    "version": 3
   },
   "file_extension": ".py",
   "mimetype": "text/x-python",
   "name": "python",
   "nbconvert_exporter": "python",
   "pygments_lexer": "ipython3",
   "version": "3.9.0"
  },
  "orig_nbformat": 4
 },
 "nbformat": 4,
 "nbformat_minor": 2
}
