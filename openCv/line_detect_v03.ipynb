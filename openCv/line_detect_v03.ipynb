{
 "cells": [
  {
   "cell_type": "code",
   "execution_count": 1,
   "metadata": {},
   "outputs": [],
   "source": [
    "import cv2\n",
    "import numpy as np"
   ]
  },
  {
   "cell_type": "code",
   "execution_count": 2,
   "metadata": {},
   "outputs": [],
   "source": [
    "image_path = r'data\\gray_image\\input_line_1.png'"
   ]
  },
  {
   "cell_type": "code",
   "execution_count": 3,
   "metadata": {},
   "outputs": [],
   "source": [
    "img = cv2.imread(image_path, 0)\n",
    "assert img is not None, \"file could not be read, check the path\"\n",
    "\n",
    "r_img = cv2.resize(img, (1500,1000))\n",
    "cv2.imshow(\"img\", r_img)\n",
    "cv2.waitKey(0)\n",
    "cv2.destroyAllWindows()"
   ]
  },
  {
   "cell_type": "code",
   "execution_count": 4,
   "metadata": {},
   "outputs": [
    {
     "name": "stdout",
     "output_type": "stream",
     "text": [
      "Shape of the image: (4800, 7200)\n",
      "Image dtype: uint8\n"
     ]
    }
   ],
   "source": [
    "print (f'Shape of the image: {img.shape}')\n",
    "print(f'Image dtype: {img.dtype}')"
   ]
  },
  {
   "cell_type": "code",
   "execution_count": 5,
   "metadata": {},
   "outputs": [],
   "source": [
    "_, mask = cv2.threshold(img, 230, 255, cv2.THRESH_BINARY)\n",
    "\n",
    "r_mask = cv2.resize(mask, (1500,1000))\n",
    "cv2.imshow(\"Mask\", r_mask)\n",
    "cv2.waitKey(0)\n",
    "cv2.destroyAllWindows()"
   ]
  },
  {
   "cell_type": "markdown",
   "metadata": {},
   "source": [
    "### Morphological Operations\n"
   ]
  },
  {
   "cell_type": "code",
   "execution_count": 6,
   "metadata": {},
   "outputs": [],
   "source": [
    "# defining the kernel\n",
    "kernel_1 = np.ones((5, 5), np.uint8)\n",
    "# kernel_2 = cv2.getStructuringElement(shape=cv2.MORPH_RECT, ksize=(5,5))"
   ]
  },
  {
   "cell_type": "code",
   "execution_count": 7,
   "metadata": {},
   "outputs": [],
   "source": [
    "# cv2.MORPH_RECT?"
   ]
  },
  {
   "cell_type": "code",
   "execution_count": 8,
   "metadata": {},
   "outputs": [],
   "source": [
    "# cv2.imshow(\"Kernel_1\", kernel_1)\n",
    "# cv2.imshow(\"Kernel_2\", kernel_2)\n",
    "# cv2.waitKey(0)\n",
    "# cv2.destroyAllWindows()"
   ]
  },
  {
   "cell_type": "code",
   "execution_count": 9,
   "metadata": {},
   "outputs": [],
   "source": [
    "# e = cv2.erode(mask, kernel_1, iterations=1)\n",
    "\n",
    "# r_e = cv2.resize(e, (1500,1000))\n",
    "# cv2.imshow(\"erosion\", r_e)\n",
    "# # cv2.waitKey(0)\n",
    "# # cv2.destroyAllWindows()"
   ]
  },
  {
   "cell_type": "code",
   "execution_count": 10,
   "metadata": {},
   "outputs": [],
   "source": [
    "d = cv2.dilate(img, kernel_1, iterations=1)\n",
    "\n",
    "r_d = cv2.resize(d, (1500,1000))\n",
    "cv2.imshow(\"Dilate\", r_d)\n",
    "cv2.waitKey(0)\n",
    "cv2.destroyAllWindows()"
   ]
  },
  {
   "cell_type": "code",
   "execution_count": 11,
   "metadata": {},
   "outputs": [],
   "source": [
    "e = cv2.erode(d, kernel_1, iterations=3)\n",
    "\n",
    "r_e = cv2.resize(e, (1500,1000))\n",
    "cv2.imshow(\"erosion\", r_e)\n",
    "cv2.waitKey(0)\n",
    "cv2.destroyAllWindows()"
   ]
  },
  {
   "cell_type": "code",
   "execution_count": 12,
   "metadata": {},
   "outputs": [],
   "source": [
    "ie = cv2.bitwise_not(e)\n",
    "\n",
    "r_ie = cv2.resize(ie, (1500,1000))\n",
    "cv2.imshow(\"Bitwise_Not\", r_ie)\n",
    "cv2.waitKey(0)\n",
    "cv2.destroyAllWindows()"
   ]
  },
  {
   "cell_type": "code",
   "execution_count": 13,
   "metadata": {},
   "outputs": [],
   "source": [
    "i_1 = cv2.dilate(ie, kernel_1, iterations=1)\n",
    "i_2 = cv2.erode(i_1, kernel_1, iterations=2)\n",
    "\n",
    "# cv2.imshow(\"Bitwise_Not\", r_ie)\n",
    "\n",
    "r_d = cv2.resize(i_2, (1500,1000))\n",
    "cv2.imshow(\"processed\", r_d)\n",
    "\n",
    "ie_1 = cv2.bitwise_not(r_d)\n",
    "r_ie_1 = cv2.resize(ie_1, (1500,1000))\n",
    "cv2.imshow(\"processed_1\", r_ie_1)\n",
    "\n",
    "cv2.waitKey(0)\n",
    "cv2.destroyAllWindows()"
   ]
  },
  {
   "cell_type": "markdown",
   "metadata": {},
   "source": [
    "### Canny Edge detection"
   ]
  },
  {
   "cell_type": "code",
   "execution_count": 14,
   "metadata": {},
   "outputs": [
    {
     "ename": "error",
     "evalue": "OpenCV(4.8.0) D:\\a\\opencv-python\\opencv-python\\opencv\\modules\\highgui\\src\\window_w32.cpp:2561: error: (-27:Null pointer) NULL window: 'Canny' in function 'cvGetTrackbarPos'\n",
     "output_type": "error",
     "traceback": [
      "\u001b[1;31m---------------------------------------------------------------------------\u001b[0m",
      "\u001b[1;31merror\u001b[0m                                     Traceback (most recent call last)",
      "\u001b[1;32mc:\\Suraj\\projects\\openCv\\line_detect_v03.ipynb Cell 16\u001b[0m line \u001b[0;36m9\n\u001b[0;32m      <a href='vscode-notebook-cell:/c%3A/Suraj/projects/openCv/line_detect_v03.ipynb#X22sZmlsZQ%3D%3D?line=5'>6</a>\u001b[0m cv2\u001b[39m.\u001b[39mcreateTrackbar(\u001b[39m\"\u001b[39m\u001b[39mThreshold2\u001b[39m\u001b[39m\"\u001b[39m, \u001b[39m\"\u001b[39m\u001b[39mCanny\u001b[39m\u001b[39m\"\u001b[39m, \u001b[39m0\u001b[39m, \u001b[39m1500\u001b[39m, nothing)\n\u001b[0;32m      <a href='vscode-notebook-cell:/c%3A/Suraj/projects/openCv/line_detect_v03.ipynb#X22sZmlsZQ%3D%3D?line=7'>8</a>\u001b[0m \u001b[39mwhile\u001b[39;00m \u001b[39mTrue\u001b[39;00m:\n\u001b[1;32m----> <a href='vscode-notebook-cell:/c%3A/Suraj/projects/openCv/line_detect_v03.ipynb#X22sZmlsZQ%3D%3D?line=8'>9</a>\u001b[0m     a \u001b[39m=\u001b[39m cv2\u001b[39m.\u001b[39;49mgetTrackbarPos(\u001b[39m'\u001b[39;49m\u001b[39mThreshold1\u001b[39;49m\u001b[39m'\u001b[39;49m, \u001b[39m'\u001b[39;49m\u001b[39mCanny\u001b[39;49m\u001b[39m'\u001b[39;49m)\n\u001b[0;32m     <a href='vscode-notebook-cell:/c%3A/Suraj/projects/openCv/line_detect_v03.ipynb#X22sZmlsZQ%3D%3D?line=9'>10</a>\u001b[0m     b \u001b[39m=\u001b[39m cv2\u001b[39m.\u001b[39mgetTrackbarPos(\u001b[39m'\u001b[39m\u001b[39mThreshold2\u001b[39m\u001b[39m'\u001b[39m, \u001b[39m'\u001b[39m\u001b[39mCanny\u001b[39m\u001b[39m'\u001b[39m)\n\u001b[0;32m     <a href='vscode-notebook-cell:/c%3A/Suraj/projects/openCv/line_detect_v03.ipynb#X22sZmlsZQ%3D%3D?line=11'>12</a>\u001b[0m     \u001b[39m# print(a)\u001b[39;00m\n",
      "\u001b[1;31merror\u001b[0m: OpenCV(4.8.0) D:\\a\\opencv-python\\opencv-python\\opencv\\modules\\highgui\\src\\window_w32.cpp:2561: error: (-27:Null pointer) NULL window: 'Canny' in function 'cvGetTrackbarPos'\n"
     ]
    }
   ],
   "source": [
    "def nothing(x):\n",
    "    pass\n",
    "\n",
    "cv2.namedWindow(\"Canny\")\n",
    "cv2.createTrackbar(\"Threshold1\", \"Canny\", 0, 1500, nothing)\n",
    "cv2.createTrackbar(\"Threshold2\", \"Canny\", 0, 1500, nothing)\n",
    "\n",
    "while True:\n",
    "    a = cv2.getTrackbarPos('Threshold1', 'Canny')\n",
    "    b = cv2.getTrackbarPos('Threshold2', 'Canny')\n",
    "\n",
    "    # print(a)\n",
    "    res = cv2.Canny(img, a, b)\n",
    "    r_res = cv2.resize(res, (1500,1000))\n",
    "    cv2.imshow(\"Canny\", r_res)\n",
    "    k = cv2.waitKey(1)\n",
    "    if k == ord(\"q\"):\n",
    "        break\n",
    "\n",
    "cv2.destroyAllWindows()"
   ]
  },
  {
   "cell_type": "code",
   "execution_count": null,
   "metadata": {},
   "outputs": [],
   "source": [
    "# # ROI Image\n",
    "# def nothing(x):\n",
    "#     pass\n",
    "\n",
    "# cv2.namedWindow(\"ROI Image\")\n",
    "# cv2.createTrackbar(\"y1\", \"ROI Image\", 50, 2000, nothing)\n",
    "# cv2.createTrackbar(\"y2\", \"ROI Image\", 500, 2000, nothing)\n",
    "# cv2.createTrackbar(\"x1\", \"ROI Image\", 50, 2000, nothing)\n",
    "# cv2.createTrackbar(\"x2\", \"ROI Image\", 500, 2000, nothing)\n",
    "\n",
    "# while True:\n",
    "#     y1 = cv2.getTrackbarPos(\"y1\", \"ROI Image\")\n",
    "#     y2 = cv2.getTrackbarPos(\"y2\", \"ROI Image\")\n",
    "#     x1 = cv2.getTrackbarPos(\"x1\", \"ROI Image\")\n",
    "#     x2 = cv2.getTrackbarPos(\"x2\", \"ROI Image\")\n",
    "        \n",
    "#     # cv2.imshow(\"ROI Image\", r_img)\n",
    "#     roi_img = r_img[y1:y2, x1:x2]\n",
    "#     # r_res = cv2.resize(res, (1500,1000))\n",
    "#     cv2.imshow(\"ROI Image\", roi_img)\n",
    "#     k = cv2.waitKey(1)\n",
    "#     if k == ord(\"q\"):\n",
    "#         break\n",
    "\n",
    "# cv2.destroyAllWindows()"
   ]
  },
  {
   "cell_type": "markdown",
   "metadata": {},
   "source": [
    "### Image Filters"
   ]
  },
  {
   "cell_type": "code",
   "execution_count": 1,
   "metadata": {},
   "outputs": [],
   "source": [
    "import cv2\n",
    "import numpy as np\n",
    "from pdf2image import convert_from_path\n",
    "\n",
    "# Function to convert pdf to image\n",
    "def pdf_to_images(pdf_path):\n",
    "    return convert_from_path(pdf_path)\n",
    "\n",
    "# PDF Path\n",
    "pdf_path = r'data\\sample.pdf'\n",
    "# Image Path\n",
    "image_path = r'data\\gray_image\\input_line_1.png'\n",
    "\n",
    "# Calling the function to convert PDF to image\n",
    "pdf_images = pdf_to_images(pdf_path)\n",
    "assert pdf_images is not None, \"file could not be read, check the path\"\n",
    "\n",
    "img = cv2.imread(image_path)\n",
    "assert img is not None, \"file could not be read, check the path\"\n",
    "\n",
    "img_gray = cv2.cvtColor(img, cv2.COLOR_BGR2GRAY)\n",
    "\n",
    "# converting the image to numpy array\n",
    "pdf_image_np = np.array(pdf_images[0])\n",
    "# converting teh image to a gray image\n",
    "pdf_img = cv2.cvtColor(pdf_image_np, cv2.COLOR_BGR2GRAY)\n",
    "\n",
    "# Displaying the image\n",
    "r_img_gray = cv2.resize(img_gray, (1500,850))\n",
    "r_img = cv2.resize(img, (1500,850))\n",
    "r_pdf_img = cv2.resize(pdf_img, (1500,850))\n",
    "\n",
    "cv2.imshow(\"Original Image\", r_img)\n",
    "cv2.imshow(\"Gray Image\", r_img_gray)\n",
    "cv2.imshow(\"Original PDF Image\", r_pdf_img)\n",
    "\n",
    "cv2.waitKey(0)\n",
    "cv2.destroyAllWindows()"
   ]
  },
  {
   "cell_type": "code",
   "execution_count": 13,
   "metadata": {},
   "outputs": [],
   "source": [
    "# Defining a kernel\n",
    "kernel = np.ones((2,2), np.float32)/4\n",
    "\n",
    "# # Filter 1: Homogeneous\n",
    "# h_filter = cv2.filter2D(r_img, -1, kernel)\n",
    "# cv2.imshow(\"Homogeneous Filter\", h_filter)\n",
    "\n",
    "# # Filter 2: Averaging\n",
    "# blur = cv2.blur(r_img, (2,2))\n",
    "# cv2.imshow(\"Blur Image\", blur)\n",
    "\n",
    "# # Filter 3: GaussianBlur\n",
    "# gau = cv2.GaussianBlur(r_img, (3,3), 0)\n",
    "# cv2.imshow(\"Gaussian Blur Filter\", gau)\n",
    "\n",
    "# # Filter 4: Median \n",
    "# med = cv2.medianBlur(r_img,3)\n",
    "# cv2.imshow(\"median filter\",med)\n",
    "\n",
    "# # Filter 5: Bilateral Filter\n",
    "# bi_f = cv2.bilateralFilter(r_img,9,75,75)\n",
    "# cv2.imshow(\"bi_f\",bi_f)\n",
    "\n",
    "cv2.waitKey(0)\n",
    "cv2.destroyAllWindows()\n"
   ]
  },
  {
   "cell_type": "code",
   "execution_count": 21,
   "metadata": {},
   "outputs": [],
   "source": [
    "def nothing(x):\n",
    "    pass\n",
    "\n",
    "cv2.namedWindow(\"BilaterFilter\")\n",
    "cv2.createTrackbar(\"d\", \"BilaterFilter\", 3, 50, nothing)\n",
    "cv2.createTrackbar(\"sigmaColor\", \"BilaterFilter\", 0, 500, nothing)\n",
    "cv2.createTrackbar(\"sigmaSpace\", \"BilaterFilter\", 0, 500, nothing)\n",
    "\n",
    "while True:\n",
    "    d = cv2.getTrackbarPos('d', 'BilaterFilter')\n",
    "    sigmaColor = cv2.getTrackbarPos('sigmaColor', 'BilaterFilter')\n",
    "    sigmaSpace = cv2.getTrackbarPos('sigmaSpace', 'BilaterFilter')\n",
    "\n",
    "    \n",
    "    bi_f = cv2.bilateralFilter(r_img_gray, d, sigmaColor, sigmaSpace)\n",
    "    # r_res = cv2.resize(res, (1500,1000))\n",
    "    cv2.imshow(\"BilaterFilter\", bi_f)\n",
    "    k = cv2.waitKey(1)\n",
    "    if k == ord(\"q\"):\n",
    "        break\n",
    "\n",
    "cv2.destroyAllWindows()"
   ]
  },
  {
   "cell_type": "code",
   "execution_count": 22,
   "metadata": {},
   "outputs": [],
   "source": [
    "cv2.imshow('filter_image', bi_f)\n",
    "cv2.waitKey(0)\n",
    "cv2.destroyAllWindows()"
   ]
  },
  {
   "cell_type": "code",
   "execution_count": 24,
   "metadata": {},
   "outputs": [],
   "source": [
    "kernel = cv2.getStructuringElement(cv2.MORPH_RECT, (1,1))\n",
    "dilated = cv2.dilate(~bi_f, kernel, iterations=7)\n",
    "eroded = cv2.erode(dilated, kernel, iterations=1)\n",
    "\n",
    "cv2.imshow('Processed Image', dilated)\n",
    "cv2.waitKey(0)\n",
    "cv2.destroyAllWindows()"
   ]
  },
  {
   "cell_type": "code",
   "execution_count": 13,
   "metadata": {},
   "outputs": [],
   "source": [
    "res = cv2.Canny(eroded, 50, 250)\n",
    "cv2.imshow('Canny Image', res)\n",
    "cv2.waitKey(0)\n",
    "cv2.destroyAllWindows()"
   ]
  },
  {
   "cell_type": "code",
   "execution_count": 20,
   "metadata": {},
   "outputs": [],
   "source": [
    "# def nothing(x):\n",
    "#     pass\n",
    "\n",
    "# cv2.namedWindow(\"MorphOperations\")\n",
    "# cv2.createTrackbar(\"kernel\", \"MorphOperations\", 1, 15, nothing)\n",
    "# cv2.createTrackbar(\"iteration\", \"MorphOperations\", 1, 10, nothing)\n",
    "\n",
    "# while True:\n",
    "#     kernel_matrix = cv2.getTrackbarPos('kernel', 'MorphOperations')\n",
    "#     iteration = cv2.getTrackbarPos('iteration', 'MorphOperations')\n",
    "\n",
    "#     kernel = cv2.getStructuringElement(cv2.MORPH_RECT, (kernel_matrix,kernel_matrix))\n",
    "#     o_img = cv2.morphologyEx(src=~r_img, op=cv2.MORPH_OPEN, kernel=kernel, iterations=iteration)\n",
    "#     # r_res = cv2.resize(res, (1500,1000))\n",
    "#     cv2.imshow(\"MorphOperations\", o_img)\n",
    "#     k = cv2.waitKey(1)\n",
    "#     if k == ord(\"q\"):\n",
    "#         break\n",
    "\n",
    "# cv2.destroyAllWindows()"
   ]
  },
  {
   "cell_type": "code",
   "execution_count": 2,
   "metadata": {},
   "outputs": [],
   "source": [
    "def nothing(x):\n",
    "    pass\n",
    "\n",
    "cv2.namedWindow(\"Canny\")\n",
    "cv2.createTrackbar(\"Threshold1\", \"Canny\", 50, 1500, nothing)\n",
    "cv2.createTrackbar(\"Threshold2\", \"Canny\", 100, 1500, nothing)\n",
    "\n",
    "while True:\n",
    "    a = cv2.getTrackbarPos('Threshold1', 'Canny')\n",
    "    b = cv2.getTrackbarPos('Threshold2', 'Canny')\n",
    "\n",
    "    # print(a)\n",
    "    res = cv2.Canny(r_img_gray, a, b)\n",
    "    # r_res = cv2.resize(res, (1500,1000))\n",
    "    cv2.imshow(\"Canny\", res)\n",
    "    k = cv2.waitKey(1)\n",
    "    if k == ord(\"q\"):\n",
    "        break\n",
    "\n",
    "cv2.destroyAllWindows()"
   ]
  },
  {
   "cell_type": "code",
   "execution_count": 19,
   "metadata": {},
   "outputs": [],
   "source": [
    "cv2.imshow('Canny Image', res)\n",
    "cv2.waitKey(0)\n",
    "cv2.destroyAllWindows()"
   ]
  },
  {
   "cell_type": "code",
   "execution_count": 14,
   "metadata": {},
   "outputs": [],
   "source": [
    "lines = cv2.HoughLinesP(res, rho=1, theta=np.pi/180, threshold=100, minLineLength=1000, maxLineGap=10)"
   ]
  },
  {
   "cell_type": "code",
   "execution_count": 17,
   "metadata": {},
   "outputs": [
    {
     "data": {
      "text/plain": [
       "404"
      ]
     },
     "execution_count": 17,
     "metadata": {},
     "output_type": "execute_result"
    }
   ],
   "source": [
    "len(lines)"
   ]
  },
  {
   "cell_type": "code",
   "execution_count": 15,
   "metadata": {},
   "outputs": [],
   "source": [
    "# lines = cv2.HoughLinesP(res, rho=1, theta=np.pi/180, threshold=100, minLineLength=1000, maxLineGap=10)\n",
    "\n",
    "if lines is not None:\n",
    "    for line in lines:\n",
    "        x1, y1, x2, y2 = line[0]\n",
    "        cv2.line(r_img, (x1, y1), (x2, y2), (0, 0, 255), 2)\n",
    "\n",
    "# g_img = cv2.cvtColor(r_img, cv2.COLOR_BGR2RGB)\n",
    "cv2.imshow('Image', r_img)\n",
    "cv2.waitKey(0)\n",
    "cv2.destroyAllWindows()"
   ]
  },
  {
   "cell_type": "code",
   "execution_count": null,
   "metadata": {},
   "outputs": [],
   "source": []
  },
  {
   "cell_type": "code",
   "execution_count": null,
   "metadata": {},
   "outputs": [],
   "source": []
  },
  {
   "cell_type": "code",
   "execution_count": null,
   "metadata": {},
   "outputs": [],
   "source": []
  },
  {
   "cell_type": "code",
   "execution_count": 14,
   "metadata": {},
   "outputs": [
    {
     "data": {
      "text/html": [
       "<div>\n",
       "<style scoped>\n",
       "    .dataframe tbody tr th:only-of-type {\n",
       "        vertical-align: middle;\n",
       "    }\n",
       "\n",
       "    .dataframe tbody tr th {\n",
       "        vertical-align: top;\n",
       "    }\n",
       "\n",
       "    .dataframe thead th {\n",
       "        text-align: right;\n",
       "    }\n",
       "</style>\n",
       "<table border=\"1\" class=\"dataframe\">\n",
       "  <thead>\n",
       "    <tr style=\"text-align: right;\">\n",
       "      <th></th>\n",
       "      <th>id</th>\n",
       "      <th>org_id</th>\n",
       "      <th>user_email</th>\n",
       "      <th>plugin_id</th>\n",
       "      <th>project_id</th>\n",
       "      <th>package_name</th>\n",
       "      <th>package_version</th>\n",
       "      <th>plugin_version</th>\n",
       "      <th>num_elements_processed</th>\n",
       "      <th>time_taken_ms</th>\n",
       "      <th>desktop_usage_timestamp</th>\n",
       "      <th>timestamp</th>\n",
       "      <th>filename</th>\n",
       "      <th>software_name</th>\n",
       "      <th>mac_address</th>\n",
       "      <th>ip_address</th>\n",
       "      <th>device_type</th>\n",
       "      <th>pdh_id</th>\n",
       "      <th>parition0</th>\n",
       "      <th>year</th>\n",
       "      <th>month</th>\n",
       "      <th>day</th>\n",
       "      <th>test</th>\n",
       "      <th>b_test</th>\n",
       "    </tr>\n",
       "  </thead>\n",
       "  <tbody>\n",
       "    <tr>\n",
       "      <th>0</th>\n",
       "      <td>b0adddaa-fe22-4760-8510-0859be20e624</td>\n",
       "      <td>259</td>\n",
       "      <td>Sivaprakash.P@mdu.pinnacleinfotech.com</td>\n",
       "      <td>a7f0448d-f858-4785-b3a9-68b784b917e6</td>\n",
       "      <td>76312</td>\n",
       "      <td>Pi Electrical</td>\n",
       "      <td>1.0.1</td>\n",
       "      <td>1.0.0</td>\n",
       "      <td>2</td>\n",
       "      <td>6.382951e+13</td>\n",
       "      <td>1693898327</td>\n",
       "      <td>1693898327</td>\n",
       "      <td>C:\\Users\\PIS03886\\AppData\\Local\\Autodesk\\Revit...</td>\n",
       "      <td>Autodesk Revit 2020</td>\n",
       "      <td>8469937B4D91</td>\n",
       "      <td>117.120.59.106</td>\n",
       "      <td>RestSharp/106.11.7.0</td>\n",
       "      <td>14</td>\n",
       "      <td>259</td>\n",
       "      <td>2023</td>\n",
       "      <td>9</td>\n",
       "      <td>5</td>\n",
       "      <td>2023-09-05 07:18:47</td>\n",
       "      <td>2023-09-05 07:18:50</td>\n",
       "    </tr>\n",
       "    <tr>\n",
       "      <th>1</th>\n",
       "      <td>2f71c31f-aab3-436c-bbd8-b41733b9522a</td>\n",
       "      <td>259</td>\n",
       "      <td>Sivaprakash.P@mdu.pinnacleinfotech.com</td>\n",
       "      <td>a7f0448d-f858-4785-b3a9-68b784b917e6</td>\n",
       "      <td>76312</td>\n",
       "      <td>Pi Electrical</td>\n",
       "      <td>1.0.1</td>\n",
       "      <td>1.0.0</td>\n",
       "      <td>2</td>\n",
       "      <td>6.382951e+13</td>\n",
       "      <td>1693898330</td>\n",
       "      <td>1693898331</td>\n",
       "      <td>C:\\Users\\PIS03886\\AppData\\Local\\Autodesk\\Revit...</td>\n",
       "      <td>Autodesk Revit 2020</td>\n",
       "      <td>8469937B4D91</td>\n",
       "      <td>117.120.59.106</td>\n",
       "      <td>RestSharp/106.11.7.0</td>\n",
       "      <td>14</td>\n",
       "      <td>259</td>\n",
       "      <td>2023</td>\n",
       "      <td>9</td>\n",
       "      <td>5</td>\n",
       "      <td>2023-09-05 07:18:51</td>\n",
       "      <td>2023-09-05 07:18:50</td>\n",
       "    </tr>\n",
       "  </tbody>\n",
       "</table>\n",
       "</div>"
      ],
      "text/plain": [
       "                                     id  org_id  \\\n",
       "0  b0adddaa-fe22-4760-8510-0859be20e624     259   \n",
       "1  2f71c31f-aab3-436c-bbd8-b41733b9522a     259   \n",
       "\n",
       "                               user_email  \\\n",
       "0  Sivaprakash.P@mdu.pinnacleinfotech.com   \n",
       "1  Sivaprakash.P@mdu.pinnacleinfotech.com   \n",
       "\n",
       "                              plugin_id  project_id   package_name  \\\n",
       "0  a7f0448d-f858-4785-b3a9-68b784b917e6       76312  Pi Electrical   \n",
       "1  a7f0448d-f858-4785-b3a9-68b784b917e6       76312  Pi Electrical   \n",
       "\n",
       "  package_version plugin_version  num_elements_processed  time_taken_ms  \\\n",
       "0           1.0.1          1.0.0                       2   6.382951e+13   \n",
       "1           1.0.1          1.0.0                       2   6.382951e+13   \n",
       "\n",
       "   desktop_usage_timestamp   timestamp  \\\n",
       "0               1693898327  1693898327   \n",
       "1               1693898330  1693898331   \n",
       "\n",
       "                                            filename        software_name  \\\n",
       "0  C:\\Users\\PIS03886\\AppData\\Local\\Autodesk\\Revit...  Autodesk Revit 2020   \n",
       "1  C:\\Users\\PIS03886\\AppData\\Local\\Autodesk\\Revit...  Autodesk Revit 2020   \n",
       "\n",
       "    mac_address      ip_address           device_type  pdh_id  parition0  \\\n",
       "0  8469937B4D91  117.120.59.106  RestSharp/106.11.7.0      14        259   \n",
       "1  8469937B4D91  117.120.59.106  RestSharp/106.11.7.0      14        259   \n",
       "\n",
       "   year  month  day                test              b_test  \n",
       "0  2023      9    5 2023-09-05 07:18:47 2023-09-05 07:18:50  \n",
       "1  2023      9    5 2023-09-05 07:18:51 2023-09-05 07:18:50  "
      ]
     },
     "execution_count": 14,
     "metadata": {},
     "output_type": "execute_result"
    }
   ],
   "source": [
    "import pandas as pd\n",
    "import datetime\n",
    "\n",
    "pd.set_option('display.max_columns', None)\n",
    "\n",
    "data = pd.read_csv(r'C:\\Suraj\\projects\\sample.csv')\n",
    "# data.head(2)\n",
    "data['test'] = data['timestamp'].apply(lambda x: datetime.datetime.utcfromtimestamp(x))\n",
    "# data.head(3)\n",
    "data['b_test'] = data['test'].dt.round('10S')\n",
    "#data[['plugin_id','timestamp','test', 'b_test']].head(20)\n",
    "data.head(2)"
   ]
  },
  {
   "cell_type": "code",
   "execution_count": 5,
   "metadata": {},
   "outputs": [
    {
     "data": {
      "text/plain": [
       "Index(['id', 'org_id', 'user_email', 'plugin_id', 'project_id', 'package_name',\n",
       "       'package_version', 'plugin_version', 'num_elements_processed',\n",
       "       'time_taken_ms', 'desktop_usage_timestamp', 'timestamp', 'filename',\n",
       "       'software_name', 'mac_address', 'ip_address', 'device_type', 'pdh_id',\n",
       "       'parition0', 'year', 'month', 'day', 'test', 'b_test'],\n",
       "      dtype='object')"
      ]
     },
     "execution_count": 5,
     "metadata": {},
     "output_type": "execute_result"
    }
   ],
   "source": [
    "data.columns"
   ]
  },
  {
   "cell_type": "code",
   "execution_count": 10,
   "metadata": {},
   "outputs": [
    {
     "data": {
      "text/plain": [
       "(1608, 24)"
      ]
     },
     "execution_count": 10,
     "metadata": {},
     "output_type": "execute_result"
    }
   ],
   "source": [
    "data[data.duplicated(subset=['timestamp'])].shape"
   ]
  },
  {
   "cell_type": "code",
   "execution_count": 11,
   "metadata": {},
   "outputs": [
    {
     "data": {
      "text/plain": [
       "(0, 24)"
      ]
     },
     "execution_count": 11,
     "metadata": {},
     "output_type": "execute_result"
    }
   ],
   "source": [
    "data[data.duplicated()].shape"
   ]
  },
  {
   "cell_type": "code",
   "execution_count": 45,
   "metadata": {},
   "outputs": [
    {
     "name": "stdout",
     "output_type": "stream",
     "text": [
      "2023-09-05 07:18:47\n"
     ]
    }
   ],
   "source": [
    "import datetime\n",
    "\n",
    "timestamp = 1693898327  # This timestamp corresponds to January 1, 2021, 00:00:00 UTC\n",
    "utc_datetime = datetime.datetime.utcfromtimestamp(timestamp)\n",
    "\n",
    "print(utc_datetime)"
   ]
  }
 ],
 "metadata": {
  "kernelspec": {
   "display_name": "Python 3",
   "language": "python",
   "name": "python3"
  },
  "language_info": {
   "codemirror_mode": {
    "name": "ipython",
    "version": 3
   },
   "file_extension": ".py",
   "mimetype": "text/x-python",
   "name": "python",
   "nbconvert_exporter": "python",
   "pygments_lexer": "ipython3",
   "version": "3.10.12"
  },
  "orig_nbformat": 4
 },
 "nbformat": 4,
 "nbformat_minor": 2
}
