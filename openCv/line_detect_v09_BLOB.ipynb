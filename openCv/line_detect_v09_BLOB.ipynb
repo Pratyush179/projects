{
 "cells": [
  {
   "cell_type": "markdown",
   "metadata": {},
   "source": [
    "https://www.learnopencv.com/blob-detection-using-opencv-python-c/\n",
    "\n",
    "BLOB stands for Binary Large OBject and refers to a group of connected pixels in a binary image.\n",
    "A Blob is a group of connected pixels in an image that share some common\n",
    "property ( E.g grayscale value ). In the image above, the dark connected regions are blobs, \n",
    "and the goal of blob detection is to identify and mark these regions.\n",
    "\n",
    "How it works:\n",
    "    1. Threshold input images to binary.\n",
    "    2. Grouping: connected white/black pixels are grouped together. \n",
    "    3. Merging: blobs located closer than minDistBetweenBlobs are merged.\n",
    "    4. Center & Radius Calculation :  The centers and radii of the new merged blobs are computed and returned.\n",
    "    \n",
    "Can be filtered by color, size or shape"
   ]
  },
  {
   "cell_type": "code",
   "execution_count": 1,
   "metadata": {},
   "outputs": [],
   "source": [
    "import matplotlib.pyplot as plt\n",
    "import numpy as np\n",
    "import cv2"
   ]
  },
  {
   "cell_type": "code",
   "execution_count": 2,
   "metadata": {},
   "outputs": [],
   "source": [
    "# Step 1: Read the Input Image\n",
    "image_path = r'C:\\Suraj\\projects\\openCv\\data\\projdata\\sample\\input_image.png'\n",
    "image = cv2.imread(image_path)\n",
    "gray = cv2.cvtColor(image, cv2.COLOR_BGR2GRAY)\n",
    "\n",
    "# Display the result\n",
    "# cv2.imshow('Input Image', image)\n",
    "cv2.imshow('Gray Image', gray)\n",
    "cv2.waitKey(0)\n",
    "cv2.destroyAllWindows()"
   ]
  },
  {
   "cell_type": "code",
   "execution_count": 3,
   "metadata": {},
   "outputs": [],
   "source": [
    "# Set up the SimpleBlobdetector with default parameters.\n",
    "params = cv2.SimpleBlobDetector_Params()"
   ]
  },
  {
   "cell_type": "code",
   "execution_count": 32,
   "metadata": {},
   "outputs": [],
   "source": [
    "# Define thresholds\n",
    "#Can define thresholdStep. See documentation. \n",
    "params.minThreshold = 0\n",
    "params.maxThreshold = 255\n",
    "\n",
    "# Filter by Area.\n",
    "params.filterByArea = True\n",
    "params.minArea = 50\n",
    "params.maxArea = 10000\n",
    "\n",
    "# Filter by Color (black=0)\n",
    "params.filterByColor = False  #Set true for cast_iron as we'll be detecting black regions\n",
    "params.blobColor = 0\n",
    "\n",
    "# Filter by Circularity\n",
    "params.filterByCircularity = True\n",
    "params.minCircularity = 0.5\n",
    "params.maxCircularity = 1\n",
    "\n",
    "# Filter by Convexity\n",
    "params.filterByConvexity = True\n",
    "params.minConvexity = 0.5\n",
    "params.maxConvexity = 1\n",
    "\n",
    "# Filter by InertiaRatio\n",
    "params.filterByInertia = True\n",
    "params.minInertiaRatio = 0.1\n",
    "# params.maxInertiaRatio = 1\n",
    "\n",
    "# Distance Between Blobs\n",
    "params.minDistBetweenBlobs = 0.1"
   ]
  },
  {
   "cell_type": "code",
   "execution_count": 33,
   "metadata": {},
   "outputs": [],
   "source": [
    "# Setup the detector with parameters\n",
    "detector = cv2.SimpleBlobDetector_create(params)"
   ]
  },
  {
   "cell_type": "code",
   "execution_count": 34,
   "metadata": {},
   "outputs": [
    {
     "name": "stdout",
     "output_type": "stream",
     "text": [
      "Number of blobs detected are :  66\n"
     ]
    }
   ],
   "source": [
    "# Detect blobs\n",
    "keypoints = detector.detect(image)\n",
    "\n",
    "print(\"Number of blobs detected are : \", len(keypoints))"
   ]
  },
  {
   "cell_type": "code",
   "execution_count": 35,
   "metadata": {},
   "outputs": [],
   "source": [
    "# Draw blobs\n",
    "img_with_blobs = cv2.drawKeypoints(image, keypoints, np.array([]), (0,0,255), cv2.DRAW_MATCHES_FLAGS_DRAW_RICH_KEYPOINTS)\n",
    "cv2.imshow(\"Keypoints\", img_with_blobs)\n",
    "cv2.waitKey(0)\n",
    "cv2.destroyAllWindows()"
   ]
  },
  {
   "cell_type": "code",
   "execution_count": null,
   "metadata": {},
   "outputs": [],
   "source": []
  },
  {
   "cell_type": "code",
   "execution_count": null,
   "metadata": {},
   "outputs": [],
   "source": []
  }
 ],
 "metadata": {
  "kernelspec": {
   "display_name": "Python 3",
   "language": "python",
   "name": "python3"
  },
  "language_info": {
   "codemirror_mode": {
    "name": "ipython",
    "version": 3
   },
   "file_extension": ".py",
   "mimetype": "text/x-python",
   "name": "python",
   "nbconvert_exporter": "python",
   "pygments_lexer": "ipython3",
   "version": "3.10.12"
  },
  "orig_nbformat": 4
 },
 "nbformat": 4,
 "nbformat_minor": 2
}
