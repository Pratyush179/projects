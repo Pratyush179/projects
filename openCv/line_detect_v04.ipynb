{
 "cells": [
  {
   "cell_type": "code",
   "execution_count": 1,
   "metadata": {},
   "outputs": [],
   "source": [
    "import cv2\n",
    "import numpy as np"
   ]
  },
  {
   "cell_type": "code",
   "execution_count": 5,
   "metadata": {},
   "outputs": [],
   "source": [
    "image_path = r'data\\gray_image\\input_line_1.png'\n",
    "\n",
    "img = cv2.imread(image_path)\n",
    "img_gray = cv2.cvtColor(img, cv2.COLOR_BGR2BGRA)\n",
    "img = cv2.resize(img, (1500,850))\n",
    "img_gray = cv2.resize(img_gray, (1500,850))"
   ]
  },
  {
   "cell_type": "markdown",
   "metadata": {},
   "source": [
    "### Threshold Detection"
   ]
  },
  {
   "cell_type": "code",
   "execution_count": 10,
   "metadata": {},
   "outputs": [],
   "source": [
    "def nothing(x):\n",
    "    pass\n",
    "\n",
    "cv2.namedWindow(\"Threshold\")\n",
    "cv2.createTrackbar(\"a\", \"Threshold\", 0, 255, nothing)\n",
    "cv2.createTrackbar(\"b\", \"Threshold\", 10, 255, nothing)\n",
    "\n",
    "while True:\n",
    "    a = cv2.getTrackbarPos('a', 'Threshold')\n",
    "    b = cv2.getTrackbarPos('b', 'Threshold')\n",
    "    \n",
    "    \n",
    "    ret,thresh = cv2.threshold(img_gray,a,b,0)\n",
    "    cv2.imshow(\"Threshold\", thresh)\n",
    "    k = cv2.waitKey(1)\n",
    "    if k == ord(\"q\"):\n",
    "        break\n",
    "\n",
    "cv2.destroyAllWindows()"
   ]
  },
  {
   "cell_type": "markdown",
   "metadata": {},
   "source": [
    "### Bilateral Filter"
   ]
  },
  {
   "cell_type": "code",
   "execution_count": null,
   "metadata": {},
   "outputs": [],
   "source": [
    "def nothing(x):\n",
    "    pass\n",
    "\n",
    "cv2.namedWindow(\"BilaterFilter\")\n",
    "cv2.createTrackbar(\"d\", \"BilaterFilter\", 3, 50, nothing)\n",
    "cv2.createTrackbar(\"sigmaColor\", \"BilaterFilter\", 0, 500, nothing)\n",
    "cv2.createTrackbar(\"sigmaSpace\", \"BilaterFilter\", 0, 500, nothing)\n",
    "\n",
    "while True:\n",
    "    d = cv2.getTrackbarPos('d', 'BilaterFilter')\n",
    "    sigmaColor = cv2.getTrackbarPos('sigmaColor', 'BilaterFilter')\n",
    "    sigmaSpace = cv2.getTrackbarPos('sigmaSpace', 'BilaterFilter')\n",
    "\n",
    "    \n",
    "    bi_f = cv2.bilateralFilter(thresh, d, sigmaColor, sigmaSpace)\n",
    "    # r_res = cv2.resize(res, (1500,1000))\n",
    "    cv2.imshow(\"BilaterFilter\", bi_f)\n",
    "    k = cv2.waitKey(1)\n",
    "    if k == ord(\"q\"):\n",
    "        break\n",
    "\n",
    "cv2.destroyAllWindows()"
   ]
  },
  {
   "cell_type": "code",
   "execution_count": 6,
   "metadata": {},
   "outputs": [],
   "source": [
    "ret,thresh = cv2.threshold(img_gray,127,255,0)\n",
    "\n",
    "\n",
    "cv2.imshow('Threshold', thresh)\n",
    "cv2.waitKey(0)\n",
    "cv2.destroyAllWindows()"
   ]
  },
  {
   "cell_type": "code",
   "execution_count": null,
   "metadata": {},
   "outputs": [],
   "source": []
  },
  {
   "cell_type": "code",
   "execution_count": null,
   "metadata": {},
   "outputs": [],
   "source": []
  },
  {
   "cell_type": "code",
   "execution_count": null,
   "metadata": {},
   "outputs": [],
   "source": []
  },
  {
   "cell_type": "code",
   "execution_count": null,
   "metadata": {},
   "outputs": [],
   "source": []
  },
  {
   "cell_type": "code",
   "execution_count": null,
   "metadata": {},
   "outputs": [],
   "source": []
  }
 ],
 "metadata": {
  "kernelspec": {
   "display_name": "Python 3",
   "language": "python",
   "name": "python3"
  },
  "language_info": {
   "codemirror_mode": {
    "name": "ipython",
    "version": 3
   },
   "file_extension": ".py",
   "mimetype": "text/x-python",
   "name": "python",
   "nbconvert_exporter": "python",
   "pygments_lexer": "ipython3",
   "version": "3.10.12"
  },
  "orig_nbformat": 4
 },
 "nbformat": 4,
 "nbformat_minor": 2
}
