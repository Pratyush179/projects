{
 "cells": [
  {
   "cell_type": "code",
   "execution_count": 2,
   "metadata": {},
   "outputs": [],
   "source": [
    "import cv2\n",
    "import numpy as np"
   ]
  },
  {
   "cell_type": "code",
   "execution_count": 21,
   "metadata": {},
   "outputs": [],
   "source": [
    "image_path = r'data\\gray_image\\sample2.png'\n",
    "\n",
    "img = cv2.imread(image_path)\n",
    "img_gray = cv2.cvtColor(img, cv2.COLOR_BGR2GRAY)\n",
    "img = cv2.resize(img, (1500,850))\n",
    "img_gray = cv2.resize(img_gray, (1500,850))\n",
    "\n",
    "cv2.imshow(\"img\", img)\n",
    "cv2.imshow(\"gray\", img_gray)\n",
    "cv2.waitKey(0)\n",
    "cv2.destroyAllWindows()"
   ]
  },
  {
   "cell_type": "code",
   "execution_count": 74,
   "metadata": {},
   "outputs": [],
   "source": [
    "# roi = img[0:780, 120:1010]\n",
    "# roi_gray = img_gray[0:880, 120:1010]\n",
    "\n",
    "# cv2.imshow(\"ROI\", roi_gray)\n",
    "# cv2.waitKey(0)\n",
    "# cv2.destroyAllWindows()"
   ]
  },
  {
   "cell_type": "markdown",
   "metadata": {},
   "source": [
    "### Bilateral Filter"
   ]
  },
  {
   "cell_type": "code",
   "execution_count": 24,
   "metadata": {},
   "outputs": [],
   "source": [
    "def nothing(x):\n",
    "    pass\n",
    "\n",
    "cv2.namedWindow(\"BilaterFilter\")\n",
    "cv2.createTrackbar(\"d\", \"BilaterFilter\", 3, 50, nothing)\n",
    "cv2.createTrackbar(\"sigmaColor\", \"BilaterFilter\", 0, 500, nothing)\n",
    "cv2.createTrackbar(\"sigmaSpace\", \"BilaterFilter\", 0, 500, nothing)\n",
    "\n",
    "while True:\n",
    "    d = cv2.getTrackbarPos('d', 'BilaterFilter')\n",
    "    sigmaColor = cv2.getTrackbarPos('sigmaColor', 'BilaterFilter')\n",
    "    sigmaSpace = cv2.getTrackbarPos('sigmaSpace', 'BilaterFilter')\n",
    "\n",
    "    \n",
    "    bi_f = cv2.bilateralFilter(img_gray, d, sigmaColor, sigmaSpace)\n",
    "    cv2.imshow(\"BilaterFilter\", bi_f)\n",
    "    k = cv2.waitKey(1)\n",
    "    if k == ord(\"q\"):\n",
    "        break\n",
    "\n",
    "cv2.destroyAllWindows()"
   ]
  },
  {
   "cell_type": "markdown",
   "metadata": {},
   "source": [
    "### Threshold Detection"
   ]
  },
  {
   "cell_type": "code",
   "execution_count": 25,
   "metadata": {},
   "outputs": [],
   "source": [
    "def nothing(x):\n",
    "    pass\n",
    "\n",
    "cv2.namedWindow(\"Threshold\")\n",
    "cv2.createTrackbar(\"a\", \"Threshold\", 0, 255, nothing)\n",
    "cv2.createTrackbar(\"b\", \"Threshold\", 10, 255, nothing)\n",
    "\n",
    "while True:\n",
    "    a = cv2.getTrackbarPos('a', 'Threshold')\n",
    "    b = cv2.getTrackbarPos('b', 'Threshold')\n",
    "    \n",
    "    \n",
    "    ret,thresh = cv2.threshold(bi_f,a,b,cv2.THRESH_BINARY_INV)\n",
    "    cv2.imshow(\"Threshold\", thresh)\n",
    "    k = cv2.waitKey(1)\n",
    "    if k == ord(\"q\"):\n",
    "        break\n",
    "\n",
    "cv2.destroyAllWindows()"
   ]
  },
  {
   "cell_type": "code",
   "execution_count": 26,
   "metadata": {},
   "outputs": [],
   "source": [
    "cv2.imshow('Threshold', thresh)\n",
    "cv2.waitKey(0)\n",
    "cv2.destroyAllWindows()"
   ]
  },
  {
   "cell_type": "code",
   "execution_count": 29,
   "metadata": {},
   "outputs": [],
   "source": [
    "kernel = cv2.getStructuringElement(cv2.MORPH_RECT, (1,1))\n",
    "dilated = cv2.dilate(thresh, kernel, iterations=1)\n",
    "eroded = cv2.erode(dilated, kernel, iterations=4)\n",
    "\n",
    "cv2.imshow('Morphological', dilated)\n",
    "cv2.waitKey(0)\n",
    "cv2.destroyAllWindows()"
   ]
  },
  {
   "cell_type": "code",
   "execution_count": 30,
   "metadata": {},
   "outputs": [],
   "source": [
    "cnts,hier = cv2.findContours(dilated,cv2.RETR_TREE,cv2.CHAIN_APPROX_SIMPLE)\n",
    "# print(\"Number of contour==\",cnts,\"\\ntotal contour==\",len(cnts))\n",
    "# print(\"Hierarchy==\\n\",hier)"
   ]
  },
  {
   "cell_type": "code",
   "execution_count": 40,
   "metadata": {},
   "outputs": [],
   "source": [
    "# roi_gray_g = cv2.COLOR_GRAY2BGR(roi_gray)\n",
    "img_c = cv2.drawContours(img,cnts,-1,(0,0,255),1)\n",
    "\n",
    "cv2.imshow(\"Contour===\",img_c)\n",
    "# cv2.imwrite(r'data/gray_image/output_1.png', img_c)\n",
    "# cv2.imshow(\"thresh==\",thresh)\n",
    "cv2.waitKey(0)\n",
    "cv2.destroyAllWindows()"
   ]
  },
  {
   "cell_type": "markdown",
   "metadata": {},
   "source": [
    "### Find the preferal of the contours"
   ]
  },
  {
   "cell_type": "code",
   "execution_count": 9,
   "metadata": {},
   "outputs": [],
   "source": [
    "sum = 0\n",
    "for c in cnts:\n",
    "    perimeter = cv2.arcLength(c,False)\n",
    "    sum = sum + perimeter"
   ]
  },
  {
   "cell_type": "code",
   "execution_count": 53,
   "metadata": {},
   "outputs": [
    {
     "name": "stdout",
     "output_type": "stream",
     "text": [
      "Pipe length in Inches: 33.3\n",
      "\n",
      "approx Pipe length in Feet: 266.42\n",
      "\n",
      "Pipe Length in feet with 5% error probablity\n",
      "Lower range:253.1\n",
      "Upper range:279.74\n"
     ]
    }
   ],
   "source": [
    "len_inch = sum/96 # 96 is the DPI of the image\n",
    "len_feet = len_inch*8 # Scale 1 inch is equal to 8 feet \n",
    "\n",
    "# 5% error \n",
    "per_error = len_feet*0.05\n",
    "\n",
    "print(f'Pipe length in Inches: {np.round(len_inch,2)}\\n')\n",
    "print(f'approx Pipe length in Feet: {np.round(len_feet, 2)}\\n')\n",
    "print(f\"Pipe Length in feet with 5% error probablity\\nLower range:{np.round(len_feet-per_error,2)}\\nUpper range:{np.round(len_feet+per_error,2)}\")"
   ]
  },
  {
   "cell_type": "code",
   "execution_count": 45,
   "metadata": {},
   "outputs": [
    {
     "data": {
      "text/plain": [
       "13.320833333333335"
      ]
     },
     "execution_count": 45,
     "metadata": {},
     "output_type": "execute_result"
    }
   ],
   "source": [
    "len_feet*0.05"
   ]
  }
 ],
 "metadata": {
  "kernelspec": {
   "display_name": "Python 3",
   "language": "python",
   "name": "python3"
  },
  "language_info": {
   "codemirror_mode": {
    "name": "ipython",
    "version": 3
   },
   "file_extension": ".py",
   "mimetype": "text/x-python",
   "name": "python",
   "nbconvert_exporter": "python",
   "pygments_lexer": "ipython3",
   "version": "3.10.12"
  },
  "orig_nbformat": 4
 },
 "nbformat": 4,
 "nbformat_minor": 2
}
