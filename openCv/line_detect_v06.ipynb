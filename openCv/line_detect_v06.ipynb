{
 "cells": [
  {
   "cell_type": "code",
   "execution_count": 1,
   "metadata": {},
   "outputs": [],
   "source": [
    "import cv2\n",
    "import numpy as np\n",
    "import math"
   ]
  },
  {
   "cell_type": "code",
   "execution_count": 2,
   "metadata": {},
   "outputs": [],
   "source": [
    "# Function to calculate line length\n",
    "def line_length(line):\n",
    "    x1, y1, x2, y2 = line[0]\n",
    "    return math.sqrt((x2 - x1) ** 2 + (y2 - y1) ** 2)"
   ]
  },
  {
   "cell_type": "code",
   "execution_count": 3,
   "metadata": {},
   "outputs": [],
   "source": [
    "image_path = r'C:\\Suraj\\projects\\openCv\\data\\projdata\\sample\\input_image.png'\n",
    "\n",
    "# Read the image\n",
    "image = cv2.imread(image_path)\n",
    "# Convert to grayscale\n",
    "gray = cv2.cvtColor(image, cv2.COLOR_BGR2GRAY)\n",
    "# Apply Canny edge detection\n",
    "edges = cv2.Canny(gray, 50, 150, apertureSize=3)"
   ]
  },
  {
   "cell_type": "code",
   "execution_count": 4,
   "metadata": {},
   "outputs": [],
   "source": [
    "# Display the result\n",
    "cv2.imshow('Edgaes', gray)\n",
    "cv2.waitKey(0)\n",
    "cv2.destroyAllWindows()"
   ]
  },
  {
   "cell_type": "code",
   "execution_count": 5,
   "metadata": {},
   "outputs": [],
   "source": [
    "def nothing(x):\n",
    "    pass\n",
    "\n",
    "cv2.namedWindow(\"BilaterFilter\")\n",
    "cv2.createTrackbar(\"d\", \"BilaterFilter\", 3, 50, nothing)\n",
    "cv2.createTrackbar(\"sigmaColor\", \"BilaterFilter\", 0, 500, nothing)\n",
    "cv2.createTrackbar(\"sigmaSpace\", \"BilaterFilter\", 0, 500, nothing)\n",
    "\n",
    "while True:\n",
    "    d = cv2.getTrackbarPos('d', 'BilaterFilter')\n",
    "    sigmaColor = cv2.getTrackbarPos('sigmaColor', 'BilaterFilter')\n",
    "    sigmaSpace = cv2.getTrackbarPos('sigmaSpace', 'BilaterFilter')\n",
    "\n",
    "    \n",
    "    bi_f = cv2.bilateralFilter(gray, d, sigmaColor, sigmaSpace)\n",
    "    cv2.imshow(\"BilaterFilter\", bi_f)\n",
    "    k = cv2.waitKey(1)\n",
    "    if k == ord(\"q\"):\n",
    "        break\n",
    "\n",
    "cv2.destroyAllWindows()"
   ]
  },
  {
   "cell_type": "code",
   "execution_count": 6,
   "metadata": {},
   "outputs": [],
   "source": [
    "def nothing(x):\n",
    "    pass\n",
    "\n",
    "cv2.namedWindow(\"Threshold\")\n",
    "cv2.createTrackbar(\"a\", \"Threshold\", 0, 255, nothing)\n",
    "cv2.createTrackbar(\"b\", \"Threshold\", 10, 255, nothing)\n",
    "\n",
    "while True:\n",
    "    a = cv2.getTrackbarPos('a', 'Threshold')\n",
    "    b = cv2.getTrackbarPos('b', 'Threshold')\n",
    "    \n",
    "    \n",
    "    ret,thresh = cv2.threshold(bi_f,a,b,cv2.THRESH_BINARY_INV)\n",
    "    cv2.imshow(\"Threshold\", thresh)\n",
    "    k = cv2.waitKey(1)\n",
    "    if k == ord(\"q\"):\n",
    "        break\n",
    "\n",
    "cv2.destroyAllWindows()"
   ]
  },
  {
   "cell_type": "code",
   "execution_count": 9,
   "metadata": {},
   "outputs": [],
   "source": [
    "# Display the result\n",
    "cv2.imshow('Edgaes', thresh)\n",
    "cv2.waitKey(0)\n",
    "cv2.destroyAllWindows()"
   ]
  },
  {
   "cell_type": "code",
   "execution_count": 8,
   "metadata": {},
   "outputs": [],
   "source": [
    "# # Use Hough Line Transform to detect lines\n",
    "# lines = cv2.HoughLinesP(~thresh, 1, np.pi / 180, threshold=100, minLineLength=10, maxLineGap=10)"
   ]
  },
  {
   "cell_type": "code",
   "execution_count": 25,
   "metadata": {},
   "outputs": [],
   "source": [
    "def nothing(x):\n",
    "    pass\n",
    "\n",
    "cv2.namedWindow(\"Line_Detection\")\n",
    "cv2.createTrackbar(\"a\", \"Line_Detection\", 50, 2000, nothing)\n",
    "cv2.createTrackbar(\"b\", \"Line_Detection\", 5, 2000, nothing)\n",
    "cv2.createTrackbar(\"c\", \"Line_Detection\", 5, 2000, nothing)\n",
    "\n",
    "while True:\n",
    "    a = cv2.getTrackbarPos('a', 'Line_Detection')\n",
    "    b = cv2.getTrackbarPos('b', 'Line_Detection')\n",
    "    c = cv2.getTrackbarPos('c', 'Line_Detection')\n",
    "    \n",
    "    lines = cv2.HoughLinesP(thresh, 1, np.pi / 180, a, b, c)\n",
    "    \n",
    "    if lines is not None:\n",
    "        sum = 0\n",
    "        for line in lines:\n",
    "            x1, y1, x2, y2 = line[0]\n",
    "            # Draw the line on the original image\n",
    "            cv2.line(image, (x1, y1), (x2, y2), (0, 255, 0), 2)\n",
    "            # Calculate the length of the line\n",
    "            length = line_length(line)\n",
    "            # print(f\"Line: {(x1, y1, x2, y2)} - Length: {length}\")\n",
    "            sum = sum + length\n",
    "        # print(sum)\n",
    "\n",
    "    cv2.imshow(\"Line_Detection\", image)\n",
    "    k = cv2.waitKey(1)\n",
    "    if k == ord(\"q\"):\n",
    "        break\n",
    "\n",
    "cv2.destroyAllWindows()"
   ]
  },
  {
   "cell_type": "code",
   "execution_count": 23,
   "metadata": {},
   "outputs": [
    {
     "name": "stdout",
     "output_type": "stream",
     "text": [
      "Total Line length: 40.0\n",
      "Total Linear feet: 160.0\n"
     ]
    }
   ],
   "source": [
    "print(f\"Total Line length: {np.round(sum/96)}\")\n",
    "len_feet = (sum/96)*4 # Scale 1 inch is equal to 8 feet \n",
    "print(f\"Total Linear feet: {np.round(len_feet)}\")"
   ]
  },
  {
   "cell_type": "code",
   "execution_count": 22,
   "metadata": {},
   "outputs": [
    {
     "name": "stdout",
     "output_type": "stream",
     "text": [
      "Total Line Length: 7240.0\n"
     ]
    }
   ],
   "source": [
    "# # Check if lines are detected\n",
    "# sum = 0\n",
    "# if lines is not None:\n",
    "#     for line in lines:\n",
    "#         x1, y1, x2, y2 = line[0]\n",
    "#         # Draw the line on the original image\n",
    "#         cv2.line(image, (x1, y1), (x2, y2), (0, 255, 0), 2)\n",
    "#         # Calculate the length of the line\n",
    "#         length = line_length(line)\n",
    "#         # print(f\"Line: {(x1, y1, x2, y2)} - Length: {length}\")\n",
    "#         sum = sum + length\n",
    "#     print(f\"Total Line Length: {np.round(sum,0)}\")"
   ]
  },
  {
   "cell_type": "code",
   "execution_count": 26,
   "metadata": {},
   "outputs": [],
   "source": [
    "# Display the result\n",
    "cv2.imshow('Lines Detected', image)\n",
    "cv2.waitKey(0)\n",
    "cv2.destroyAllWindows()"
   ]
  },
  {
   "cell_type": "code",
   "execution_count": null,
   "metadata": {},
   "outputs": [],
   "source": [
    "## https://stackoverflow.com/questions/63690237/measure-a-length-of-a-line-segment-in-pixels-from-an-image"
   ]
  },
  {
   "cell_type": "code",
   "execution_count": null,
   "metadata": {},
   "outputs": [],
   "source": [
    "scale = cv2.imread('scalenanometer.png', cv2.IMREAD_COLOR)\n",
    "scale_gray = cv2.cvtColor(scale, cv2.COLOR_BGR2GRAY)\n",
    "# adjust the second value of the next line to tune the detection\n",
    "ret, thresh = cv2.threshold(scale_gray, 210, 255, cv2.THRESH_BINARY)\n",
    "contours, hierarchy = cv2.findContours(thresh, cv2.RETR_EXTERNAL, cv2.CHAIN_APPROX_SIMPLE)\n",
    "# filter noisy detection\n",
    "contours = [c for c in contours if cv2.contourArea(c) > 100]\n",
    "# sort from by (y, x)\n",
    "contours.sort(key=lambda c: (cv2.boundingRect(c)[1], cv2.boundingRect(c)[0]))\n",
    "# work on the segment\n",
    "cv2.rectangle(scale, cv2.boundingRect(contours[-1]), (0,255,0), 2)\n",
    "x,y,w,h = cv2.boundingRect(contours[-1])\n",
    "print(x,y,w,h) # x,y: (39 152) w,h: [304 21]"
   ]
  },
  {
   "cell_type": "code",
   "execution_count": null,
   "metadata": {},
   "outputs": [],
   "source": []
  },
  {
   "cell_type": "code",
   "execution_count": null,
   "metadata": {},
   "outputs": [],
   "source": []
  },
  {
   "cell_type": "code",
   "execution_count": null,
   "metadata": {},
   "outputs": [],
   "source": []
  }
 ],
 "metadata": {
  "kernelspec": {
   "display_name": "Python 3",
   "language": "python",
   "name": "python3"
  },
  "language_info": {
   "codemirror_mode": {
    "name": "ipython",
    "version": 3
   },
   "file_extension": ".py",
   "mimetype": "text/x-python",
   "name": "python",
   "nbconvert_exporter": "python",
   "pygments_lexer": "ipython3",
   "version": "3.10.12"
  },
  "orig_nbformat": 4
 },
 "nbformat": 4,
 "nbformat_minor": 2
}
