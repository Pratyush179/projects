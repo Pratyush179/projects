{
 "cells": [
  {
   "cell_type": "code",
   "execution_count": 1,
   "metadata": {},
   "outputs": [],
   "source": [
    "import cv2\n",
    "# from pdf2image import convert_from_path\n",
    "import numpy as np"
   ]
  },
  {
   "cell_type": "code",
   "execution_count": 2,
   "metadata": {},
   "outputs": [],
   "source": [
    "# Fuction to display or save the image\n",
    "def display_image(sample_image, image_resize=False, image_name=r'sample_image.png'):\n",
    "    \"\"\"\n",
    "    This function is used to save or display the image\n",
    "    i/p: image, image_name \n",
    "    o/p: key board entry \"q\" to close the window\n",
    "         key board entry \"s\" to save the image\n",
    "    \"\"\"\n",
    "    # resize image\n",
    "    if image_resize == True:\n",
    "        sample_image = cv2.resize(sample_image, (1500, 1000))\n",
    "    else:\n",
    "        sample_image = sample_image\n",
    "\n",
    "    # Default image save path\n",
    "    path = r'data/gray_image/'\n",
    "    image_path = path + image_name\n",
    "    \n",
    "    cv2.imshow(\"converted image\",sample_image)\n",
    "\n",
    "    k = cv2.waitKey(0)\n",
    "\n",
    "    if k == ord(\"q\"):\n",
    "        cv2.destroyAllWindows()\n",
    "    elif k == ord(\"s\"):\n",
    "        cv2.imwrite(image_path,sample_image)\n",
    "        cv2.destroyAllWindows()\n",
    "    \n",
    "    return None"
   ]
  },
  {
   "cell_type": "code",
   "execution_count": 7,
   "metadata": {},
   "outputs": [
    {
     "ename": "",
     "evalue": "",
     "output_type": "error",
     "traceback": [
      "\u001b[1;31mThe Kernel crashed while executing code in the the current cell or a previous cell. Please review the code in the cell(s) to identify a possible cause of the failure. Click <a href='https://aka.ms/vscodeJupyterKernelCrash'>here</a> for more info. View Jupyter <a href='command:jupyter.viewOutput'>log</a> for further details."
     ]
    }
   ],
   "source": [
    "img = cv2.imread(r'data\\gray_image\\input_line_1.png')\n",
    "assert img is not None, \"file could not be read, check the path\"\n",
    "# Convert the image to grayscale\n",
    "gray = cv2.cvtColor(img, cv2.COLOR_BGR2GRAY)\n",
    "\n",
    "# i_gray = cv2.bitwise_not(gray)\n",
    "\n",
    "# Use morphological operations to emphasize thick lines\n",
    "# kernel = np.ones((5, 5), np.uint8)\n",
    "kernel = cv2.getStructuringElement(cv2.MORPH_RECT, (5,5))\n",
    "dilated = cv2.dilate(gray, kernel, iterations=1)\n",
    "eroded = cv2.erode(dilated, kernel, iterations=4)\n",
    "\n",
    "# closing = cv2.morphologyEx(gray, cv2.MORPH_CLOSE, kernel)\n",
    "# opening = cv2.morphologyEx(gray, cv2.MORPH_OPEN, kernel)\n",
    "\n",
    "i_eroded = cv2.bitwise_not(eroded)\n",
    "eroded_2 = cv2.erode(i_eroded, kernel, iterations=1)\n",
    "gradient = cv2.morphologyEx(eroded, cv2.MORPH_GRADIENT, kernel)\n",
    "display_image(gradient, True)\n",
    "\n",
    "# # Use the Canny edge detector\n",
    "# edges = cv2.Canny(eroded_2, 50, 1000, apertureSize=3)\n",
    "\n",
    "# display_image(edges, True)\n",
    "\n",
    "## Apply Hough Line Transform\n",
    "# lines = cv2.HoughLinesP(eroded_2, 1, np.pi/180, 200)\n",
    "# lines = cv2.HoughLinesP(eroded, rho=1, theta=np.pi/180, threshold=100, minLineLength=1000, maxLineGap=10)"
   ]
  },
  {
   "cell_type": "code",
   "execution_count": 4,
   "metadata": {},
   "outputs": [],
   "source": [
    "# lines = cv2.HoughLinesP(inverted_gray, rho=1, theta=np.pi/180, threshold=100, minLineLength=1000, maxLineGap=10)\n",
    "\n",
    "if lines is not None:\n",
    "    for line in lines:\n",
    "        x1, y1, x2, y2 = line[0]\n",
    "        cv2.line(img, (x1, y1), (x2, y2), (0, 0, 255), 2)\n",
    "\n",
    "# Display the result\n",
    "# resized_img1 = cv2.resize(test_image2, (1500, 1000))\n",
    "# displaying the image\n",
    "display_image(img, True)\n"
   ]
  },
  {
   "cell_type": "code",
   "execution_count": null,
   "metadata": {},
   "outputs": [],
   "source": []
  },
  {
   "cell_type": "code",
   "execution_count": null,
   "metadata": {},
   "outputs": [],
   "source": []
  },
  {
   "cell_type": "code",
   "execution_count": null,
   "metadata": {},
   "outputs": [],
   "source": []
  },
  {
   "cell_type": "code",
   "execution_count": null,
   "metadata": {},
   "outputs": [],
   "source": []
  }
 ],
 "metadata": {
  "kernelspec": {
   "display_name": "Python 3",
   "language": "python",
   "name": "python3"
  },
  "language_info": {
   "codemirror_mode": {
    "name": "ipython",
    "version": 3
   },
   "file_extension": ".py",
   "mimetype": "text/x-python",
   "name": "python",
   "nbconvert_exporter": "python",
   "pygments_lexer": "ipython3",
   "version": "3.10.12"
  },
  "orig_nbformat": 4
 },
 "nbformat": 4,
 "nbformat_minor": 2
}
