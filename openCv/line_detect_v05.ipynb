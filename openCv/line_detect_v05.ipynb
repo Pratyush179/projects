{
 "cells": [
  {
   "cell_type": "code",
   "execution_count": 1,
   "metadata": {},
   "outputs": [],
   "source": [
    "import cv2\n",
    "import numpy as np"
   ]
  },
  {
   "cell_type": "code",
   "execution_count": 2,
   "metadata": {},
   "outputs": [],
   "source": [
    "image_path = r'C:\\Suraj\\projects\\openCv\\data\\projdata\\sample\\input_image.png'\n",
    "\n",
    "img = cv2.imread(image_path)\n",
    "dummy = img.copy()\n",
    "img_gray = cv2.cvtColor(img, cv2.COLOR_BGR2GRAY)\n",
    "# img = cv2.resize(img, (1500,850))\n",
    "# img_gray = cv2.resize(img_gray, (1500,850))\n",
    "\n",
    "# cv2.imshow(\"img\", img)\n",
    "cv2.imshow(\"gray\", img_gray)\n",
    "cv2.waitKey(0)\n",
    "cv2.destroyAllWindows()"
   ]
  },
  {
   "cell_type": "markdown",
   "metadata": {},
   "source": [
    "### Bilateral Filter"
   ]
  },
  {
   "cell_type": "code",
   "execution_count": 3,
   "metadata": {},
   "outputs": [],
   "source": [
    "def nothing(x):\n",
    "    pass\n",
    "\n",
    "cv2.namedWindow(\"BilaterFilter\")\n",
    "cv2.createTrackbar(\"d\", \"BilaterFilter\", 3, 50, nothing)\n",
    "cv2.createTrackbar(\"sigmaColor\", \"BilaterFilter\", 0, 500, nothing)\n",
    "cv2.createTrackbar(\"sigmaSpace\", \"BilaterFilter\", 0, 500, nothing)\n",
    "\n",
    "while True:\n",
    "    d = cv2.getTrackbarPos('d', 'BilaterFilter')\n",
    "    sigmaColor = cv2.getTrackbarPos('sigmaColor', 'BilaterFilter')\n",
    "    sigmaSpace = cv2.getTrackbarPos('sigmaSpace', 'BilaterFilter')\n",
    "\n",
    "    \n",
    "    bi_f = cv2.bilateralFilter(img_gray, d, sigmaColor, sigmaSpace)\n",
    "    cv2.imshow(\"BilaterFilter\", bi_f)\n",
    "    k = cv2.waitKey(1)\n",
    "    if k == ord(\"q\"):\n",
    "        break\n",
    "\n",
    "cv2.destroyAllWindows()"
   ]
  },
  {
   "cell_type": "markdown",
   "metadata": {},
   "source": [
    "### Threshold Detection"
   ]
  },
  {
   "cell_type": "code",
   "execution_count": 4,
   "metadata": {},
   "outputs": [],
   "source": [
    "def nothing(x):\n",
    "    pass\n",
    "\n",
    "cv2.namedWindow(\"Threshold\")\n",
    "cv2.createTrackbar(\"a\", \"Threshold\", 0, 255, nothing)\n",
    "cv2.createTrackbar(\"b\", \"Threshold\", 10, 255, nothing)\n",
    "\n",
    "while True:\n",
    "    a = cv2.getTrackbarPos('a', 'Threshold')\n",
    "    b = cv2.getTrackbarPos('b', 'Threshold')\n",
    "    \n",
    "    # b = 255\n",
    "    ret,thresh = cv2.threshold(bi_f,a,b,cv2.THRESH_BINARY_INV)\n",
    "    cv2.imshow(\"Threshold\", thresh)\n",
    "    k = cv2.waitKey(1)\n",
    "    if k == ord(\"q\"):\n",
    "        break\n",
    "\n",
    "cv2.destroyAllWindows()"
   ]
  },
  {
   "cell_type": "code",
   "execution_count": 5,
   "metadata": {},
   "outputs": [],
   "source": [
    "cv2.imshow('Threshold', thresh)\n",
    "cv2.waitKey(0)\n",
    "cv2.destroyAllWindows()"
   ]
  },
  {
   "cell_type": "code",
   "execution_count": 6,
   "metadata": {},
   "outputs": [],
   "source": [
    "# canny = cv2.Canny(thresh, 30, 200)\n",
    "\n",
    "# cv2.imshow('Canny Edge Detection', canny)\n",
    "# cv2.waitKey(0)\n",
    "# cv2.destroyAllWindows()"
   ]
  },
  {
   "cell_type": "markdown",
   "metadata": {},
   "source": [
    "#### Morphological Operation"
   ]
  },
  {
   "cell_type": "code",
   "execution_count": 5,
   "metadata": {},
   "outputs": [],
   "source": [
    "kernel = cv2.getStructuringElement(cv2.MORPH_RECT, (1,1))\n",
    "dilated = cv2.dilate(thresh, kernel, iterations=8)\n",
    "eroded = cv2.erode(dilated, kernel, iterations=4)\n",
    "\n",
    "cv2.imshow('Morphological', dilated)\n",
    "cv2.waitKey(0)\n",
    "cv2.destroyAllWindows()"
   ]
  },
  {
   "cell_type": "markdown",
   "metadata": {},
   "source": [
    "### Contours Detection"
   ]
  },
  {
   "cell_type": "code",
   "execution_count": 6,
   "metadata": {},
   "outputs": [],
   "source": [
    "cnts,hier = cv2.findContours(eroded,cv2.RETR_TREE,cv2.CHAIN_APPROX_NONE)\n",
    "# cnts,hier = cv2.findContours(eroded,cv2.RETR_EXTERNAL, cv2.CHAIN_APPROX_NONE)\n",
    "# print(\"Number of contour==\",cnts,\"\\ntotal contour==\",len(cnts))\n",
    "# print(\"Hierarchy==\\n\",hier)"
   ]
  },
  {
   "cell_type": "code",
   "execution_count": 7,
   "metadata": {},
   "outputs": [],
   "source": [
    "img_c = cv2.drawContours(img,cnts,-1,(0,0,255),1)\n",
    "\n",
    "cv2.imshow(\"Contour===\",img_c)\n",
    "# cv2.imwrite(r'data/projdata/output_1.png', img)\n",
    "# cv2.imshow(\"thresh==\",thresh)\n",
    "cv2.waitKey(0)\n",
    "cv2.destroyAllWindows()"
   ]
  },
  {
   "cell_type": "code",
   "execution_count": 18,
   "metadata": {},
   "outputs": [],
   "source": [
    "# dummy = img.copy()\n",
    "# # Loop over the contours\n",
    "# for i, contour in enumerate(cnts):\n",
    "#     # Calculate the area of the contour\n",
    "#     area = cv2.contourArea(contour)\n",
    "\n",
    "#     # Draw the contour if it has a larger area than the threshold\n",
    "#     if area < 2000:\n",
    "#         cv2.drawContours(dummy, cnts, i, (0, 255, 0), -1)  # Draw in green with thickness of 3\n",
    "\n",
    "# cv2.imshow(\"Dummy\",dummy)\n",
    "# cv2.waitKey(0)\n",
    "# cv2.destroyAllWindows()\n"
   ]
  },
  {
   "cell_type": "markdown",
   "metadata": {},
   "source": [
    "### Find the preferal of the contours"
   ]
  },
  {
   "cell_type": "code",
   "execution_count": 8,
   "metadata": {},
   "outputs": [
    {
     "name": "stdout",
     "output_type": "stream",
     "text": [
      "Contour Length: 409\n",
      "Final Length:  12147.0\n"
     ]
    }
   ],
   "source": [
    "sum = 0\n",
    "for c in cnts:\n",
    "    perimeter = np.round(cv2.arcLength(c,False))\n",
    "    if perimeter > 10:\n",
    "        # print(perimeter, '\\n')\n",
    "        sum = sum + perimeter\n",
    "print(f'Contour Length: {len(cnts)}')\n",
    "print('Final Length: ',sum)"
   ]
  },
  {
   "cell_type": "code",
   "execution_count": 15,
   "metadata": {},
   "outputs": [
    {
     "name": "stdout",
     "output_type": "stream",
     "text": [
      "Pipe length in Inches: 100.92\n",
      "\n",
      "approx Pipe length in Feet: 403.67\n",
      "\n",
      "Pipe Length in feet with 5% error probablity\n",
      "Lower range:383.48\n",
      "Upper range:423.85\n"
     ]
    }
   ],
   "source": [
    "len_inch = sum/120 # 96 is the DPI of the image\n",
    "len_feet = len_inch*4 # Scale 1 inch is equal to 8 feet \n",
    "\n",
    "# 5% error \n",
    "per_error = len_feet*0.05\n",
    "\n",
    "print(f'Pipe length in Inches: {np.round(len_inch,2)}\\n')\n",
    "print(f'approx Pipe length in Feet: {np.round(len_feet, 2)}\\n')\n",
    "print(f\"Pipe Length in feet with 5% error probablity\\nLower range:{np.round(len_feet-per_error,2)}\\nUpper range:{np.round(len_feet+per_error,2)}\")"
   ]
  },
  {
   "cell_type": "code",
   "execution_count": null,
   "metadata": {},
   "outputs": [],
   "source": []
  }
 ],
 "metadata": {
  "kernelspec": {
   "display_name": "Python 3",
   "language": "python",
   "name": "python3"
  },
  "language_info": {
   "codemirror_mode": {
    "name": "ipython",
    "version": 3
   },
   "file_extension": ".py",
   "mimetype": "text/x-python",
   "name": "python",
   "nbconvert_exporter": "python",
   "pygments_lexer": "ipython3",
   "version": "3.10.12"
  },
  "orig_nbformat": 4
 },
 "nbformat": 4,
 "nbformat_minor": 2
}
