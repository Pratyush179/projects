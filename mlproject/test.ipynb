{
 "cells": [
  {
   "cell_type": "code",
   "execution_count": 80,
   "metadata": {},
   "outputs": [
    {
     "data": {
      "text/plain": [
       "True"
      ]
     },
     "execution_count": 80,
     "metadata": {},
     "output_type": "execute_result"
    }
   ],
   "source": [
    "import os\n",
    "import sys\n",
    "from src.mlproject.exception import CustomException\n",
    "from src.mlproject.logger import logging\n",
    "import pandas as pd\n",
    "from dotenv import load_dotenv\n",
    "# import pymysql\n",
    "import pyodbc\n",
    "\n",
    "from sqlalchemy.engine import URL\n",
    "\n",
    "load_dotenv()"
   ]
  },
  {
   "cell_type": "code",
   "execution_count": 81,
   "metadata": {},
   "outputs": [],
   "source": [
    "server = os.getenv(\"server\")\n",
    "db = os.getenv(\"db\")\n",
    "user = os.getenv(\"user\")\n",
    "password = os.getenv(\"password\")\n",
    "# Depending on your SQL Server setup and the ODBC driver installed, the driver name might be different.\n",
    "driver= '{ODBC Driver 17 for SQL Server}'"
   ]
  },
  {
   "cell_type": "code",
   "execution_count": 82,
   "metadata": {},
   "outputs": [
    {
     "name": "stdout",
     "output_type": "stream",
     "text": [
      "10.24.5.30\n"
     ]
    }
   ],
   "source": [
    "print(server)"
   ]
  },
  {
   "cell_type": "code",
   "execution_count": 73,
   "metadata": {},
   "outputs": [],
   "source": [
    "SERVER = '10.24.5.30'\n",
    "DATABASE = 'BPMSV2'\n",
    "USERNAME = 'admin'\n",
    "PASSWORD = 'wh<K<6}!zyUc85yZruRBi<aI<$p]w0pO'\n",
    "DRIVER = '{ODBC Driver 17 for SQL Server}'"
   ]
  },
  {
   "cell_type": "code",
   "execution_count": 67,
   "metadata": {},
   "outputs": [],
   "source": [
    "# connectionString = f'DRIVER={DRIVER};SERVER={SERVER};DATABASE={DATABASE};UID={USERNAME};PWD={PASSWORD}'"
   ]
  },
  {
   "cell_type": "code",
   "execution_count": 66,
   "metadata": {},
   "outputs": [],
   "source": [
    "# conn = pyodbc.connect(connectionString)\n",
    "# print(\"Connection established\")"
   ]
  },
  {
   "cell_type": "code",
   "execution_count": 65,
   "metadata": {},
   "outputs": [],
   "source": [
    "# connectionString = f'DRIVER={{ODBC Driver 17 for SQL Server}};SERVER={SERVER};DATABASE={DATABASE};UID={USERNAME};PWD={PASSWORD}'\n",
    "\n",
    "# conn = pyodbc.connect(connectionString)"
   ]
  },
  {
   "cell_type": "code",
   "execution_count": 32,
   "metadata": {},
   "outputs": [],
   "source": [
    "SQL_QUERY = \"\"\"\n",
    "select * from AccessLevel_1;\n",
    "\"\"\""
   ]
  },
  {
   "cell_type": "code",
   "execution_count": 64,
   "metadata": {},
   "outputs": [],
   "source": [
    "# cursor = conn.cursor()\n",
    "# cursor.execute(SQL_QUERY)"
   ]
  },
  {
   "cell_type": "code",
   "execution_count": 63,
   "metadata": {},
   "outputs": [],
   "source": [
    "# records = cursor.fetchall()\n",
    "# for r in records:\n",
    "#     print(r)"
   ]
  },
  {
   "cell_type": "code",
   "execution_count": 62,
   "metadata": {},
   "outputs": [],
   "source": [
    "# df=pd.read_sql_query(SQL_QUERY, conn)\n",
    "# df.head()"
   ]
  },
  {
   "cell_type": "code",
   "execution_count": 83,
   "metadata": {},
   "outputs": [],
   "source": [
    "def read_sql_data():\n",
    "    # logging.info(\"Reading SQL database started\")\n",
    "    try:\n",
    "                \n",
    "        connectionString = f'DRIVER={driver};SERVER={server};DATABASE={db};UID={user};PWD={password}'\n",
    "        # connectionString = f'DRIVER={DRIVER};SERVER={SERVER};DATABASE={DATABASE};UID={USERNAME};PWD={PASSWORD}'\n",
    "        conn = pyodbc.connect(connectionString)\n",
    "        # cursor = connection.cursor()\n",
    "\n",
    "        # logging.info(\"Connection Established\",connection)\n",
    "        df=pd.read_sql_query(SQL_QUERY, conn)\n",
    "        # print(df.head())\n",
    "        \n",
    "        # Close the connection\n",
    "        # connection.close()\n",
    "\n",
    "        return df\n",
    "\n",
    "    except Exception as ex:\n",
    "        raise CustomException(ex)"
   ]
  },
  {
   "cell_type": "code",
   "execution_count": 84,
   "metadata": {},
   "outputs": [
    {
     "name": "stderr",
     "output_type": "stream",
     "text": [
      "C:\\Users\\pis05408.PINNACLE\\AppData\\Local\\Temp\\ipykernel_6296\\2163090247.py:11: UserWarning: pandas only supports SQLAlchemy connectable (engine/connection) or database string URI or sqlite3 DBAPI2 connection. Other DBAPI2 objects are not tested. Please consider using SQLAlchemy.\n",
      "  df=pd.read_sql_query(SQL_QUERY, conn)\n"
     ]
    },
    {
     "data": {
      "text/html": [
       "<div>\n",
       "<style scoped>\n",
       "    .dataframe tbody tr th:only-of-type {\n",
       "        vertical-align: middle;\n",
       "    }\n",
       "\n",
       "    .dataframe tbody tr th {\n",
       "        vertical-align: top;\n",
       "    }\n",
       "\n",
       "    .dataframe thead th {\n",
       "        text-align: right;\n",
       "    }\n",
       "</style>\n",
       "<table border=\"1\" class=\"dataframe\">\n",
       "  <thead>\n",
       "    <tr style=\"text-align: right;\">\n",
       "      <th></th>\n",
       "      <th>SrNo</th>\n",
       "      <th>MenuName</th>\n",
       "      <th>Icon</th>\n",
       "      <th>ISDDM</th>\n",
       "      <th>AccessTo</th>\n",
       "      <th>ControllerName</th>\n",
       "      <th>ActionName</th>\n",
       "      <th>IsActive</th>\n",
       "      <th>EntryBy</th>\n",
       "      <th>EntryDate</th>\n",
       "      <th>Position</th>\n",
       "    </tr>\n",
       "  </thead>\n",
       "  <tbody>\n",
       "    <tr>\n",
       "      <th>0</th>\n",
       "      <td>1</td>\n",
       "      <td>Access Area</td>\n",
       "      <td>&lt;i class=\"fas fa-key\"&gt;&lt;/i&gt;\\r\\n</td>\n",
       "      <td>True</td>\n",
       "      <td>NaN</td>\n",
       "      <td>None</td>\n",
       "      <td>None</td>\n",
       "      <td>True</td>\n",
       "      <td>PIS02419</td>\n",
       "      <td>2021-09-30 10:38:11.270</td>\n",
       "      <td>1.0</td>\n",
       "    </tr>\n",
       "    <tr>\n",
       "      <th>1</th>\n",
       "      <td>3</td>\n",
       "      <td>None</td>\n",
       "      <td>None</td>\n",
       "      <td>None</td>\n",
       "      <td>17.0</td>\n",
       "      <td>AccessArea</td>\n",
       "      <td>SubMenuAccess</td>\n",
       "      <td>True</td>\n",
       "      <td>PIS02419</td>\n",
       "      <td>2021-09-30 11:36:38.580</td>\n",
       "      <td>NaN</td>\n",
       "    </tr>\n",
       "    <tr>\n",
       "      <th>2</th>\n",
       "      <td>7</td>\n",
       "      <td>None</td>\n",
       "      <td>None</td>\n",
       "      <td>None</td>\n",
       "      <td>17.0</td>\n",
       "      <td>AccessArea</td>\n",
       "      <td>SpecialAccessMenu</td>\n",
       "      <td>True</td>\n",
       "      <td>PIS00792</td>\n",
       "      <td>2021-09-30 15:07:35.387</td>\n",
       "      <td>NaN</td>\n",
       "    </tr>\n",
       "    <tr>\n",
       "      <th>3</th>\n",
       "      <td>8</td>\n",
       "      <td>None</td>\n",
       "      <td>None</td>\n",
       "      <td>None</td>\n",
       "      <td>17.0</td>\n",
       "      <td>AccessArea</td>\n",
       "      <td>SpecialAccessSubMenu</td>\n",
       "      <td>True</td>\n",
       "      <td>PIS00792</td>\n",
       "      <td>2021-09-30 15:08:06.577</td>\n",
       "      <td>NaN</td>\n",
       "    </tr>\n",
       "    <tr>\n",
       "      <th>4</th>\n",
       "      <td>16</td>\n",
       "      <td>None</td>\n",
       "      <td>None</td>\n",
       "      <td>None</td>\n",
       "      <td>17.0</td>\n",
       "      <td>AccessArea</td>\n",
       "      <td>SetPosition</td>\n",
       "      <td>True</td>\n",
       "      <td>PIS00792</td>\n",
       "      <td>2021-10-01 10:40:28.577</td>\n",
       "      <td>NaN</td>\n",
       "    </tr>\n",
       "  </tbody>\n",
       "</table>\n",
       "</div>"
      ],
      "text/plain": [
       "   SrNo     MenuName                            Icon ISDDM  AccessTo  \\\n",
       "0     1  Access Area  <i class=\"fas fa-key\"></i>\\r\\n  True       NaN   \n",
       "1     3         None                            None  None      17.0   \n",
       "2     7         None                            None  None      17.0   \n",
       "3     8         None                            None  None      17.0   \n",
       "4    16         None                            None  None      17.0   \n",
       "\n",
       "  ControllerName            ActionName IsActive   EntryBy  \\\n",
       "0           None                  None     True  PIS02419   \n",
       "1     AccessArea         SubMenuAccess     True  PIS02419   \n",
       "2     AccessArea     SpecialAccessMenu     True  PIS00792   \n",
       "3     AccessArea  SpecialAccessSubMenu     True  PIS00792   \n",
       "4     AccessArea           SetPosition     True  PIS00792   \n",
       "\n",
       "                EntryDate  Position  \n",
       "0 2021-09-30 10:38:11.270       1.0  \n",
       "1 2021-09-30 11:36:38.580       NaN  \n",
       "2 2021-09-30 15:07:35.387       NaN  \n",
       "3 2021-09-30 15:08:06.577       NaN  \n",
       "4 2021-10-01 10:40:28.577       NaN  "
      ]
     },
     "execution_count": 84,
     "metadata": {},
     "output_type": "execute_result"
    }
   ],
   "source": [
    "df = read_sql_data()\n",
    "df.head()"
   ]
  },
  {
   "cell_type": "code",
   "execution_count": null,
   "metadata": {},
   "outputs": [],
   "source": []
  },
  {
   "cell_type": "code",
   "execution_count": null,
   "metadata": {},
   "outputs": [],
   "source": []
  },
  {
   "cell_type": "code",
   "execution_count": null,
   "metadata": {},
   "outputs": [],
   "source": []
  },
  {
   "cell_type": "code",
   "execution_count": null,
   "metadata": {},
   "outputs": [],
   "source": []
  }
 ],
 "metadata": {
  "kernelspec": {
   "display_name": "Python 3",
   "language": "python",
   "name": "python3"
  },
  "language_info": {
   "codemirror_mode": {
    "name": "ipython",
    "version": 3
   },
   "file_extension": ".py",
   "mimetype": "text/x-python",
   "name": "python",
   "nbconvert_exporter": "python",
   "pygments_lexer": "ipython3",
   "version": "3.9.17"
  },
  "orig_nbformat": 4
 },
 "nbformat": 4,
 "nbformat_minor": 2
}
