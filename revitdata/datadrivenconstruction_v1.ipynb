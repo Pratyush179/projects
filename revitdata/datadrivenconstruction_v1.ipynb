{
 "cells": [
  {
   "cell_type": "code",
   "execution_count": 10,
   "metadata": {},
   "outputs": [],
   "source": [
    "import os\n",
    "import subprocess\n",
    "import time"
   ]
  },
  {
   "cell_type": "code",
   "execution_count": 4,
   "metadata": {},
   "outputs": [],
   "source": [
    "# Path address to the folder where RvtExporter.exe|IfcExporter.exe converter is located\n",
    "path_conv = r'C:\\Users\\pis05408.PINNACLE\\Desktop\\Suraj\\RnD\\DataDrivenConstruction\\DDC_Converter_Revit_Community_16112023-cccj2x\\\\'\n",
    "# Path address of the folder where Revit|IFC files are located\n",
    "path = r'C:\\Users\\pis05408.PINNACLE\\Desktop\\Suraj\\RnD\\DataDrivenConstruction\\Data\\Model_2\\\\'"
   ]
  },
  {
   "cell_type": "code",
   "execution_count": 5,
   "metadata": {},
   "outputs": [],
   "source": [
    "def convert_and_wait(path_conv, exporter_name, file_path, extension):\n",
    "    subprocess.Popen([os.path.join(path_conv, exporter_name), file_path], cwd=path_conv)\n",
    "    output_file = os.path.join(path, f\"{os.path.splitext(file)[0]}_{extension}.xlsx\")\n",
    "    while not os.path.exists(output_file):\n",
    "        time.sleep(0.5)\n",
    "    print(f\"Conversion Done for Project {os.path.splitext(file)[0]}\")  "
   ]
  },
  {
   "cell_type": "code",
   "execution_count": 6,
   "metadata": {},
   "outputs": [
    {
     "name": "stdout",
     "output_type": "stream",
     "text": [
      "Conversion Done for Project rac_basic_sample_project\n"
     ]
    }
   ],
   "source": [
    "# Ensure output directory exists\n",
    "os.makedirs(path, exist_ok=True)\n",
    "# Conversion process from RVT and IFC\n",
    "for file in os.listdir(path):\n",
    "    full_path = os.path.join(path, file)\n",
    "    if file.endswith('.ifc'):\n",
    "        convert_and_wait(path_conv, 'IfcExporter.exe', full_path, 'ifc')\n",
    "    elif file.endswith('.rvt'):\n",
    "        convert_and_wait(path_conv, 'RvtExporter.exe', full_path, 'rvt')"
   ]
  },
  {
   "cell_type": "code",
   "execution_count": null,
   "metadata": {},
   "outputs": [],
   "source": []
  },
  {
   "cell_type": "code",
   "execution_count": null,
   "metadata": {},
   "outputs": [],
   "source": []
  }
 ],
 "metadata": {
  "kernelspec": {
   "display_name": "Python 3",
   "language": "python",
   "name": "python3"
  },
  "language_info": {
   "codemirror_mode": {
    "name": "ipython",
    "version": 3
   },
   "file_extension": ".py",
   "mimetype": "text/x-python",
   "name": "python",
   "nbconvert_exporter": "python",
   "pygments_lexer": "ipython3",
   "version": "3.10.13"
  }
 },
 "nbformat": 4,
 "nbformat_minor": 2
}
