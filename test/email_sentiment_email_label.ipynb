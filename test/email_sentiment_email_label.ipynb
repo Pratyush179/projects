{
 "cells": [
  {
   "cell_type": "code",
   "execution_count": 4,
   "metadata": {},
   "outputs": [],
   "source": [
    "import os\n",
    "import sys\n",
    "import pandas as pd\n",
    "import dtale\n",
    "\n",
    "import re\n",
    "from bs4 import BeautifulSoup"
   ]
  },
  {
   "cell_type": "code",
   "execution_count": 2,
   "metadata": {},
   "outputs": [
    {
     "name": "stdout",
     "output_type": "stream",
     "text": [
      "(10362, 9)\n"
     ]
    }
   ],
   "source": [
    "file_path = r'data\\email_3rd_june.parquet'\n",
    "df = pd.read_parquet(file_path)\n",
    "print(df.shape)"
   ]
  },
  {
   "cell_type": "code",
   "execution_count": 91,
   "metadata": {},
   "outputs": [],
   "source": [
    "# d = dtale.show(df)\n",
    "# d.open_browser()"
   ]
  },
  {
   "cell_type": "code",
   "execution_count": 3,
   "metadata": {},
   "outputs": [
    {
     "data": {
      "text/html": [
       "<div>\n",
       "<style scoped>\n",
       "    .dataframe tbody tr th:only-of-type {\n",
       "        vertical-align: middle;\n",
       "    }\n",
       "\n",
       "    .dataframe tbody tr th {\n",
       "        vertical-align: top;\n",
       "    }\n",
       "\n",
       "    .dataframe thead th {\n",
       "        text-align: right;\n",
       "    }\n",
       "</style>\n",
       "<table border=\"1\" class=\"dataframe\">\n",
       "  <thead>\n",
       "    <tr style=\"text-align: right;\">\n",
       "      <th></th>\n",
       "      <th>id</th>\n",
       "      <th>from_email</th>\n",
       "      <th>to_email</th>\n",
       "      <th>cc_email</th>\n",
       "      <th>subject</th>\n",
       "      <th>body</th>\n",
       "      <th>date_ist</th>\n",
       "      <th>time_ist</th>\n",
       "      <th>projectid</th>\n",
       "    </tr>\n",
       "  </thead>\n",
       "  <tbody>\n",
       "    <tr>\n",
       "      <th>0</th>\n",
       "      <td>6d30273a-6d16-4c9a-b207-31261df388ba</td>\n",
       "      <td>a.cao@forell.com</td>\n",
       "      <td>samiranm@pinnacleinfotech.com</td>\n",
       "      <td>csutradhar@pinnaclecad.com, a.lin@forell.com</td>\n",
       "      <td>RE: 23-044 Drafting</td>\n",
       "      <td>Hi Sam,\\n\\nI've uploaded more markups here:\\nh...</td>\n",
       "      <td>2024-05-16</td>\n",
       "      <td>05:13:05</td>\n",
       "      <td>76461</td>\n",
       "    </tr>\n",
       "    <tr>\n",
       "      <th>1</th>\n",
       "      <td>6b7a51f9-201f-43fa-adc2-f23203ee00d5</td>\n",
       "      <td>a.cao@forell.com</td>\n",
       "      <td>samiranm@pinnacleinfotech.com</td>\n",
       "      <td>csutradhar@pinnaclecad.com, a.lin@forell.com</td>\n",
       "      <td>RE: 23-043 Drafting</td>\n",
       "      <td>Sam,\\n\\nI've uploaded more markups here:\\nhttp...</td>\n",
       "      <td>2024-05-18</td>\n",
       "      <td>03:34:35</td>\n",
       "      <td>76461</td>\n",
       "    </tr>\n",
       "  </tbody>\n",
       "</table>\n",
       "</div>"
      ],
      "text/plain": [
       "                                     id        from_email  \\\n",
       "0  6d30273a-6d16-4c9a-b207-31261df388ba  a.cao@forell.com   \n",
       "1  6b7a51f9-201f-43fa-adc2-f23203ee00d5  a.cao@forell.com   \n",
       "\n",
       "                        to_email  \\\n",
       "0  samiranm@pinnacleinfotech.com   \n",
       "1  samiranm@pinnacleinfotech.com   \n",
       "\n",
       "                                       cc_email              subject  \\\n",
       "0  csutradhar@pinnaclecad.com, a.lin@forell.com  RE: 23-044 Drafting   \n",
       "1  csutradhar@pinnaclecad.com, a.lin@forell.com  RE: 23-043 Drafting   \n",
       "\n",
       "                                                body    date_ist  time_ist  \\\n",
       "0  Hi Sam,\\n\\nI've uploaded more markups here:\\nh...  2024-05-16  05:13:05   \n",
       "1  Sam,\\n\\nI've uploaded more markups here:\\nhttp...  2024-05-18  03:34:35   \n",
       "\n",
       "   projectid  \n",
       "0      76461  \n",
       "1      76461  "
      ]
     },
     "execution_count": 3,
     "metadata": {},
     "output_type": "execute_result"
    }
   ],
   "source": [
    "df.head(2)"
   ]
  },
  {
   "cell_type": "code",
   "execution_count": 5,
   "metadata": {},
   "outputs": [],
   "source": [
    "def remove_disclaimer_text(body):\n",
    "    \"\"\"\n",
    "    Remove disclaimer and classification notices from the email body.\n",
    "\n",
    "    Args:\n",
    "        body (str): The body of the email.\n",
    "        \n",
    "    Returns:\n",
    "        str: The email body without disclaimer and classification notices.\n",
    "    \"\"\"\n",
    "    disclaimer_pattern = [\n",
    "        r\"\\*This e-mail has been classified as.*\",\n",
    "        r\".*classification notice.*\",\n",
    "        r\"From:\\s.*Sent:\\s.*To:\\s.*\"\n",
    "    ]\n",
    "    \n",
    "    for pattern in disclaimer_pattern:\n",
    "        body = re.sub(pattern, '', body, flags=re.DOTALL)\n",
    "    \n",
    "    return body\n",
    "\n",
    "def extract_recent_email(email_body):\n",
    "    \"\"\"\n",
    "    Extract the most recent part of an email thread above the signature or prior email content.\n",
    "\n",
    "    Args:\n",
    "        email_body (str): The body of the email.\n",
    "        \n",
    "    Returns:\n",
    "        str: The most recent part text.\n",
    "    \"\"\"\n",
    "    # Use BeautifulSoup to handle HTML email bodies.\n",
    "    soup = BeautifulSoup(email_body, \"html.parser\")\n",
    "    text = soup.get_text()\n",
    "    lines = text.splitlines()\n",
    "\n",
    "    # Regex patterns for detecting common signature lines and previous messages\n",
    "    signature_patterns = [\n",
    "        re.compile(r'^(-{2,}|_{2,})'),  # Signatures, like \"-----Original Message-----\" or \"__\"\n",
    "        re.compile(r'^\\s*(Sent from my [\\w\\s]+|Sent with [\\w\\s]+)$', re.IGNORECASE), # Mobile signatures\n",
    "        re.compile(r'^On \\d{4}/[0-1]\\d/[0-3]\\d,.*'),  # Replies, like \"On 2021/12/01, ... wrote:\"\n",
    "        re.compile(r'^\\s*From:\\s*.*', re.IGNORECASE), # From header\n",
    "        re.compile(r'^\\s*Sent:\\s*.*', re.IGNORECASE), # Sent header\n",
    "        re.compile(r'^To:\\s*.*', re.IGNORECASE),      # To header\n",
    "        re.compile(r'^Subject:\\s*.*', re.IGNORECASE), # Subject header\n",
    "    ]\n",
    "\n",
    "    # Find the position of signature or previous message markers\n",
    "    for i, line in enumerate(lines):\n",
    "        for pattern in signature_patterns:\n",
    "            if pattern.match(line):\n",
    "                return \"\\n\".join(lines[:i]).strip()  # Return everything before the signature marker\n",
    "\n",
    "    return \"\\n\".join(lines).strip()\n",
    "\n",
    "def extract_text_above_signature(body, from_email):\n",
    "    \"\"\"\n",
    "    Extract text above the signature in the email body.\n",
    "\n",
    "    Args:\n",
    "        body (str): The body of the email.\n",
    "        from_email (str): The sender's email address.\n",
    "        \n",
    "    Returns:\n",
    "        str: The extracted text above signature patterns.\n",
    "    \"\"\"\n",
    "    username = from_email.split('@')[0]  # Extract the username\n",
    "    signature_patterns = [\n",
    "        r\"\\nfrom:\\s\", r\"\\nsent:\\s\", r\"\\nto:\\s\", r\"\\ncc:\\s\", r\"\\nsubject:\\s\",\n",
    "        r\"\\nregards,\\s\", r\"\\nbest,\\s\", r\"\\nthanks,\\s\", r\"\\nsincerely,\\s\", r\"\\ncheers,\\s\",\n",
    "        re.escape(username.lower())\n",
    "    ]\n",
    "    \n",
    "    body_lower = body.lower()\n",
    "    signature_indices = []\n",
    "    \n",
    "    # Find all occurrences of the signature patterns\n",
    "    for pattern in signature_patterns:\n",
    "        matches = list(re.finditer(pattern, body_lower, re.MULTILINE))\n",
    "        signature_indices.extend([match.start() for match in matches])\n",
    "    \n",
    "    if signature_indices:\n",
    "        signature_index = min(signature_indices)\n",
    "        return body[:signature_index].strip()\n",
    "    return body\n",
    "\n",
    "def clean_email_body(body):\n",
    "    \"\"\"\n",
    "    Clean the email body by removing unwanted text based on various regex patterns.\n",
    "\n",
    "    Args:\n",
    "        body (str): The body of the email.\n",
    "    \n",
    "    Returns:\n",
    "        str: The cleaned email body.\n",
    "    \"\"\"\n",
    "    patterns = {\n",
    "        'urls': r'https?://\\S+|www\\.\\S+',  # URLs\n",
    "        'metadata': r'(?m)^(From|Sent|To|Cc|Bcc|Subject|Date): .*$',  # Email metadata\n",
    "        'greetings': r'(?i)^(Hi|Hello|Dear|Greetings|Hey)\\s+[^\\n]+',  # Greetings\n",
    "        'signatures': r'(?i)(Best regards|Kind regards|Regards|Cheers|Thank you|Thanks|Sincerely|Yours truly|Yours sincerely|Best|Warm regards|With regards)[^\\n]+',  # Signatures\n",
    "        'email_headers': r'---* Forwarded message ---*|---* Original message ---*|---* Reply Above This Line ---*',  # Email forwarding/reply headers\n",
    "        'email_addresses': r'\\b[A-Za-z0-9._%+-]+@[A-Za-z0-9.-]+\\.[A-Z|a-z]{2,}\\b',  # Email addresses\n",
    "        'non_ascii': r'[^\\x00-\\x7F]+',  # Non-ASCII characters\n",
    "        'extra_lines': r'\\n{2,}',  # Excessive newlines\n",
    "        'html_tags': r'<[^>]*>',  # HTML tags\n",
    "        'brackets_content': r'\\[.*?\\]|\\{.*?\\}|\\<.*?\\>',  # Content within brackets\n",
    "        'extra_whitespace': r'\\s{2,}',  # Excessive whitespace\n",
    "        'unsubscribe_links': r'Unsubscribe\\s+:.*|Click\\s+here.*unsubscribe',  # Unsubscribe links\n",
    "        'reply_lines': r'On\\s+.*wrote:',  # Lines indicating the start of a reply\n",
    "        'quoted_text': r'(?m)^\\>.*$',  # Lines starting with \">\"\n",
    "        'repeated_chars': r'(.)\\1{2,}',  # Repeated characters\n",
    "        'generic_signature_lines': r'(?i)(^Sent from my \\w+)|(--\\n.*)|(Confidentiality Notice.*)',  # Generic email signatures or legal disclaimers\n",
    "        'timestamps': r'\\d{1,2}:\\d{2}\\s*(AM|PM|am|pm)?',  # Time stamps\n",
    "        'dates': r'\\d{1,2}[/-]\\d{1,2}[/-]\\d{2,4}',  # Dates\n",
    "        'signature_blocks': r'--\\s*\\n[\\s\\S]*',  # Signature blocks that start with -- followed by any text\n",
    "        'headers_and_footers': r'(?m)^\\s*-\\s*$\\n[\\s\\S]*?^\\s*-\\s*$',  # Headers and footers denoted by lines consisting of dashes\n",
    "        'mobile_numbers': r'\\b(\\+?(\\d{1,3})?[-. ]?)?((\\(\\d{1,4}\\))|\\d{1,4})[-. ]?\\d{1,4}[-. ]?\\d{1,9}\\b'  # Mobile numbers\n",
    "    }\n",
    "    \n",
    "    for key, pattern in patterns.items():\n",
    "        body = re.sub(pattern, ' ', body)\n",
    "    \n",
    "    # Remove excess whitespace\n",
    "    body = re.sub(r'\\s{2,}', ' ', body)\n",
    "    return body.strip()\n",
    "\n",
    "\n",
    "def extract_most_recent_email_part(email_body, from_email):\n",
    "    \"\"\"\n",
    "    Combine recent email extraction and signature pattern extraction for robust extraction.\n",
    "\n",
    "    Args:\n",
    "        email_body (str): The body of the email.\n",
    "        from_email (str): The sender's email address.\n",
    "        \n",
    "    Returns:\n",
    "        str: The extracted relevant part of the email above signatures and prior threads.\n",
    "    \"\"\"\n",
    "    # Remove disclaimer and notice sections\n",
    "    cleaned_body = remove_disclaimer_text(email_body)\n",
    "    \n",
    "    # Extract the most recent email section ignoring previous emails\n",
    "    recent_email_content = extract_recent_email(cleaned_body)\n",
    "    \n",
    "    # Extract text above signatures and replies\n",
    "    filtered_content_above_signature = extract_text_above_signature(recent_email_content, from_email)\n",
    "\n",
    "    # Clean the email body\n",
    "    cleaned_body = clean_email_body(filtered_content_above_signature)\n",
    "    \n",
    "    return filtered_content_above_signature"
   ]
  },
  {
   "cell_type": "code",
   "execution_count": 6,
   "metadata": {},
   "outputs": [
    {
     "name": "stderr",
     "output_type": "stream",
     "text": [
      "C:\\Users\\pis05408.PINNACLE\\AppData\\Local\\Temp\\ipykernel_16784\\449057951.py:33: MarkupResemblesLocatorWarning:\n",
      "\n",
      "The input looks more like a filename than markup. You may want to open this file and pass the filehandle into Beautiful Soup.\n",
      "\n"
     ]
    }
   ],
   "source": [
    "# Apply the extraction function\n",
    "df['clean_email'] = df.apply(lambda row: extract_most_recent_email_part(row['body'], row['from_email']), axis=1)"
   ]
  },
  {
   "cell_type": "code",
   "execution_count": 50,
   "metadata": {},
   "outputs": [],
   "source": [
    "# d = dtale.show(test)\n",
    "# d.open_browser()"
   ]
  },
  {
   "cell_type": "markdown",
   "metadata": {},
   "source": [
    "### Sentiment Analysis"
   ]
  },
  {
   "cell_type": "markdown",
   "metadata": {},
   "source": [
    "### TextBlob"
   ]
  },
  {
   "cell_type": "code",
   "execution_count": 7,
   "metadata": {},
   "outputs": [],
   "source": [
    "from textblob import TextBlob"
   ]
  },
  {
   "cell_type": "code",
   "execution_count": 8,
   "metadata": {},
   "outputs": [],
   "source": [
    "# Function to predict sentiment using TextBlob\n",
    "def predict_sentiment_textblob(text):\n",
    "    blob = TextBlob(text)\n",
    "    sentiment = blob.sentiment\n",
    "    return sentiment"
   ]
  },
  {
   "cell_type": "code",
   "execution_count": 9,
   "metadata": {},
   "outputs": [],
   "source": [
    "# Apply the sentiment analysis function\n",
    "df['sentiment_blob'] = df['clean_email'].apply(predict_sentiment_textblob)\n",
    "\n",
    "# Extract the sentiment label and score into separate columns\n",
    "df['blob_label'] = df['sentiment_blob'].apply(lambda x: 'POSITIVE' if x.polarity > 0 else ('NEGATIVE' if x.polarity < 0 else 'NEUTRAL'))\n",
    "df['blob_score'] = df['sentiment_blob'].apply(lambda x: x.polarity)"
   ]
  },
  {
   "cell_type": "code",
   "execution_count": 10,
   "metadata": {},
   "outputs": [
    {
     "name": "stdout",
     "output_type": "stream",
     "text": [
      "blob_label\n",
      "POSITIVE    6156\n",
      "NEUTRAL     2664\n",
      "NEGATIVE    1542\n",
      "Name: count, dtype: int64\n"
     ]
    }
   ],
   "source": [
    "print(df.blob_label.value_counts())"
   ]
  },
  {
   "cell_type": "code",
   "execution_count": 11,
   "metadata": {},
   "outputs": [],
   "source": [
    "# Apply the sentiment analysis function\n",
    "df['sentiment_blob'] = df['body'].apply(predict_sentiment_textblob)\n",
    "\n",
    "# Extract the sentiment label and score into separate columns\n",
    "df['blob_label_test'] = df['sentiment_blob'].apply(lambda x: 'POSITIVE' if x.polarity > 0 else ('NEGATIVE' if x.polarity < 0 else 'NEUTRAL'))"
   ]
  },
  {
   "cell_type": "code",
   "execution_count": 12,
   "metadata": {},
   "outputs": [
    {
     "name": "stdout",
     "output_type": "stream",
     "text": [
      "blob_label_test\n",
      "POSITIVE    8516\n",
      "NEGATIVE    1623\n",
      "NEUTRAL      223\n",
      "Name: count, dtype: int64\n"
     ]
    }
   ],
   "source": [
    "print(df.blob_label_test.value_counts())"
   ]
  },
  {
   "cell_type": "code",
   "execution_count": 23,
   "metadata": {},
   "outputs": [],
   "source": [
    "# d = dtale.show(df)\n",
    "# d.open_browser()"
   ]
  },
  {
   "cell_type": "markdown",
   "metadata": {},
   "source": [
    "### NLTK"
   ]
  },
  {
   "cell_type": "code",
   "execution_count": 13,
   "metadata": {},
   "outputs": [],
   "source": [
    "from nltk.sentiment.vader import SentimentIntensityAnalyzer\n",
    "import nltk"
   ]
  },
  {
   "cell_type": "code",
   "execution_count": 14,
   "metadata": {},
   "outputs": [
    {
     "name": "stderr",
     "output_type": "stream",
     "text": [
      "[nltk_data] Downloading package vader_lexicon to\n",
      "[nltk_data]     C:\\Users\\pis05408.PINNACLE\\AppData\\Roaming\\nltk_data..\n",
      "[nltk_data]     .\n",
      "[nltk_data]   Package vader_lexicon is already up-to-date!\n"
     ]
    }
   ],
   "source": [
    "# Download the VADER lexicon\n",
    "nltk.download('vader_lexicon')\n",
    "\n",
    "# Initialize the VADER sentiment analyzer\n",
    "analyzer = SentimentIntensityAnalyzer()"
   ]
  },
  {
   "cell_type": "code",
   "execution_count": 15,
   "metadata": {},
   "outputs": [],
   "source": [
    "# Function to predict sentiment using VADER\n",
    "def predict_sentiment_nltk(text):\n",
    "    sentiment = analyzer.polarity_scores(text)\n",
    "    return sentiment"
   ]
  },
  {
   "cell_type": "code",
   "execution_count": 16,
   "metadata": {},
   "outputs": [],
   "source": [
    "# Apply the sentiment analysis function\n",
    "df['sentiment_NLTK'] = df['clean_email'].apply(predict_sentiment_nltk)\n",
    "\n",
    "# Extract the sentiment label and score into separate columns\n",
    "df['nltk_label'] = df['sentiment_NLTK'].apply(lambda x: 'POSITIVE' if x['compound'] >= 0.05 else ('NEGATIVE' if x['compound'] <= -0.05 else 'NEUTRAL'))\n",
    "df['nltk_score'] = df['sentiment_NLTK'].apply(lambda x: x['compound'])"
   ]
  },
  {
   "cell_type": "code",
   "execution_count": 17,
   "metadata": {},
   "outputs": [],
   "source": [
    "# Apply the sentiment analysis function\n",
    "df['sentiment_NLTK'] = df['body'].apply(predict_sentiment_nltk)\n",
    "\n",
    "# Extract the sentiment label and score into separate columns\n",
    "df['nltk_label_test'] = df['sentiment_NLTK'].apply(lambda x: 'POSITIVE' if x['compound'] >= 0.05 else ('NEGATIVE' if x['compound'] <= -0.05 else 'NEUTRAL'))"
   ]
  },
  {
   "cell_type": "code",
   "execution_count": 18,
   "metadata": {},
   "outputs": [
    {
     "name": "stdout",
     "output_type": "stream",
     "text": [
      "nltk_label\n",
      "POSITIVE    8483\n",
      "NEUTRAL     1238\n",
      "NEGATIVE     641\n",
      "Name: count, dtype: int64\n"
     ]
    }
   ],
   "source": [
    "print(df['nltk_label'].value_counts())"
   ]
  },
  {
   "cell_type": "code",
   "execution_count": 19,
   "metadata": {},
   "outputs": [
    {
     "name": "stdout",
     "output_type": "stream",
     "text": [
      "nltk_label_test\n",
      "POSITIVE    9879\n",
      "NEGATIVE     374\n",
      "NEUTRAL      109\n",
      "Name: count, dtype: int64\n"
     ]
    }
   ],
   "source": [
    "print(df['nltk_label_test'].value_counts())"
   ]
  },
  {
   "cell_type": "code",
   "execution_count": 19,
   "metadata": {},
   "outputs": [],
   "source": [
    "# d = dtale.show(df)\n",
    "# d.open_browser()"
   ]
  },
  {
   "cell_type": "markdown",
   "metadata": {},
   "source": [
    "### Email Summarization"
   ]
  },
  {
   "cell_type": "code",
   "execution_count": 22,
   "metadata": {},
   "outputs": [],
   "source": [
    "from transformers import pipeline"
   ]
  },
  {
   "cell_type": "code",
   "execution_count": 42,
   "metadata": {},
   "outputs": [
    {
     "name": "stderr",
     "output_type": "stream",
     "text": [
      "Downloading: 100%|██████████| 1.18k/1.18k [00:00<?, ?B/s]\n",
      "Downloading: 100%|██████████| 2.75G/2.75G [07:32<00:00, 6.53MB/s]\n",
      "Downloading: 100%|██████████| 773k/773k [00:00<00:00, 885kB/s] \n",
      "Downloading: 100%|██████████| 1.32M/1.32M [00:01<00:00, 1.23MB/s]\n",
      "c:\\Suraj\\projects\\test\\env\\lib\\site-packages\\transformers\\models\\t5\\tokenization_t5_fast.py:156: FutureWarning:\n",
      "\n",
      "This tokenizer was incorrectly instantiated with a model max length of 512 which will be corrected in Transformers v5.\n",
      "For now, this behavior is kept to avoid breaking backwards compatibility when padding/encoding with `truncation is True`.\n",
      "- Be aware that you SHOULD NOT rely on t5-large automatically truncating your input to 512 when padding/encoding.\n",
      "- If you want to encode/pad to sequences longer than 512 you can either instantiate this tokenizer with `model_max_length` or pass `max_length` when encoding/padding.\n",
      "- To avoid this warning, please instantiate this tokenizer with `model_max_length` set to your preferred value.\n",
      "\n"
     ]
    }
   ],
   "source": [
    "# # Initialize the summarization pipeline with a specific model\n",
    "# summarizer = pipeline(\"summarization\", model=\"facebook/bart-large-cnn\")\n",
    "summarizer = pipeline(\"summarization\", model=\"t5-large\")"
   ]
  },
  {
   "cell_type": "code",
   "execution_count": 43,
   "metadata": {},
   "outputs": [],
   "source": [
    "# Function to summarize a single email text\n",
    "def summarize_email(email_text):\n",
    "    try:\n",
    "        summary = summarizer(email_text, max_length=60, min_length=25, do_sample=False)\n",
    "        return summary[0]['summary_text']\n",
    "    except Exception as e:\n",
    "        print(f\"Error summarizing text: {e}\")\n",
    "        return \"Summary not available\""
   ]
  },
  {
   "cell_type": "code",
   "execution_count": 44,
   "metadata": {},
   "outputs": [],
   "source": [
    "# test_df = df.head(10).copy()"
   ]
  },
  {
   "cell_type": "code",
   "execution_count": 48,
   "metadata": {},
   "outputs": [
    {
     "name": "stderr",
     "output_type": "stream",
     "text": [
      "Token indices sequence length is longer than the specified maximum sequence length for this model (5610 > 512). Running this sequence through the model will result in indexing errors\n"
     ]
    },
    {
     "name": "stderr",
     "output_type": "stream",
     "text": [
      "2024-06-06 16:54:05,434 - INFO     - Executing shutdown due to inactivity...\n",
      "2024-06-06 16:54:09,736 - INFO     - Executing shutdown...\n",
      "2024-06-06 16:54:09,742 - INFO     - Not running with the Werkzeug Server, exiting by searching gc for BaseWSGIServer\n",
      "c:\\Suraj\\projects\\test\\env\\lib\\site-packages\\torch\\distributed\\distributed_c10d.py:181: UserWarning:\n",
      "\n",
      "torch.distributed.reduce_op is deprecated, please use torch.distributed.ReduceOp instead\n",
      "\n"
     ]
    },
    {
     "name": "stdout",
     "output_type": "stream",
     "text": [
      "Error summarizing text: [enforce fail at C:\\actions-runner\\_work\\pytorch\\pytorch\\builder\\windows\\pytorch\\c10\\core\\impl\\alloc_cpu.cpp:81] data. DefaultCPUAllocator: not enough memory: you tried to allocate 33944377600 bytes.\n"
     ]
    }
   ],
   "source": [
    "# Apply the summarization function to each email text and create a new column\n",
    "test_df['summary_1'] = test_df['body'].apply(summarize_email)"
   ]
  },
  {
   "cell_type": "code",
   "execution_count": 47,
   "metadata": {},
   "outputs": [
    {
     "data": {
      "text/html": [
       "<div>\n",
       "<style scoped>\n",
       "    .dataframe tbody tr th:only-of-type {\n",
       "        vertical-align: middle;\n",
       "    }\n",
       "\n",
       "    .dataframe tbody tr th {\n",
       "        vertical-align: top;\n",
       "    }\n",
       "\n",
       "    .dataframe thead th {\n",
       "        text-align: right;\n",
       "    }\n",
       "</style>\n",
       "<table border=\"1\" class=\"dataframe\">\n",
       "  <thead>\n",
       "    <tr style=\"text-align: right;\">\n",
       "      <th></th>\n",
       "      <th>id</th>\n",
       "      <th>from_email</th>\n",
       "      <th>to_email</th>\n",
       "      <th>cc_email</th>\n",
       "      <th>subject</th>\n",
       "      <th>body</th>\n",
       "      <th>date_ist</th>\n",
       "      <th>time_ist</th>\n",
       "      <th>projectid</th>\n",
       "      <th>clean_email</th>\n",
       "      <th>sentiment_blob</th>\n",
       "      <th>blob_label</th>\n",
       "      <th>blob_score</th>\n",
       "      <th>blob_label_test</th>\n",
       "      <th>sentiment_NLTK</th>\n",
       "      <th>nltk_label</th>\n",
       "      <th>nltk_score</th>\n",
       "      <th>nltk_label_test</th>\n",
       "      <th>summary_2</th>\n",
       "    </tr>\n",
       "  </thead>\n",
       "  <tbody>\n",
       "    <tr>\n",
       "      <th>0</th>\n",
       "      <td>6d30273a-6d16-4c9a-b207-31261df388ba</td>\n",
       "      <td>a.cao@forell.com</td>\n",
       "      <td>samiranm@pinnacleinfotech.com</td>\n",
       "      <td>csutradhar@pinnaclecad.com, a.lin@forell.com</td>\n",
       "      <td>RE: 23-044 Drafting</td>\n",
       "      <td>Hi Sam,\\n\\nI've uploaded more markups here:\\nh...</td>\n",
       "      <td>2024-05-16</td>\n",
       "      <td>05:13:05</td>\n",
       "      <td>76461</td>\n",
       "      <td>Hi Sam,\\n\\nI've uploaded more markups here:\\nh...</td>\n",
       "      <td>(0.12369146005509643, 0.43841597796143267)</td>\n",
       "      <td>POSITIVE</td>\n",
       "      <td>0.22</td>\n",
       "      <td>POSITIVE</td>\n",
       "      <td>{'neg': 0.011, 'neu': 0.909, 'pos': 0.08, 'com...</td>\n",
       "      <td>POSITIVE</td>\n",
       "      <td>0.5574</td>\n",
       "      <td>POSITIVE</td>\n",
       "      <td>please complete drafting for 23-043 before mov...</td>\n",
       "    </tr>\n",
       "    <tr>\n",
       "      <th>1</th>\n",
       "      <td>6b7a51f9-201f-43fa-adc2-f23203ee00d5</td>\n",
       "      <td>a.cao@forell.com</td>\n",
       "      <td>samiranm@pinnacleinfotech.com</td>\n",
       "      <td>csutradhar@pinnaclecad.com, a.lin@forell.com</td>\n",
       "      <td>RE: 23-043 Drafting</td>\n",
       "      <td>Sam,\\n\\nI've uploaded more markups here:\\nhttp...</td>\n",
       "      <td>2024-05-18</td>\n",
       "      <td>03:34:35</td>\n",
       "      <td>76461</td>\n",
       "      <td>Sam,\\n\\nI've uploaded more markups here:\\nhttp...</td>\n",
       "      <td>(0.07164435768730253, 0.4860708310094817)</td>\n",
       "      <td>POSITIVE</td>\n",
       "      <td>0.50</td>\n",
       "      <td>POSITIVE</td>\n",
       "      <td>{'neg': 0.018, 'neu': 0.923, 'pos': 0.059, 'co...</td>\n",
       "      <td>NEUTRAL</td>\n",
       "      <td>0.0000</td>\n",
       "      <td>POSITIVE</td>\n",
       "      <td>markups from acs-001.s3.amazonaws.com/Forell+E...</td>\n",
       "    </tr>\n",
       "    <tr>\n",
       "      <th>2</th>\n",
       "      <td>4c74d3e9-230c-4f6b-9e36-3a9986d162d6</td>\n",
       "      <td>a.singh@dmscorp.ca</td>\n",
       "      <td>anupamp@pinnacleinfotech.com, a.elshafi@rmbser...</td>\n",
       "      <td>a.white@rmbservices.ca, c.ferguson@rmbservices...</td>\n",
       "      <td>RE: Exhaust Louver Size - McMaster</td>\n",
       "      <td>Arghya,\\n\\nPlease respond to the discrepancy r...</td>\n",
       "      <td>2024-05-13</td>\n",
       "      <td>21:12:48</td>\n",
       "      <td>76187</td>\n",
       "      <td>Arghya,\\n\\nPlease respond to the discrepancy r...</td>\n",
       "      <td>(0.30833333333333335, 0.38333333333333336)</td>\n",
       "      <td>NEUTRAL</td>\n",
       "      <td>0.00</td>\n",
       "      <td>POSITIVE</td>\n",
       "      <td>{'neg': 0.04, 'neu': 0.893, 'pos': 0.067, 'com...</td>\n",
       "      <td>POSITIVE</td>\n",
       "      <td>0.3182</td>\n",
       "      <td>POSITIVE</td>\n",
       "      <td>arghya, please respond to the discrepancy rais...</td>\n",
       "    </tr>\n",
       "    <tr>\n",
       "      <th>3</th>\n",
       "      <td>af6c2697-de52-4bca-9454-bd9ec04286e8</td>\n",
       "      <td>aaron@constructionchannel.tv</td>\n",
       "      <td>anants@pinnacleinfotech.com</td>\n",
       "      <td>tanveer.singh@jpr.pinnaclecad.com, lsharma@pin...</td>\n",
       "      <td>Re: [EXTERNAL] Re: ABMS Hangar</td>\n",
       "      <td>Per our process, did you update Autodesk Const...</td>\n",
       "      <td>2024-04-24</td>\n",
       "      <td>21:55:04</td>\n",
       "      <td>77901</td>\n",
       "      <td>Per our process, did you update Autodesk Const...</td>\n",
       "      <td>(0.11065465147097799, 0.4195857996878405)</td>\n",
       "      <td>NEUTRAL</td>\n",
       "      <td>0.00</td>\n",
       "      <td>POSITIVE</td>\n",
       "      <td>{'neg': 0.006, 'neu': 0.91, 'pos': 0.084, 'com...</td>\n",
       "      <td>NEUTRAL</td>\n",
       "      <td>0.0000</td>\n",
       "      <td>POSITIVE</td>\n",
       "      <td>did you update autodesk construction cloud too...</td>\n",
       "    </tr>\n",
       "    <tr>\n",
       "      <th>4</th>\n",
       "      <td>33feb1a9-3b8f-4d95-82ee-d5accabc96da</td>\n",
       "      <td>abraham.canlas@gcinc.com</td>\n",
       "      <td>dkataria@pinnacleinfotech.com</td>\n",
       "      <td>miguel.sapao@gcinc.com, sunilk@pinnacleinfotec...</td>\n",
       "      <td>RE: Tristar Vault 3D Model</td>\n",
       "      <td>Hi Deepak,\\r\\nLet me know if you received the ...</td>\n",
       "      <td>2024-04-18</td>\n",
       "      <td>05:43:17</td>\n",
       "      <td>75205</td>\n",
       "      <td>Hi Deepak,\\nLet me know if you received the em...</td>\n",
       "      <td>(0.22407407407407406, 0.5440740740740742)</td>\n",
       "      <td>POSITIVE</td>\n",
       "      <td>0.65</td>\n",
       "      <td>POSITIVE</td>\n",
       "      <td>{'neg': 0.0, 'neu': 0.9, 'pos': 0.1, 'compound...</td>\n",
       "      <td>POSITIVE</td>\n",
       "      <td>0.4576</td>\n",
       "      <td>POSITIVE</td>\n",
       "      <td>Abraham canlas, engineer III, guam - granite c...</td>\n",
       "    </tr>\n",
       "  </tbody>\n",
       "</table>\n",
       "</div>"
      ],
      "text/plain": [
       "                                     id                    from_email  \\\n",
       "0  6d30273a-6d16-4c9a-b207-31261df388ba              a.cao@forell.com   \n",
       "1  6b7a51f9-201f-43fa-adc2-f23203ee00d5              a.cao@forell.com   \n",
       "2  4c74d3e9-230c-4f6b-9e36-3a9986d162d6            a.singh@dmscorp.ca   \n",
       "3  af6c2697-de52-4bca-9454-bd9ec04286e8  aaron@constructionchannel.tv   \n",
       "4  33feb1a9-3b8f-4d95-82ee-d5accabc96da      abraham.canlas@gcinc.com   \n",
       "\n",
       "                                            to_email  \\\n",
       "0                      samiranm@pinnacleinfotech.com   \n",
       "1                      samiranm@pinnacleinfotech.com   \n",
       "2  anupamp@pinnacleinfotech.com, a.elshafi@rmbser...   \n",
       "3                        anants@pinnacleinfotech.com   \n",
       "4                      dkataria@pinnacleinfotech.com   \n",
       "\n",
       "                                            cc_email  \\\n",
       "0       csutradhar@pinnaclecad.com, a.lin@forell.com   \n",
       "1       csutradhar@pinnaclecad.com, a.lin@forell.com   \n",
       "2  a.white@rmbservices.ca, c.ferguson@rmbservices...   \n",
       "3  tanveer.singh@jpr.pinnaclecad.com, lsharma@pin...   \n",
       "4  miguel.sapao@gcinc.com, sunilk@pinnacleinfotec...   \n",
       "\n",
       "                              subject  \\\n",
       "0                 RE: 23-044 Drafting   \n",
       "1                 RE: 23-043 Drafting   \n",
       "2  RE: Exhaust Louver Size - McMaster   \n",
       "3      Re: [EXTERNAL] Re: ABMS Hangar   \n",
       "4          RE: Tristar Vault 3D Model   \n",
       "\n",
       "                                                body    date_ist  time_ist  \\\n",
       "0  Hi Sam,\\n\\nI've uploaded more markups here:\\nh...  2024-05-16  05:13:05   \n",
       "1  Sam,\\n\\nI've uploaded more markups here:\\nhttp...  2024-05-18  03:34:35   \n",
       "2  Arghya,\\n\\nPlease respond to the discrepancy r...  2024-05-13  21:12:48   \n",
       "3  Per our process, did you update Autodesk Const...  2024-04-24  21:55:04   \n",
       "4  Hi Deepak,\\r\\nLet me know if you received the ...  2024-04-18  05:43:17   \n",
       "\n",
       "   projectid                                        clean_email  \\\n",
       "0      76461  Hi Sam,\\n\\nI've uploaded more markups here:\\nh...   \n",
       "1      76461  Sam,\\n\\nI've uploaded more markups here:\\nhttp...   \n",
       "2      76187  Arghya,\\n\\nPlease respond to the discrepancy r...   \n",
       "3      77901  Per our process, did you update Autodesk Const...   \n",
       "4      75205  Hi Deepak,\\nLet me know if you received the em...   \n",
       "\n",
       "                               sentiment_blob blob_label  blob_score  \\\n",
       "0  (0.12369146005509643, 0.43841597796143267)   POSITIVE        0.22   \n",
       "1   (0.07164435768730253, 0.4860708310094817)   POSITIVE        0.50   \n",
       "2  (0.30833333333333335, 0.38333333333333336)    NEUTRAL        0.00   \n",
       "3   (0.11065465147097799, 0.4195857996878405)    NEUTRAL        0.00   \n",
       "4   (0.22407407407407406, 0.5440740740740742)   POSITIVE        0.65   \n",
       "\n",
       "  blob_label_test                                     sentiment_NLTK  \\\n",
       "0        POSITIVE  {'neg': 0.011, 'neu': 0.909, 'pos': 0.08, 'com...   \n",
       "1        POSITIVE  {'neg': 0.018, 'neu': 0.923, 'pos': 0.059, 'co...   \n",
       "2        POSITIVE  {'neg': 0.04, 'neu': 0.893, 'pos': 0.067, 'com...   \n",
       "3        POSITIVE  {'neg': 0.006, 'neu': 0.91, 'pos': 0.084, 'com...   \n",
       "4        POSITIVE  {'neg': 0.0, 'neu': 0.9, 'pos': 0.1, 'compound...   \n",
       "\n",
       "  nltk_label  nltk_score nltk_label_test  \\\n",
       "0   POSITIVE      0.5574        POSITIVE   \n",
       "1    NEUTRAL      0.0000        POSITIVE   \n",
       "2   POSITIVE      0.3182        POSITIVE   \n",
       "3    NEUTRAL      0.0000        POSITIVE   \n",
       "4   POSITIVE      0.4576        POSITIVE   \n",
       "\n",
       "                                           summary_2  \n",
       "0  please complete drafting for 23-043 before mov...  \n",
       "1  markups from acs-001.s3.amazonaws.com/Forell+E...  \n",
       "2  arghya, please respond to the discrepancy rais...  \n",
       "3  did you update autodesk construction cloud too...  \n",
       "4  Abraham canlas, engineer III, guam - granite c...  "
      ]
     },
     "execution_count": 47,
     "metadata": {},
     "output_type": "execute_result"
    }
   ],
   "source": [
    "test_df.head()"
   ]
  },
  {
   "cell_type": "code",
   "execution_count": 41,
   "metadata": {},
   "outputs": [],
   "source": [
    "d = dtale.show(test_df)\n",
    "d.open_browser()"
   ]
  },
  {
   "cell_type": "code",
   "execution_count": 20,
   "metadata": {},
   "outputs": [],
   "source": [
    "# Writing the data \n",
    "df.to_parquet('data/sentiment_data_output_3rdjun.parquet')"
   ]
  },
  {
   "cell_type": "code",
   "execution_count": 21,
   "metadata": {},
   "outputs": [],
   "source": [
    "# Reading the data for validation\n",
    "data = pd.read_parquet('data\\sentiment_data_output_3rdjun.parquet')"
   ]
  },
  {
   "cell_type": "code",
   "execution_count": 146,
   "metadata": {},
   "outputs": [],
   "source": [
    "# data.head(5)"
   ]
  },
  {
   "cell_type": "code",
   "execution_count": 22,
   "metadata": {},
   "outputs": [
    {
     "name": "stderr",
     "output_type": "stream",
     "text": [
      "2024-06-03 21:27:24,175 - INFO     - Executing shutdown due to inactivity...\n",
      "2024-06-03 21:27:28,275 - INFO     - Executing shutdown...\n",
      "2024-06-03 21:27:28,281 - INFO     - Not running with the Werkzeug Server, exiting by searching gc for BaseWSGIServer\n"
     ]
    }
   ],
   "source": [
    "d = dtale.show(data)\n",
    "d.open_browser()"
   ]
  }
 ],
 "metadata": {
  "instance_type": "ml.t3.medium",
  "kernelspec": {
   "display_name": "base",
   "language": "python",
   "name": "python3"
  },
  "language_info": {
   "codemirror_mode": {
    "name": "ipython",
    "version": 3
   },
   "file_extension": ".py",
   "mimetype": "text/x-python",
   "name": "python",
   "nbconvert_exporter": "python",
   "pygments_lexer": "ipython3",
   "version": "3.9.18"
  }
 },
 "nbformat": 4,
 "nbformat_minor": 4
}
