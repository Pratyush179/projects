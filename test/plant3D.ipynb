{
 "cells": [
  {
   "cell_type": "code",
   "execution_count": 93,
   "metadata": {},
   "outputs": [],
   "source": [
    "# importing the required libraries \n",
    "import pandas as pd\n",
    "import numpy as np\n",
    "\n",
    "# Reading a folder/directory\n",
    "import os\n",
    "import glob\n",
    "\n",
    "pd.set_option('display.max_columns', None)"
   ]
  },
  {
   "cell_type": "code",
   "execution_count": 94,
   "metadata": {},
   "outputs": [
    {
     "name": "stdout",
     "output_type": "stream",
     "text": [
      "Found CSV Files:\n",
      "data\\plant3D\\Iso_PnPDrawings_PNP.csv\n",
      "data\\plant3D\\merged_output.csv\n",
      "data\\plant3D\\Ortho_PnPDrawings_PNP.csv\n",
      "data\\plant3D\\Piping_Pipe_PNP.csv\n"
     ]
    }
   ],
   "source": [
    "# Define the directory where your files are located\n",
    "directory = r'data\\plant3D'\n",
    "\n",
    "# Define the pattern to match Excel files with epoch time suffix (e.g., '_<epoch_time>_latest')\n",
    "pattern = '*.csv'\n",
    "\n",
    "# Get a list of CSV files that match the pattern in the directory\n",
    "if os.listdir(directory):\n",
    "    csv_files = glob.glob(os.path.join(directory, pattern))\n",
    "\n",
    "    # Check if any csv files were found\n",
    "    if csv_files:\n",
    "        print(\"Found CSV Files:\")\n",
    "        for item in csv_files:\n",
    "            print(item)\n",
    "    else:\n",
    "        print(\"No CSV files found in the directory\")\n",
    "\n",
    "else:\n",
    "    print(\"Directory is Empty\")\n"
   ]
  },
  {
   "cell_type": "code",
   "execution_count": 95,
   "metadata": {},
   "outputs": [
    {
     "name": "stdout",
     "output_type": "stream",
     "text": [
      "Data in Iso file (42, 28)\n",
      "Data in Ortho file (15, 30)\n",
      "Data in PipingPnP file (6597, 80)\n"
     ]
    }
   ],
   "source": [
    "df_iso = pd.read_csv(csv_files[0], low_memory=False)\n",
    "df_ortho = pd.read_csv(csv_files[2], low_memory=False)\n",
    "df_pipingPnP = pd.read_csv(csv_files[3], low_memory=False)\n",
    "\n",
    "print(f'Data in Iso file {df_iso.shape}')\n",
    "print(f'Data in Ortho file {df_ortho.shape}')\n",
    "print(f'Data in PipingPnP file {df_pipingPnP.shape}')"
   ]
  },
  {
   "cell_type": "markdown",
   "metadata": {},
   "source": [
    "### Variables Calculations"
   ]
  },
  {
   "cell_type": "markdown",
   "metadata": {},
   "source": [
    "#### Piping LF"
   ]
  },
  {
   "cell_type": "code",
   "execution_count": 96,
   "metadata": {},
   "outputs": [],
   "source": [
    "## Estimated\n",
    "\"\"\"\n",
    "This value will directly come from estimation data \n",
    "\"\"\"\n",
    "pipe_lf_estimated = 1500 # Fixed value\n",
    "\n",
    "## Modeled\n",
    "\"\"\"\n",
    "Sum of length from Pipe_Pnp database (Cut Length/304.8) (cut length/length both can be used)\n",
    "\"\"\"\n",
    "pipe_lf_modeled = np.round(np.divide(df_pipingPnP['CutLength'].agg('sum'),304.8),2)"
   ]
  },
  {
   "cell_type": "markdown",
   "metadata": {},
   "source": [
    "#### Line Numbered"
   ]
  },
  {
   "cell_type": "code",
   "execution_count": 97,
   "metadata": {},
   "outputs": [],
   "source": [
    "## Estimated \n",
    "\"\"\"\"\n",
    "Sum of CutLength column from Pipe PnP database \n",
    "\"\"\"\n",
    "line_numbered_estimated = np.round(df_pipingPnP['CutLength'].agg('sum'),2)\n",
    "\n",
    "## Modeled\n",
    "\"\"\" \n",
    "Sum of CutLength from Pipe Pnp database where the LinerNumberTag column does not contain “?”.\n",
    "\"\"\"\n",
    "line_numbered_modeled = np.round(df_pipingPnP[~df_pipingPnP['LineNumberTag'].fillna(\"\").str.contains(\"\\\\?\")]['CutLength'].agg('sum'),2)"
   ]
  },
  {
   "cell_type": "code",
   "execution_count": 98,
   "metadata": {},
   "outputs": [],
   "source": [
    "# df_pipingPnP.CutLength.dtypes"
   ]
  },
  {
   "cell_type": "markdown",
   "metadata": {},
   "source": [
    "#### Spool Maps"
   ]
  },
  {
   "cell_type": "code",
   "execution_count": 99,
   "metadata": {},
   "outputs": [],
   "source": [
    "## Estimated \n",
    "\"\"\"\n",
    "Sum of cut length from Pipe Pnp database divided by 60*308.4\n",
    "\"\"\"\n",
    "spool_maps_estimated = np.round(np.divide(df_pipingPnP['CutLength'].agg('sum'),(60*304.8)),2)\n",
    "\n",
    "## Modeled\n",
    "\"\"\"\n",
    "Logic not clear yet\n",
    "\"\"\"\n",
    "spool_maps_modeled = None"
   ]
  },
  {
   "cell_type": "markdown",
   "metadata": {},
   "source": [
    "#### ISO/Spool"
   ]
  },
  {
   "cell_type": "code",
   "execution_count": 100,
   "metadata": {},
   "outputs": [],
   "source": [
    "## Estimated\n",
    "\"\"\"\n",
    "Unique count of Dwg Name column from ISO database and PnPDrawing_PNP table\n",
    "\"\"\"\n",
    "iso_spool_estimeted = df_iso['Dwg Name'].nunique()\n",
    "\n",
    "## Modeled\n",
    "\"\"\"\n",
    "Sum of cut length from Pnp database where SpoolNumber column is not null\n",
    "\"\"\"\n",
    "iso_spool_modeled = np.round(df_pipingPnP[~df_pipingPnP['SpoolNumber'].isnull()]['CutLength'].agg('sum'),2)"
   ]
  },
  {
   "cell_type": "markdown",
   "metadata": {},
   "source": [
    "#### Ortho"
   ]
  },
  {
   "cell_type": "code",
   "execution_count": 101,
   "metadata": {},
   "outputs": [],
   "source": [
    "## Estimated\n",
    "\"\"\"\n",
    "Directly from Estimation data\n",
    "\"\"\"\n",
    "ortho_count_estimated = None\n",
    "\n",
    "## Modeled\n",
    "\"\"\"\n",
    "Unique count of Dwg Name column from Ortho database and PnPDrawing_PNP table\n",
    "\"\"\"\n",
    "ortho_count_modeled = df_ortho['Dwg Name'].nunique()"
   ]
  },
  {
   "cell_type": "markdown",
   "metadata": {},
   "source": [
    "### Creating a DataFrame to hold these values"
   ]
  },
  {
   "cell_type": "code",
   "execution_count": 102,
   "metadata": {},
   "outputs": [],
   "source": [
    "data = {\n",
    "    'Category' : ['Pipe LF', 'Line Numbered', 'Spool Maps', 'Iso/Spool', 'Ortho'],\n",
    "    'Estimated' : [pipe_lf_estimated, line_numbered_estimated, spool_maps_estimated, iso_spool_estimeted, ortho_count_estimated],\n",
    "    'Modeled' : [pipe_lf_modeled, line_numbered_modeled, spool_maps_modeled, iso_spool_modeled, ortho_count_modeled]\n",
    "}"
   ]
  },
  {
   "cell_type": "code",
   "execution_count": 103,
   "metadata": {},
   "outputs": [
    {
     "data": {
      "text/html": [
       "<div>\n",
       "<style scoped>\n",
       "    .dataframe tbody tr th:only-of-type {\n",
       "        vertical-align: middle;\n",
       "    }\n",
       "\n",
       "    .dataframe tbody tr th {\n",
       "        vertical-align: top;\n",
       "    }\n",
       "\n",
       "    .dataframe thead th {\n",
       "        text-align: right;\n",
       "    }\n",
       "</style>\n",
       "<table border=\"1\" class=\"dataframe\">\n",
       "  <thead>\n",
       "    <tr style=\"text-align: right;\">\n",
       "      <th></th>\n",
       "      <th>Category</th>\n",
       "      <th>Estimated</th>\n",
       "      <th>Modeled</th>\n",
       "    </tr>\n",
       "  </thead>\n",
       "  <tbody>\n",
       "    <tr>\n",
       "      <th>0</th>\n",
       "      <td>Pipe LF</td>\n",
       "      <td>1500.00</td>\n",
       "      <td>1242.99</td>\n",
       "    </tr>\n",
       "    <tr>\n",
       "      <th>1</th>\n",
       "      <td>Line Numbered</td>\n",
       "      <td>378863.47</td>\n",
       "      <td>364297.98</td>\n",
       "    </tr>\n",
       "    <tr>\n",
       "      <th>2</th>\n",
       "      <td>Spool Maps</td>\n",
       "      <td>20.72</td>\n",
       "      <td>NaN</td>\n",
       "    </tr>\n",
       "    <tr>\n",
       "      <th>3</th>\n",
       "      <td>Iso/Spool</td>\n",
       "      <td>42.00</td>\n",
       "      <td>248642.76</td>\n",
       "    </tr>\n",
       "    <tr>\n",
       "      <th>4</th>\n",
       "      <td>Ortho</td>\n",
       "      <td>NaN</td>\n",
       "      <td>15.00</td>\n",
       "    </tr>\n",
       "  </tbody>\n",
       "</table>\n",
       "</div>"
      ],
      "text/plain": [
       "        Category  Estimated    Modeled\n",
       "0        Pipe LF    1500.00    1242.99\n",
       "1  Line Numbered  378863.47  364297.98\n",
       "2     Spool Maps      20.72        NaN\n",
       "3      Iso/Spool      42.00  248642.76\n",
       "4          Ortho        NaN      15.00"
      ]
     },
     "execution_count": 103,
     "metadata": {},
     "output_type": "execute_result"
    }
   ],
   "source": [
    "final_df = pd.DataFrame(data)\n",
    "final_df"
   ]
  },
  {
   "cell_type": "code",
   "execution_count": null,
   "metadata": {},
   "outputs": [],
   "source": []
  },
  {
   "cell_type": "code",
   "execution_count": null,
   "metadata": {},
   "outputs": [],
   "source": []
  },
  {
   "cell_type": "code",
   "execution_count": null,
   "metadata": {},
   "outputs": [],
   "source": []
  },
  {
   "cell_type": "code",
   "execution_count": null,
   "metadata": {},
   "outputs": [],
   "source": []
  }
 ],
 "metadata": {
  "kernelspec": {
   "display_name": "Python 3",
   "language": "python",
   "name": "python3"
  },
  "language_info": {
   "codemirror_mode": {
    "name": "ipython",
    "version": 3
   },
   "file_extension": ".py",
   "mimetype": "text/x-python",
   "name": "python",
   "nbconvert_exporter": "python",
   "pygments_lexer": "ipython3",
   "version": "3.10.13"
  },
  "orig_nbformat": 4
 },
 "nbformat": 4,
 "nbformat_minor": 2
}
