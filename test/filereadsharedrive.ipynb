{
 "cells": [
  {
   "cell_type": "code",
   "execution_count": 2,
   "metadata": {},
   "outputs": [],
   "source": [
    "import os\n",
    "import sys"
   ]
  },
  {
   "cell_type": "code",
   "execution_count": 15,
   "metadata": {},
   "outputs": [
    {
     "name": "stdout",
     "output_type": "stream",
     "text": [
      "C:\\Suraj\\projects\\test\n"
     ]
    }
   ],
   "source": [
    "path = r'C:\\Suraj\\projects\\test\\01-sagemaker_feature_store.ipynb'\n",
    "print(os.path.dirname(path))"
   ]
  },
  {
   "cell_type": "code",
   "execution_count": 17,
   "metadata": {},
   "outputs": [
    {
     "data": {
      "text/plain": [
       "'C:\\\\Suraj\\\\projects\\\\test/../../'"
      ]
     },
     "execution_count": 17,
     "metadata": {},
     "output_type": "execute_result"
    }
   ],
   "source": [
    "os.path.dirname(os.path.realpath(path)) + \"/../../\""
   ]
  },
  {
   "cell_type": "code",
   "execution_count": 19,
   "metadata": {},
   "outputs": [
    {
     "name": "stdout",
     "output_type": "stream",
     "text": [
      "C:\\Suraj\\projects\\test\n",
      "C:\\Suraj\\projects\\test\\..\\..\n"
     ]
    }
   ],
   "source": [
    "parent_dir = os.path.dirname(os.path.realpath(path))\n",
    "two_levels_up = os.path.join(parent_dir, '..', '..')\n",
    "print(parent_dir)\n",
    "print(two_levels_up)"
   ]
  },
  {
   "cell_type": "code",
   "execution_count": 12,
   "metadata": {},
   "outputs": [
    {
     "data": {
      "text/plain": [
       "'C:\\\\Suraj\\\\projects\\\\test\\\\test_file.txt'"
      ]
     },
     "execution_count": 12,
     "metadata": {},
     "output_type": "execute_result"
    }
   ],
   "source": [
    "os.path.join(os.path.dirname(path), 'test_file.txt')"
   ]
  },
  {
   "cell_type": "code",
   "execution_count": 13,
   "metadata": {},
   "outputs": [
    {
     "data": {
      "text/plain": [
       "('C:\\\\Suraj\\\\projects\\\\test', '01-sagemaker_feature_store.ipynb')"
      ]
     },
     "execution_count": 13,
     "metadata": {},
     "output_type": "execute_result"
    }
   ],
   "source": [
    "os.path.split(path)"
   ]
  },
  {
   "cell_type": "code",
   "execution_count": 14,
   "metadata": {},
   "outputs": [
    {
     "data": {
      "text/plain": [
       "'C:\\\\Users\\\\pis05408.PINNACLE'"
      ]
     },
     "execution_count": 14,
     "metadata": {},
     "output_type": "execute_result"
    }
   ],
   "source": [
    "os.path.expanduser(\"~\")"
   ]
  },
  {
   "cell_type": "code",
   "execution_count": null,
   "metadata": {},
   "outputs": [],
   "source": [
    "from pdf2image import convert_from_path\n",
    "\n",
    "# Defing the file path\n",
    "file_path = r'data\\sample.pdf'\n",
    "\n",
    "# Function to convert pdf to image\n",
    "def pdf_to_images(pdf_path):\n",
    "    return convert_from_path(pdf_path)\n",
    "\n",
    "# Calling the function to convert PDF to image\n",
    "images = pdf_to_images(file_path)"
   ]
  },
  {
   "cell_type": "code",
   "execution_count": 5,
   "metadata": {},
   "outputs": [
    {
     "data": {
      "text/plain": [
       "['config.ini']"
      ]
     },
     "execution_count": 5,
     "metadata": {},
     "output_type": "execute_result"
    }
   ],
   "source": [
    "import configparser\n",
    "\n",
    "# Create a ConfigParser object\n",
    "config = configparser.ConfigParser()\n",
    "\n",
    "# Read the configuration from the INI file\n",
    "config.read('config.ini')"
   ]
  },
  {
   "cell_type": "code",
   "execution_count": 8,
   "metadata": {},
   "outputs": [
    {
     "data": {
      "text/plain": [
       "['c9f233c6-8522-49a3-a305-68f572f22742',\n",
       " 'a7f0448d-f858-4785-b3a9-68b784b917e6',\n",
       " '1c7d17cf-7d70-444e-8808-d49bd8e69f44',\n",
       " 'ea2265b1-f7fd-46e8-815a-65bdf1a052b3',\n",
       " 'b42f6c31-84c7-4ce9-9672-2b96548ae3f5',\n",
       " 'a350a3f1-ee94-4770-ac69-b0153d771157',\n",
       " 'a1a109ae-696b-497b-9269-263ce7505d06']"
      ]
     },
     "execution_count": 8,
     "metadata": {},
     "output_type": "execute_result"
    }
   ],
   "source": [
    "eval(config['plugin']['plugin_list'])"
   ]
  },
  {
   "cell_type": "markdown",
   "metadata": {},
   "source": [
    "#### Reading latest file using timestamp from a shared drive"
   ]
  },
  {
   "cell_type": "code",
   "execution_count": 24,
   "metadata": {},
   "outputs": [],
   "source": [
    "import os\n",
    "import glob\n",
    "# import openpyxl\n",
    "import pandas as pd"
   ]
  },
  {
   "cell_type": "code",
   "execution_count": 22,
   "metadata": {},
   "outputs": [],
   "source": [
    "# Define the directory where your files are located\n",
    "directory = r'C:\\Users\\pis05408.PINNACLE\\Desktop\\Suraj\\RnD\\datadump'\n",
    "\n",
    "# Define the pattern to match Excel files with epoch time suffix (e.g., '_<epoch_time>_latest')\n",
    "pattern = 'sf_object_appflow_contact_*_latest.xlsx'\n",
    "\n",
    "# Get a list of Excel files that match the pattern in the directory\n",
    "excel_files = glob.glob(os.path.join(directory, pattern))"
   ]
  },
  {
   "cell_type": "code",
   "execution_count": 26,
   "metadata": {},
   "outputs": [
    {
     "name": "stdout",
     "output_type": "stream",
     "text": [
      "Latest Excel file: C:\\Users\\pis05408.PINNACLE\\Desktop\\Suraj\\RnD\\datadump\\sf_object_appflow_contact_1689775460_latest.xlsx\n"
     ]
    }
   ],
   "source": [
    "# Check if there are any matching Excel files\n",
    "if not excel_files:\n",
    "    print(\"No matching Excel files found in the directory.\")\n",
    "else:\n",
    "    # Extract and sort the Excel files based on their epoch time suffixes\n",
    "    sorted_excel_files = sorted(excel_files, key=lambda x: int(x.split('_')[-2]), reverse=True)\n",
    "    \n",
    "    if sorted_excel_files:\n",
    "        # Get the latest Excel file (first in the sorted list)\n",
    "        latest_excel_file = sorted_excel_files[0]\n",
    "        \n",
    "        # Read the Excel file into a DataFrame using pandas\n",
    "        df = pd.read_excel(latest_excel_file)\n",
    "        \n",
    "        # # Now, you can work with the DataFrame 'df' as needed\n",
    "        # print(\"DataFrame created from the latest Excel file:\")\n",
    "        # print(df)\n",
    "        \n",
    "        # Print the latest Excel file's name\n",
    "        print(\"Latest Excel file:\", latest_excel_file)\n",
    "    else:\n",
    "        print(\"No Excel files with valid epoch time suffix found in the directory.\")"
   ]
  },
  {
   "cell_type": "code",
   "execution_count": 27,
   "metadata": {},
   "outputs": [
    {
     "data": {
      "text/html": [
       "<div>\n",
       "<style scoped>\n",
       "    .dataframe tbody tr th:only-of-type {\n",
       "        vertical-align: middle;\n",
       "    }\n",
       "\n",
       "    .dataframe tbody tr th {\n",
       "        vertical-align: top;\n",
       "    }\n",
       "\n",
       "    .dataframe thead th {\n",
       "        text-align: right;\n",
       "    }\n",
       "</style>\n",
       "<table border=\"1\" class=\"dataframe\">\n",
       "  <thead>\n",
       "    <tr style=\"text-align: right;\">\n",
       "      <th></th>\n",
       "      <th>id</th>\n",
       "      <th>isdeleted</th>\n",
       "      <th>masterrecordid</th>\n",
       "      <th>accountid</th>\n",
       "      <th>lastname</th>\n",
       "      <th>firstname</th>\n",
       "      <th>salutation</th>\n",
       "      <th>name</th>\n",
       "      <th>otherstreet</th>\n",
       "      <th>othercity</th>\n",
       "      <th>...</th>\n",
       "      <th>rcsfl__sendsms__c</th>\n",
       "      <th>call_response__c</th>\n",
       "      <th>dialpad__powerdialer_assigned_list__c</th>\n",
       "      <th>dialpad__powerdialer_dialed_list__c</th>\n",
       "      <th>dialpad__powerdialer_last_dialed_via__c</th>\n",
       "      <th>dialpad__totalnumberoftimesdialed__c</th>\n",
       "      <th>status_for_bim_sumit_2023__c</th>\n",
       "      <th>tracking_1__c</th>\n",
       "      <th>dialpad__iscreatedfromdialpad__c</th>\n",
       "      <th>dialpad__timezone__c</th>\n",
       "    </tr>\n",
       "  </thead>\n",
       "  <tbody>\n",
       "    <tr>\n",
       "      <th>0</th>\n",
       "      <td>0032T00002q7kNHQAY</td>\n",
       "      <td>False</td>\n",
       "      <td>NaN</td>\n",
       "      <td>0012T00001uTUJUQA4</td>\n",
       "      <td>Tng</td>\n",
       "      <td>Bida</td>\n",
       "      <td>NaN</td>\n",
       "      <td>Bida Tng</td>\n",
       "      <td>NaN</td>\n",
       "      <td>NaN</td>\n",
       "      <td>...</td>\n",
       "      <td>&lt;a href=\"javascript:alert(&amp;quot;JavaScript is ...</td>\n",
       "      <td>False</td>\n",
       "      <td>NaN</td>\n",
       "      <td>NaN</td>\n",
       "      <td>NaN</td>\n",
       "      <td>NaN</td>\n",
       "      <td>NaN</td>\n",
       "      <td>NaN</td>\n",
       "      <td>False</td>\n",
       "      <td>NaN</td>\n",
       "    </tr>\n",
       "    <tr>\n",
       "      <th>1</th>\n",
       "      <td>0032T00002kmap9QAA</td>\n",
       "      <td>False</td>\n",
       "      <td>NaN</td>\n",
       "      <td>0012T00001uTUJUQA4</td>\n",
       "      <td>Chong</td>\n",
       "      <td>Alex</td>\n",
       "      <td>NaN</td>\n",
       "      <td>Alex Chong</td>\n",
       "      <td>NaN</td>\n",
       "      <td>NaN</td>\n",
       "      <td>...</td>\n",
       "      <td>&lt;a href=\"javascript:alert(&amp;quot;JavaScript is ...</td>\n",
       "      <td>False</td>\n",
       "      <td>NaN</td>\n",
       "      <td>NaN</td>\n",
       "      <td>NaN</td>\n",
       "      <td>NaN</td>\n",
       "      <td>NaN</td>\n",
       "      <td>NaN</td>\n",
       "      <td>False</td>\n",
       "      <td>NaN</td>\n",
       "    </tr>\n",
       "    <tr>\n",
       "      <th>2</th>\n",
       "      <td>0032T00002knZ7vQAE</td>\n",
       "      <td>False</td>\n",
       "      <td>NaN</td>\n",
       "      <td>0012T00001uTUJUQA4</td>\n",
       "      <td>Yong</td>\n",
       "      <td>Chong Tse</td>\n",
       "      <td>NaN</td>\n",
       "      <td>Chong Tse Yong</td>\n",
       "      <td>NaN</td>\n",
       "      <td>NaN</td>\n",
       "      <td>...</td>\n",
       "      <td>&lt;a href=\"javascript:alert(&amp;quot;JavaScript is ...</td>\n",
       "      <td>False</td>\n",
       "      <td>NaN</td>\n",
       "      <td>NaN</td>\n",
       "      <td>NaN</td>\n",
       "      <td>NaN</td>\n",
       "      <td>NaN</td>\n",
       "      <td>NaN</td>\n",
       "      <td>False</td>\n",
       "      <td>NaN</td>\n",
       "    </tr>\n",
       "    <tr>\n",
       "      <th>3</th>\n",
       "      <td>00334000022II0ZAAW</td>\n",
       "      <td>False</td>\n",
       "      <td>NaN</td>\n",
       "      <td>0013400001SzSQIAA3</td>\n",
       "      <td>Jackson</td>\n",
       "      <td>Julie</td>\n",
       "      <td>Ms.</td>\n",
       "      <td>Julie Jackson</td>\n",
       "      <td>NaN</td>\n",
       "      <td>NaN</td>\n",
       "      <td>...</td>\n",
       "      <td>&lt;a href=\"javascript:alert(&amp;quot;JavaScript is ...</td>\n",
       "      <td>False</td>\n",
       "      <td>NaN</td>\n",
       "      <td>NaN</td>\n",
       "      <td>NaN</td>\n",
       "      <td>NaN</td>\n",
       "      <td>NaN</td>\n",
       "      <td>NaN</td>\n",
       "      <td>False</td>\n",
       "      <td>NaN</td>\n",
       "    </tr>\n",
       "    <tr>\n",
       "      <th>4</th>\n",
       "      <td>0032T00002gzgTUQAY</td>\n",
       "      <td>False</td>\n",
       "      <td>NaN</td>\n",
       "      <td>0012T00001uQHTCQA4</td>\n",
       "      <td>Erwin</td>\n",
       "      <td>William</td>\n",
       "      <td>Mr.</td>\n",
       "      <td>William Erwin</td>\n",
       "      <td>NaN</td>\n",
       "      <td>NaN</td>\n",
       "      <td>...</td>\n",
       "      <td>&lt;a href=\"javascript:alert(&amp;quot;JavaScript is ...</td>\n",
       "      <td>False</td>\n",
       "      <td>NaN</td>\n",
       "      <td>NaN</td>\n",
       "      <td>NaN</td>\n",
       "      <td>NaN</td>\n",
       "      <td>NaN</td>\n",
       "      <td>NaN</td>\n",
       "      <td>False</td>\n",
       "      <td>NaN</td>\n",
       "    </tr>\n",
       "  </tbody>\n",
       "</table>\n",
       "<p>5 rows × 146 columns</p>\n",
       "</div>"
      ],
      "text/plain": [
       "                   id  isdeleted  masterrecordid           accountid lastname  \\\n",
       "0  0032T00002q7kNHQAY      False             NaN  0012T00001uTUJUQA4      Tng   \n",
       "1  0032T00002kmap9QAA      False             NaN  0012T00001uTUJUQA4    Chong   \n",
       "2  0032T00002knZ7vQAE      False             NaN  0012T00001uTUJUQA4     Yong   \n",
       "3  00334000022II0ZAAW      False             NaN  0013400001SzSQIAA3  Jackson   \n",
       "4  0032T00002gzgTUQAY      False             NaN  0012T00001uQHTCQA4    Erwin   \n",
       "\n",
       "   firstname salutation            name  otherstreet  othercity  ...  \\\n",
       "0       Bida        NaN        Bida Tng          NaN        NaN  ...   \n",
       "1       Alex        NaN      Alex Chong          NaN        NaN  ...   \n",
       "2  Chong Tse        NaN  Chong Tse Yong          NaN        NaN  ...   \n",
       "3      Julie        Ms.   Julie Jackson          NaN        NaN  ...   \n",
       "4    William        Mr.   William Erwin          NaN        NaN  ...   \n",
       "\n",
       "                                   rcsfl__sendsms__c  call_response__c  \\\n",
       "0  <a href=\"javascript:alert(&quot;JavaScript is ...             False   \n",
       "1  <a href=\"javascript:alert(&quot;JavaScript is ...             False   \n",
       "2  <a href=\"javascript:alert(&quot;JavaScript is ...             False   \n",
       "3  <a href=\"javascript:alert(&quot;JavaScript is ...             False   \n",
       "4  <a href=\"javascript:alert(&quot;JavaScript is ...             False   \n",
       "\n",
       "   dialpad__powerdialer_assigned_list__c  dialpad__powerdialer_dialed_list__c  \\\n",
       "0                                    NaN                                  NaN   \n",
       "1                                    NaN                                  NaN   \n",
       "2                                    NaN                                  NaN   \n",
       "3                                    NaN                                  NaN   \n",
       "4                                    NaN                                  NaN   \n",
       "\n",
       "   dialpad__powerdialer_last_dialed_via__c  \\\n",
       "0                                      NaN   \n",
       "1                                      NaN   \n",
       "2                                      NaN   \n",
       "3                                      NaN   \n",
       "4                                      NaN   \n",
       "\n",
       "   dialpad__totalnumberoftimesdialed__c  status_for_bim_sumit_2023__c  \\\n",
       "0                                   NaN                           NaN   \n",
       "1                                   NaN                           NaN   \n",
       "2                                   NaN                           NaN   \n",
       "3                                   NaN                           NaN   \n",
       "4                                   NaN                           NaN   \n",
       "\n",
       "  tracking_1__c dialpad__iscreatedfromdialpad__c dialpad__timezone__c  \n",
       "0           NaN                            False                  NaN  \n",
       "1           NaN                            False                  NaN  \n",
       "2           NaN                            False                  NaN  \n",
       "3           NaN                            False                  NaN  \n",
       "4           NaN                            False                  NaN  \n",
       "\n",
       "[5 rows x 146 columns]"
      ]
     },
     "execution_count": 27,
     "metadata": {},
     "output_type": "execute_result"
    }
   ],
   "source": [
    "df.head()"
   ]
  },
  {
   "cell_type": "code",
   "execution_count": null,
   "metadata": {},
   "outputs": [],
   "source": []
  }
 ],
 "metadata": {
  "instance_type": "ml.t3.medium",
  "kernelspec": {
   "display_name": "base",
   "language": "python",
   "name": "python3"
  },
  "language_info": {
   "codemirror_mode": {
    "name": "ipython",
    "version": 3
   },
   "file_extension": ".py",
   "mimetype": "text/x-python",
   "name": "python",
   "nbconvert_exporter": "python",
   "pygments_lexer": "ipython3",
   "version": "3.10.12"
  }
 },
 "nbformat": 4,
 "nbformat_minor": 4
}
