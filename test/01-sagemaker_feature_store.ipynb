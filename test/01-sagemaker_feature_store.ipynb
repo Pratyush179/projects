{
 "cells": [
  {
   "cell_type": "markdown",
   "metadata": {},
   "source": [
    "This notebook is developed using the `Python 3 (Data Science)` kernel on an `ml.t3.medium` instance.\n",
    "## Use case\n",
    "Auto-mpg data contains data of each car by years. With SM Feature Store, we can easily manage the features over years for each car. There are 56 cars that have records more than 1 year. We will create a feature store for the auto data, ingest the data of their first appearance, then update the feature store with new records by years. After the data is ingested, we show how to access data for training and inference purposes. And how to traverse over time to get feature point-in-time."
   ]
  },
  {
   "cell_type": "code",
   "execution_count": 4,
   "metadata": {},
   "outputs": [],
   "source": [
    "# import sagemaker\n",
    "import sys\n",
    "\n",
    "import boto3\n",
    "import pandas as pd\n",
    "import numpy as np\n",
    "import io\n",
    "import time\n",
    "from time import gmtime, strftime, sleep\n",
    "import datetime\n",
    "\n",
    "# role = sagemaker.get_execution_role()\n",
    "# sess = sagemaker.Session()\n",
    "# region = sess.boto_region_name\n",
    "# bucket = sess.default_bucket()\n",
    "prefix = 'sagemaker-studio-book/chapter04'"
   ]
  },
  {
   "cell_type": "markdown",
   "metadata": {},
   "source": [
    "Importing data from UCI"
   ]
  },
  {
   "cell_type": "code",
   "execution_count": 5,
   "metadata": {},
   "outputs": [],
   "source": [
    "data_url='https://archive.ics.uci.edu/ml/machine-learning-databases/auto-mpg/auto-mpg.data'\n",
    "col_names=['mpg','cylinders', 'displacement', 'horsepower', 'weight', \n",
    "           'acceleration', 'model_year', 'origin', 'car_name']\n",
    "\n",
    "df=pd.read_csv(data_url, delimiter='\\s+', header=None, names=col_names, na_values='?')"
   ]
  },
  {
   "cell_type": "code",
   "execution_count": 6,
   "metadata": {},
   "outputs": [
    {
     "data": {
      "text/html": [
       "<div>\n",
       "<style scoped>\n",
       "    .dataframe tbody tr th:only-of-type {\n",
       "        vertical-align: middle;\n",
       "    }\n",
       "\n",
       "    .dataframe tbody tr th {\n",
       "        vertical-align: top;\n",
       "    }\n",
       "\n",
       "    .dataframe thead th {\n",
       "        text-align: right;\n",
       "    }\n",
       "</style>\n",
       "<table border=\"1\" class=\"dataframe\">\n",
       "  <thead>\n",
       "    <tr style=\"text-align: right;\">\n",
       "      <th></th>\n",
       "      <th>mpg</th>\n",
       "      <th>cylinders</th>\n",
       "      <th>displacement</th>\n",
       "      <th>horsepower</th>\n",
       "      <th>weight</th>\n",
       "      <th>acceleration</th>\n",
       "      <th>model_year</th>\n",
       "      <th>origin</th>\n",
       "      <th>car_name</th>\n",
       "    </tr>\n",
       "  </thead>\n",
       "  <tbody>\n",
       "    <tr>\n",
       "      <th>96</th>\n",
       "      <td>13.0</td>\n",
       "      <td>8</td>\n",
       "      <td>360.0</td>\n",
       "      <td>175.0</td>\n",
       "      <td>3821.0</td>\n",
       "      <td>11.0</td>\n",
       "      <td>73</td>\n",
       "      <td>1</td>\n",
       "      <td>amc ambassador brougham</td>\n",
       "    </tr>\n",
       "    <tr>\n",
       "      <th>9</th>\n",
       "      <td>15.0</td>\n",
       "      <td>8</td>\n",
       "      <td>390.0</td>\n",
       "      <td>190.0</td>\n",
       "      <td>3850.0</td>\n",
       "      <td>8.5</td>\n",
       "      <td>70</td>\n",
       "      <td>1</td>\n",
       "      <td>amc ambassador dpl</td>\n",
       "    </tr>\n",
       "    <tr>\n",
       "      <th>66</th>\n",
       "      <td>17.0</td>\n",
       "      <td>8</td>\n",
       "      <td>304.0</td>\n",
       "      <td>150.0</td>\n",
       "      <td>3672.0</td>\n",
       "      <td>11.5</td>\n",
       "      <td>72</td>\n",
       "      <td>1</td>\n",
       "      <td>amc ambassador sst</td>\n",
       "    </tr>\n",
       "    <tr>\n",
       "      <th>257</th>\n",
       "      <td>19.4</td>\n",
       "      <td>6</td>\n",
       "      <td>232.0</td>\n",
       "      <td>90.0</td>\n",
       "      <td>3210.0</td>\n",
       "      <td>17.2</td>\n",
       "      <td>78</td>\n",
       "      <td>1</td>\n",
       "      <td>amc concord</td>\n",
       "    </tr>\n",
       "    <tr>\n",
       "      <th>315</th>\n",
       "      <td>24.3</td>\n",
       "      <td>4</td>\n",
       "      <td>151.0</td>\n",
       "      <td>90.0</td>\n",
       "      <td>3003.0</td>\n",
       "      <td>20.1</td>\n",
       "      <td>80</td>\n",
       "      <td>1</td>\n",
       "      <td>amc concord</td>\n",
       "    </tr>\n",
       "    <tr>\n",
       "      <th>...</th>\n",
       "      <td>...</td>\n",
       "      <td>...</td>\n",
       "      <td>...</td>\n",
       "      <td>...</td>\n",
       "      <td>...</td>\n",
       "      <td>...</td>\n",
       "      <td>...</td>\n",
       "      <td>...</td>\n",
       "      <td>...</td>\n",
       "    </tr>\n",
       "    <tr>\n",
       "      <th>394</th>\n",
       "      <td>44.0</td>\n",
       "      <td>4</td>\n",
       "      <td>97.0</td>\n",
       "      <td>52.0</td>\n",
       "      <td>2130.0</td>\n",
       "      <td>24.6</td>\n",
       "      <td>82</td>\n",
       "      <td>2</td>\n",
       "      <td>vw pickup</td>\n",
       "    </tr>\n",
       "    <tr>\n",
       "      <th>197</th>\n",
       "      <td>29.0</td>\n",
       "      <td>4</td>\n",
       "      <td>90.0</td>\n",
       "      <td>70.0</td>\n",
       "      <td>1937.0</td>\n",
       "      <td>14.2</td>\n",
       "      <td>76</td>\n",
       "      <td>2</td>\n",
       "      <td>vw rabbit</td>\n",
       "    </tr>\n",
       "    <tr>\n",
       "      <th>309</th>\n",
       "      <td>41.5</td>\n",
       "      <td>4</td>\n",
       "      <td>98.0</td>\n",
       "      <td>76.0</td>\n",
       "      <td>2144.0</td>\n",
       "      <td>14.7</td>\n",
       "      <td>80</td>\n",
       "      <td>2</td>\n",
       "      <td>vw rabbit</td>\n",
       "    </tr>\n",
       "    <tr>\n",
       "      <th>325</th>\n",
       "      <td>44.3</td>\n",
       "      <td>4</td>\n",
       "      <td>90.0</td>\n",
       "      <td>48.0</td>\n",
       "      <td>2085.0</td>\n",
       "      <td>21.7</td>\n",
       "      <td>80</td>\n",
       "      <td>2</td>\n",
       "      <td>vw rabbit c (diesel)</td>\n",
       "    </tr>\n",
       "    <tr>\n",
       "      <th>293</th>\n",
       "      <td>31.9</td>\n",
       "      <td>4</td>\n",
       "      <td>89.0</td>\n",
       "      <td>71.0</td>\n",
       "      <td>1925.0</td>\n",
       "      <td>14.0</td>\n",
       "      <td>79</td>\n",
       "      <td>2</td>\n",
       "      <td>vw rabbit custom</td>\n",
       "    </tr>\n",
       "  </tbody>\n",
       "</table>\n",
       "<p>398 rows × 9 columns</p>\n",
       "</div>"
      ],
      "text/plain": [
       "      mpg  cylinders  displacement  horsepower  weight  acceleration  \\\n",
       "96   13.0          8         360.0       175.0  3821.0          11.0   \n",
       "9    15.0          8         390.0       190.0  3850.0           8.5   \n",
       "66   17.0          8         304.0       150.0  3672.0          11.5   \n",
       "257  19.4          6         232.0        90.0  3210.0          17.2   \n",
       "315  24.3          4         151.0        90.0  3003.0          20.1   \n",
       "..    ...        ...           ...         ...     ...           ...   \n",
       "394  44.0          4          97.0        52.0  2130.0          24.6   \n",
       "197  29.0          4          90.0        70.0  1937.0          14.2   \n",
       "309  41.5          4          98.0        76.0  2144.0          14.7   \n",
       "325  44.3          4          90.0        48.0  2085.0          21.7   \n",
       "293  31.9          4          89.0        71.0  1925.0          14.0   \n",
       "\n",
       "     model_year  origin                 car_name  \n",
       "96           73       1  amc ambassador brougham  \n",
       "9            70       1       amc ambassador dpl  \n",
       "66           72       1       amc ambassador sst  \n",
       "257          78       1              amc concord  \n",
       "315          80       1              amc concord  \n",
       "..          ...     ...                      ...  \n",
       "394          82       2                vw pickup  \n",
       "197          76       2                vw rabbit  \n",
       "309          80       2                vw rabbit  \n",
       "325          80       2     vw rabbit c (diesel)  \n",
       "293          79       2         vw rabbit custom  \n",
       "\n",
       "[398 rows x 9 columns]"
      ]
     },
     "execution_count": 6,
     "metadata": {},
     "output_type": "execute_result"
    }
   ],
   "source": [
    "df.sort_values(by=['car_name', 'model_year'])"
   ]
  },
  {
   "cell_type": "code",
   "execution_count": 7,
   "metadata": {},
   "outputs": [],
   "source": [
    "df['car_name']=df['car_name'].astype('string')"
   ]
  },
  {
   "cell_type": "code",
   "execution_count": 8,
   "metadata": {},
   "outputs": [
    {
     "name": "stdout",
     "output_type": "stream",
     "text": [
      "70\n"
     ]
    },
    {
     "ename": "OSError",
     "evalue": "[Errno 22] Invalid argument",
     "output_type": "error",
     "traceback": [
      "\u001b[1;31m---------------------------------------------------------------------------\u001b[0m",
      "\u001b[1;31mOSError\u001b[0m                                   Traceback (most recent call last)",
      "Cell \u001b[1;32mIn[8], line 6\u001b[0m\n\u001b[0;32m      4\u001b[0m \u001b[39mprint\u001b[39m(yr)\n\u001b[0;32m      5\u001b[0m d_df[\u001b[39mstr\u001b[39m(yr)]\u001b[39m=\u001b[39mdf[df[\u001b[39m'\u001b[39m\u001b[39mmodel_year\u001b[39m\u001b[39m'\u001b[39m]\u001b[39m==\u001b[39myr]\n\u001b[1;32m----> 6\u001b[0m d_df[\u001b[39mstr\u001b[39m(yr)][\u001b[39m'\u001b[39m\u001b[39mevent_time\u001b[39m\u001b[39m'\u001b[39m]\u001b[39m=\u001b[39mdatetime\u001b[39m.\u001b[39mdatetime(\u001b[39m1900\u001b[39m\u001b[39m+\u001b[39myr, \u001b[39m1\u001b[39m, \u001b[39m1\u001b[39m, \u001b[39m8\u001b[39m, \u001b[39m0\u001b[39m, \u001b[39m0\u001b[39m)\u001b[39m.\u001b[39mtimestamp()\n",
      "\u001b[1;31mOSError\u001b[0m: [Errno 22] Invalid argument"
     ]
    }
   ],
   "source": [
    "# data frames by years\n",
    "d_df = {}\n",
    "for yr in df['model_year'].unique():\n",
    "    print(yr)\n",
    "    d_df[str(yr)]=df[df['model_year']==yr]\n",
    "    d_df[str(yr)]['event_time']=datetime.datetime(1900+yr, 1, 1, 8, 0, 0).timestamp()\n",
    "#     print(d_df[str(yr)].shape)"
   ]
  },
  {
   "cell_type": "code",
   "execution_count": 21,
   "metadata": {},
   "outputs": [],
   "source": [
    "# d_df['70'].head()"
   ]
  },
  {
   "cell_type": "code",
   "execution_count": 17,
   "metadata": {},
   "outputs": [
    {
     "name": "stdout",
     "output_type": "stream",
     "text": [
      "70\n",
      "71\n",
      "72\n",
      "73\n",
      "74\n",
      "75\n",
      "76\n",
      "77\n",
      "78\n",
      "79\n",
      "80\n",
      "81\n",
      "82\n"
     ]
    }
   ],
   "source": [
    "def custom_timestamp(dt):\n",
    "    epoch = datetime.datetime(1970, 1, 1)\n",
    "    if dt < epoch:\n",
    "        return -(epoch - dt).total_seconds()\n",
    "    return (dt - epoch).total_seconds()\n",
    "\n",
    "t_df = {}\n",
    "\n",
    "for yr in df['model_year'].unique():\n",
    "    print(yr)\n",
    "    temp_df = df[df['model_year'] == yr].copy()\n",
    "    temp_df['event_time'] = custom_timestamp(datetime.datetime(1900 + yr, 1, 1, 8, 0, 0))\n",
    "    t_df[str(yr)] = temp_df"
   ]
  },
  {
   "cell_type": "code",
   "execution_count": 20,
   "metadata": {},
   "outputs": [],
   "source": [
    "# t_df['71']"
   ]
  },
  {
   "cell_type": "markdown",
   "metadata": {},
   "source": [
    "## Create a feature group\n",
    "We first start by creating feature group names for the auto-mpg data."
   ]
  },
  {
   "cell_type": "code",
   "execution_count": null,
   "metadata": {},
   "outputs": [],
   "source": [
    "timestamp=strftime('%Y-%m-%d-%H-%M-%S', gmtime())\n",
    "\n",
    "feature_group_name = 'auto-mpg-%s' % timestamp"
   ]
  },
  {
   "cell_type": "code",
   "execution_count": null,
   "metadata": {},
   "outputs": [],
   "source": [
    "from sagemaker.feature_store.feature_group import FeatureGroup\n",
    "\n",
    "feature_group = FeatureGroup(name=feature_group_name, sagemaker_session=sess)"
   ]
  },
  {
   "cell_type": "code",
   "execution_count": null,
   "metadata": {},
   "outputs": [],
   "source": [
    "record_identifier_feature_name = 'car_name'\n",
    "event_time_feature_name = 'event_time'"
   ]
  },
  {
   "cell_type": "code",
   "execution_count": null,
   "metadata": {},
   "outputs": [],
   "source": [
    "feature_group.load_feature_definitions(data_frame=d_df['70'])"
   ]
  },
  {
   "cell_type": "code",
   "execution_count": null,
   "metadata": {},
   "outputs": [],
   "source": [
    "description='This feature group tracks the vehicle information such as mpg, and horsepower between 1970 and 1982.'\n",
    "len(description)\n",
    "# description has to be less than 128 characters"
   ]
  },
  {
   "cell_type": "code",
   "execution_count": null,
   "metadata": {},
   "outputs": [],
   "source": [
    "feature_group.create(\n",
    "    s3_uri=f's3://{bucket}/{prefix}',\n",
    "    enable_online_store=True,\n",
    "    record_identifier_name=record_identifier_feature_name,\n",
    "    event_time_feature_name=event_time_feature_name,\n",
    "    description=description,\n",
    "    role_arn=role)"
   ]
  },
  {
   "cell_type": "code",
   "execution_count": null,
   "metadata": {},
   "outputs": [],
   "source": [
    "def check_feature_group_status(feature_group):\n",
    "    status = feature_group.describe().get(\"FeatureGroupStatus\")\n",
    "    while status == \"Creating\":\n",
    "        print(\"Waiting for Feature Group to be Created\")\n",
    "        time.sleep(5)\n",
    "        status = feature_group.describe().get(\"FeatureGroupStatus\")\n",
    "    print(f\"FeatureGroup {feature_group.name} successfully created.\")\n",
    "\n",
    "check_feature_group_status(feature_group)"
   ]
  },
  {
   "cell_type": "markdown",
   "metadata": {},
   "source": [
    "## Ingest data into a feature group"
   ]
  },
  {
   "cell_type": "code",
   "execution_count": null,
   "metadata": {},
   "outputs": [],
   "source": [
    "for yr, df_auto in d_df.items():\n",
    "    print(yr)\n",
    "    print(df_auto.shape)\n",
    "    feature_group.ingest(data_frame=df_auto, max_workers=1, max_processes = 1, wait=True)"
   ]
  },
  {
   "cell_type": "code",
   "execution_count": null,
   "metadata": {},
   "outputs": [],
   "source": [
    "car_name = 'amc concord'\n",
    "featurestore_runtime =  sess.boto_session.client(service_name='sagemaker-featurestore-runtime', \n",
    "                                                 region_name=region)\n",
    "sample_record = featurestore_runtime.get_record(\n",
    "            FeatureGroupName=feature_group_name, \n",
    "            RecordIdentifierValueAsString=car_name)"
   ]
  },
  {
   "cell_type": "code",
   "execution_count": null,
   "metadata": {},
   "outputs": [],
   "source": [
    "sample_record"
   ]
  },
  {
   "cell_type": "markdown",
   "metadata": {},
   "source": [
    "To ingest features for a record in a streaming fashion, we could use the put_record API from the sagemaker-featurestore-runtime boto3 API to ingest a single data record, as shown in the following example snippet.\n",
    "```python\n",
    "record = [{'FeatureName': 'mpg', \n",
    "           'ValueAsString': str(mpg)},\n",
    "          {'FeatureName':'cylinders', \n",
    "           'ValueAsString': str(cylinders)},\n",
    "          {'FeatureName':'displacement', \n",
    "           'ValueAsString': str(displacement)}, \n",
    "          {'FeatureName': 'horsepower', \n",
    "           'ValueAsString': str(horseposwer)},\n",
    "          {'FeatureName': 'weight', \n",
    "           'ValueAsString': str(weight)},\n",
    "          {'FeatureName': 'acceleration', \n",
    "           'ValueAsString': str(acceleration)},\n",
    "          {'FeatureName': 'model_year', \n",
    "           'ValueAsString': str(model_year)},\n",
    "          {'FeatureName': 'origin', \n",
    "           'ValueAsString': str(origin)},\n",
    "          {'FeatureName': 'car_name', \n",
    "           'ValueAsString': str(car_name)},\n",
    "          {'FeatureName': 'event_time', \n",
    "           'ValueAsString': str(int(round(time.time())))}]\n",
    "featurestore_runtime.put_record(FeatureGroupName=feature_group_name, \n",
    "                                Record=record)\n",
    "```                                "
   ]
  },
  {
   "cell_type": "markdown",
   "metadata": {},
   "source": [
    "## Accessing an offline store – building a dataset for analysis and training\n",
    "SageMaker automatically synchronizes features from the online store to the offline store. It takes up to 15 minutes to populate the offline store. If you run the query below right after the feature ingestion, you may see empty `dataset`. Please try it again in a moment. "
   ]
  },
  {
   "cell_type": "code",
   "execution_count": null,
   "metadata": {},
   "outputs": [],
   "source": [
    "query = feature_group.athena_query()\n",
    "table_name = query.table_name\n",
    "\n",
    "query_string = ('SELECT * FROM \"%s\"' % table_name)\n",
    "print('Running ' + query_string)\n",
    "\n",
    "query.run(query_string=query_string,\n",
    "          output_location=f's3://{bucket}/{prefix}/query_results/')\n",
    "query.wait()\n",
    "dataset = query.as_dataframe()"
   ]
  },
  {
   "cell_type": "code",
   "execution_count": null,
   "metadata": {},
   "outputs": [],
   "source": [
    "dataset.head()"
   ]
  },
  {
   "cell_type": "code",
   "execution_count": null,
   "metadata": {},
   "outputs": [],
   "source": [
    "dataset.shape"
   ]
  },
  {
   "cell_type": "code",
   "execution_count": null,
   "metadata": {},
   "outputs": [],
   "source": [
    "query_string_2 = '''\n",
    "SELECT * FROM \"%s\" WHERE model_year < 79\n",
    "''' % table_name\n",
    "print('Running ' + query_string_2)\n",
    "\n",
    "query.run(\n",
    "        query_string=query_string_2,\n",
    "        output_location=f's3://{bucket}/{prefix}/query_results/')\n",
    "query.wait()\n",
    "dataset_2 = query.as_dataframe()"
   ]
  },
  {
   "cell_type": "code",
   "execution_count": null,
   "metadata": {},
   "outputs": [],
   "source": [
    "dataset_2.shape"
   ]
  },
  {
   "cell_type": "code",
   "execution_count": null,
   "metadata": {},
   "outputs": [],
   "source": [
    "dataset_2.head()"
   ]
  },
  {
   "cell_type": "code",
   "execution_count": null,
   "metadata": {},
   "outputs": [],
   "source": [
    "query_string_3='''\n",
    "SELECT *\n",
    "FROM\n",
    "    (SELECT *,\n",
    "         row_number()\n",
    "        OVER (PARTITION BY car_name\n",
    "    ORDER BY  event_time desc, Api_Invocation_Time DESC, write_time DESC) AS row_number\n",
    "    FROM \"%s\"\n",
    "    where event_time < %.f)\n",
    "WHERE row_number = 1 and\n",
    "NOT is_deleted\n",
    "''' % (table_name, datetime.datetime(1979, 1, 1, 8, 0, 0).timestamp())\n",
    "\n",
    "print('Running ' + query_string_3)\n",
    "\n",
    "query.run(\n",
    "        query_string=query_string_3,\n",
    "        output_location=f's3://{bucket}/{prefix}/query_results/')\n",
    "query.wait()\n",
    "dataset_3 = query.as_dataframe()"
   ]
  },
  {
   "cell_type": "code",
   "execution_count": null,
   "metadata": {},
   "outputs": [],
   "source": [
    "dataset_3.shape"
   ]
  },
  {
   "cell_type": "code",
   "execution_count": null,
   "metadata": {},
   "outputs": [],
   "source": [
    "dataset_2[dataset_2['car_name']=='amc gremlin']"
   ]
  },
  {
   "cell_type": "code",
   "execution_count": null,
   "metadata": {},
   "outputs": [],
   "source": [
    "dataset_3[dataset_3['car_name']=='amc gremlin']"
   ]
  },
  {
   "cell_type": "markdown",
   "metadata": {},
   "source": [
    "## Accessing online store – low-latency feature retrieval"
   ]
  },
  {
   "cell_type": "code",
   "execution_count": null,
   "metadata": {},
   "outputs": [],
   "source": [
    "car_name = 'amc gremlin'\n",
    "featurestore_runtime =  sess.boto_session.client(service_name='sagemaker-featurestore-runtime', \n",
    "                                                 region_name=region)\n",
    "amc_gremlin = featurestore_runtime.get_record(\n",
    "    FeatureGroupName=feature_group_name, RecordIdentifierValueAsString=car_name)\n",
    "\n",
    "amc_gremlin['Record']"
   ]
  },
  {
   "cell_type": "code",
   "execution_count": null,
   "metadata": {},
   "outputs": [],
   "source": [
    "car_names = ['amc gremlin', 'amc concord', 'dodge colt']\n",
    "feature_names = ['cylinders', 'displacement', 'horsepower']\n",
    "sample_batch_records=featurestore_runtime.batch_get_record(\n",
    "   Identifiers=[\n",
    "     {\n",
    "       'FeatureGroupName': feature_group_name,\n",
    "       'RecordIdentifiersValueAsString': car_names,\n",
    "       'FeatureNames': feature_names\n",
    "     },\n",
    "   ]\n",
    ")\n",
    "sample_batch_records['Records'][0]['Record'] # indexing first record"
   ]
  },
  {
   "cell_type": "markdown",
   "metadata": {},
   "source": [
    "Uncomment the last cell to delete the feature store if no longer needed."
   ]
  },
  {
   "cell_type": "code",
   "execution_count": null,
   "metadata": {},
   "outputs": [],
   "source": [
    "# feature_group.delete()"
   ]
  }
 ],
 "metadata": {
  "instance_type": "ml.t3.medium",
  "kernelspec": {
   "display_name": "base",
   "language": "python",
   "name": "python3"
  },
  "language_info": {
   "codemirror_mode": {
    "name": "ipython",
    "version": 3
   },
   "file_extension": ".py",
   "mimetype": "text/x-python",
   "name": "python",
   "nbconvert_exporter": "python",
   "pygments_lexer": "ipython3",
   "version": "3.11.4"
  }
 },
 "nbformat": 4,
 "nbformat_minor": 4
}
