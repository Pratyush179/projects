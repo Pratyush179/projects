{
 "cells": [
  {
   "cell_type": "code",
   "execution_count": 1,
   "metadata": {},
   "outputs": [],
   "source": [
    "import os\n",
    "import sys\n",
    "\n",
    "import pandas as pd\n",
    "import re  # For regular expressions"
   ]
  },
  {
   "cell_type": "markdown",
   "metadata": {},
   "source": [
    "### Ignite User Data"
   ]
  },
  {
   "cell_type": "code",
   "execution_count": 23,
   "metadata": {},
   "outputs": [],
   "source": [
    "file_path = r'C:\\Suraj\\projects\\test\\data'"
   ]
  },
  {
   "cell_type": "code",
   "execution_count": 24,
   "metadata": {},
   "outputs": [
    {
     "ename": "PermissionError",
     "evalue": "[Errno 13] Permission denied: 'C:\\\\Suraj\\\\projects\\\\test\\\\data'",
     "output_type": "error",
     "traceback": [
      "\u001b[1;31m---------------------------------------------------------------------------\u001b[0m",
      "\u001b[1;31mPermissionError\u001b[0m                           Traceback (most recent call last)",
      "Cell \u001b[1;32mIn[24], line 1\u001b[0m\n\u001b[1;32m----> 1\u001b[0m data \u001b[38;5;241m=\u001b[39m \u001b[43mpd\u001b[49m\u001b[38;5;241;43m.\u001b[39;49m\u001b[43mread_csv\u001b[49m\u001b[43m(\u001b[49m\u001b[43mfile_path\u001b[49m\u001b[43m,\u001b[49m\u001b[43m \u001b[49m\u001b[43mskiprows\u001b[49m\u001b[38;5;241;43m=\u001b[39;49m\u001b[38;5;241;43m1\u001b[39;49m\u001b[43m)\u001b[49m\n\u001b[0;32m      2\u001b[0m data\u001b[38;5;241m.\u001b[39mhead()\n",
      "File \u001b[1;32mc:\\Suraj\\projects\\test\\env\\lib\\site-packages\\pandas\\io\\parsers\\readers.py:948\u001b[0m, in \u001b[0;36mread_csv\u001b[1;34m(filepath_or_buffer, sep, delimiter, header, names, index_col, usecols, dtype, engine, converters, true_values, false_values, skipinitialspace, skiprows, skipfooter, nrows, na_values, keep_default_na, na_filter, verbose, skip_blank_lines, parse_dates, infer_datetime_format, keep_date_col, date_parser, date_format, dayfirst, cache_dates, iterator, chunksize, compression, thousands, decimal, lineterminator, quotechar, quoting, doublequote, escapechar, comment, encoding, encoding_errors, dialect, on_bad_lines, delim_whitespace, low_memory, memory_map, float_precision, storage_options, dtype_backend)\u001b[0m\n\u001b[0;32m    935\u001b[0m kwds_defaults \u001b[38;5;241m=\u001b[39m _refine_defaults_read(\n\u001b[0;32m    936\u001b[0m     dialect,\n\u001b[0;32m    937\u001b[0m     delimiter,\n\u001b[1;32m   (...)\u001b[0m\n\u001b[0;32m    944\u001b[0m     dtype_backend\u001b[38;5;241m=\u001b[39mdtype_backend,\n\u001b[0;32m    945\u001b[0m )\n\u001b[0;32m    946\u001b[0m kwds\u001b[38;5;241m.\u001b[39mupdate(kwds_defaults)\n\u001b[1;32m--> 948\u001b[0m \u001b[38;5;28;01mreturn\u001b[39;00m \u001b[43m_read\u001b[49m\u001b[43m(\u001b[49m\u001b[43mfilepath_or_buffer\u001b[49m\u001b[43m,\u001b[49m\u001b[43m \u001b[49m\u001b[43mkwds\u001b[49m\u001b[43m)\u001b[49m\n",
      "File \u001b[1;32mc:\\Suraj\\projects\\test\\env\\lib\\site-packages\\pandas\\io\\parsers\\readers.py:611\u001b[0m, in \u001b[0;36m_read\u001b[1;34m(filepath_or_buffer, kwds)\u001b[0m\n\u001b[0;32m    608\u001b[0m _validate_names(kwds\u001b[38;5;241m.\u001b[39mget(\u001b[38;5;124m\"\u001b[39m\u001b[38;5;124mnames\u001b[39m\u001b[38;5;124m\"\u001b[39m, \u001b[38;5;28;01mNone\u001b[39;00m))\n\u001b[0;32m    610\u001b[0m \u001b[38;5;66;03m# Create the parser.\u001b[39;00m\n\u001b[1;32m--> 611\u001b[0m parser \u001b[38;5;241m=\u001b[39m TextFileReader(filepath_or_buffer, \u001b[38;5;241m*\u001b[39m\u001b[38;5;241m*\u001b[39mkwds)\n\u001b[0;32m    613\u001b[0m \u001b[38;5;28;01mif\u001b[39;00m chunksize \u001b[38;5;129;01mor\u001b[39;00m iterator:\n\u001b[0;32m    614\u001b[0m     \u001b[38;5;28;01mreturn\u001b[39;00m parser\n",
      "File \u001b[1;32mc:\\Suraj\\projects\\test\\env\\lib\\site-packages\\pandas\\io\\parsers\\readers.py:1448\u001b[0m, in \u001b[0;36mTextFileReader.__init__\u001b[1;34m(self, f, engine, **kwds)\u001b[0m\n\u001b[0;32m   1445\u001b[0m     \u001b[38;5;28mself\u001b[39m\u001b[38;5;241m.\u001b[39moptions[\u001b[38;5;124m\"\u001b[39m\u001b[38;5;124mhas_index_names\u001b[39m\u001b[38;5;124m\"\u001b[39m] \u001b[38;5;241m=\u001b[39m kwds[\u001b[38;5;124m\"\u001b[39m\u001b[38;5;124mhas_index_names\u001b[39m\u001b[38;5;124m\"\u001b[39m]\n\u001b[0;32m   1447\u001b[0m \u001b[38;5;28mself\u001b[39m\u001b[38;5;241m.\u001b[39mhandles: IOHandles \u001b[38;5;241m|\u001b[39m \u001b[38;5;28;01mNone\u001b[39;00m \u001b[38;5;241m=\u001b[39m \u001b[38;5;28;01mNone\u001b[39;00m\n\u001b[1;32m-> 1448\u001b[0m \u001b[38;5;28mself\u001b[39m\u001b[38;5;241m.\u001b[39m_engine \u001b[38;5;241m=\u001b[39m \u001b[38;5;28;43mself\u001b[39;49m\u001b[38;5;241;43m.\u001b[39;49m\u001b[43m_make_engine\u001b[49m\u001b[43m(\u001b[49m\u001b[43mf\u001b[49m\u001b[43m,\u001b[49m\u001b[43m \u001b[49m\u001b[38;5;28;43mself\u001b[39;49m\u001b[38;5;241;43m.\u001b[39;49m\u001b[43mengine\u001b[49m\u001b[43m)\u001b[49m\n",
      "File \u001b[1;32mc:\\Suraj\\projects\\test\\env\\lib\\site-packages\\pandas\\io\\parsers\\readers.py:1705\u001b[0m, in \u001b[0;36mTextFileReader._make_engine\u001b[1;34m(self, f, engine)\u001b[0m\n\u001b[0;32m   1703\u001b[0m     \u001b[38;5;28;01mif\u001b[39;00m \u001b[38;5;124m\"\u001b[39m\u001b[38;5;124mb\u001b[39m\u001b[38;5;124m\"\u001b[39m \u001b[38;5;129;01mnot\u001b[39;00m \u001b[38;5;129;01min\u001b[39;00m mode:\n\u001b[0;32m   1704\u001b[0m         mode \u001b[38;5;241m+\u001b[39m\u001b[38;5;241m=\u001b[39m \u001b[38;5;124m\"\u001b[39m\u001b[38;5;124mb\u001b[39m\u001b[38;5;124m\"\u001b[39m\n\u001b[1;32m-> 1705\u001b[0m \u001b[38;5;28mself\u001b[39m\u001b[38;5;241m.\u001b[39mhandles \u001b[38;5;241m=\u001b[39m \u001b[43mget_handle\u001b[49m\u001b[43m(\u001b[49m\n\u001b[0;32m   1706\u001b[0m \u001b[43m    \u001b[49m\u001b[43mf\u001b[49m\u001b[43m,\u001b[49m\n\u001b[0;32m   1707\u001b[0m \u001b[43m    \u001b[49m\u001b[43mmode\u001b[49m\u001b[43m,\u001b[49m\n\u001b[0;32m   1708\u001b[0m \u001b[43m    \u001b[49m\u001b[43mencoding\u001b[49m\u001b[38;5;241;43m=\u001b[39;49m\u001b[38;5;28;43mself\u001b[39;49m\u001b[38;5;241;43m.\u001b[39;49m\u001b[43moptions\u001b[49m\u001b[38;5;241;43m.\u001b[39;49m\u001b[43mget\u001b[49m\u001b[43m(\u001b[49m\u001b[38;5;124;43m\"\u001b[39;49m\u001b[38;5;124;43mencoding\u001b[39;49m\u001b[38;5;124;43m\"\u001b[39;49m\u001b[43m,\u001b[49m\u001b[43m \u001b[49m\u001b[38;5;28;43;01mNone\u001b[39;49;00m\u001b[43m)\u001b[49m\u001b[43m,\u001b[49m\n\u001b[0;32m   1709\u001b[0m \u001b[43m    \u001b[49m\u001b[43mcompression\u001b[49m\u001b[38;5;241;43m=\u001b[39;49m\u001b[38;5;28;43mself\u001b[39;49m\u001b[38;5;241;43m.\u001b[39;49m\u001b[43moptions\u001b[49m\u001b[38;5;241;43m.\u001b[39;49m\u001b[43mget\u001b[49m\u001b[43m(\u001b[49m\u001b[38;5;124;43m\"\u001b[39;49m\u001b[38;5;124;43mcompression\u001b[39;49m\u001b[38;5;124;43m\"\u001b[39;49m\u001b[43m,\u001b[49m\u001b[43m \u001b[49m\u001b[38;5;28;43;01mNone\u001b[39;49;00m\u001b[43m)\u001b[49m\u001b[43m,\u001b[49m\n\u001b[0;32m   1710\u001b[0m \u001b[43m    \u001b[49m\u001b[43mmemory_map\u001b[49m\u001b[38;5;241;43m=\u001b[39;49m\u001b[38;5;28;43mself\u001b[39;49m\u001b[38;5;241;43m.\u001b[39;49m\u001b[43moptions\u001b[49m\u001b[38;5;241;43m.\u001b[39;49m\u001b[43mget\u001b[49m\u001b[43m(\u001b[49m\u001b[38;5;124;43m\"\u001b[39;49m\u001b[38;5;124;43mmemory_map\u001b[39;49m\u001b[38;5;124;43m\"\u001b[39;49m\u001b[43m,\u001b[49m\u001b[43m \u001b[49m\u001b[38;5;28;43;01mFalse\u001b[39;49;00m\u001b[43m)\u001b[49m\u001b[43m,\u001b[49m\n\u001b[0;32m   1711\u001b[0m \u001b[43m    \u001b[49m\u001b[43mis_text\u001b[49m\u001b[38;5;241;43m=\u001b[39;49m\u001b[43mis_text\u001b[49m\u001b[43m,\u001b[49m\n\u001b[0;32m   1712\u001b[0m \u001b[43m    \u001b[49m\u001b[43merrors\u001b[49m\u001b[38;5;241;43m=\u001b[39;49m\u001b[38;5;28;43mself\u001b[39;49m\u001b[38;5;241;43m.\u001b[39;49m\u001b[43moptions\u001b[49m\u001b[38;5;241;43m.\u001b[39;49m\u001b[43mget\u001b[49m\u001b[43m(\u001b[49m\u001b[38;5;124;43m\"\u001b[39;49m\u001b[38;5;124;43mencoding_errors\u001b[39;49m\u001b[38;5;124;43m\"\u001b[39;49m\u001b[43m,\u001b[49m\u001b[43m \u001b[49m\u001b[38;5;124;43m\"\u001b[39;49m\u001b[38;5;124;43mstrict\u001b[39;49m\u001b[38;5;124;43m\"\u001b[39;49m\u001b[43m)\u001b[49m\u001b[43m,\u001b[49m\n\u001b[0;32m   1713\u001b[0m \u001b[43m    \u001b[49m\u001b[43mstorage_options\u001b[49m\u001b[38;5;241;43m=\u001b[39;49m\u001b[38;5;28;43mself\u001b[39;49m\u001b[38;5;241;43m.\u001b[39;49m\u001b[43moptions\u001b[49m\u001b[38;5;241;43m.\u001b[39;49m\u001b[43mget\u001b[49m\u001b[43m(\u001b[49m\u001b[38;5;124;43m\"\u001b[39;49m\u001b[38;5;124;43mstorage_options\u001b[39;49m\u001b[38;5;124;43m\"\u001b[39;49m\u001b[43m,\u001b[49m\u001b[43m \u001b[49m\u001b[38;5;28;43;01mNone\u001b[39;49;00m\u001b[43m)\u001b[49m\u001b[43m,\u001b[49m\n\u001b[0;32m   1714\u001b[0m \u001b[43m\u001b[49m\u001b[43m)\u001b[49m\n\u001b[0;32m   1715\u001b[0m \u001b[38;5;28;01massert\u001b[39;00m \u001b[38;5;28mself\u001b[39m\u001b[38;5;241m.\u001b[39mhandles \u001b[38;5;129;01mis\u001b[39;00m \u001b[38;5;129;01mnot\u001b[39;00m \u001b[38;5;28;01mNone\u001b[39;00m\n\u001b[0;32m   1716\u001b[0m f \u001b[38;5;241m=\u001b[39m \u001b[38;5;28mself\u001b[39m\u001b[38;5;241m.\u001b[39mhandles\u001b[38;5;241m.\u001b[39mhandle\n",
      "File \u001b[1;32mc:\\Suraj\\projects\\test\\env\\lib\\site-packages\\pandas\\io\\common.py:863\u001b[0m, in \u001b[0;36mget_handle\u001b[1;34m(path_or_buf, mode, encoding, compression, memory_map, is_text, errors, storage_options)\u001b[0m\n\u001b[0;32m    858\u001b[0m \u001b[38;5;28;01melif\u001b[39;00m \u001b[38;5;28misinstance\u001b[39m(handle, \u001b[38;5;28mstr\u001b[39m):\n\u001b[0;32m    859\u001b[0m     \u001b[38;5;66;03m# Check whether the filename is to be opened in binary mode.\u001b[39;00m\n\u001b[0;32m    860\u001b[0m     \u001b[38;5;66;03m# Binary mode does not support 'encoding' and 'newline'.\u001b[39;00m\n\u001b[0;32m    861\u001b[0m     \u001b[38;5;28;01mif\u001b[39;00m ioargs\u001b[38;5;241m.\u001b[39mencoding \u001b[38;5;129;01mand\u001b[39;00m \u001b[38;5;124m\"\u001b[39m\u001b[38;5;124mb\u001b[39m\u001b[38;5;124m\"\u001b[39m \u001b[38;5;129;01mnot\u001b[39;00m \u001b[38;5;129;01min\u001b[39;00m ioargs\u001b[38;5;241m.\u001b[39mmode:\n\u001b[0;32m    862\u001b[0m         \u001b[38;5;66;03m# Encoding\u001b[39;00m\n\u001b[1;32m--> 863\u001b[0m         handle \u001b[38;5;241m=\u001b[39m \u001b[38;5;28;43mopen\u001b[39;49m\u001b[43m(\u001b[49m\n\u001b[0;32m    864\u001b[0m \u001b[43m            \u001b[49m\u001b[43mhandle\u001b[49m\u001b[43m,\u001b[49m\n\u001b[0;32m    865\u001b[0m \u001b[43m            \u001b[49m\u001b[43mioargs\u001b[49m\u001b[38;5;241;43m.\u001b[39;49m\u001b[43mmode\u001b[49m\u001b[43m,\u001b[49m\n\u001b[0;32m    866\u001b[0m \u001b[43m            \u001b[49m\u001b[43mencoding\u001b[49m\u001b[38;5;241;43m=\u001b[39;49m\u001b[43mioargs\u001b[49m\u001b[38;5;241;43m.\u001b[39;49m\u001b[43mencoding\u001b[49m\u001b[43m,\u001b[49m\n\u001b[0;32m    867\u001b[0m \u001b[43m            \u001b[49m\u001b[43merrors\u001b[49m\u001b[38;5;241;43m=\u001b[39;49m\u001b[43merrors\u001b[49m\u001b[43m,\u001b[49m\n\u001b[0;32m    868\u001b[0m \u001b[43m            \u001b[49m\u001b[43mnewline\u001b[49m\u001b[38;5;241;43m=\u001b[39;49m\u001b[38;5;124;43m\"\u001b[39;49m\u001b[38;5;124;43m\"\u001b[39;49m\u001b[43m,\u001b[49m\n\u001b[0;32m    869\u001b[0m \u001b[43m        \u001b[49m\u001b[43m)\u001b[49m\n\u001b[0;32m    870\u001b[0m     \u001b[38;5;28;01melse\u001b[39;00m:\n\u001b[0;32m    871\u001b[0m         \u001b[38;5;66;03m# Binary mode\u001b[39;00m\n\u001b[0;32m    872\u001b[0m         handle \u001b[38;5;241m=\u001b[39m \u001b[38;5;28mopen\u001b[39m(handle, ioargs\u001b[38;5;241m.\u001b[39mmode)\n",
      "\u001b[1;31mPermissionError\u001b[0m: [Errno 13] Permission denied: 'C:\\\\Suraj\\\\projects\\\\test\\\\data'"
     ]
    }
   ],
   "source": [
    "data = pd.read_csv(file_path, skiprows=1)\n",
    "data.head()"
   ]
  },
  {
   "cell_type": "code",
   "execution_count": null,
   "metadata": {},
   "outputs": [],
   "source": []
  },
  {
   "cell_type": "code",
   "execution_count": 7,
   "metadata": {},
   "outputs": [],
   "source": [
    "file_path_1 = r'C:\\Suraj\\projects\\projects\\test\\data\\Egnyte_File_Report_Jan-Mar24 01102024 - 03312024.csv'"
   ]
  },
  {
   "cell_type": "code",
   "execution_count": 8,
   "metadata": {},
   "outputs": [
    {
     "name": "stderr",
     "output_type": "stream",
     "text": [
      "C:\\Users\\pis05408.PINNACLE\\AppData\\Local\\Temp\\ipykernel_20656\\2740501264.py:1: DtypeWarning: Columns (1,5,8,10) have mixed types. Specify dtype option on import or set low_memory=False.\n",
      "  data = pd.read_csv(file_path_1, skiprows=1)\n"
     ]
    },
    {
     "data": {
      "text/html": [
       "<div>\n",
       "<style scoped>\n",
       "    .dataframe tbody tr th:only-of-type {\n",
       "        vertical-align: middle;\n",
       "    }\n",
       "\n",
       "    .dataframe tbody tr th {\n",
       "        vertical-align: top;\n",
       "    }\n",
       "\n",
       "    .dataframe thead th {\n",
       "        text-align: right;\n",
       "    }\n",
       "</style>\n",
       "<table border=\"1\" class=\"dataframe\">\n",
       "  <thead>\n",
       "    <tr style=\"text-align: right;\">\n",
       "      <th></th>\n",
       "      <th>File/Folder</th>\n",
       "      <th>Target Path/Link</th>\n",
       "      <th>User/Location</th>\n",
       "      <th>User ID</th>\n",
       "      <th>Transaction Type</th>\n",
       "      <th>Action Info</th>\n",
       "      <th>Access</th>\n",
       "      <th>Time</th>\n",
       "      <th>IP Address</th>\n",
       "      <th>File Checksum</th>\n",
       "      <th>Device Name</th>\n",
       "      <th>File Version</th>\n",
       "      <th>Space Used</th>\n",
       "      <th>Real exploded events count</th>\n",
       "      <th>Max exploded events displayed</th>\n",
       "      <th>File ID (groupId)</th>\n",
       "    </tr>\n",
       "  </thead>\n",
       "  <tbody>\n",
       "    <tr>\n",
       "      <th>0</th>\n",
       "      <td>/Shared/DGP-MECH-01/MSS Solutions/MSN_0008_320...</td>\n",
       "      <td>NaN</td>\n",
       "      <td>Steven Cantrill ( Steven.Cantrill@MSSSolutions...</td>\n",
       "      <td>649</td>\n",
       "      <td>Download</td>\n",
       "      <td>NaN</td>\n",
       "      <td>Web UI</td>\n",
       "      <td>1/10/24 0:13:25</td>\n",
       "      <td>165.166.255.226</td>\n",
       "      <td>2-65-52428800-6bf0fc8d3bf2a098bc512af603cf4d1a...</td>\n",
       "      <td>NaN</td>\n",
       "      <td>683ef1b0-8410-4edf-a72e-da2b4a210d45</td>\n",
       "      <td>3357558672</td>\n",
       "      <td>NaN</td>\n",
       "      <td>NaN</td>\n",
       "      <td>NaN</td>\n",
       "    </tr>\n",
       "    <tr>\n",
       "      <th>1</th>\n",
       "      <td>/Shared/DGP-MECH-08/Kilgore Industries/KGI_004...</td>\n",
       "      <td>NaN</td>\n",
       "      <td>Quaddus Booth ( qbooth@kilgoreind.com )</td>\n",
       "      <td>748</td>\n",
       "      <td>Upload</td>\n",
       "      <td>NaN</td>\n",
       "      <td>Desktop App</td>\n",
       "      <td>1/10/24 0:16:34</td>\n",
       "      <td>216.74.235.178</td>\n",
       "      <td>2-3-104857600-ad17848d193c63af43690e61b64b92d3...</td>\n",
       "      <td>NaN</td>\n",
       "      <td>b0001e8f-ddfc-42dc-acd9-11d91c64798c</td>\n",
       "      <td>256680021</td>\n",
       "      <td>NaN</td>\n",
       "      <td>NaN</td>\n",
       "      <td>NaN</td>\n",
       "    </tr>\n",
       "    <tr>\n",
       "      <th>2</th>\n",
       "      <td>/Shared/ACS-003/Donley Inc/DNI_0027_Dix Park B...</td>\n",
       "      <td>NaN</td>\n",
       "      <td>Jhoan Herrera ( jjuarez@donleyinc.com )</td>\n",
       "      <td>1326</td>\n",
       "      <td>Preview</td>\n",
       "      <td>NaN</td>\n",
       "      <td>Web UI</td>\n",
       "      <td>1/10/24 0:26:51</td>\n",
       "      <td>76.49.126.9</td>\n",
       "      <td>d1020b2c1f8bc5619da72faf56a703085b03e830490cd6...</td>\n",
       "      <td>NaN</td>\n",
       "      <td>d4b01fc6-4c59-4bc6-8dd3-de61ff629358</td>\n",
       "      <td>1068416</td>\n",
       "      <td>NaN</td>\n",
       "      <td>NaN</td>\n",
       "      <td>NaN</td>\n",
       "    </tr>\n",
       "    <tr>\n",
       "      <th>3</th>\n",
       "      <td>/Shared/ACS-003/Donley Inc/DNI_0027_Dix Park B...</td>\n",
       "      <td>NaN</td>\n",
       "      <td>Jhoan Herrera ( jjuarez@donleyinc.com )</td>\n",
       "      <td>1326</td>\n",
       "      <td>Preview</td>\n",
       "      <td>NaN</td>\n",
       "      <td>Web UI</td>\n",
       "      <td>1/10/24 0:28:12</td>\n",
       "      <td>76.49.126.9</td>\n",
       "      <td>09675da4360b7e7bcb2826b749926c1c76031135b1eb49...</td>\n",
       "      <td>NaN</td>\n",
       "      <td>9868b623-66f8-4922-b81c-fc35fa968625</td>\n",
       "      <td>1315964</td>\n",
       "      <td>NaN</td>\n",
       "      <td>NaN</td>\n",
       "      <td>NaN</td>\n",
       "    </tr>\n",
       "    <tr>\n",
       "      <th>4</th>\n",
       "      <td>/Shared/DGP-MECH-01/MSS Solutions/MSN_0011_The...</td>\n",
       "      <td>NaN</td>\n",
       "      <td>Xavier Parrish ( Xavier.Parrish@MSSSolutions.c...</td>\n",
       "      <td>648</td>\n",
       "      <td>Download</td>\n",
       "      <td>NaN</td>\n",
       "      <td>Web UI</td>\n",
       "      <td>1/10/24 0:29:18</td>\n",
       "      <td>165.166.255.226</td>\n",
       "      <td>3f523bc4d94fe5471155a117ea6099089bb2d02e0463d8...</td>\n",
       "      <td>NaN</td>\n",
       "      <td>c5f4d240-001e-49b0-8520-1b3064ced695</td>\n",
       "      <td>286827</td>\n",
       "      <td>NaN</td>\n",
       "      <td>NaN</td>\n",
       "      <td>NaN</td>\n",
       "    </tr>\n",
       "  </tbody>\n",
       "</table>\n",
       "</div>"
      ],
      "text/plain": [
       "                                         File/Folder Target Path/Link  \\\n",
       "0  /Shared/DGP-MECH-01/MSS Solutions/MSN_0008_320...              NaN   \n",
       "1  /Shared/DGP-MECH-08/Kilgore Industries/KGI_004...              NaN   \n",
       "2  /Shared/ACS-003/Donley Inc/DNI_0027_Dix Park B...              NaN   \n",
       "3  /Shared/ACS-003/Donley Inc/DNI_0027_Dix Park B...              NaN   \n",
       "4  /Shared/DGP-MECH-01/MSS Solutions/MSN_0011_The...              NaN   \n",
       "\n",
       "                                       User/Location  User ID  \\\n",
       "0  Steven Cantrill ( Steven.Cantrill@MSSSolutions...      649   \n",
       "1            Quaddus Booth ( qbooth@kilgoreind.com )      748   \n",
       "2            Jhoan Herrera ( jjuarez@donleyinc.com )     1326   \n",
       "3            Jhoan Herrera ( jjuarez@donleyinc.com )     1326   \n",
       "4  Xavier Parrish ( Xavier.Parrish@MSSSolutions.c...      648   \n",
       "\n",
       "  Transaction Type Action Info       Access             Time       IP Address  \\\n",
       "0         Download         NaN       Web UI  1/10/24 0:13:25  165.166.255.226   \n",
       "1           Upload         NaN  Desktop App  1/10/24 0:16:34   216.74.235.178   \n",
       "2          Preview         NaN       Web UI  1/10/24 0:26:51      76.49.126.9   \n",
       "3          Preview         NaN       Web UI  1/10/24 0:28:12      76.49.126.9   \n",
       "4         Download         NaN       Web UI  1/10/24 0:29:18  165.166.255.226   \n",
       "\n",
       "                                       File Checksum Device Name  \\\n",
       "0  2-65-52428800-6bf0fc8d3bf2a098bc512af603cf4d1a...         NaN   \n",
       "1  2-3-104857600-ad17848d193c63af43690e61b64b92d3...         NaN   \n",
       "2  d1020b2c1f8bc5619da72faf56a703085b03e830490cd6...         NaN   \n",
       "3  09675da4360b7e7bcb2826b749926c1c76031135b1eb49...         NaN   \n",
       "4  3f523bc4d94fe5471155a117ea6099089bb2d02e0463d8...         NaN   \n",
       "\n",
       "                           File Version  Space Used  \\\n",
       "0  683ef1b0-8410-4edf-a72e-da2b4a210d45  3357558672   \n",
       "1  b0001e8f-ddfc-42dc-acd9-11d91c64798c   256680021   \n",
       "2  d4b01fc6-4c59-4bc6-8dd3-de61ff629358     1068416   \n",
       "3  9868b623-66f8-4922-b81c-fc35fa968625     1315964   \n",
       "4  c5f4d240-001e-49b0-8520-1b3064ced695      286827   \n",
       "\n",
       "   Real exploded events count  Max exploded events displayed File ID (groupId)  \n",
       "0                         NaN                            NaN               NaN  \n",
       "1                         NaN                            NaN               NaN  \n",
       "2                         NaN                            NaN               NaN  \n",
       "3                         NaN                            NaN               NaN  \n",
       "4                         NaN                            NaN               NaN  "
      ]
     },
     "execution_count": 8,
     "metadata": {},
     "output_type": "execute_result"
    }
   ],
   "source": [
    "data = pd.read_csv(file_path_1, skiprows=1)\n",
    "data.head()"
   ]
  },
  {
   "cell_type": "code",
   "execution_count": 9,
   "metadata": {},
   "outputs": [
    {
     "data": {
      "text/plain": [
       "Index(['File/Folder', 'Target Path/Link', 'User/Location', 'User ID',\n",
       "       'Transaction Type', 'Action Info', 'Access', 'Time', 'IP Address',\n",
       "       'File Checksum', 'Device Name', 'File Version', 'Space Used',\n",
       "       'Real exploded events count', 'Max exploded events displayed',\n",
       "       'File ID (groupId)'],\n",
       "      dtype='object')"
      ]
     },
     "execution_count": 9,
     "metadata": {},
     "output_type": "execute_result"
    }
   ],
   "source": [
    "data.columns"
   ]
  },
  {
   "cell_type": "code",
   "execution_count": 10,
   "metadata": {},
   "outputs": [],
   "source": [
    "# data = pd.read_csv(file_path, skiprows=1)\n",
    "# data.head()"
   ]
  },
  {
   "cell_type": "code",
   "execution_count": 4,
   "metadata": {},
   "outputs": [
    {
     "data": {
      "text/plain": [
       "Index(['File/Folder', 'Target Path/Link', 'User/Location', 'User ID',\n",
       "       'Transaction Type', 'Action Info', 'Access', 'Time', 'IP Address',\n",
       "       'File Checksum', 'Device Name', 'File Version', 'Space Used',\n",
       "       'File ID (groupId)'],\n",
       "      dtype='object')"
      ]
     },
     "execution_count": 4,
     "metadata": {},
     "output_type": "execute_result"
    }
   ],
   "source": [
    "data.columns"
   ]
  },
  {
   "cell_type": "code",
   "execution_count": 11,
   "metadata": {},
   "outputs": [],
   "source": [
    "data = data.drop(columns=['File ID (groupId)', 'Real exploded events count', 'Max exploded events displayed'])"
   ]
  },
  {
   "cell_type": "code",
   "execution_count": 18,
   "metadata": {},
   "outputs": [
    {
     "name": "stdout",
     "output_type": "stream",
     "text": [
      "<class 'pandas.core.frame.DataFrame'>\n",
      "RangeIndex: 1207391 entries, 0 to 1207390\n",
      "Data columns (total 13 columns):\n",
      " #   Column            Non-Null Count    Dtype         \n",
      "---  ------            --------------    -----         \n",
      " 0   File/Folder       1207391 non-null  object        \n",
      " 1   Target Path/Link  333662 non-null   object        \n",
      " 2   User/Location     1207391 non-null  object        \n",
      " 3   User ID           1207391 non-null  int64         \n",
      " 4   Transaction Type  1207391 non-null  object        \n",
      " 5   Action Info       27446 non-null    object        \n",
      " 6   Access            1207391 non-null  object        \n",
      " 7   Time              1207391 non-null  datetime64[ns]\n",
      " 8   IP Address        989578 non-null   object        \n",
      " 9   File Checksum     890338 non-null   object        \n",
      " 10  Device Name       28738 non-null    object        \n",
      " 11  File Version      851012 non-null   object        \n",
      " 12  Space Used        1207391 non-null  int64         \n",
      "dtypes: datetime64[ns](1), int64(2), object(10)\n",
      "memory usage: 119.8+ MB\n"
     ]
    }
   ],
   "source": [
    "data.info()"
   ]
  },
  {
   "cell_type": "code",
   "execution_count": 19,
   "metadata": {},
   "outputs": [
    {
     "data": {
      "text/plain": [
       "(1207391, 13)"
      ]
     },
     "execution_count": 19,
     "metadata": {},
     "output_type": "execute_result"
    }
   ],
   "source": [
    "data.shape"
   ]
  },
  {
   "cell_type": "code",
   "execution_count": 20,
   "metadata": {},
   "outputs": [],
   "source": [
    "data['Time'] = pd.to_datetime(data['Time'])"
   ]
  },
  {
   "cell_type": "code",
   "execution_count": 11,
   "metadata": {},
   "outputs": [],
   "source": [
    "# data['Time'] = pd.to_datetime(data['Time'])"
   ]
  },
  {
   "cell_type": "code",
   "execution_count": 21,
   "metadata": {},
   "outputs": [
    {
     "data": {
      "text/html": [
       "<div>\n",
       "<style scoped>\n",
       "    .dataframe tbody tr th:only-of-type {\n",
       "        vertical-align: middle;\n",
       "    }\n",
       "\n",
       "    .dataframe tbody tr th {\n",
       "        vertical-align: top;\n",
       "    }\n",
       "\n",
       "    .dataframe thead th {\n",
       "        text-align: right;\n",
       "    }\n",
       "</style>\n",
       "<table border=\"1\" class=\"dataframe\">\n",
       "  <thead>\n",
       "    <tr style=\"text-align: right;\">\n",
       "      <th></th>\n",
       "      <th>File/Folder</th>\n",
       "      <th>Target Path/Link</th>\n",
       "      <th>User/Location</th>\n",
       "      <th>User ID</th>\n",
       "      <th>Transaction Type</th>\n",
       "      <th>Action Info</th>\n",
       "      <th>Access</th>\n",
       "      <th>Time</th>\n",
       "      <th>IP Address</th>\n",
       "      <th>File Checksum</th>\n",
       "      <th>Device Name</th>\n",
       "      <th>File Version</th>\n",
       "      <th>Space Used</th>\n",
       "    </tr>\n",
       "  </thead>\n",
       "  <tbody>\n",
       "    <tr>\n",
       "      <th>1207386</th>\n",
       "      <td>/Private/mshilp/ACS-008/Avenue Mall/Reference ...</td>\n",
       "      <td>https://pinnaclecad.egnyte.com/fl/CBJseAYUFW</td>\n",
       "      <td>Anonymous access SUJITH C SUBRAMANIAN (via link)</td>\n",
       "      <td>34</td>\n",
       "      <td>Download via Link</td>\n",
       "      <td>NaN</td>\n",
       "      <td>Link</td>\n",
       "      <td>2024-03-31 19:07:20</td>\n",
       "      <td>51.211.165.129</td>\n",
       "      <td>NaN</td>\n",
       "      <td>NaN</td>\n",
       "      <td>NaN</td>\n",
       "      <td>721883</td>\n",
       "    </tr>\n",
       "    <tr>\n",
       "      <th>1207387</th>\n",
       "      <td>/Private/mshilp/ACS-008/Avenue Mall/Reference ...</td>\n",
       "      <td>https://pinnaclecad.egnyte.com/fl/CBJseAYUFW</td>\n",
       "      <td>Anonymous access SUJITH C SUBRAMANIAN (via link)</td>\n",
       "      <td>34</td>\n",
       "      <td>Download via Link</td>\n",
       "      <td>NaN</td>\n",
       "      <td>Link</td>\n",
       "      <td>2024-03-31 19:07:20</td>\n",
       "      <td>51.211.165.129</td>\n",
       "      <td>NaN</td>\n",
       "      <td>NaN</td>\n",
       "      <td>NaN</td>\n",
       "      <td>2276050</td>\n",
       "    </tr>\n",
       "    <tr>\n",
       "      <th>1207388</th>\n",
       "      <td>/Private/mshilp/ACS-008/Avenue Mall/Reference ...</td>\n",
       "      <td>https://pinnaclecad.egnyte.com/fl/CBJseAYUFW</td>\n",
       "      <td>Anonymous access SUJITH C SUBRAMANIAN (via link)</td>\n",
       "      <td>34</td>\n",
       "      <td>Download via Link</td>\n",
       "      <td>NaN</td>\n",
       "      <td>Link</td>\n",
       "      <td>2024-03-31 19:07:20</td>\n",
       "      <td>51.211.165.129</td>\n",
       "      <td>NaN</td>\n",
       "      <td>NaN</td>\n",
       "      <td>NaN</td>\n",
       "      <td>972480</td>\n",
       "    </tr>\n",
       "    <tr>\n",
       "      <th>1207389</th>\n",
       "      <td>/Private/mshilp/ACS-008/Avenue Mall/Reference ...</td>\n",
       "      <td>https://pinnaclecad.egnyte.com/fl/CBJseAYUFW</td>\n",
       "      <td>Anonymous access SUJITH C SUBRAMANIAN (via link)</td>\n",
       "      <td>34</td>\n",
       "      <td>Download via Link</td>\n",
       "      <td>NaN</td>\n",
       "      <td>Link</td>\n",
       "      <td>2024-03-31 19:07:20</td>\n",
       "      <td>51.211.165.129</td>\n",
       "      <td>NaN</td>\n",
       "      <td>NaN</td>\n",
       "      <td>NaN</td>\n",
       "      <td>1440140</td>\n",
       "    </tr>\n",
       "    <tr>\n",
       "      <th>1207390</th>\n",
       "      <td>/Private/balamurugana/NIA_YIAPL PROJECT/Wall C...</td>\n",
       "      <td>https://pinnaclecad.egnyte.com/fl/MfEC1auEKZ</td>\n",
       "      <td>Anonymous access from Noida, Uttar Pradesh, In...</td>\n",
       "      <td>2335</td>\n",
       "      <td>Download via Link</td>\n",
       "      <td>NaN</td>\n",
       "      <td>Link</td>\n",
       "      <td>2024-03-31 22:54:09</td>\n",
       "      <td>122.161.52.127</td>\n",
       "      <td>8a42ffb0469154a09499d5607304702dcf9cac581d26ce...</td>\n",
       "      <td>NaN</td>\n",
       "      <td>NaN</td>\n",
       "      <td>41889549</td>\n",
       "    </tr>\n",
       "  </tbody>\n",
       "</table>\n",
       "</div>"
      ],
      "text/plain": [
       "                                               File/Folder  \\\n",
       "1207386  /Private/mshilp/ACS-008/Avenue Mall/Reference ...   \n",
       "1207387  /Private/mshilp/ACS-008/Avenue Mall/Reference ...   \n",
       "1207388  /Private/mshilp/ACS-008/Avenue Mall/Reference ...   \n",
       "1207389  /Private/mshilp/ACS-008/Avenue Mall/Reference ...   \n",
       "1207390  /Private/balamurugana/NIA_YIAPL PROJECT/Wall C...   \n",
       "\n",
       "                                     Target Path/Link  \\\n",
       "1207386  https://pinnaclecad.egnyte.com/fl/CBJseAYUFW   \n",
       "1207387  https://pinnaclecad.egnyte.com/fl/CBJseAYUFW   \n",
       "1207388  https://pinnaclecad.egnyte.com/fl/CBJseAYUFW   \n",
       "1207389  https://pinnaclecad.egnyte.com/fl/CBJseAYUFW   \n",
       "1207390  https://pinnaclecad.egnyte.com/fl/MfEC1auEKZ   \n",
       "\n",
       "                                             User/Location  User ID  \\\n",
       "1207386   Anonymous access SUJITH C SUBRAMANIAN (via link)       34   \n",
       "1207387   Anonymous access SUJITH C SUBRAMANIAN (via link)       34   \n",
       "1207388   Anonymous access SUJITH C SUBRAMANIAN (via link)       34   \n",
       "1207389   Anonymous access SUJITH C SUBRAMANIAN (via link)       34   \n",
       "1207390  Anonymous access from Noida, Uttar Pradesh, In...     2335   \n",
       "\n",
       "          Transaction Type Action Info Access                Time  \\\n",
       "1207386  Download via Link         NaN   Link 2024-03-31 19:07:20   \n",
       "1207387  Download via Link         NaN   Link 2024-03-31 19:07:20   \n",
       "1207388  Download via Link         NaN   Link 2024-03-31 19:07:20   \n",
       "1207389  Download via Link         NaN   Link 2024-03-31 19:07:20   \n",
       "1207390  Download via Link         NaN   Link 2024-03-31 22:54:09   \n",
       "\n",
       "             IP Address                                      File Checksum  \\\n",
       "1207386  51.211.165.129                                                NaN   \n",
       "1207387  51.211.165.129                                                NaN   \n",
       "1207388  51.211.165.129                                                NaN   \n",
       "1207389  51.211.165.129                                                NaN   \n",
       "1207390  122.161.52.127  8a42ffb0469154a09499d5607304702dcf9cac581d26ce...   \n",
       "\n",
       "        Device Name File Version  Space Used  \n",
       "1207386         NaN          NaN      721883  \n",
       "1207387         NaN          NaN     2276050  \n",
       "1207388         NaN          NaN      972480  \n",
       "1207389         NaN          NaN     1440140  \n",
       "1207390         NaN          NaN    41889549  "
      ]
     },
     "execution_count": 21,
     "metadata": {},
     "output_type": "execute_result"
    }
   ],
   "source": [
    "data.tail()"
   ]
  },
  {
   "cell_type": "code",
   "execution_count": 22,
   "metadata": {},
   "outputs": [
    {
     "name": "stdout",
     "output_type": "stream",
     "text": [
      "<class 'pandas.core.frame.DataFrame'>\n",
      "RangeIndex: 1207391 entries, 0 to 1207390\n",
      "Data columns (total 13 columns):\n",
      " #   Column            Non-Null Count    Dtype         \n",
      "---  ------            --------------    -----         \n",
      " 0   File/Folder       1207391 non-null  object        \n",
      " 1   Target Path/Link  333662 non-null   object        \n",
      " 2   User/Location     1207391 non-null  object        \n",
      " 3   User ID           1207391 non-null  int64         \n",
      " 4   Transaction Type  1207391 non-null  object        \n",
      " 5   Action Info       27446 non-null    object        \n",
      " 6   Access            1207391 non-null  object        \n",
      " 7   Time              1207391 non-null  datetime64[ns]\n",
      " 8   IP Address        989578 non-null   object        \n",
      " 9   File Checksum     890338 non-null   object        \n",
      " 10  Device Name       28738 non-null    object        \n",
      " 11  File Version      851012 non-null   object        \n",
      " 12  Space Used        1207391 non-null  int64         \n",
      "dtypes: datetime64[ns](1), int64(2), object(10)\n",
      "memory usage: 119.8+ MB\n"
     ]
    }
   ],
   "source": [
    "data.info()"
   ]
  },
  {
   "cell_type": "code",
   "execution_count": 46,
   "metadata": {},
   "outputs": [
    {
     "data": {
      "text/plain": [
       "Timestamp('2024-01-31 00:00:00')"
      ]
     },
     "execution_count": 46,
     "metadata": {},
     "output_type": "execute_result"
    }
   ],
   "source": [
    "max(data['Time'])"
   ]
  },
  {
   "cell_type": "code",
   "execution_count": 47,
   "metadata": {},
   "outputs": [
    {
     "data": {
      "text/plain": [
       "Timestamp('2024-01-09 00:00:00')"
      ]
     },
     "execution_count": 47,
     "metadata": {},
     "output_type": "execute_result"
    }
   ],
   "source": [
    "min(data['Time'])"
   ]
  },
  {
   "cell_type": "code",
   "execution_count": 17,
   "metadata": {},
   "outputs": [],
   "source": [
    "data.to_csv('data\\Ignite_Users.csv', index=False)"
   ]
  },
  {
   "cell_type": "markdown",
   "metadata": {},
   "source": [
    "### Existing Data "
   ]
  },
  {
   "cell_type": "code",
   "execution_count": 48,
   "metadata": {},
   "outputs": [
    {
     "name": "stderr",
     "output_type": "stream",
     "text": [
      "C:\\Users\\pis05408.PINNACLE\\AppData\\Local\\Temp\\ipykernel_29240\\1385750862.py:3: DtypeWarning: Columns (5,9,10,11) have mixed types. Specify dtype option on import or set low_memory=False.\n",
      "  old_data = pd.read_csv(file_path_old)\n"
     ]
    }
   ],
   "source": [
    "file_path_old = r'data\\joined_data.csv'\n",
    "\n",
    "old_data = pd.read_csv(file_path_old)"
   ]
  },
  {
   "cell_type": "code",
   "execution_count": 49,
   "metadata": {},
   "outputs": [
    {
     "name": "stdout",
     "output_type": "stream",
     "text": [
      "(1938871, 13)\n"
     ]
    },
    {
     "data": {
      "text/html": [
       "<div>\n",
       "<style scoped>\n",
       "    .dataframe tbody tr th:only-of-type {\n",
       "        vertical-align: middle;\n",
       "    }\n",
       "\n",
       "    .dataframe tbody tr th {\n",
       "        vertical-align: top;\n",
       "    }\n",
       "\n",
       "    .dataframe thead th {\n",
       "        text-align: right;\n",
       "    }\n",
       "</style>\n",
       "<table border=\"1\" class=\"dataframe\">\n",
       "  <thead>\n",
       "    <tr style=\"text-align: right;\">\n",
       "      <th></th>\n",
       "      <th>File/Folder</th>\n",
       "      <th>Target Path/Link</th>\n",
       "      <th>User/Location</th>\n",
       "      <th>User ID</th>\n",
       "      <th>Transaction Type</th>\n",
       "      <th>Action Info</th>\n",
       "      <th>Access</th>\n",
       "      <th>Time</th>\n",
       "      <th>IP Address</th>\n",
       "      <th>File Checksum</th>\n",
       "      <th>Device Name</th>\n",
       "      <th>File Version</th>\n",
       "      <th>Space Used</th>\n",
       "    </tr>\n",
       "  </thead>\n",
       "  <tbody>\n",
       "    <tr>\n",
       "      <th>0</th>\n",
       "      <td>/Shared/DGP-MECH-08/Kilgore Industries/KGI_004...</td>\n",
       "      <td>NaN</td>\n",
       "      <td>Quaddus Booth ( qbooth@kilgoreind.com )</td>\n",
       "      <td>748</td>\n",
       "      <td>Lock File</td>\n",
       "      <td>NaN</td>\n",
       "      <td>Desktop App</td>\n",
       "      <td>2023-10-11</td>\n",
       "      <td>216.74.235.178</td>\n",
       "      <td>93b97fb960bfe412bd71458823598142c58338f0548e5c...</td>\n",
       "      <td>NaN</td>\n",
       "      <td>NaN</td>\n",
       "      <td>0</td>\n",
       "    </tr>\n",
       "    <tr>\n",
       "      <th>1</th>\n",
       "      <td>/Shared/DGP-MECH-08/Kilgore Industries/KGI_004...</td>\n",
       "      <td>NaN</td>\n",
       "      <td>Quaddus Booth ( qbooth@kilgoreind.com )</td>\n",
       "      <td>748</td>\n",
       "      <td>Lock File</td>\n",
       "      <td>NaN</td>\n",
       "      <td>Desktop App</td>\n",
       "      <td>2023-10-11</td>\n",
       "      <td>216.74.235.178</td>\n",
       "      <td>0b5f029877641523e384ca72ccc30fd3602c4357b01983...</td>\n",
       "      <td>NaN</td>\n",
       "      <td>NaN</td>\n",
       "      <td>0</td>\n",
       "    </tr>\n",
       "    <tr>\n",
       "      <th>2</th>\n",
       "      <td>/Shared/DGP-MECH-08/Kilgore Industries/KGI_004...</td>\n",
       "      <td>NaN</td>\n",
       "      <td>Quaddus Booth ( qbooth@kilgoreind.com )</td>\n",
       "      <td>748</td>\n",
       "      <td>Lock File</td>\n",
       "      <td>NaN</td>\n",
       "      <td>Desktop App</td>\n",
       "      <td>2023-10-11</td>\n",
       "      <td>216.74.235.178</td>\n",
       "      <td>e8ce5614ad0a2e2210d633e6ea105ea4906fe7614c6654...</td>\n",
       "      <td>NaN</td>\n",
       "      <td>NaN</td>\n",
       "      <td>0</td>\n",
       "    </tr>\n",
       "    <tr>\n",
       "      <th>3</th>\n",
       "      <td>/Shared/DGP-MECH-08/Kilgore Industries/KGI_004...</td>\n",
       "      <td>NaN</td>\n",
       "      <td>Quaddus Booth ( qbooth@kilgoreind.com )</td>\n",
       "      <td>748</td>\n",
       "      <td>Lock File</td>\n",
       "      <td>NaN</td>\n",
       "      <td>Desktop App</td>\n",
       "      <td>2023-10-11</td>\n",
       "      <td>216.74.235.178</td>\n",
       "      <td>f669687d62ca2871258d95275bd50d072377e5808cf7cc...</td>\n",
       "      <td>NaN</td>\n",
       "      <td>NaN</td>\n",
       "      <td>0</td>\n",
       "    </tr>\n",
       "    <tr>\n",
       "      <th>4</th>\n",
       "      <td>/Shared/DGP-MECH-08/Kilgore Industries/KGI_004...</td>\n",
       "      <td>NaN</td>\n",
       "      <td>Quaddus Booth ( qbooth@kilgoreind.com )</td>\n",
       "      <td>748</td>\n",
       "      <td>Lock File</td>\n",
       "      <td>NaN</td>\n",
       "      <td>Desktop App</td>\n",
       "      <td>2023-10-11</td>\n",
       "      <td>216.74.235.178</td>\n",
       "      <td>93b97fb960bfe412bd71458823598142c58338f0548e5c...</td>\n",
       "      <td>NaN</td>\n",
       "      <td>NaN</td>\n",
       "      <td>0</td>\n",
       "    </tr>\n",
       "  </tbody>\n",
       "</table>\n",
       "</div>"
      ],
      "text/plain": [
       "                                         File/Folder Target Path/Link  \\\n",
       "0  /Shared/DGP-MECH-08/Kilgore Industries/KGI_004...              NaN   \n",
       "1  /Shared/DGP-MECH-08/Kilgore Industries/KGI_004...              NaN   \n",
       "2  /Shared/DGP-MECH-08/Kilgore Industries/KGI_004...              NaN   \n",
       "3  /Shared/DGP-MECH-08/Kilgore Industries/KGI_004...              NaN   \n",
       "4  /Shared/DGP-MECH-08/Kilgore Industries/KGI_004...              NaN   \n",
       "\n",
       "                             User/Location  User ID Transaction Type  \\\n",
       "0  Quaddus Booth ( qbooth@kilgoreind.com )      748        Lock File   \n",
       "1  Quaddus Booth ( qbooth@kilgoreind.com )      748        Lock File   \n",
       "2  Quaddus Booth ( qbooth@kilgoreind.com )      748        Lock File   \n",
       "3  Quaddus Booth ( qbooth@kilgoreind.com )      748        Lock File   \n",
       "4  Quaddus Booth ( qbooth@kilgoreind.com )      748        Lock File   \n",
       "\n",
       "  Action Info       Access        Time      IP Address  \\\n",
       "0         NaN  Desktop App  2023-10-11  216.74.235.178   \n",
       "1         NaN  Desktop App  2023-10-11  216.74.235.178   \n",
       "2         NaN  Desktop App  2023-10-11  216.74.235.178   \n",
       "3         NaN  Desktop App  2023-10-11  216.74.235.178   \n",
       "4         NaN  Desktop App  2023-10-11  216.74.235.178   \n",
       "\n",
       "                                       File Checksum Device Name File Version  \\\n",
       "0  93b97fb960bfe412bd71458823598142c58338f0548e5c...         NaN          NaN   \n",
       "1  0b5f029877641523e384ca72ccc30fd3602c4357b01983...         NaN          NaN   \n",
       "2  e8ce5614ad0a2e2210d633e6ea105ea4906fe7614c6654...         NaN          NaN   \n",
       "3  f669687d62ca2871258d95275bd50d072377e5808cf7cc...         NaN          NaN   \n",
       "4  93b97fb960bfe412bd71458823598142c58338f0548e5c...         NaN          NaN   \n",
       "\n",
       "   Space Used  \n",
       "0           0  \n",
       "1           0  \n",
       "2           0  \n",
       "3           0  \n",
       "4           0  "
      ]
     },
     "execution_count": 49,
     "metadata": {},
     "output_type": "execute_result"
    }
   ],
   "source": [
    "print(old_data.shape)\n",
    "old_data.head()"
   ]
  },
  {
   "cell_type": "code",
   "execution_count": 50,
   "metadata": {},
   "outputs": [],
   "source": [
    "merged_data_12thfeb = pd.concat([data,old_data], axis=0)"
   ]
  },
  {
   "cell_type": "code",
   "execution_count": 53,
   "metadata": {},
   "outputs": [],
   "source": [
    "merged_data_12thfeb['Time'] = pd.to_datetime(merged_data_12thfeb['Time'])"
   ]
  },
  {
   "cell_type": "code",
   "execution_count": 54,
   "metadata": {},
   "outputs": [
    {
     "name": "stdout",
     "output_type": "stream",
     "text": [
      "(2179600, 13)\n"
     ]
    }
   ],
   "source": [
    "print(merged_data_12thfeb.shape)"
   ]
  },
  {
   "cell_type": "code",
   "execution_count": 55,
   "metadata": {},
   "outputs": [
    {
     "data": {
      "text/html": [
       "<div>\n",
       "<style scoped>\n",
       "    .dataframe tbody tr th:only-of-type {\n",
       "        vertical-align: middle;\n",
       "    }\n",
       "\n",
       "    .dataframe tbody tr th {\n",
       "        vertical-align: top;\n",
       "    }\n",
       "\n",
       "    .dataframe thead th {\n",
       "        text-align: right;\n",
       "    }\n",
       "</style>\n",
       "<table border=\"1\" class=\"dataframe\">\n",
       "  <thead>\n",
       "    <tr style=\"text-align: right;\">\n",
       "      <th></th>\n",
       "      <th>File/Folder</th>\n",
       "      <th>Target Path/Link</th>\n",
       "      <th>User/Location</th>\n",
       "      <th>User ID</th>\n",
       "      <th>Transaction Type</th>\n",
       "      <th>Action Info</th>\n",
       "      <th>Access</th>\n",
       "      <th>Time</th>\n",
       "      <th>IP Address</th>\n",
       "      <th>File Checksum</th>\n",
       "      <th>Device Name</th>\n",
       "      <th>File Version</th>\n",
       "      <th>Space Used</th>\n",
       "    </tr>\n",
       "  </thead>\n",
       "  <tbody>\n",
       "    <tr>\n",
       "      <th>0</th>\n",
       "      <td>/Shared/Communication Team/Marketing Repositor...</td>\n",
       "      <td>NaN</td>\n",
       "      <td>Sarvesh Kekatpure ( skekatpure@pinnacleinfotec...</td>\n",
       "      <td>576</td>\n",
       "      <td>Preview</td>\n",
       "      <td>NaN</td>\n",
       "      <td>Web UI</td>\n",
       "      <td>2024-01-09</td>\n",
       "      <td>64.24.130.250</td>\n",
       "      <td>ce3d2bc79c20e074ccc4203349ee0678e12510abc30efb...</td>\n",
       "      <td>NaN</td>\n",
       "      <td>77fcad01-6dc4-4dcb-be7f-0ee396f05323</td>\n",
       "      <td>9845902</td>\n",
       "    </tr>\n",
       "    <tr>\n",
       "      <th>1</th>\n",
       "      <td>/Shared/Communication Team/Marketing Repositor...</td>\n",
       "      <td>NaN</td>\n",
       "      <td>Sarvesh Kekatpure ( skekatpure@pinnacleinfotec...</td>\n",
       "      <td>576</td>\n",
       "      <td>Preview</td>\n",
       "      <td>NaN</td>\n",
       "      <td>Web UI</td>\n",
       "      <td>2024-01-09</td>\n",
       "      <td>64.24.130.250</td>\n",
       "      <td>ce3d2bc79c20e074ccc4203349ee0678e12510abc30efb...</td>\n",
       "      <td>NaN</td>\n",
       "      <td>77fcad01-6dc4-4dcb-be7f-0ee396f05323</td>\n",
       "      <td>9845902</td>\n",
       "    </tr>\n",
       "    <tr>\n",
       "      <th>2</th>\n",
       "      <td>/Shared/DGP-MECH-02/CES/CES_0050_Long_FL_ERAU ...</td>\n",
       "      <td>NaN</td>\n",
       "      <td>Jerry Martin ( jerrym@cesmechanical.com )</td>\n",
       "      <td>515</td>\n",
       "      <td>Create Folder</td>\n",
       "      <td>NaN</td>\n",
       "      <td>Web UI</td>\n",
       "      <td>2024-01-09</td>\n",
       "      <td>65.155.199.10</td>\n",
       "      <td>NaN</td>\n",
       "      <td>NaN</td>\n",
       "      <td>NaN</td>\n",
       "      <td>0</td>\n",
       "    </tr>\n",
       "    <tr>\n",
       "      <th>3</th>\n",
       "      <td>/Shared/DGP-MECH-02/CES/CES_0050_Long_FL_ERAU ...</td>\n",
       "      <td>NaN</td>\n",
       "      <td>Jerry Martin ( jerrym@cesmechanical.com )</td>\n",
       "      <td>515</td>\n",
       "      <td>Upload</td>\n",
       "      <td>NaN</td>\n",
       "      <td>Web UI</td>\n",
       "      <td>2024-01-09</td>\n",
       "      <td>65.155.199.10</td>\n",
       "      <td>b96ba85b8ba04bc9488c0185c05ba2aa2fbc1bbfef0b9b...</td>\n",
       "      <td>NaN</td>\n",
       "      <td>48478e61-d589-4eb6-a59f-1de41b061405</td>\n",
       "      <td>610242</td>\n",
       "    </tr>\n",
       "    <tr>\n",
       "      <th>4</th>\n",
       "      <td>/Shared/DGP-MECH-02/CES/CES_0050_Long_FL_ERAU ...</td>\n",
       "      <td>NaN</td>\n",
       "      <td>Jerry Martin ( jerrym@cesmechanical.com )</td>\n",
       "      <td>515</td>\n",
       "      <td>Upload</td>\n",
       "      <td>NaN</td>\n",
       "      <td>Web UI</td>\n",
       "      <td>2024-01-09</td>\n",
       "      <td>65.155.199.10</td>\n",
       "      <td>d2a6ef9fec9b1c8dbacc18b0b9f5f8014b0955f7e3269a...</td>\n",
       "      <td>NaN</td>\n",
       "      <td>f22821ac-45f1-4922-8a1c-e77e66e71066</td>\n",
       "      <td>715992</td>\n",
       "    </tr>\n",
       "  </tbody>\n",
       "</table>\n",
       "</div>"
      ],
      "text/plain": [
       "                                         File/Folder Target Path/Link  \\\n",
       "0  /Shared/Communication Team/Marketing Repositor...              NaN   \n",
       "1  /Shared/Communication Team/Marketing Repositor...              NaN   \n",
       "2  /Shared/DGP-MECH-02/CES/CES_0050_Long_FL_ERAU ...              NaN   \n",
       "3  /Shared/DGP-MECH-02/CES/CES_0050_Long_FL_ERAU ...              NaN   \n",
       "4  /Shared/DGP-MECH-02/CES/CES_0050_Long_FL_ERAU ...              NaN   \n",
       "\n",
       "                                       User/Location  User ID  \\\n",
       "0  Sarvesh Kekatpure ( skekatpure@pinnacleinfotec...      576   \n",
       "1  Sarvesh Kekatpure ( skekatpure@pinnacleinfotec...      576   \n",
       "2          Jerry Martin ( jerrym@cesmechanical.com )      515   \n",
       "3          Jerry Martin ( jerrym@cesmechanical.com )      515   \n",
       "4          Jerry Martin ( jerrym@cesmechanical.com )      515   \n",
       "\n",
       "  Transaction Type Action Info  Access       Time     IP Address  \\\n",
       "0          Preview         NaN  Web UI 2024-01-09  64.24.130.250   \n",
       "1          Preview         NaN  Web UI 2024-01-09  64.24.130.250   \n",
       "2    Create Folder         NaN  Web UI 2024-01-09  65.155.199.10   \n",
       "3           Upload         NaN  Web UI 2024-01-09  65.155.199.10   \n",
       "4           Upload         NaN  Web UI 2024-01-09  65.155.199.10   \n",
       "\n",
       "                                       File Checksum Device Name  \\\n",
       "0  ce3d2bc79c20e074ccc4203349ee0678e12510abc30efb...         NaN   \n",
       "1  ce3d2bc79c20e074ccc4203349ee0678e12510abc30efb...         NaN   \n",
       "2                                                NaN         NaN   \n",
       "3  b96ba85b8ba04bc9488c0185c05ba2aa2fbc1bbfef0b9b...         NaN   \n",
       "4  d2a6ef9fec9b1c8dbacc18b0b9f5f8014b0955f7e3269a...         NaN   \n",
       "\n",
       "                           File Version  Space Used  \n",
       "0  77fcad01-6dc4-4dcb-be7f-0ee396f05323     9845902  \n",
       "1  77fcad01-6dc4-4dcb-be7f-0ee396f05323     9845902  \n",
       "2                                   NaN           0  \n",
       "3  48478e61-d589-4eb6-a59f-1de41b061405      610242  \n",
       "4  f22821ac-45f1-4922-8a1c-e77e66e71066      715992  "
      ]
     },
     "execution_count": 55,
     "metadata": {},
     "output_type": "execute_result"
    }
   ],
   "source": [
    "merged_data_12thfeb.head()"
   ]
  },
  {
   "cell_type": "code",
   "execution_count": 57,
   "metadata": {},
   "outputs": [],
   "source": [
    "merged_data_12thfeb.to_csv('data\\Ignite_Users_12thFeb.csv', index=False)"
   ]
  },
  {
   "cell_type": "code",
   "execution_count": null,
   "metadata": {},
   "outputs": [],
   "source": [
    "# def extract_email(text):\n",
    "#   try:\n",
    "#     start = text.find(\"(\") + 1\n",
    "#     end = text.find(\")\")\n",
    "#     return text[start:end].strip()\n",
    "#   except:\n",
    "#     return \"Null\"\n",
    "\n",
    "# data['Name'] = data['User/Location'].apply(extract_email)"
   ]
  },
  {
   "cell_type": "markdown",
   "metadata": {},
   "source": [
    "### Ignite User report data"
   ]
  },
  {
   "cell_type": "code",
   "execution_count": 64,
   "metadata": {},
   "outputs": [],
   "source": [
    "file_path_report = r'data\\Egnyte_Users_13022024.csv'\n",
    "\n",
    "report_data = pd.read_csv(file_path_report)"
   ]
  },
  {
   "cell_type": "code",
   "execution_count": 65,
   "metadata": {},
   "outputs": [
    {
     "name": "stdout",
     "output_type": "stream",
     "text": [
      "<class 'pandas.core.frame.DataFrame'>\n",
      "RangeIndex: 1952 entries, 0 to 1951\n",
      "Data columns (total 20 columns):\n",
      " #   Column                  Non-Null Count  Dtype  \n",
      "---  ------                  --------------  -----  \n",
      " 0   UserName                1952 non-null   object \n",
      " 1   LastName                1675 non-null   object \n",
      " 2   FirstName               1677 non-null   object \n",
      " 3   Email                   1952 non-null   object \n",
      " 4   Type                    1952 non-null   object \n",
      " 5   Role                    795 non-null    object \n",
      " 6   AuthType                1952 non-null   object \n",
      " 7   Active                  1952 non-null   object \n",
      " 8   IdpUserId               0 non-null      float64\n",
      " 9   UserPrincipalName       0 non-null      float64\n",
      " 10  ExpiryDate              0 non-null      float64\n",
      " 11  DeleteOnExpiry          0 non-null      float64\n",
      " 12  CreatedBy               1951 non-null   object \n",
      " 13  Locked                  1952 non-null   object \n",
      " 14  CreationDate            1952 non-null   object \n",
      " 15  LastActive              1739 non-null   object \n",
      " 16  ManagedByAdkit          1952 non-null   object \n",
      " 17  MostRecentActivityType  1736 non-null   object \n",
      " 18  MostRecentAction        1655 non-null   object \n",
      " 19  DaysInactive            1736 non-null   float64\n",
      "dtypes: float64(5), object(15)\n",
      "memory usage: 305.1+ KB\n"
     ]
    }
   ],
   "source": [
    "report_data.info()"
   ]
  },
  {
   "cell_type": "code",
   "execution_count": 66,
   "metadata": {},
   "outputs": [
    {
     "name": "stderr",
     "output_type": "stream",
     "text": [
      "C:\\Users\\pis05408.PINNACLE\\AppData\\Local\\Temp\\ipykernel_29240\\775382707.py:3: UserWarning: Could not infer format, so each element will be parsed individually, falling back to `dateutil`. To ensure parsing is consistent and as-expected, please specify a format.\n",
      "  report_data[col] = pd.to_datetime(report_data[col])\n",
      "C:\\Users\\pis05408.PINNACLE\\AppData\\Local\\Temp\\ipykernel_29240\\775382707.py:3: UserWarning: Could not infer format, so each element will be parsed individually, falling back to `dateutil`. To ensure parsing is consistent and as-expected, please specify a format.\n",
      "  report_data[col] = pd.to_datetime(report_data[col])\n"
     ]
    }
   ],
   "source": [
    "date_col = ['CreationDate', 'LastActive']\n",
    "for col in date_col:\n",
    "    report_data[col] = pd.to_datetime(report_data[col])"
   ]
  },
  {
   "cell_type": "code",
   "execution_count": 67,
   "metadata": {},
   "outputs": [
    {
     "name": "stdout",
     "output_type": "stream",
     "text": [
      "<class 'pandas.core.frame.DataFrame'>\n",
      "RangeIndex: 1952 entries, 0 to 1951\n",
      "Data columns (total 20 columns):\n",
      " #   Column                  Non-Null Count  Dtype         \n",
      "---  ------                  --------------  -----         \n",
      " 0   UserName                1952 non-null   object        \n",
      " 1   LastName                1675 non-null   object        \n",
      " 2   FirstName               1677 non-null   object        \n",
      " 3   Email                   1952 non-null   object        \n",
      " 4   Type                    1952 non-null   object        \n",
      " 5   Role                    795 non-null    object        \n",
      " 6   AuthType                1952 non-null   object        \n",
      " 7   Active                  1952 non-null   object        \n",
      " 8   IdpUserId               0 non-null      float64       \n",
      " 9   UserPrincipalName       0 non-null      float64       \n",
      " 10  ExpiryDate              0 non-null      float64       \n",
      " 11  DeleteOnExpiry          0 non-null      float64       \n",
      " 12  CreatedBy               1951 non-null   object        \n",
      " 13  Locked                  1952 non-null   object        \n",
      " 14  CreationDate            1952 non-null   datetime64[ns]\n",
      " 15  LastActive              1739 non-null   datetime64[ns]\n",
      " 16  ManagedByAdkit          1952 non-null   object        \n",
      " 17  MostRecentActivityType  1736 non-null   object        \n",
      " 18  MostRecentAction        1655 non-null   object        \n",
      " 19  DaysInactive            1736 non-null   float64       \n",
      "dtypes: datetime64[ns](2), float64(5), object(13)\n",
      "memory usage: 305.1+ KB\n"
     ]
    }
   ],
   "source": [
    "report_data.info()"
   ]
  },
  {
   "cell_type": "code",
   "execution_count": 68,
   "metadata": {},
   "outputs": [
    {
     "data": {
      "text/html": [
       "<div>\n",
       "<style scoped>\n",
       "    .dataframe tbody tr th:only-of-type {\n",
       "        vertical-align: middle;\n",
       "    }\n",
       "\n",
       "    .dataframe tbody tr th {\n",
       "        vertical-align: top;\n",
       "    }\n",
       "\n",
       "    .dataframe thead th {\n",
       "        text-align: right;\n",
       "    }\n",
       "</style>\n",
       "<table border=\"1\" class=\"dataframe\">\n",
       "  <thead>\n",
       "    <tr style=\"text-align: right;\">\n",
       "      <th></th>\n",
       "      <th>UserName</th>\n",
       "      <th>LastName</th>\n",
       "      <th>FirstName</th>\n",
       "      <th>Email</th>\n",
       "      <th>Type</th>\n",
       "      <th>Role</th>\n",
       "      <th>AuthType</th>\n",
       "      <th>Active</th>\n",
       "      <th>IdpUserId</th>\n",
       "      <th>UserPrincipalName</th>\n",
       "      <th>ExpiryDate</th>\n",
       "      <th>DeleteOnExpiry</th>\n",
       "      <th>CreatedBy</th>\n",
       "      <th>Locked</th>\n",
       "      <th>CreationDate</th>\n",
       "      <th>LastActive</th>\n",
       "      <th>ManagedByAdkit</th>\n",
       "      <th>MostRecentActivityType</th>\n",
       "      <th>MostRecentAction</th>\n",
       "      <th>DaysInactive</th>\n",
       "    </tr>\n",
       "  </thead>\n",
       "  <tbody>\n",
       "    <tr>\n",
       "      <th>0</th>\n",
       "      <td>sshukla</td>\n",
       "      <td>Shukla</td>\n",
       "      <td>Shashank</td>\n",
       "      <td>sshukla@pinnacleinfotech.com</td>\n",
       "      <td>power</td>\n",
       "      <td>Power_Restricted</td>\n",
       "      <td>egnyte</td>\n",
       "      <td>yes</td>\n",
       "      <td>NaN</td>\n",
       "      <td>NaN</td>\n",
       "      <td>NaN</td>\n",
       "      <td>NaN</td>\n",
       "      <td>PIS IT</td>\n",
       "      <td>no</td>\n",
       "      <td>2023-08-22</td>\n",
       "      <td>2023-12-30</td>\n",
       "      <td>no</td>\n",
       "      <td>FILE_AUDIT</td>\n",
       "      <td>DOWNLOAD_LINK</td>\n",
       "      <td>45.0</td>\n",
       "    </tr>\n",
       "    <tr>\n",
       "      <th>1</th>\n",
       "      <td>kmanna</td>\n",
       "      <td>Manna</td>\n",
       "      <td>Koushik</td>\n",
       "      <td>kmanna@pinnacleinfotech.com</td>\n",
       "      <td>standard</td>\n",
       "      <td>NaN</td>\n",
       "      <td>egnyte</td>\n",
       "      <td>yes</td>\n",
       "      <td>NaN</td>\n",
       "      <td>NaN</td>\n",
       "      <td>NaN</td>\n",
       "      <td>NaN</td>\n",
       "      <td>Amitava Chakraborty</td>\n",
       "      <td>no</td>\n",
       "      <td>2023-11-28</td>\n",
       "      <td>2023-12-30</td>\n",
       "      <td>no</td>\n",
       "      <td>FILE_AUDIT</td>\n",
       "      <td>ADD_FILE</td>\n",
       "      <td>45.0</td>\n",
       "    </tr>\n",
       "    <tr>\n",
       "      <th>2</th>\n",
       "      <td>kwulf</td>\n",
       "      <td>wulf</td>\n",
       "      <td>kent</td>\n",
       "      <td>kwulf@taftelectric.com</td>\n",
       "      <td>standard</td>\n",
       "      <td>NaN</td>\n",
       "      <td>egnyte</td>\n",
       "      <td>yes</td>\n",
       "      <td>NaN</td>\n",
       "      <td>NaN</td>\n",
       "      <td>NaN</td>\n",
       "      <td>NaN</td>\n",
       "      <td>Niladri Samadder</td>\n",
       "      <td>no</td>\n",
       "      <td>2023-05-09</td>\n",
       "      <td>2023-12-29</td>\n",
       "      <td>no</td>\n",
       "      <td>FILE_AUDIT</td>\n",
       "      <td>DOWNLOAD</td>\n",
       "      <td>45.0</td>\n",
       "    </tr>\n",
       "    <tr>\n",
       "      <th>3</th>\n",
       "      <td>dilips</td>\n",
       "      <td>Singh</td>\n",
       "      <td>Dilip</td>\n",
       "      <td>dilips@pinnacleinfotech.com</td>\n",
       "      <td>power</td>\n",
       "      <td>Power_Restricted</td>\n",
       "      <td>egnyte</td>\n",
       "      <td>yes</td>\n",
       "      <td>NaN</td>\n",
       "      <td>NaN</td>\n",
       "      <td>NaN</td>\n",
       "      <td>NaN</td>\n",
       "      <td>Goutham  Pinnoji</td>\n",
       "      <td>no</td>\n",
       "      <td>2023-09-07</td>\n",
       "      <td>2023-12-29</td>\n",
       "      <td>no</td>\n",
       "      <td>FILE_AUDIT</td>\n",
       "      <td>DOWNLOAD_LINK</td>\n",
       "      <td>45.0</td>\n",
       "    </tr>\n",
       "    <tr>\n",
       "      <th>4</th>\n",
       "      <td>colin</td>\n",
       "      <td>Roach</td>\n",
       "      <td>Colin</td>\n",
       "      <td>colinr@csconstruction.com</td>\n",
       "      <td>standard</td>\n",
       "      <td>NaN</td>\n",
       "      <td>egnyte</td>\n",
       "      <td>yes</td>\n",
       "      <td>NaN</td>\n",
       "      <td>NaN</td>\n",
       "      <td>NaN</td>\n",
       "      <td>NaN</td>\n",
       "      <td>Satheesh Rajendran</td>\n",
       "      <td>no</td>\n",
       "      <td>2023-10-10</td>\n",
       "      <td>2023-12-29</td>\n",
       "      <td>no</td>\n",
       "      <td>FILE_AUDIT</td>\n",
       "      <td>DOWNLOAD</td>\n",
       "      <td>45.0</td>\n",
       "    </tr>\n",
       "  </tbody>\n",
       "</table>\n",
       "</div>"
      ],
      "text/plain": [
       "  UserName LastName FirstName                         Email      Type  \\\n",
       "0  sshukla   Shukla  Shashank  sshukla@pinnacleinfotech.com     power   \n",
       "1   kmanna    Manna   Koushik   kmanna@pinnacleinfotech.com  standard   \n",
       "2    kwulf     wulf      kent        kwulf@taftelectric.com  standard   \n",
       "3   dilips    Singh    Dilip    dilips@pinnacleinfotech.com     power   \n",
       "4    colin    Roach     Colin     colinr@csconstruction.com  standard   \n",
       "\n",
       "               Role AuthType Active  IdpUserId  UserPrincipalName  ExpiryDate  \\\n",
       "0  Power_Restricted   egnyte    yes        NaN                NaN         NaN   \n",
       "1               NaN   egnyte    yes        NaN                NaN         NaN   \n",
       "2               NaN   egnyte    yes        NaN                NaN         NaN   \n",
       "3  Power_Restricted   egnyte    yes        NaN                NaN         NaN   \n",
       "4               NaN   egnyte    yes        NaN                NaN         NaN   \n",
       "\n",
       "   DeleteOnExpiry            CreatedBy Locked CreationDate LastActive  \\\n",
       "0             NaN               PIS IT     no   2023-08-22 2023-12-30   \n",
       "1             NaN  Amitava Chakraborty     no   2023-11-28 2023-12-30   \n",
       "2             NaN     Niladri Samadder     no   2023-05-09 2023-12-29   \n",
       "3             NaN     Goutham  Pinnoji     no   2023-09-07 2023-12-29   \n",
       "4             NaN   Satheesh Rajendran     no   2023-10-10 2023-12-29   \n",
       "\n",
       "  ManagedByAdkit MostRecentActivityType MostRecentAction  DaysInactive  \n",
       "0             no             FILE_AUDIT    DOWNLOAD_LINK          45.0  \n",
       "1             no             FILE_AUDIT         ADD_FILE          45.0  \n",
       "2             no             FILE_AUDIT         DOWNLOAD          45.0  \n",
       "3             no             FILE_AUDIT    DOWNLOAD_LINK          45.0  \n",
       "4             no             FILE_AUDIT         DOWNLOAD          45.0  "
      ]
     },
     "execution_count": 68,
     "metadata": {},
     "output_type": "execute_result"
    }
   ],
   "source": [
    "report_data.head()"
   ]
  },
  {
   "cell_type": "code",
   "execution_count": 39,
   "metadata": {},
   "outputs": [],
   "source": [
    "report_data.to_csv('data\\Ignite_User_Report_13thfeb.csv', index=False)"
   ]
  }
 ],
 "metadata": {
  "instance_type": "ml.t3.medium",
  "kernelspec": {
   "display_name": "base",
   "language": "python",
   "name": "python3"
  },
  "language_info": {
   "codemirror_mode": {
    "name": "ipython",
    "version": 3
   },
   "file_extension": ".py",
   "mimetype": "text/x-python",
   "name": "python",
   "nbconvert_exporter": "python",
   "pygments_lexer": "ipython3",
   "version": "3.9.18"
  }
 },
 "nbformat": 4,
 "nbformat_minor": 4
}
