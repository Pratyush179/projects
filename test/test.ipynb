{
 "cells": [
  {
   "cell_type": "code",
   "execution_count": 2,
   "metadata": {},
   "outputs": [],
   "source": [
    "import os\n",
    "import sys"
   ]
  },
  {
   "cell_type": "code",
   "execution_count": 15,
   "metadata": {},
   "outputs": [
    {
     "name": "stdout",
     "output_type": "stream",
     "text": [
      "C:\\Suraj\\projects\\test\n"
     ]
    }
   ],
   "source": [
    "path = r'C:\\Suraj\\projects\\test\\01-sagemaker_feature_store.ipynb'\n",
    "print(os.path.dirname(path))"
   ]
  },
  {
   "cell_type": "code",
   "execution_count": 17,
   "metadata": {},
   "outputs": [
    {
     "data": {
      "text/plain": [
       "'C:\\\\Suraj\\\\projects\\\\test/../../'"
      ]
     },
     "execution_count": 17,
     "metadata": {},
     "output_type": "execute_result"
    }
   ],
   "source": [
    "os.path.dirname(os.path.realpath(path)) + \"/../../\""
   ]
  },
  {
   "cell_type": "code",
   "execution_count": 19,
   "metadata": {},
   "outputs": [
    {
     "name": "stdout",
     "output_type": "stream",
     "text": [
      "C:\\Suraj\\projects\\test\n",
      "C:\\Suraj\\projects\\test\\..\\..\n"
     ]
    }
   ],
   "source": [
    "parent_dir = os.path.dirname(os.path.realpath(path))\n",
    "two_levels_up = os.path.join(parent_dir, '..', '..')\n",
    "print(parent_dir)\n",
    "print(two_levels_up)"
   ]
  },
  {
   "cell_type": "code",
   "execution_count": 12,
   "metadata": {},
   "outputs": [
    {
     "data": {
      "text/plain": [
       "'C:\\\\Suraj\\\\projects\\\\test\\\\test_file.txt'"
      ]
     },
     "execution_count": 12,
     "metadata": {},
     "output_type": "execute_result"
    }
   ],
   "source": [
    "os.path.join(os.path.dirname(path), 'test_file.txt')"
   ]
  },
  {
   "cell_type": "code",
   "execution_count": 13,
   "metadata": {},
   "outputs": [
    {
     "data": {
      "text/plain": [
       "('C:\\\\Suraj\\\\projects\\\\test', '01-sagemaker_feature_store.ipynb')"
      ]
     },
     "execution_count": 13,
     "metadata": {},
     "output_type": "execute_result"
    }
   ],
   "source": [
    "os.path.split(path)"
   ]
  },
  {
   "cell_type": "code",
   "execution_count": 14,
   "metadata": {},
   "outputs": [
    {
     "data": {
      "text/plain": [
       "'C:\\\\Users\\\\pis05408.PINNACLE'"
      ]
     },
     "execution_count": 14,
     "metadata": {},
     "output_type": "execute_result"
    }
   ],
   "source": [
    "os.path.expanduser(\"~\")"
   ]
  },
  {
   "cell_type": "code",
   "execution_count": null,
   "metadata": {},
   "outputs": [],
   "source": [
    "from pdf2image import convert_from_path\n",
    "\n",
    "# Defing the file path\n",
    "file_path = r'data.head(20).head(20).head(20)\\sample.pdf'\n",
    "\n",
    "# Function to convert pdf to image\n",
    "def pdf_to_images(pdf_path):\n",
    "    return convert_from_path(pdf_path)\n",
    "\n",
    "# Calling the function to convert PDF to image\n",
    "images = pdf_to_images(file_path)"
   ]
  },
  {
   "cell_type": "code",
   "execution_count": 5,
   "metadata": {},
   "outputs": [
    {
     "data": {
      "text/plain": [
       "['config.ini']"
      ]
     },
     "execution_count": 5,
     "metadata": {},
     "output_type": "execute_result"
    }
   ],
   "source": [
    "import configparser\n",
    "\n",
    "# Create a ConfigParser object\n",
    "config = configparser.ConfigParser()\n",
    "\n",
    "# Read the configuration from the INI file\n",
    "config.read('config.ini')"
   ]
  },
  {
   "cell_type": "code",
   "execution_count": 8,
   "metadata": {},
   "outputs": [
    {
     "data": {
      "text/plain": [
       "['c9f233c6-8522-49a3-a305-68f572f22742',\n",
       " 'a7f0448d-f858-4785-b3a9-68b784b917e6',\n",
       " '1c7d17cf-7d70-444e-8808-d49bd8e69f44',\n",
       " 'ea2265b1-f7fd-46e8-815a-65bdf1a052b3',\n",
       " 'b42f6c31-84c7-4ce9-9672-2b96548ae3f5',\n",
       " 'a350a3f1-ee94-4770-ac69-b0153d771157',\n",
       " 'a1a109ae-696b-497b-9269-263ce7505d06']"
      ]
     },
     "execution_count": 8,
     "metadata": {},
     "output_type": "execute_result"
    }
   ],
   "source": [
    "eval(config['plugin']['plugin_list'])"
   ]
  },
  {
   "cell_type": "markdown",
   "metadata": {},
   "source": [
    "#### Reading latest file using timestamp from a shared drive"
   ]
  },
  {
   "cell_type": "code",
   "execution_count": 24,
   "metadata": {},
   "outputs": [],
   "source": [
    "import os\n",
    "import glob\n",
    "# import openpyxl\n",
    "import pandas as pd"
   ]
  },
  {
   "cell_type": "code",
   "execution_count": 22,
   "metadata": {},
   "outputs": [],
   "source": [
    "# Define the directory where your files are located\n",
    "directory = r'C:\\Users\\pis05408.PINNACLE\\Desktop\\Suraj\\RnD\\datadump'\n",
    "\n",
    "# Define the pattern to match Excel files with epoch time suffix (e.g., '_<epoch_time>_latest')\n",
    "pattern = 'sf_object_appflow_contact_*_latest.xlsx'\n",
    "\n",
    "# Get a list of Excel files that match the pattern in the directory\n",
    "excel_files = glob.glob(os.path.join(directory, pattern))"
   ]
  },
  {
   "cell_type": "code",
   "execution_count": 26,
   "metadata": {},
   "outputs": [
    {
     "name": "stdout",
     "output_type": "stream",
     "text": [
      "Latest Excel file: C:\\Users\\pis05408.PINNACLE\\Desktop\\Suraj\\RnD\\datadump\\sf_object_appflow_contact_1689775460_latest.xlsx\n"
     ]
    }
   ],
   "source": [
    "# Check if there are any matching Excel files\n",
    "if not excel_files:\n",
    "    print(\"No matching Excel files found in the directory.\")\n",
    "else:\n",
    "    # Extract and sort the Excel files based on their epoch time suffixes\n",
    "    sorted_excel_files = sorted(excel_files, key=lambda x: int(x.split('_')[-2]), reverse=True)\n",
    "    \n",
    "    if sorted_excel_files:\n",
    "        # Get the latest Excel file (first in the sorted list)\n",
    "        latest_excel_file = sorted_excel_files[0]\n",
    "        \n",
    "        # Read the Excel file into a DataFrame using pandas\n",
    "        df = pd.read_excel(latest_excel_file)\n",
    "        \n",
    "        # # Now, you can work with the DataFrame 'df' as needed\n",
    "        # print(\"DataFrame created from the latest Excel file:\")\n",
    "        # print(df)\n",
    "        \n",
    "        # Print the latest Excel file's name\n",
    "        print(\"Latest Excel file:\", latest_excel_file)\n",
    "    else:\n",
    "        print(\"No Excel files with valid epoch time suffix found in the directory.\")"
   ]
  },
  {
   "cell_type": "code",
   "execution_count": 27,
   "metadata": {},
   "outputs": [
    {
     "data": {
      "text/html": [
       "<div>\n",
       "<style scoped>\n",
       "    .dataframe tbody tr th:only-of-type {\n",
       "        vertical-align: middle;\n",
       "    }\n",
       "\n",
       "    .dataframe tbody tr th {\n",
       "        vertical-align: top;\n",
       "    }\n",
       "\n",
       "    .dataframe thead th {\n",
       "        text-align: right;\n",
       "    }\n",
       "</style>\n",
       "<table border=\"1\" class=\"dataframe\">\n",
       "  <thead>\n",
       "    <tr style=\"text-align: right;\">\n",
       "      <th></th>\n",
       "      <th>id</th>\n",
       "      <th>isdeleted</th>\n",
       "      <th>masterrecordid</th>\n",
       "      <th>accountid</th>\n",
       "      <th>lastname</th>\n",
       "      <th>firstname</th>\n",
       "      <th>salutation</th>\n",
       "      <th>name</th>\n",
       "      <th>otherstreet</th>\n",
       "      <th>othercity</th>\n",
       "      <th>...</th>\n",
       "      <th>rcsfl__sendsms__c</th>\n",
       "      <th>call_response__c</th>\n",
       "      <th>dialpad__powerdialer_assigned_list__c</th>\n",
       "      <th>dialpad__powerdialer_dialed_list__c</th>\n",
       "      <th>dialpad__powerdialer_last_dialed_via__c</th>\n",
       "      <th>dialpad__totalnumberoftimesdialed__c</th>\n",
       "      <th>status_for_bim_sumit_2023__c</th>\n",
       "      <th>tracking_1__c</th>\n",
       "      <th>dialpad__iscreatedfromdialpad__c</th>\n",
       "      <th>dialpad__timezone__c</th>\n",
       "    </tr>\n",
       "  </thead>\n",
       "  <tbody>\n",
       "    <tr>\n",
       "      <th>0</th>\n",
       "      <td>0032T00002q7kNHQAY</td>\n",
       "      <td>False</td>\n",
       "      <td>NaN</td>\n",
       "      <td>0012T00001uTUJUQA4</td>\n",
       "      <td>Tng</td>\n",
       "      <td>Bida</td>\n",
       "      <td>NaN</td>\n",
       "      <td>Bida Tng</td>\n",
       "      <td>NaN</td>\n",
       "      <td>NaN</td>\n",
       "      <td>...</td>\n",
       "      <td>&lt;a href=\"javascript:alert(&amp;quot;JavaScript is ...</td>\n",
       "      <td>False</td>\n",
       "      <td>NaN</td>\n",
       "      <td>NaN</td>\n",
       "      <td>NaN</td>\n",
       "      <td>NaN</td>\n",
       "      <td>NaN</td>\n",
       "      <td>NaN</td>\n",
       "      <td>False</td>\n",
       "      <td>NaN</td>\n",
       "    </tr>\n",
       "    <tr>\n",
       "      <th>1</th>\n",
       "      <td>0032T00002kmap9QAA</td>\n",
       "      <td>False</td>\n",
       "      <td>NaN</td>\n",
       "      <td>0012T00001uTUJUQA4</td>\n",
       "      <td>Chong</td>\n",
       "      <td>Alex</td>\n",
       "      <td>NaN</td>\n",
       "      <td>Alex Chong</td>\n",
       "      <td>NaN</td>\n",
       "      <td>NaN</td>\n",
       "      <td>...</td>\n",
       "      <td>&lt;a href=\"javascript:alert(&amp;quot;JavaScript is ...</td>\n",
       "      <td>False</td>\n",
       "      <td>NaN</td>\n",
       "      <td>NaN</td>\n",
       "      <td>NaN</td>\n",
       "      <td>NaN</td>\n",
       "      <td>NaN</td>\n",
       "      <td>NaN</td>\n",
       "      <td>False</td>\n",
       "      <td>NaN</td>\n",
       "    </tr>\n",
       "    <tr>\n",
       "      <th>2</th>\n",
       "      <td>0032T00002knZ7vQAE</td>\n",
       "      <td>False</td>\n",
       "      <td>NaN</td>\n",
       "      <td>0012T00001uTUJUQA4</td>\n",
       "      <td>Yong</td>\n",
       "      <td>Chong Tse</td>\n",
       "      <td>NaN</td>\n",
       "      <td>Chong Tse Yong</td>\n",
       "      <td>NaN</td>\n",
       "      <td>NaN</td>\n",
       "      <td>...</td>\n",
       "      <td>&lt;a href=\"javascript:alert(&amp;quot;JavaScript is ...</td>\n",
       "      <td>False</td>\n",
       "      <td>NaN</td>\n",
       "      <td>NaN</td>\n",
       "      <td>NaN</td>\n",
       "      <td>NaN</td>\n",
       "      <td>NaN</td>\n",
       "      <td>NaN</td>\n",
       "      <td>False</td>\n",
       "      <td>NaN</td>\n",
       "    </tr>\n",
       "    <tr>\n",
       "      <th>3</th>\n",
       "      <td>00334000022II0ZAAW</td>\n",
       "      <td>False</td>\n",
       "      <td>NaN</td>\n",
       "      <td>0013400001SzSQIAA3</td>\n",
       "      <td>Jackson</td>\n",
       "      <td>Julie</td>\n",
       "      <td>Ms.</td>\n",
       "      <td>Julie Jackson</td>\n",
       "      <td>NaN</td>\n",
       "      <td>NaN</td>\n",
       "      <td>...</td>\n",
       "      <td>&lt;a href=\"javascript:alert(&amp;quot;JavaScript is ...</td>\n",
       "      <td>False</td>\n",
       "      <td>NaN</td>\n",
       "      <td>NaN</td>\n",
       "      <td>NaN</td>\n",
       "      <td>NaN</td>\n",
       "      <td>NaN</td>\n",
       "      <td>NaN</td>\n",
       "      <td>False</td>\n",
       "      <td>NaN</td>\n",
       "    </tr>\n",
       "    <tr>\n",
       "      <th>4</th>\n",
       "      <td>0032T00002gzgTUQAY</td>\n",
       "      <td>False</td>\n",
       "      <td>NaN</td>\n",
       "      <td>0012T00001uQHTCQA4</td>\n",
       "      <td>Erwin</td>\n",
       "      <td>William</td>\n",
       "      <td>Mr.</td>\n",
       "      <td>William Erwin</td>\n",
       "      <td>NaN</td>\n",
       "      <td>NaN</td>\n",
       "      <td>...</td>\n",
       "      <td>&lt;a href=\"javascript:alert(&amp;quot;JavaScript is ...</td>\n",
       "      <td>False</td>\n",
       "      <td>NaN</td>\n",
       "      <td>NaN</td>\n",
       "      <td>NaN</td>\n",
       "      <td>NaN</td>\n",
       "      <td>NaN</td>\n",
       "      <td>NaN</td>\n",
       "      <td>False</td>\n",
       "      <td>NaN</td>\n",
       "    </tr>\n",
       "  </tbody>\n",
       "</table>\n",
       "<p>5 rows × 146 columns</p>\n",
       "</div>"
      ],
      "text/plain": [
       "                   id  isdeleted  masterrecordid           accountid lastname  \\\n",
       "0  0032T00002q7kNHQAY      False             NaN  0012T00001uTUJUQA4      Tng   \n",
       "1  0032T00002kmap9QAA      False             NaN  0012T00001uTUJUQA4    Chong   \n",
       "2  0032T00002knZ7vQAE      False             NaN  0012T00001uTUJUQA4     Yong   \n",
       "3  00334000022II0ZAAW      False             NaN  0013400001SzSQIAA3  Jackson   \n",
       "4  0032T00002gzgTUQAY      False             NaN  0012T00001uQHTCQA4    Erwin   \n",
       "\n",
       "   firstname salutation            name  otherstreet  othercity  ...  \\\n",
       "0       Bida        NaN        Bida Tng          NaN        NaN  ...   \n",
       "1       Alex        NaN      Alex Chong          NaN        NaN  ...   \n",
       "2  Chong Tse        NaN  Chong Tse Yong          NaN        NaN  ...   \n",
       "3      Julie        Ms.   Julie Jackson          NaN        NaN  ...   \n",
       "4    William        Mr.   William Erwin          NaN        NaN  ...   \n",
       "\n",
       "                                   rcsfl__sendsms__c  call_response__c  \\\n",
       "0  <a href=\"javascript:alert(&quot;JavaScript is ...             False   \n",
       "1  <a href=\"javascript:alert(&quot;JavaScript is ...             False   \n",
       "2  <a href=\"javascript:alert(&quot;JavaScript is ...             False   \n",
       "3  <a href=\"javascript:alert(&quot;JavaScript is ...             False   \n",
       "4  <a href=\"javascript:alert(&quot;JavaScript is ...             False   \n",
       "\n",
       "   dialpad__powerdialer_assigned_list__c  dialpad__powerdialer_dialed_list__c  \\\n",
       "0                                    NaN                                  NaN   \n",
       "1                                    NaN                                  NaN   \n",
       "2                                    NaN                                  NaN   \n",
       "3                                    NaN                                  NaN   \n",
       "4                                    NaN                                  NaN   \n",
       "\n",
       "   dialpad__powerdialer_last_dialed_via__c  \\\n",
       "0                                      NaN   \n",
       "1                                      NaN   \n",
       "2                                      NaN   \n",
       "3                                      NaN   \n",
       "4                                      NaN   \n",
       "\n",
       "   dialpad__totalnumberoftimesdialed__c  status_for_bim_sumit_2023__c  \\\n",
       "0                                   NaN                           NaN   \n",
       "1                                   NaN                           NaN   \n",
       "2                                   NaN                           NaN   \n",
       "3                                   NaN                           NaN   \n",
       "4                                   NaN                           NaN   \n",
       "\n",
       "  tracking_1__c dialpad__iscreatedfromdialpad__c dialpad__timezone__c  \n",
       "0           NaN                            False                  NaN  \n",
       "1           NaN                            False                  NaN  \n",
       "2           NaN                            False                  NaN  \n",
       "3           NaN                            False                  NaN  \n",
       "4           NaN                            False                  NaN  \n",
       "\n",
       "[5 rows x 146 columns]"
      ]
     },
     "execution_count": 27,
     "metadata": {},
     "output_type": "execute_result"
    }
   ],
   "source": [
    "df.head()"
   ]
  },
  {
   "cell_type": "code",
   "execution_count": 60,
   "metadata": {},
   "outputs": [],
   "source": [
    "import pandas as pd\n",
    "import json\n",
    "import numpy as np"
   ]
  },
  {
   "cell_type": "code",
   "execution_count": 6,
   "metadata": {},
   "outputs": [],
   "source": [
    "file_path = r'C:\\Users\\pis05408.PINNACLE\\Downloads\\-103555222-2023-11-29T18_35_37'"
   ]
  },
  {
   "cell_type": "code",
   "execution_count": 95,
   "metadata": {},
   "outputs": [],
   "source": [
    "json_objects = []\n",
    "\n",
    "with open(file_path, 'r') as file:\n",
    "    for line in file:\n",
    "        try:\n",
    "            # Parse each line as a JSON object\n",
    "            json_object = json.loads(line)\n",
    "            json_objects.append(json_object)\n",
    "        except json.JSONDecodeError:\n",
    "            # If a line is not a valid JSON object, ignore it\n",
    "            continue"
   ]
  },
  {
   "cell_type": "code",
   "execution_count": 96,
   "metadata": {},
   "outputs": [
    {
     "data": {
      "text/html": [
       "<div>\n",
       "<style scoped>\n",
       "    .dataframe tbody tr th:only-of-type {\n",
       "        vertical-align: middle;\n",
       "    }\n",
       "\n",
       "    .dataframe tbody tr th {\n",
       "        vertical-align: top;\n",
       "    }\n",
       "\n",
       "    .dataframe thead th {\n",
       "        text-align: right;\n",
       "    }\n",
       "</style>\n",
       "<table border=\"1\" class=\"dataframe\">\n",
       "  <thead>\n",
       "    <tr style=\"text-align: right;\">\n",
       "      <th></th>\n",
       "      <th>Id</th>\n",
       "      <th>Line</th>\n",
       "      <th>SyncToken</th>\n",
       "      <th>DocNumber</th>\n",
       "      <th>TxnDate</th>\n",
       "      <th>PrintStatus</th>\n",
       "      <th>LinkedTxn</th>\n",
       "      <th>DueDate</th>\n",
       "      <th>EmailStatus</th>\n",
       "      <th>ExchangeRate</th>\n",
       "      <th>...</th>\n",
       "      <th>ShipAddr.PostalCode</th>\n",
       "      <th>BillAddr.City</th>\n",
       "      <th>BillAddr.Country</th>\n",
       "      <th>BillAddr.CountrySubDivisionCode</th>\n",
       "      <th>BillAddr.PostalCode</th>\n",
       "      <th>BillAddr.Lat</th>\n",
       "      <th>BillAddr.Long</th>\n",
       "      <th>ShipAddr.Line5</th>\n",
       "      <th>BillAddr.Line5</th>\n",
       "      <th>CustomerMemo.value</th>\n",
       "    </tr>\n",
       "  </thead>\n",
       "  <tbody>\n",
       "    <tr>\n",
       "      <th>0</th>\n",
       "      <td>48962</td>\n",
       "      <td>[{'Amount': 150.0, 'DetailType': 'SubTotalLine...</td>\n",
       "      <td>3</td>\n",
       "      <td>PI/2019/34468</td>\n",
       "      <td>2019-12-10</td>\n",
       "      <td>NotSet</td>\n",
       "      <td>[{'TxnId': '48902', 'TxnType': 'StatementCharg...</td>\n",
       "      <td>2019-12-10</td>\n",
       "      <td>EmailSent</td>\n",
       "      <td>1.0</td>\n",
       "      <td>...</td>\n",
       "      <td>NaN</td>\n",
       "      <td>NaN</td>\n",
       "      <td>NaN</td>\n",
       "      <td>NaN</td>\n",
       "      <td>NaN</td>\n",
       "      <td>NaN</td>\n",
       "      <td>NaN</td>\n",
       "      <td>NaN</td>\n",
       "      <td>NaN</td>\n",
       "      <td>NaN</td>\n",
       "    </tr>\n",
       "    <tr>\n",
       "      <th>1</th>\n",
       "      <td>49237</td>\n",
       "      <td>[{'Amount': 65.0, 'DetailType': 'SubTotalLineD...</td>\n",
       "      <td>1</td>\n",
       "      <td>PI/2019/34545</td>\n",
       "      <td>2019-12-20</td>\n",
       "      <td>NotSet</td>\n",
       "      <td>[{'TxnId': '49223', 'TxnType': 'StatementCharg...</td>\n",
       "      <td>2019-12-20</td>\n",
       "      <td>EmailSent</td>\n",
       "      <td>1.0</td>\n",
       "      <td>...</td>\n",
       "      <td>NaN</td>\n",
       "      <td>NaN</td>\n",
       "      <td>NaN</td>\n",
       "      <td>NaN</td>\n",
       "      <td>NaN</td>\n",
       "      <td>NaN</td>\n",
       "      <td>NaN</td>\n",
       "      <td>NaN</td>\n",
       "      <td>NaN</td>\n",
       "      <td>NaN</td>\n",
       "    </tr>\n",
       "  </tbody>\n",
       "</table>\n",
       "<p>2 rows × 54 columns</p>\n",
       "</div>"
      ],
      "text/plain": [
       "      Id                                               Line SyncToken  \\\n",
       "0  48962  [{'Amount': 150.0, 'DetailType': 'SubTotalLine...         3   \n",
       "1  49237  [{'Amount': 65.0, 'DetailType': 'SubTotalLineD...         1   \n",
       "\n",
       "       DocNumber     TxnDate PrintStatus  \\\n",
       "0  PI/2019/34468  2019-12-10      NotSet   \n",
       "1  PI/2019/34545  2019-12-20      NotSet   \n",
       "\n",
       "                                           LinkedTxn     DueDate EmailStatus  \\\n",
       "0  [{'TxnId': '48902', 'TxnType': 'StatementCharg...  2019-12-10   EmailSent   \n",
       "1  [{'TxnId': '49223', 'TxnType': 'StatementCharg...  2019-12-20   EmailSent   \n",
       "\n",
       "   ExchangeRate  ... ShipAddr.PostalCode  BillAddr.City  BillAddr.Country  \\\n",
       "0           1.0  ...                 NaN            NaN               NaN   \n",
       "1           1.0  ...                 NaN            NaN               NaN   \n",
       "\n",
       "   BillAddr.CountrySubDivisionCode BillAddr.PostalCode BillAddr.Lat  \\\n",
       "0                              NaN                 NaN          NaN   \n",
       "1                              NaN                 NaN          NaN   \n",
       "\n",
       "  BillAddr.Long ShipAddr.Line5 BillAddr.Line5 CustomerMemo.value  \n",
       "0           NaN            NaN            NaN                NaN  \n",
       "1           NaN            NaN            NaN                NaN  \n",
       "\n",
       "[2 rows x 54 columns]"
      ]
     },
     "execution_count": 96,
     "metadata": {},
     "output_type": "execute_result"
    }
   ],
   "source": [
    "data = pd.json_normalize(json_objects)\n",
    "data.head(2)"
   ]
  },
  {
   "cell_type": "code",
   "execution_count": 121,
   "metadata": {},
   "outputs": [],
   "source": [
    "temp = data.head(10).copy()"
   ]
  },
  {
   "cell_type": "code",
   "execution_count": 122,
   "metadata": {},
   "outputs": [],
   "source": [
    "# len(temp['Line'][0])"
   ]
  },
  {
   "cell_type": "code",
   "execution_count": 123,
   "metadata": {},
   "outputs": [],
   "source": [
    "dict_col_list = ['Line', 'LinkedTxn', 'CustomField']\n",
    "\n",
    "for col in dict_col_list:\n",
    "    for i in np.arange(len(temp[col][0])):\n",
    "        temp_list = temp[col][0][i].keys()\n",
    "        for key in temp_list:\n",
    "            temp[col +'_'+ key + '_' + str(i+1)] = temp[col].apply(lambda x: x[0][key])"
   ]
  },
  {
   "cell_type": "code",
   "execution_count": 111,
   "metadata": {},
   "outputs": [
    {
     "data": {
      "text/plain": [
       "Index(['Id', 'Line', 'SyncToken', 'DocNumber', 'TxnDate', 'PrintStatus',\n",
       "       'LinkedTxn', 'DueDate', 'EmailStatus', 'ExchangeRate', 'CustomField',\n",
       "       'ApplyTaxAfterDiscount', 'TotalAmt', 'Balance', 'CustomerRef.value',\n",
       "       'CustomerRef.name', 'CurrencyRef.value', 'CurrencyRef.name',\n",
       "       'BillEmail.Address', 'SalesTermRef.value', 'SalesTermRef.name',\n",
       "       'MetaData.CreateTime', 'MetaData.LastModifiedByRef.value',\n",
       "       'MetaData.LastUpdatedTime', 'TxnTaxDetail.TotalTax', 'ShipAddr.Id',\n",
       "       'ShipAddr.Line1', 'ShipAddr.Line2', 'ShipAddr.Line3',\n",
       "       'DepartmentRef.value', 'DepartmentRef.name', 'BillAddr.Id',\n",
       "       'BillAddr.Line1', 'BillAddr.Line2', 'BillAddr.Line3', 'ShipFromAddr.Id',\n",
       "       'ShipFromAddr.Line1', 'ShipAddr.Line4', 'BillAddr.Line4',\n",
       "       'TxnTaxDetail.TxnTaxCodeRef.value', 'TxnTaxDetail.TxnTaxCodeRef.name',\n",
       "       'ShipAddr.City', 'ShipAddr.Country', 'ShipAddr.CountrySubDivisionCode',\n",
       "       'ShipAddr.PostalCode', 'BillAddr.City', 'BillAddr.Country',\n",
       "       'BillAddr.CountrySubDivisionCode', 'BillAddr.PostalCode',\n",
       "       'BillAddr.Lat', 'BillAddr.Long', 'ShipAddr.Line5', 'BillAddr.Line5',\n",
       "       'CustomerMemo.value', 'Line_Amount_1', 'Line_DetailType_1',\n",
       "       'Line_SubTotalLineDetail_1', 'LinkedTxn_TxnId_1', 'LinkedTxn_TxnType_1',\n",
       "       'LinkedTxn_TxnId_2', 'LinkedTxn_TxnType_2',\n",
       "       'CustomField_DefinitionId_1', 'CustomField_Name_1',\n",
       "       'CustomField_Type_1', 'CustomField_StringValue_1',\n",
       "       'CustomField_DefinitionId_2', 'CustomField_Name_2',\n",
       "       'CustomField_Type_2', 'CustomField_StringValue_2',\n",
       "       'CustomField_DefinitionId_3', 'CustomField_Name_3',\n",
       "       'CustomField_Type_3', 'CustomField_StringValue_3'],\n",
       "      dtype='object')"
      ]
     },
     "execution_count": 111,
     "metadata": {},
     "output_type": "execute_result"
    }
   ],
   "source": [
    "temp.columns"
   ]
  },
  {
   "cell_type": "code",
   "execution_count": 91,
   "metadata": {},
   "outputs": [
    {
     "data": {
      "text/html": [
       "<div>\n",
       "<style scoped>\n",
       "    .dataframe tbody tr th:only-of-type {\n",
       "        vertical-align: middle;\n",
       "    }\n",
       "\n",
       "    .dataframe tbody tr th {\n",
       "        vertical-align: top;\n",
       "    }\n",
       "\n",
       "    .dataframe thead th {\n",
       "        text-align: right;\n",
       "    }\n",
       "</style>\n",
       "<table border=\"1\" class=\"dataframe\">\n",
       "  <thead>\n",
       "    <tr style=\"text-align: right;\">\n",
       "      <th></th>\n",
       "      <th>Id</th>\n",
       "      <th>Line</th>\n",
       "      <th>SyncToken</th>\n",
       "      <th>DocNumber</th>\n",
       "      <th>TxnDate</th>\n",
       "      <th>PrintStatus</th>\n",
       "      <th>LinkedTxn</th>\n",
       "      <th>DueDate</th>\n",
       "      <th>EmailStatus</th>\n",
       "      <th>ExchangeRate</th>\n",
       "      <th>...</th>\n",
       "      <th>CustomField_Type_1</th>\n",
       "      <th>CustomField_StringValue_1</th>\n",
       "      <th>CustomField_DefinitionId_2</th>\n",
       "      <th>CustomField_Name_2</th>\n",
       "      <th>CustomField_Type_2</th>\n",
       "      <th>CustomField_StringValue_2</th>\n",
       "      <th>CustomField_DefinitionId_3</th>\n",
       "      <th>CustomField_Name_3</th>\n",
       "      <th>CustomField_Type_3</th>\n",
       "      <th>CustomField_StringValue_3</th>\n",
       "    </tr>\n",
       "  </thead>\n",
       "  <tbody>\n",
       "    <tr>\n",
       "      <th>0</th>\n",
       "      <td>48962</td>\n",
       "      <td>[{'Amount': 150.0, 'DetailType': 'SubTotalLine...</td>\n",
       "      <td>3</td>\n",
       "      <td>PI/2019/34468</td>\n",
       "      <td>2019-12-10</td>\n",
       "      <td>NotSet</td>\n",
       "      <td>[{'TxnId': '48902', 'TxnType': 'StatementCharg...</td>\n",
       "      <td>2019-12-10</td>\n",
       "      <td>EmailSent</td>\n",
       "      <td>1.0</td>\n",
       "      <td>...</td>\n",
       "      <td>StringType</td>\n",
       "      <td>Michael McFadyen</td>\n",
       "      <td>1</td>\n",
       "      <td>Order By</td>\n",
       "      <td>StringType</td>\n",
       "      <td>Michael McFadyen</td>\n",
       "      <td>1</td>\n",
       "      <td>Order By</td>\n",
       "      <td>StringType</td>\n",
       "      <td>Michael McFadyen</td>\n",
       "    </tr>\n",
       "    <tr>\n",
       "      <th>1</th>\n",
       "      <td>49237</td>\n",
       "      <td>[{'Amount': 65.0, 'DetailType': 'SubTotalLineD...</td>\n",
       "      <td>1</td>\n",
       "      <td>PI/2019/34545</td>\n",
       "      <td>2019-12-20</td>\n",
       "      <td>NotSet</td>\n",
       "      <td>[{'TxnId': '49223', 'TxnType': 'StatementCharg...</td>\n",
       "      <td>2019-12-20</td>\n",
       "      <td>EmailSent</td>\n",
       "      <td>1.0</td>\n",
       "      <td>...</td>\n",
       "      <td>StringType</td>\n",
       "      <td>Andre Bobbitt</td>\n",
       "      <td>1</td>\n",
       "      <td>Order By</td>\n",
       "      <td>StringType</td>\n",
       "      <td>Andre Bobbitt</td>\n",
       "      <td>1</td>\n",
       "      <td>Order By</td>\n",
       "      <td>StringType</td>\n",
       "      <td>Andre Bobbitt</td>\n",
       "    </tr>\n",
       "  </tbody>\n",
       "</table>\n",
       "<p>2 rows × 73 columns</p>\n",
       "</div>"
      ],
      "text/plain": [
       "      Id                                               Line SyncToken  \\\n",
       "0  48962  [{'Amount': 150.0, 'DetailType': 'SubTotalLine...         3   \n",
       "1  49237  [{'Amount': 65.0, 'DetailType': 'SubTotalLineD...         1   \n",
       "\n",
       "       DocNumber     TxnDate PrintStatus  \\\n",
       "0  PI/2019/34468  2019-12-10      NotSet   \n",
       "1  PI/2019/34545  2019-12-20      NotSet   \n",
       "\n",
       "                                           LinkedTxn     DueDate EmailStatus  \\\n",
       "0  [{'TxnId': '48902', 'TxnType': 'StatementCharg...  2019-12-10   EmailSent   \n",
       "1  [{'TxnId': '49223', 'TxnType': 'StatementCharg...  2019-12-20   EmailSent   \n",
       "\n",
       "   ExchangeRate  ... CustomField_Type_1  CustomField_StringValue_1  \\\n",
       "0           1.0  ...         StringType           Michael McFadyen   \n",
       "1           1.0  ...         StringType              Andre Bobbitt   \n",
       "\n",
       "   CustomField_DefinitionId_2  CustomField_Name_2 CustomField_Type_2  \\\n",
       "0                           1            Order By         StringType   \n",
       "1                           1            Order By         StringType   \n",
       "\n",
       "  CustomField_StringValue_2 CustomField_DefinitionId_3 CustomField_Name_3  \\\n",
       "0          Michael McFadyen                          1           Order By   \n",
       "1             Andre Bobbitt                          1           Order By   \n",
       "\n",
       "  CustomField_Type_3 CustomField_StringValue_3  \n",
       "0         StringType          Michael McFadyen  \n",
       "1         StringType             Andre Bobbitt  \n",
       "\n",
       "[2 rows x 73 columns]"
      ]
     },
     "execution_count": 91,
     "metadata": {},
     "output_type": "execute_result"
    }
   ],
   "source": [
    "temp.head(2)"
   ]
  },
  {
   "cell_type": "code",
   "execution_count": 88,
   "metadata": {},
   "outputs": [
    {
     "name": "stdout",
     "output_type": "stream",
     "text": [
      "0\n"
     ]
    }
   ],
   "source": [
    "for i in np.arange(1):\n",
    "    print(i)"
   ]
  },
  {
   "cell_type": "code",
   "execution_count": 107,
   "metadata": {},
   "outputs": [
    {
     "ename": "KeyError",
     "evalue": "'SubTotalLineDetail'",
     "output_type": "error",
     "traceback": [
      "\u001b[1;31m---------------------------------------------------------------------------\u001b[0m",
      "\u001b[1;31mKeyError\u001b[0m                                  Traceback (most recent call last)",
      "\u001b[1;32mc:\\Suraj\\projects\\test\\test.ipynb Cell 26\u001b[0m line \u001b[0;36m1\n\u001b[0;32m     <a href='vscode-notebook-cell:/c%3A/Suraj/projects/test/test.ipynb#X30sZmlsZQ%3D%3D?line=10'>11</a>\u001b[0m temp_list \u001b[39m=\u001b[39m temp[col][\u001b[39m0\u001b[39m][\u001b[39m0\u001b[39m]\u001b[39m.\u001b[39mkeys()\n\u001b[0;32m     <a href='vscode-notebook-cell:/c%3A/Suraj/projects/test/test.ipynb#X30sZmlsZQ%3D%3D?line=11'>12</a>\u001b[0m \u001b[39mfor\u001b[39;00m key \u001b[39min\u001b[39;00m temp_list:\n\u001b[1;32m---> <a href='vscode-notebook-cell:/c%3A/Suraj/projects/test/test.ipynb#X30sZmlsZQ%3D%3D?line=12'>13</a>\u001b[0m     temp[col\u001b[39m+\u001b[39m\u001b[39m'\u001b[39m\u001b[39m_\u001b[39m\u001b[39m'\u001b[39m\u001b[39m+\u001b[39m key] \u001b[39m=\u001b[39m temp[col]\u001b[39m.\u001b[39;49mapply(\u001b[39mlambda\u001b[39;49;00m x: x[\u001b[39m0\u001b[39;49m][key])\n",
      "File \u001b[1;32mc:\\Suraj\\projects\\test\\env\\lib\\site-packages\\pandas\\core\\series.py:4753\u001b[0m, in \u001b[0;36mSeries.apply\u001b[1;34m(self, func, convert_dtype, args, by_row, **kwargs)\u001b[0m\n\u001b[0;32m   4625\u001b[0m \u001b[39mdef\u001b[39;00m \u001b[39mapply\u001b[39m(\n\u001b[0;32m   4626\u001b[0m     \u001b[39mself\u001b[39m,\n\u001b[0;32m   4627\u001b[0m     func: AggFuncType,\n\u001b[1;32m   (...)\u001b[0m\n\u001b[0;32m   4632\u001b[0m     \u001b[39m*\u001b[39m\u001b[39m*\u001b[39mkwargs,\n\u001b[0;32m   4633\u001b[0m ) \u001b[39m-\u001b[39m\u001b[39m>\u001b[39m DataFrame \u001b[39m|\u001b[39m Series:\n\u001b[0;32m   4634\u001b[0m \u001b[39m    \u001b[39m\u001b[39m\"\"\"\u001b[39;00m\n\u001b[0;32m   4635\u001b[0m \u001b[39m    Invoke function on values of Series.\u001b[39;00m\n\u001b[0;32m   4636\u001b[0m \n\u001b[1;32m   (...)\u001b[0m\n\u001b[0;32m   4751\u001b[0m \u001b[39m    dtype: float64\u001b[39;00m\n\u001b[0;32m   4752\u001b[0m \u001b[39m    \"\"\"\u001b[39;00m\n\u001b[1;32m-> 4753\u001b[0m     \u001b[39mreturn\u001b[39;00m SeriesApply(\n\u001b[0;32m   4754\u001b[0m         \u001b[39mself\u001b[39;49m,\n\u001b[0;32m   4755\u001b[0m         func,\n\u001b[0;32m   4756\u001b[0m         convert_dtype\u001b[39m=\u001b[39;49mconvert_dtype,\n\u001b[0;32m   4757\u001b[0m         by_row\u001b[39m=\u001b[39;49mby_row,\n\u001b[0;32m   4758\u001b[0m         args\u001b[39m=\u001b[39;49margs,\n\u001b[0;32m   4759\u001b[0m         kwargs\u001b[39m=\u001b[39;49mkwargs,\n\u001b[0;32m   4760\u001b[0m     )\u001b[39m.\u001b[39;49mapply()\n",
      "File \u001b[1;32mc:\\Suraj\\projects\\test\\env\\lib\\site-packages\\pandas\\core\\apply.py:1207\u001b[0m, in \u001b[0;36mSeriesApply.apply\u001b[1;34m(self)\u001b[0m\n\u001b[0;32m   1204\u001b[0m     \u001b[39mreturn\u001b[39;00m \u001b[39mself\u001b[39m\u001b[39m.\u001b[39mapply_compat()\n\u001b[0;32m   1206\u001b[0m \u001b[39m# self.func is Callable\u001b[39;00m\n\u001b[1;32m-> 1207\u001b[0m \u001b[39mreturn\u001b[39;00m \u001b[39mself\u001b[39;49m\u001b[39m.\u001b[39;49mapply_standard()\n",
      "File \u001b[1;32mc:\\Suraj\\projects\\test\\env\\lib\\site-packages\\pandas\\core\\apply.py:1287\u001b[0m, in \u001b[0;36mSeriesApply.apply_standard\u001b[1;34m(self)\u001b[0m\n\u001b[0;32m   1281\u001b[0m \u001b[39m# row-wise access\u001b[39;00m\n\u001b[0;32m   1282\u001b[0m \u001b[39m# apply doesn't have a `na_action` keyword and for backward compat reasons\u001b[39;00m\n\u001b[0;32m   1283\u001b[0m \u001b[39m# we need to give `na_action=\"ignore\"` for categorical data.\u001b[39;00m\n\u001b[0;32m   1284\u001b[0m \u001b[39m# TODO: remove the `na_action=\"ignore\"` when that default has been changed in\u001b[39;00m\n\u001b[0;32m   1285\u001b[0m \u001b[39m#  Categorical (GH51645).\u001b[39;00m\n\u001b[0;32m   1286\u001b[0m action \u001b[39m=\u001b[39m \u001b[39m\"\u001b[39m\u001b[39mignore\u001b[39m\u001b[39m\"\u001b[39m \u001b[39mif\u001b[39;00m \u001b[39misinstance\u001b[39m(obj\u001b[39m.\u001b[39mdtype, CategoricalDtype) \u001b[39melse\u001b[39;00m \u001b[39mNone\u001b[39;00m\n\u001b[1;32m-> 1287\u001b[0m mapped \u001b[39m=\u001b[39m obj\u001b[39m.\u001b[39;49m_map_values(\n\u001b[0;32m   1288\u001b[0m     mapper\u001b[39m=\u001b[39;49mcurried, na_action\u001b[39m=\u001b[39;49maction, convert\u001b[39m=\u001b[39;49m\u001b[39mself\u001b[39;49m\u001b[39m.\u001b[39;49mconvert_dtype\n\u001b[0;32m   1289\u001b[0m )\n\u001b[0;32m   1291\u001b[0m \u001b[39mif\u001b[39;00m \u001b[39mlen\u001b[39m(mapped) \u001b[39mand\u001b[39;00m \u001b[39misinstance\u001b[39m(mapped[\u001b[39m0\u001b[39m], ABCSeries):\n\u001b[0;32m   1292\u001b[0m     \u001b[39m# GH#43986 Need to do list(mapped) in order to get treated as nested\u001b[39;00m\n\u001b[0;32m   1293\u001b[0m     \u001b[39m#  See also GH#25959 regarding EA support\u001b[39;00m\n\u001b[0;32m   1294\u001b[0m     \u001b[39mreturn\u001b[39;00m obj\u001b[39m.\u001b[39m_constructor_expanddim(\u001b[39mlist\u001b[39m(mapped), index\u001b[39m=\u001b[39mobj\u001b[39m.\u001b[39mindex)\n",
      "File \u001b[1;32mc:\\Suraj\\projects\\test\\env\\lib\\site-packages\\pandas\\core\\base.py:921\u001b[0m, in \u001b[0;36mIndexOpsMixin._map_values\u001b[1;34m(self, mapper, na_action, convert)\u001b[0m\n\u001b[0;32m    918\u001b[0m \u001b[39mif\u001b[39;00m \u001b[39misinstance\u001b[39m(arr, ExtensionArray):\n\u001b[0;32m    919\u001b[0m     \u001b[39mreturn\u001b[39;00m arr\u001b[39m.\u001b[39mmap(mapper, na_action\u001b[39m=\u001b[39mna_action)\n\u001b[1;32m--> 921\u001b[0m \u001b[39mreturn\u001b[39;00m algorithms\u001b[39m.\u001b[39;49mmap_array(arr, mapper, na_action\u001b[39m=\u001b[39;49mna_action, convert\u001b[39m=\u001b[39;49mconvert)\n",
      "File \u001b[1;32mc:\\Suraj\\projects\\test\\env\\lib\\site-packages\\pandas\\core\\algorithms.py:1814\u001b[0m, in \u001b[0;36mmap_array\u001b[1;34m(arr, mapper, na_action, convert)\u001b[0m\n\u001b[0;32m   1812\u001b[0m values \u001b[39m=\u001b[39m arr\u001b[39m.\u001b[39mastype(\u001b[39mobject\u001b[39m, copy\u001b[39m=\u001b[39m\u001b[39mFalse\u001b[39;00m)\n\u001b[0;32m   1813\u001b[0m \u001b[39mif\u001b[39;00m na_action \u001b[39mis\u001b[39;00m \u001b[39mNone\u001b[39;00m:\n\u001b[1;32m-> 1814\u001b[0m     \u001b[39mreturn\u001b[39;00m lib\u001b[39m.\u001b[39;49mmap_infer(values, mapper, convert\u001b[39m=\u001b[39;49mconvert)\n\u001b[0;32m   1815\u001b[0m \u001b[39melse\u001b[39;00m:\n\u001b[0;32m   1816\u001b[0m     \u001b[39mreturn\u001b[39;00m lib\u001b[39m.\u001b[39mmap_infer_mask(\n\u001b[0;32m   1817\u001b[0m         values, mapper, mask\u001b[39m=\u001b[39misna(values)\u001b[39m.\u001b[39mview(np\u001b[39m.\u001b[39muint8), convert\u001b[39m=\u001b[39mconvert\n\u001b[0;32m   1818\u001b[0m     )\n",
      "File \u001b[1;32mlib.pyx:2920\u001b[0m, in \u001b[0;36mpandas._libs.lib.map_infer\u001b[1;34m()\u001b[0m\n",
      "\u001b[1;32mc:\\Suraj\\projects\\test\\test.ipynb Cell 26\u001b[0m line \u001b[0;36m1\n\u001b[0;32m     <a href='vscode-notebook-cell:/c%3A/Suraj/projects/test/test.ipynb#X30sZmlsZQ%3D%3D?line=10'>11</a>\u001b[0m temp_list \u001b[39m=\u001b[39m temp[col][\u001b[39m0\u001b[39m][\u001b[39m0\u001b[39m]\u001b[39m.\u001b[39mkeys()\n\u001b[0;32m     <a href='vscode-notebook-cell:/c%3A/Suraj/projects/test/test.ipynb#X30sZmlsZQ%3D%3D?line=11'>12</a>\u001b[0m \u001b[39mfor\u001b[39;00m key \u001b[39min\u001b[39;00m temp_list:\n\u001b[1;32m---> <a href='vscode-notebook-cell:/c%3A/Suraj/projects/test/test.ipynb#X30sZmlsZQ%3D%3D?line=12'>13</a>\u001b[0m     temp[col\u001b[39m+\u001b[39m\u001b[39m'\u001b[39m\u001b[39m_\u001b[39m\u001b[39m'\u001b[39m\u001b[39m+\u001b[39m key] \u001b[39m=\u001b[39m temp[col]\u001b[39m.\u001b[39mapply(\u001b[39mlambda\u001b[39;00m x: x[\u001b[39m0\u001b[39;49m][key])\n",
      "\u001b[1;31mKeyError\u001b[0m: 'SubTotalLineDetail'"
     ]
    }
   ],
   "source": [
    "dict_col_list = ['Line', 'LinkedTxn', 'CustomField']\n",
    "# dict_col_list = ['LinkedTxn']\n",
    "\n",
    "for col in dict_col_list:\n",
    "    if len(temp[col][0]) > 1:\n",
    "        for i in np.arange(len(temp[col][0])):\n",
    "            temp_list = temp[col][0][i].keys()\n",
    "            for key in temp_list:\n",
    "                temp[col +'_'+ key + '_' + str(i+1)] = temp[col].apply(lambda x: x[0][key])\n",
    "    else :\n",
    "        temp_list = temp[col][0][0].keys()\n",
    "        for key in temp_list:\n",
    "            temp[col+'_'+ key] = temp[col].apply(lambda x: x[0][key])"
   ]
  },
  {
   "cell_type": "code",
   "execution_count": 82,
   "metadata": {},
   "outputs": [
    {
     "data": {
      "text/plain": [
       "Index(['Id', 'Line', 'SyncToken', 'DocNumber', 'TxnDate', 'PrintStatus',\n",
       "       'LinkedTxn', 'DueDate', 'EmailStatus', 'ExchangeRate', 'CustomField',\n",
       "       'ApplyTaxAfterDiscount', 'TotalAmt', 'Balance', 'CustomerRef.value',\n",
       "       'CustomerRef.name', 'CurrencyRef.value', 'CurrencyRef.name',\n",
       "       'BillEmail.Address', 'SalesTermRef.value', 'SalesTermRef.name',\n",
       "       'MetaData.CreateTime', 'MetaData.LastModifiedByRef.value',\n",
       "       'MetaData.LastUpdatedTime', 'TxnTaxDetail.TotalTax', 'ShipAddr.Id',\n",
       "       'ShipAddr.Line1', 'ShipAddr.Line2', 'ShipAddr.Line3',\n",
       "       'DepartmentRef.value', 'DepartmentRef.name', 'BillAddr.Id',\n",
       "       'BillAddr.Line1', 'BillAddr.Line2', 'BillAddr.Line3', 'ShipFromAddr.Id',\n",
       "       'ShipFromAddr.Line1', 'ShipAddr.Line4', 'BillAddr.Line4',\n",
       "       'TxnTaxDetail.TxnTaxCodeRef.value', 'TxnTaxDetail.TxnTaxCodeRef.name',\n",
       "       'ShipAddr.City', 'ShipAddr.Country', 'ShipAddr.CountrySubDivisionCode',\n",
       "       'ShipAddr.PostalCode', 'BillAddr.City', 'BillAddr.Country',\n",
       "       'BillAddr.CountrySubDivisionCode', 'BillAddr.PostalCode',\n",
       "       'BillAddr.Lat', 'BillAddr.Long', 'ShipAddr.Line5', 'BillAddr.Line5',\n",
       "       'CustomerMemo.value', 'Line_Amount', 'Line_DetailType',\n",
       "       'Line_SubTotalLineDetail', 'LinkedTxn_TxnId_1', 'LinkedTxn_TxnType_1',\n",
       "       'LinkedTxn_TxnId_2', 'LinkedTxn_TxnType_2',\n",
       "       'CustomField_DefinitionId_1', 'CustomField_Name_1',\n",
       "       'CustomField_Type_1', 'CustomField_StringValue_1',\n",
       "       'CustomField_DefinitionId_2', 'CustomField_Name_2',\n",
       "       'CustomField_Type_2', 'CustomField_StringValue_2',\n",
       "       'CustomField_DefinitionId_3', 'CustomField_Name_3',\n",
       "       'CustomField_Type_3', 'CustomField_StringValue_3'],\n",
       "      dtype='object')"
      ]
     },
     "execution_count": 82,
     "metadata": {},
     "output_type": "execute_result"
    }
   ],
   "source": [
    "temp.columns"
   ]
  },
  {
   "cell_type": "code",
   "execution_count": 83,
   "metadata": {},
   "outputs": [
    {
     "data": {
      "text/html": [
       "<div>\n",
       "<style scoped>\n",
       "    .dataframe tbody tr th:only-of-type {\n",
       "        vertical-align: middle;\n",
       "    }\n",
       "\n",
       "    .dataframe tbody tr th {\n",
       "        vertical-align: top;\n",
       "    }\n",
       "\n",
       "    .dataframe thead th {\n",
       "        text-align: right;\n",
       "    }\n",
       "</style>\n",
       "<table border=\"1\" class=\"dataframe\">\n",
       "  <thead>\n",
       "    <tr style=\"text-align: right;\">\n",
       "      <th></th>\n",
       "      <th>Id</th>\n",
       "      <th>Line</th>\n",
       "      <th>SyncToken</th>\n",
       "      <th>DocNumber</th>\n",
       "      <th>TxnDate</th>\n",
       "      <th>PrintStatus</th>\n",
       "      <th>LinkedTxn</th>\n",
       "      <th>DueDate</th>\n",
       "      <th>EmailStatus</th>\n",
       "      <th>ExchangeRate</th>\n",
       "      <th>...</th>\n",
       "      <th>CustomField_Type_1</th>\n",
       "      <th>CustomField_StringValue_1</th>\n",
       "      <th>CustomField_DefinitionId_2</th>\n",
       "      <th>CustomField_Name_2</th>\n",
       "      <th>CustomField_Type_2</th>\n",
       "      <th>CustomField_StringValue_2</th>\n",
       "      <th>CustomField_DefinitionId_3</th>\n",
       "      <th>CustomField_Name_3</th>\n",
       "      <th>CustomField_Type_3</th>\n",
       "      <th>CustomField_StringValue_3</th>\n",
       "    </tr>\n",
       "  </thead>\n",
       "  <tbody>\n",
       "    <tr>\n",
       "      <th>0</th>\n",
       "      <td>48962</td>\n",
       "      <td>[{'Amount': 150.0, 'DetailType': 'SubTotalLine...</td>\n",
       "      <td>3</td>\n",
       "      <td>PI/2019/34468</td>\n",
       "      <td>2019-12-10</td>\n",
       "      <td>NotSet</td>\n",
       "      <td>[{'TxnId': '48902', 'TxnType': 'StatementCharg...</td>\n",
       "      <td>2019-12-10</td>\n",
       "      <td>EmailSent</td>\n",
       "      <td>1.0</td>\n",
       "      <td>...</td>\n",
       "      <td>StringType</td>\n",
       "      <td>Michael McFadyen</td>\n",
       "      <td>1</td>\n",
       "      <td>Order By</td>\n",
       "      <td>StringType</td>\n",
       "      <td>Michael McFadyen</td>\n",
       "      <td>1</td>\n",
       "      <td>Order By</td>\n",
       "      <td>StringType</td>\n",
       "      <td>Michael McFadyen</td>\n",
       "    </tr>\n",
       "    <tr>\n",
       "      <th>1</th>\n",
       "      <td>49237</td>\n",
       "      <td>[{'Amount': 65.0, 'DetailType': 'SubTotalLineD...</td>\n",
       "      <td>1</td>\n",
       "      <td>PI/2019/34545</td>\n",
       "      <td>2019-12-20</td>\n",
       "      <td>NotSet</td>\n",
       "      <td>[{'TxnId': '49223', 'TxnType': 'StatementCharg...</td>\n",
       "      <td>2019-12-20</td>\n",
       "      <td>EmailSent</td>\n",
       "      <td>1.0</td>\n",
       "      <td>...</td>\n",
       "      <td>StringType</td>\n",
       "      <td>Andre Bobbitt</td>\n",
       "      <td>1</td>\n",
       "      <td>Order By</td>\n",
       "      <td>StringType</td>\n",
       "      <td>Andre Bobbitt</td>\n",
       "      <td>1</td>\n",
       "      <td>Order By</td>\n",
       "      <td>StringType</td>\n",
       "      <td>Andre Bobbitt</td>\n",
       "    </tr>\n",
       "  </tbody>\n",
       "</table>\n",
       "<p>2 rows × 73 columns</p>\n",
       "</div>"
      ],
      "text/plain": [
       "      Id                                               Line SyncToken  \\\n",
       "0  48962  [{'Amount': 150.0, 'DetailType': 'SubTotalLine...         3   \n",
       "1  49237  [{'Amount': 65.0, 'DetailType': 'SubTotalLineD...         1   \n",
       "\n",
       "       DocNumber     TxnDate PrintStatus  \\\n",
       "0  PI/2019/34468  2019-12-10      NotSet   \n",
       "1  PI/2019/34545  2019-12-20      NotSet   \n",
       "\n",
       "                                           LinkedTxn     DueDate EmailStatus  \\\n",
       "0  [{'TxnId': '48902', 'TxnType': 'StatementCharg...  2019-12-10   EmailSent   \n",
       "1  [{'TxnId': '49223', 'TxnType': 'StatementCharg...  2019-12-20   EmailSent   \n",
       "\n",
       "   ExchangeRate  ... CustomField_Type_1  CustomField_StringValue_1  \\\n",
       "0           1.0  ...         StringType           Michael McFadyen   \n",
       "1           1.0  ...         StringType              Andre Bobbitt   \n",
       "\n",
       "   CustomField_DefinitionId_2  CustomField_Name_2 CustomField_Type_2  \\\n",
       "0                           1            Order By         StringType   \n",
       "1                           1            Order By         StringType   \n",
       "\n",
       "  CustomField_StringValue_2 CustomField_DefinitionId_3 CustomField_Name_3  \\\n",
       "0          Michael McFadyen                          1           Order By   \n",
       "1             Andre Bobbitt                          1           Order By   \n",
       "\n",
       "  CustomField_Type_3 CustomField_StringValue_3  \n",
       "0         StringType          Michael McFadyen  \n",
       "1         StringType             Andre Bobbitt  \n",
       "\n",
       "[2 rows x 73 columns]"
      ]
     },
     "execution_count": 83,
     "metadata": {},
     "output_type": "execute_result"
    }
   ],
   "source": [
    "temp.head(2)"
   ]
  },
  {
   "cell_type": "markdown",
   "metadata": {},
   "source": []
  },
  {
   "cell_type": "code",
   "execution_count": 30,
   "metadata": {},
   "outputs": [],
   "source": [
    "\n",
    "# data['Line'].apply(lambda x: x[0]['Amount'])"
   ]
  },
  {
   "cell_type": "code",
   "execution_count": null,
   "metadata": {},
   "outputs": [],
   "source": []
  }
 ],
 "metadata": {
  "instance_type": "ml.t3.medium",
  "kernelspec": {
   "display_name": "base",
   "language": "python",
   "name": "python3"
  },
  "language_info": {
   "codemirror_mode": {
    "name": "ipython",
    "version": 3
   },
   "file_extension": ".py",
   "mimetype": "text/x-python",
   "name": "python",
   "nbconvert_exporter": "python",
   "pygments_lexer": "ipython3",
   "version": "3.9.18"
  }
 },
 "nbformat": 4,
 "nbformat_minor": 4
}
