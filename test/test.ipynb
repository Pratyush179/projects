{
 "cells": [
  {
   "cell_type": "code",
   "execution_count": 2,
   "metadata": {},
   "outputs": [],
   "source": [
    "import os\n",
    "import sys\n",
    "import pandas as pd"
   ]
  },
  {
   "cell_type": "code",
   "execution_count": 15,
   "metadata": {},
   "outputs": [
    {
     "name": "stdout",
     "output_type": "stream",
     "text": [
      "C:\\Suraj\\projects\\test\n"
     ]
    }
   ],
   "source": [
    "path = r'C:\\Suraj\\projects\\test\\01-sagemaker_feature_store.ipynb'\n",
    "print(os.path.dirname(path))"
   ]
  },
  {
   "cell_type": "code",
   "execution_count": 6,
   "metadata": {},
   "outputs": [
    {
     "data": {
      "text/html": [
       "<div>\n",
       "<style scoped>\n",
       "    .dataframe tbody tr th:only-of-type {\n",
       "        vertical-align: middle;\n",
       "    }\n",
       "\n",
       "    .dataframe tbody tr th {\n",
       "        vertical-align: top;\n",
       "    }\n",
       "\n",
       "    .dataframe thead th {\n",
       "        text-align: right;\n",
       "    }\n",
       "</style>\n",
       "<table border=\"1\" class=\"dataframe\">\n",
       "  <thead>\n",
       "    <tr style=\"text-align: right;\">\n",
       "      <th></th>\n",
       "      <th>Topic</th>\n",
       "      <th>Trade</th>\n",
       "      <th>Category</th>\n",
       "      <th>MasterMapping</th>\n",
       "      <th>CategoryMapping</th>\n",
       "      <th>Dept</th>\n",
       "    </tr>\n",
       "  </thead>\n",
       "  <tbody>\n",
       "    <tr>\n",
       "      <th>0</th>\n",
       "      <td>Structure_Module_01 to 06</td>\n",
       "      <td>Structure</td>\n",
       "      <td>Technical</td>\n",
       "      <td>Structure</td>\n",
       "      <td>Technical</td>\n",
       "      <td>ACS</td>\n",
       "    </tr>\n",
       "    <tr>\n",
       "      <th>1</th>\n",
       "      <td>Importance of Moment of Inertia</td>\n",
       "      <td>Structure</td>\n",
       "      <td>Technical</td>\n",
       "      <td>Structure</td>\n",
       "      <td>Technical</td>\n",
       "      <td>ACS</td>\n",
       "    </tr>\n",
       "    <tr>\n",
       "      <th>2</th>\n",
       "      <td>Project Lessons to Learn</td>\n",
       "      <td>Structure</td>\n",
       "      <td>Technical</td>\n",
       "      <td>Structure</td>\n",
       "      <td>Technical</td>\n",
       "      <td>ACS</td>\n",
       "    </tr>\n",
       "    <tr>\n",
       "      <th>3</th>\n",
       "      <td>Families Creation</td>\n",
       "      <td>Structure</td>\n",
       "      <td>Technical</td>\n",
       "      <td>Structure</td>\n",
       "      <td>Technical</td>\n",
       "      <td>ACS</td>\n",
       "    </tr>\n",
       "    <tr>\n",
       "      <th>4</th>\n",
       "      <td>Virtual Reality</td>\n",
       "      <td>Structure</td>\n",
       "      <td>Technical</td>\n",
       "      <td>Structure</td>\n",
       "      <td>Technical</td>\n",
       "      <td>ACS</td>\n",
       "    </tr>\n",
       "  </tbody>\n",
       "</table>\n",
       "</div>"
      ],
      "text/plain": [
       "                             Topic      Trade   Category MasterMapping  \\\n",
       "0        Structure_Module_01 to 06  Structure  Technical     Structure   \n",
       "1  Importance of Moment of Inertia  Structure  Technical     Structure   \n",
       "2         Project Lessons to Learn  Structure  Technical     Structure   \n",
       "3                Families Creation  Structure  Technical     Structure   \n",
       "4                  Virtual Reality  Structure  Technical     Structure   \n",
       "\n",
       "  CategoryMapping Dept  \n",
       "0       Technical  ACS  \n",
       "1       Technical  ACS  \n",
       "2       Technical  ACS  \n",
       "3       Technical  ACS  \n",
       "4       Technical  ACS  "
      ]
     },
     "execution_count": 6,
     "metadata": {},
     "output_type": "execute_result"
    }
   ],
   "source": [
    "path = r'data\\Training_Data_Cleaned.csv'\n",
    "\n",
    "data = pd.read_csv(path)\n",
    "data.head()"
   ]
  },
  {
   "cell_type": "code",
   "execution_count": 7,
   "metadata": {},
   "outputs": [],
   "source": [
    "data.to_parquet('data\\Training_Data_Cleaned.parquet')"
   ]
  },
  {
   "cell_type": "code",
   "execution_count": 8,
   "metadata": {},
   "outputs": [
    {
     "data": {
      "text/html": [
       "<div>\n",
       "<style scoped>\n",
       "    .dataframe tbody tr th:only-of-type {\n",
       "        vertical-align: middle;\n",
       "    }\n",
       "\n",
       "    .dataframe tbody tr th {\n",
       "        vertical-align: top;\n",
       "    }\n",
       "\n",
       "    .dataframe thead th {\n",
       "        text-align: right;\n",
       "    }\n",
       "</style>\n",
       "<table border=\"1\" class=\"dataframe\">\n",
       "  <thead>\n",
       "    <tr style=\"text-align: right;\">\n",
       "      <th></th>\n",
       "      <th>Topic</th>\n",
       "      <th>Trade</th>\n",
       "      <th>Category</th>\n",
       "      <th>MasterMapping</th>\n",
       "      <th>CategoryMapping</th>\n",
       "      <th>Dept</th>\n",
       "    </tr>\n",
       "  </thead>\n",
       "  <tbody>\n",
       "    <tr>\n",
       "      <th>0</th>\n",
       "      <td>Structure_Module_01 to 06</td>\n",
       "      <td>Structure</td>\n",
       "      <td>Technical</td>\n",
       "      <td>Structure</td>\n",
       "      <td>Technical</td>\n",
       "      <td>ACS</td>\n",
       "    </tr>\n",
       "    <tr>\n",
       "      <th>1</th>\n",
       "      <td>Importance of Moment of Inertia</td>\n",
       "      <td>Structure</td>\n",
       "      <td>Technical</td>\n",
       "      <td>Structure</td>\n",
       "      <td>Technical</td>\n",
       "      <td>ACS</td>\n",
       "    </tr>\n",
       "    <tr>\n",
       "      <th>2</th>\n",
       "      <td>Project Lessons to Learn</td>\n",
       "      <td>Structure</td>\n",
       "      <td>Technical</td>\n",
       "      <td>Structure</td>\n",
       "      <td>Technical</td>\n",
       "      <td>ACS</td>\n",
       "    </tr>\n",
       "    <tr>\n",
       "      <th>3</th>\n",
       "      <td>Families Creation</td>\n",
       "      <td>Structure</td>\n",
       "      <td>Technical</td>\n",
       "      <td>Structure</td>\n",
       "      <td>Technical</td>\n",
       "      <td>ACS</td>\n",
       "    </tr>\n",
       "    <tr>\n",
       "      <th>4</th>\n",
       "      <td>Virtual Reality</td>\n",
       "      <td>Structure</td>\n",
       "      <td>Technical</td>\n",
       "      <td>Structure</td>\n",
       "      <td>Technical</td>\n",
       "      <td>ACS</td>\n",
       "    </tr>\n",
       "  </tbody>\n",
       "</table>\n",
       "</div>"
      ],
      "text/plain": [
       "                             Topic      Trade   Category MasterMapping  \\\n",
       "0        Structure_Module_01 to 06  Structure  Technical     Structure   \n",
       "1  Importance of Moment of Inertia  Structure  Technical     Structure   \n",
       "2         Project Lessons to Learn  Structure  Technical     Structure   \n",
       "3                Families Creation  Structure  Technical     Structure   \n",
       "4                  Virtual Reality  Structure  Technical     Structure   \n",
       "\n",
       "  CategoryMapping Dept  \n",
       "0       Technical  ACS  \n",
       "1       Technical  ACS  \n",
       "2       Technical  ACS  \n",
       "3       Technical  ACS  \n",
       "4       Technical  ACS  "
      ]
     },
     "execution_count": 8,
     "metadata": {},
     "output_type": "execute_result"
    }
   ],
   "source": [
    "file_parquet = r'data\\Training_Data_Cleaned.parquet'\n",
    "d_data = pd.read_parquet(file_parquet)\n",
    "d_data.head()"
   ]
  },
  {
   "cell_type": "code",
   "execution_count": null,
   "metadata": {},
   "outputs": [],
   "source": []
  },
  {
   "cell_type": "code",
   "execution_count": null,
   "metadata": {},
   "outputs": [],
   "source": []
  },
  {
   "cell_type": "code",
   "execution_count": 17,
   "metadata": {},
   "outputs": [
    {
     "data": {
      "text/plain": [
       "'C:\\\\Suraj\\\\projects\\\\test/../../'"
      ]
     },
     "execution_count": 17,
     "metadata": {},
     "output_type": "execute_result"
    }
   ],
   "source": [
    "os.path.dirname(os.path.realpath(path)) + \"/../../\""
   ]
  },
  {
   "cell_type": "code",
   "execution_count": 19,
   "metadata": {},
   "outputs": [
    {
     "name": "stdout",
     "output_type": "stream",
     "text": [
      "C:\\Suraj\\projects\\test\n",
      "C:\\Suraj\\projects\\test\\..\\..\n"
     ]
    }
   ],
   "source": [
    "parent_dir = os.path.dirname(os.path.realpath(path))\n",
    "two_levels_up = os.path.join(parent_dir, '..', '..')\n",
    "print(parent_dir)\n",
    "print(two_levels_up)"
   ]
  },
  {
   "cell_type": "code",
   "execution_count": 12,
   "metadata": {},
   "outputs": [
    {
     "data": {
      "text/plain": [
       "'C:\\\\Suraj\\\\projects\\\\test\\\\test_file.txt'"
      ]
     },
     "execution_count": 12,
     "metadata": {},
     "output_type": "execute_result"
    }
   ],
   "source": [
    "os.path.join(os.path.dirname(path), 'test_file.txt')"
   ]
  },
  {
   "cell_type": "code",
   "execution_count": 13,
   "metadata": {},
   "outputs": [
    {
     "data": {
      "text/plain": [
       "('C:\\\\Suraj\\\\projects\\\\test', '01-sagemaker_feature_store.ipynb')"
      ]
     },
     "execution_count": 13,
     "metadata": {},
     "output_type": "execute_result"
    }
   ],
   "source": [
    "os.path.split(path)"
   ]
  },
  {
   "cell_type": "code",
   "execution_count": 14,
   "metadata": {},
   "outputs": [
    {
     "data": {
      "text/plain": [
       "'C:\\\\Users\\\\pis05408.PINNACLE'"
      ]
     },
     "execution_count": 14,
     "metadata": {},
     "output_type": "execute_result"
    }
   ],
   "source": [
    "os.path.expanduser(\"~\")"
   ]
  },
  {
   "cell_type": "code",
   "execution_count": null,
   "metadata": {},
   "outputs": [],
   "source": [
    "from pdf2image import convert_from_path\n",
    "\n",
    "# Defing the file path\n",
    "file_path = r'data.head(20).head(20).head(20)\\sample.pdf'\n",
    "\n",
    "# Function to convert pdf to image\n",
    "def pdf_to_images(pdf_path):\n",
    "    return convert_from_path(pdf_path)\n",
    "\n",
    "# Calling the function to convert PDF to image\n",
    "images = pdf_to_images(file_path)"
   ]
  },
  {
   "cell_type": "code",
   "execution_count": 5,
   "metadata": {},
   "outputs": [
    {
     "data": {
      "text/plain": [
       "['config.ini']"
      ]
     },
     "execution_count": 5,
     "metadata": {},
     "output_type": "execute_result"
    }
   ],
   "source": [
    "import configparser\n",
    "\n",
    "# Create a ConfigParser object\n",
    "config = configparser.ConfigParser()\n",
    "\n",
    "# Read the configuration from the INI file\n",
    "config.read('config.ini')"
   ]
  },
  {
   "cell_type": "code",
   "execution_count": 8,
   "metadata": {},
   "outputs": [
    {
     "data": {
      "text/plain": [
       "['c9f233c6-8522-49a3-a305-68f572f22742',\n",
       " 'a7f0448d-f858-4785-b3a9-68b784b917e6',\n",
       " '1c7d17cf-7d70-444e-8808-d49bd8e69f44',\n",
       " 'ea2265b1-f7fd-46e8-815a-65bdf1a052b3',\n",
       " 'b42f6c31-84c7-4ce9-9672-2b96548ae3f5',\n",
       " 'a350a3f1-ee94-4770-ac69-b0153d771157',\n",
       " 'a1a109ae-696b-497b-9269-263ce7505d06']"
      ]
     },
     "execution_count": 8,
     "metadata": {},
     "output_type": "execute_result"
    }
   ],
   "source": [
    "eval(config['plugin']['plugin_list'])"
   ]
  },
  {
   "cell_type": "markdown",
   "metadata": {},
   "source": [
    "#### Reading latest file using timestamp from a shared drive"
   ]
  },
  {
   "cell_type": "code",
   "execution_count": 24,
   "metadata": {},
   "outputs": [],
   "source": [
    "import os\n",
    "import glob\n",
    "# import openpyxl\n",
    "import pandas as pd"
   ]
  },
  {
   "cell_type": "code",
   "execution_count": 22,
   "metadata": {},
   "outputs": [],
   "source": [
    "# Define the directory where your files are located\n",
    "directory = r'C:\\Users\\pis05408.PINNACLE\\Desktop\\Suraj\\RnD\\datadump'\n",
    "\n",
    "# Define the pattern to match Excel files with epoch time suffix (e.g., '_<epoch_time>_latest')\n",
    "pattern = 'sf_object_appflow_contact_*_latest.xlsx'\n",
    "\n",
    "# Get a list of Excel files that match the pattern in the directory\n",
    "excel_files = glob.glob(os.path.join(directory, pattern))"
   ]
  },
  {
   "cell_type": "code",
   "execution_count": 26,
   "metadata": {},
   "outputs": [
    {
     "name": "stdout",
     "output_type": "stream",
     "text": [
      "Latest Excel file: C:\\Users\\pis05408.PINNACLE\\Desktop\\Suraj\\RnD\\datadump\\sf_object_appflow_contact_1689775460_latest.xlsx\n"
     ]
    }
   ],
   "source": [
    "# Check if there are any matching Excel files\n",
    "if not excel_files:\n",
    "    print(\"No matching Excel files found in the directory.\")\n",
    "else:\n",
    "    # Extract and sort the Excel files based on their epoch time suffixes\n",
    "    sorted_excel_files = sorted(excel_files, key=lambda x: int(x.split('_')[-2]), reverse=True)\n",
    "    \n",
    "    if sorted_excel_files:\n",
    "        # Get the latest Excel file (first in the sorted list)\n",
    "        latest_excel_file = sorted_excel_files[0]\n",
    "        \n",
    "        # Read the Excel file into a DataFrame using pandas\n",
    "        df = pd.read_excel(latest_excel_file)\n",
    "        \n",
    "        # # Now, you can work with the DataFrame 'df' as needed\n",
    "        # print(\"DataFrame created from the latest Excel file:\")\n",
    "        # print(df)\n",
    "        \n",
    "        # Print the latest Excel file's name\n",
    "        print(\"Latest Excel file:\", latest_excel_file)\n",
    "    else:\n",
    "        print(\"No Excel files with valid epoch time suffix found in the directory.\")"
   ]
  },
  {
   "cell_type": "code",
   "execution_count": 27,
   "metadata": {},
   "outputs": [
    {
     "data": {
      "text/html": [
       "<div>\n",
       "<style scoped>\n",
       "    .dataframe tbody tr th:only-of-type {\n",
       "        vertical-align: middle;\n",
       "    }\n",
       "\n",
       "    .dataframe tbody tr th {\n",
       "        vertical-align: top;\n",
       "    }\n",
       "\n",
       "    .dataframe thead th {\n",
       "        text-align: right;\n",
       "    }\n",
       "</style>\n",
       "<table border=\"1\" class=\"dataframe\">\n",
       "  <thead>\n",
       "    <tr style=\"text-align: right;\">\n",
       "      <th></th>\n",
       "      <th>id</th>\n",
       "      <th>isdeleted</th>\n",
       "      <th>masterrecordid</th>\n",
       "      <th>accountid</th>\n",
       "      <th>lastname</th>\n",
       "      <th>firstname</th>\n",
       "      <th>salutation</th>\n",
       "      <th>name</th>\n",
       "      <th>otherstreet</th>\n",
       "      <th>othercity</th>\n",
       "      <th>...</th>\n",
       "      <th>rcsfl__sendsms__c</th>\n",
       "      <th>call_response__c</th>\n",
       "      <th>dialpad__powerdialer_assigned_list__c</th>\n",
       "      <th>dialpad__powerdialer_dialed_list__c</th>\n",
       "      <th>dialpad__powerdialer_last_dialed_via__c</th>\n",
       "      <th>dialpad__totalnumberoftimesdialed__c</th>\n",
       "      <th>status_for_bim_sumit_2023__c</th>\n",
       "      <th>tracking_1__c</th>\n",
       "      <th>dialpad__iscreatedfromdialpad__c</th>\n",
       "      <th>dialpad__timezone__c</th>\n",
       "    </tr>\n",
       "  </thead>\n",
       "  <tbody>\n",
       "    <tr>\n",
       "      <th>0</th>\n",
       "      <td>0032T00002q7kNHQAY</td>\n",
       "      <td>False</td>\n",
       "      <td>NaN</td>\n",
       "      <td>0012T00001uTUJUQA4</td>\n",
       "      <td>Tng</td>\n",
       "      <td>Bida</td>\n",
       "      <td>NaN</td>\n",
       "      <td>Bida Tng</td>\n",
       "      <td>NaN</td>\n",
       "      <td>NaN</td>\n",
       "      <td>...</td>\n",
       "      <td>&lt;a href=\"javascript:alert(&amp;quot;JavaScript is ...</td>\n",
       "      <td>False</td>\n",
       "      <td>NaN</td>\n",
       "      <td>NaN</td>\n",
       "      <td>NaN</td>\n",
       "      <td>NaN</td>\n",
       "      <td>NaN</td>\n",
       "      <td>NaN</td>\n",
       "      <td>False</td>\n",
       "      <td>NaN</td>\n",
       "    </tr>\n",
       "    <tr>\n",
       "      <th>1</th>\n",
       "      <td>0032T00002kmap9QAA</td>\n",
       "      <td>False</td>\n",
       "      <td>NaN</td>\n",
       "      <td>0012T00001uTUJUQA4</td>\n",
       "      <td>Chong</td>\n",
       "      <td>Alex</td>\n",
       "      <td>NaN</td>\n",
       "      <td>Alex Chong</td>\n",
       "      <td>NaN</td>\n",
       "      <td>NaN</td>\n",
       "      <td>...</td>\n",
       "      <td>&lt;a href=\"javascript:alert(&amp;quot;JavaScript is ...</td>\n",
       "      <td>False</td>\n",
       "      <td>NaN</td>\n",
       "      <td>NaN</td>\n",
       "      <td>NaN</td>\n",
       "      <td>NaN</td>\n",
       "      <td>NaN</td>\n",
       "      <td>NaN</td>\n",
       "      <td>False</td>\n",
       "      <td>NaN</td>\n",
       "    </tr>\n",
       "    <tr>\n",
       "      <th>2</th>\n",
       "      <td>0032T00002knZ7vQAE</td>\n",
       "      <td>False</td>\n",
       "      <td>NaN</td>\n",
       "      <td>0012T00001uTUJUQA4</td>\n",
       "      <td>Yong</td>\n",
       "      <td>Chong Tse</td>\n",
       "      <td>NaN</td>\n",
       "      <td>Chong Tse Yong</td>\n",
       "      <td>NaN</td>\n",
       "      <td>NaN</td>\n",
       "      <td>...</td>\n",
       "      <td>&lt;a href=\"javascript:alert(&amp;quot;JavaScript is ...</td>\n",
       "      <td>False</td>\n",
       "      <td>NaN</td>\n",
       "      <td>NaN</td>\n",
       "      <td>NaN</td>\n",
       "      <td>NaN</td>\n",
       "      <td>NaN</td>\n",
       "      <td>NaN</td>\n",
       "      <td>False</td>\n",
       "      <td>NaN</td>\n",
       "    </tr>\n",
       "    <tr>\n",
       "      <th>3</th>\n",
       "      <td>00334000022II0ZAAW</td>\n",
       "      <td>False</td>\n",
       "      <td>NaN</td>\n",
       "      <td>0013400001SzSQIAA3</td>\n",
       "      <td>Jackson</td>\n",
       "      <td>Julie</td>\n",
       "      <td>Ms.</td>\n",
       "      <td>Julie Jackson</td>\n",
       "      <td>NaN</td>\n",
       "      <td>NaN</td>\n",
       "      <td>...</td>\n",
       "      <td>&lt;a href=\"javascript:alert(&amp;quot;JavaScript is ...</td>\n",
       "      <td>False</td>\n",
       "      <td>NaN</td>\n",
       "      <td>NaN</td>\n",
       "      <td>NaN</td>\n",
       "      <td>NaN</td>\n",
       "      <td>NaN</td>\n",
       "      <td>NaN</td>\n",
       "      <td>False</td>\n",
       "      <td>NaN</td>\n",
       "    </tr>\n",
       "    <tr>\n",
       "      <th>4</th>\n",
       "      <td>0032T00002gzgTUQAY</td>\n",
       "      <td>False</td>\n",
       "      <td>NaN</td>\n",
       "      <td>0012T00001uQHTCQA4</td>\n",
       "      <td>Erwin</td>\n",
       "      <td>William</td>\n",
       "      <td>Mr.</td>\n",
       "      <td>William Erwin</td>\n",
       "      <td>NaN</td>\n",
       "      <td>NaN</td>\n",
       "      <td>...</td>\n",
       "      <td>&lt;a href=\"javascript:alert(&amp;quot;JavaScript is ...</td>\n",
       "      <td>False</td>\n",
       "      <td>NaN</td>\n",
       "      <td>NaN</td>\n",
       "      <td>NaN</td>\n",
       "      <td>NaN</td>\n",
       "      <td>NaN</td>\n",
       "      <td>NaN</td>\n",
       "      <td>False</td>\n",
       "      <td>NaN</td>\n",
       "    </tr>\n",
       "  </tbody>\n",
       "</table>\n",
       "<p>5 rows × 146 columns</p>\n",
       "</div>"
      ],
      "text/plain": [
       "                   id  isdeleted  masterrecordid           accountid lastname  \\\n",
       "0  0032T00002q7kNHQAY      False             NaN  0012T00001uTUJUQA4      Tng   \n",
       "1  0032T00002kmap9QAA      False             NaN  0012T00001uTUJUQA4    Chong   \n",
       "2  0032T00002knZ7vQAE      False             NaN  0012T00001uTUJUQA4     Yong   \n",
       "3  00334000022II0ZAAW      False             NaN  0013400001SzSQIAA3  Jackson   \n",
       "4  0032T00002gzgTUQAY      False             NaN  0012T00001uQHTCQA4    Erwin   \n",
       "\n",
       "   firstname salutation            name  otherstreet  othercity  ...  \\\n",
       "0       Bida        NaN        Bida Tng          NaN        NaN  ...   \n",
       "1       Alex        NaN      Alex Chong          NaN        NaN  ...   \n",
       "2  Chong Tse        NaN  Chong Tse Yong          NaN        NaN  ...   \n",
       "3      Julie        Ms.   Julie Jackson          NaN        NaN  ...   \n",
       "4    William        Mr.   William Erwin          NaN        NaN  ...   \n",
       "\n",
       "                                   rcsfl__sendsms__c  call_response__c  \\\n",
       "0  <a href=\"javascript:alert(&quot;JavaScript is ...             False   \n",
       "1  <a href=\"javascript:alert(&quot;JavaScript is ...             False   \n",
       "2  <a href=\"javascript:alert(&quot;JavaScript is ...             False   \n",
       "3  <a href=\"javascript:alert(&quot;JavaScript is ...             False   \n",
       "4  <a href=\"javascript:alert(&quot;JavaScript is ...             False   \n",
       "\n",
       "   dialpad__powerdialer_assigned_list__c  dialpad__powerdialer_dialed_list__c  \\\n",
       "0                                    NaN                                  NaN   \n",
       "1                                    NaN                                  NaN   \n",
       "2                                    NaN                                  NaN   \n",
       "3                                    NaN                                  NaN   \n",
       "4                                    NaN                                  NaN   \n",
       "\n",
       "   dialpad__powerdialer_last_dialed_via__c  \\\n",
       "0                                      NaN   \n",
       "1                                      NaN   \n",
       "2                                      NaN   \n",
       "3                                      NaN   \n",
       "4                                      NaN   \n",
       "\n",
       "   dialpad__totalnumberoftimesdialed__c  status_for_bim_sumit_2023__c  \\\n",
       "0                                   NaN                           NaN   \n",
       "1                                   NaN                           NaN   \n",
       "2                                   NaN                           NaN   \n",
       "3                                   NaN                           NaN   \n",
       "4                                   NaN                           NaN   \n",
       "\n",
       "  tracking_1__c dialpad__iscreatedfromdialpad__c dialpad__timezone__c  \n",
       "0           NaN                            False                  NaN  \n",
       "1           NaN                            False                  NaN  \n",
       "2           NaN                            False                  NaN  \n",
       "3           NaN                            False                  NaN  \n",
       "4           NaN                            False                  NaN  \n",
       "\n",
       "[5 rows x 146 columns]"
      ]
     },
     "execution_count": 27,
     "metadata": {},
     "output_type": "execute_result"
    }
   ],
   "source": [
    "df.head()"
   ]
  },
  {
   "cell_type": "code",
   "execution_count": 60,
   "metadata": {},
   "outputs": [],
   "source": [
    "import pandas as pd\n",
    "import json\n",
    "import numpy as np"
   ]
  },
  {
   "cell_type": "code",
   "execution_count": 6,
   "metadata": {},
   "outputs": [],
   "source": [
    "file_path = r'C:\\Users\\pis05408.PINNACLE\\Downloads\\-103555222-2023-11-29T18_35_37'"
   ]
  },
  {
   "cell_type": "code",
   "execution_count": 95,
   "metadata": {},
   "outputs": [],
   "source": [
    "json_objects = []\n",
    "\n",
    "with open(file_path, 'r') as file:\n",
    "    for line in file:\n",
    "        try:\n",
    "            # Parse each line as a JSON object\n",
    "            json_object = json.loads(line)\n",
    "            json_objects.append(json_object)\n",
    "        except json.JSONDecodeError:\n",
    "            # If a line is not a valid JSON object, ignore it\n",
    "            continue"
   ]
  },
  {
   "cell_type": "code",
   "execution_count": 96,
   "metadata": {},
   "outputs": [
    {
     "data": {
      "text/html": [
       "<div>\n",
       "<style scoped>\n",
       "    .dataframe tbody tr th:only-of-type {\n",
       "        vertical-align: middle;\n",
       "    }\n",
       "\n",
       "    .dataframe tbody tr th {\n",
       "        vertical-align: top;\n",
       "    }\n",
       "\n",
       "    .dataframe thead th {\n",
       "        text-align: right;\n",
       "    }\n",
       "</style>\n",
       "<table border=\"1\" class=\"dataframe\">\n",
       "  <thead>\n",
       "    <tr style=\"text-align: right;\">\n",
       "      <th></th>\n",
       "      <th>Id</th>\n",
       "      <th>Line</th>\n",
       "      <th>SyncToken</th>\n",
       "      <th>DocNumber</th>\n",
       "      <th>TxnDate</th>\n",
       "      <th>PrintStatus</th>\n",
       "      <th>LinkedTxn</th>\n",
       "      <th>DueDate</th>\n",
       "      <th>EmailStatus</th>\n",
       "      <th>ExchangeRate</th>\n",
       "      <th>...</th>\n",
       "      <th>ShipAddr.PostalCode</th>\n",
       "      <th>BillAddr.City</th>\n",
       "      <th>BillAddr.Country</th>\n",
       "      <th>BillAddr.CountrySubDivisionCode</th>\n",
       "      <th>BillAddr.PostalCode</th>\n",
       "      <th>BillAddr.Lat</th>\n",
       "      <th>BillAddr.Long</th>\n",
       "      <th>ShipAddr.Line5</th>\n",
       "      <th>BillAddr.Line5</th>\n",
       "      <th>CustomerMemo.value</th>\n",
       "    </tr>\n",
       "  </thead>\n",
       "  <tbody>\n",
       "    <tr>\n",
       "      <th>0</th>\n",
       "      <td>48962</td>\n",
       "      <td>[{'Amount': 150.0, 'DetailType': 'SubTotalLine...</td>\n",
       "      <td>3</td>\n",
       "      <td>PI/2019/34468</td>\n",
       "      <td>2019-12-10</td>\n",
       "      <td>NotSet</td>\n",
       "      <td>[{'TxnId': '48902', 'TxnType': 'StatementCharg...</td>\n",
       "      <td>2019-12-10</td>\n",
       "      <td>EmailSent</td>\n",
       "      <td>1.0</td>\n",
       "      <td>...</td>\n",
       "      <td>NaN</td>\n",
       "      <td>NaN</td>\n",
       "      <td>NaN</td>\n",
       "      <td>NaN</td>\n",
       "      <td>NaN</td>\n",
       "      <td>NaN</td>\n",
       "      <td>NaN</td>\n",
       "      <td>NaN</td>\n",
       "      <td>NaN</td>\n",
       "      <td>NaN</td>\n",
       "    </tr>\n",
       "    <tr>\n",
       "      <th>1</th>\n",
       "      <td>49237</td>\n",
       "      <td>[{'Amount': 65.0, 'DetailType': 'SubTotalLineD...</td>\n",
       "      <td>1</td>\n",
       "      <td>PI/2019/34545</td>\n",
       "      <td>2019-12-20</td>\n",
       "      <td>NotSet</td>\n",
       "      <td>[{'TxnId': '49223', 'TxnType': 'StatementCharg...</td>\n",
       "      <td>2019-12-20</td>\n",
       "      <td>EmailSent</td>\n",
       "      <td>1.0</td>\n",
       "      <td>...</td>\n",
       "      <td>NaN</td>\n",
       "      <td>NaN</td>\n",
       "      <td>NaN</td>\n",
       "      <td>NaN</td>\n",
       "      <td>NaN</td>\n",
       "      <td>NaN</td>\n",
       "      <td>NaN</td>\n",
       "      <td>NaN</td>\n",
       "      <td>NaN</td>\n",
       "      <td>NaN</td>\n",
       "    </tr>\n",
       "  </tbody>\n",
       "</table>\n",
       "<p>2 rows × 54 columns</p>\n",
       "</div>"
      ],
      "text/plain": [
       "      Id                                               Line SyncToken  \\\n",
       "0  48962  [{'Amount': 150.0, 'DetailType': 'SubTotalLine...         3   \n",
       "1  49237  [{'Amount': 65.0, 'DetailType': 'SubTotalLineD...         1   \n",
       "\n",
       "       DocNumber     TxnDate PrintStatus  \\\n",
       "0  PI/2019/34468  2019-12-10      NotSet   \n",
       "1  PI/2019/34545  2019-12-20      NotSet   \n",
       "\n",
       "                                           LinkedTxn     DueDate EmailStatus  \\\n",
       "0  [{'TxnId': '48902', 'TxnType': 'StatementCharg...  2019-12-10   EmailSent   \n",
       "1  [{'TxnId': '49223', 'TxnType': 'StatementCharg...  2019-12-20   EmailSent   \n",
       "\n",
       "   ExchangeRate  ... ShipAddr.PostalCode  BillAddr.City  BillAddr.Country  \\\n",
       "0           1.0  ...                 NaN            NaN               NaN   \n",
       "1           1.0  ...                 NaN            NaN               NaN   \n",
       "\n",
       "   BillAddr.CountrySubDivisionCode BillAddr.PostalCode BillAddr.Lat  \\\n",
       "0                              NaN                 NaN          NaN   \n",
       "1                              NaN                 NaN          NaN   \n",
       "\n",
       "  BillAddr.Long ShipAddr.Line5 BillAddr.Line5 CustomerMemo.value  \n",
       "0           NaN            NaN            NaN                NaN  \n",
       "1           NaN            NaN            NaN                NaN  \n",
       "\n",
       "[2 rows x 54 columns]"
      ]
     },
     "execution_count": 96,
     "metadata": {},
     "output_type": "execute_result"
    }
   ],
   "source": [
    "data = pd.json_normalize(json_objects)\n",
    "data.head(2)"
   ]
  },
  {
   "cell_type": "code",
   "execution_count": 121,
   "metadata": {},
   "outputs": [],
   "source": [
    "temp = data.head(10).copy()"
   ]
  },
  {
   "cell_type": "code",
   "execution_count": 122,
   "metadata": {},
   "outputs": [],
   "source": [
    "# len(temp['Line'][0])"
   ]
  },
  {
   "cell_type": "code",
   "execution_count": 123,
   "metadata": {},
   "outputs": [],
   "source": [
    "dict_col_list = ['Line', 'LinkedTxn', 'CustomField']\n",
    "\n",
    "for col in dict_col_list:\n",
    "    for i in np.arange(len(temp[col][0])):\n",
    "        temp_list = temp[col][0][i].keys()\n",
    "        for key in temp_list:\n",
    "            temp[col +'_'+ key + '_' + str(i+1)] = temp[col].apply(lambda x: x[0][key])"
   ]
  },
  {
   "cell_type": "code",
   "execution_count": 111,
   "metadata": {},
   "outputs": [
    {
     "data": {
      "text/plain": [
       "Index(['Id', 'Line', 'SyncToken', 'DocNumber', 'TxnDate', 'PrintStatus',\n",
       "       'LinkedTxn', 'DueDate', 'EmailStatus', 'ExchangeRate', 'CustomField',\n",
       "       'ApplyTaxAfterDiscount', 'TotalAmt', 'Balance', 'CustomerRef.value',\n",
       "       'CustomerRef.name', 'CurrencyRef.value', 'CurrencyRef.name',\n",
       "       'BillEmail.Address', 'SalesTermRef.value', 'SalesTermRef.name',\n",
       "       'MetaData.CreateTime', 'MetaData.LastModifiedByRef.value',\n",
       "       'MetaData.LastUpdatedTime', 'TxnTaxDetail.TotalTax', 'ShipAddr.Id',\n",
       "       'ShipAddr.Line1', 'ShipAddr.Line2', 'ShipAddr.Line3',\n",
       "       'DepartmentRef.value', 'DepartmentRef.name', 'BillAddr.Id',\n",
       "       'BillAddr.Line1', 'BillAddr.Line2', 'BillAddr.Line3', 'ShipFromAddr.Id',\n",
       "       'ShipFromAddr.Line1', 'ShipAddr.Line4', 'BillAddr.Line4',\n",
       "       'TxnTaxDetail.TxnTaxCodeRef.value', 'TxnTaxDetail.TxnTaxCodeRef.name',\n",
       "       'ShipAddr.City', 'ShipAddr.Country', 'ShipAddr.CountrySubDivisionCode',\n",
       "       'ShipAddr.PostalCode', 'BillAddr.City', 'BillAddr.Country',\n",
       "       'BillAddr.CountrySubDivisionCode', 'BillAddr.PostalCode',\n",
       "       'BillAddr.Lat', 'BillAddr.Long', 'ShipAddr.Line5', 'BillAddr.Line5',\n",
       "       'CustomerMemo.value', 'Line_Amount_1', 'Line_DetailType_1',\n",
       "       'Line_SubTotalLineDetail_1', 'LinkedTxn_TxnId_1', 'LinkedTxn_TxnType_1',\n",
       "       'LinkedTxn_TxnId_2', 'LinkedTxn_TxnType_2',\n",
       "       'CustomField_DefinitionId_1', 'CustomField_Name_1',\n",
       "       'CustomField_Type_1', 'CustomField_StringValue_1',\n",
       "       'CustomField_DefinitionId_2', 'CustomField_Name_2',\n",
       "       'CustomField_Type_2', 'CustomField_StringValue_2',\n",
       "       'CustomField_DefinitionId_3', 'CustomField_Name_3',\n",
       "       'CustomField_Type_3', 'CustomField_StringValue_3'],\n",
       "      dtype='object')"
      ]
     },
     "execution_count": 111,
     "metadata": {},
     "output_type": "execute_result"
    }
   ],
   "source": [
    "temp.columns"
   ]
  },
  {
   "cell_type": "code",
   "execution_count": 91,
   "metadata": {},
   "outputs": [
    {
     "data": {
      "text/html": [
       "<div>\n",
       "<style scoped>\n",
       "    .dataframe tbody tr th:only-of-type {\n",
       "        vertical-align: middle;\n",
       "    }\n",
       "\n",
       "    .dataframe tbody tr th {\n",
       "        vertical-align: top;\n",
       "    }\n",
       "\n",
       "    .dataframe thead th {\n",
       "        text-align: right;\n",
       "    }\n",
       "</style>\n",
       "<table border=\"1\" class=\"dataframe\">\n",
       "  <thead>\n",
       "    <tr style=\"text-align: right;\">\n",
       "      <th></th>\n",
       "      <th>Id</th>\n",
       "      <th>Line</th>\n",
       "      <th>SyncToken</th>\n",
       "      <th>DocNumber</th>\n",
       "      <th>TxnDate</th>\n",
       "      <th>PrintStatus</th>\n",
       "      <th>LinkedTxn</th>\n",
       "      <th>DueDate</th>\n",
       "      <th>EmailStatus</th>\n",
       "      <th>ExchangeRate</th>\n",
       "      <th>...</th>\n",
       "      <th>CustomField_Type_1</th>\n",
       "      <th>CustomField_StringValue_1</th>\n",
       "      <th>CustomField_DefinitionId_2</th>\n",
       "      <th>CustomField_Name_2</th>\n",
       "      <th>CustomField_Type_2</th>\n",
       "      <th>CustomField_StringValue_2</th>\n",
       "      <th>CustomField_DefinitionId_3</th>\n",
       "      <th>CustomField_Name_3</th>\n",
       "      <th>CustomField_Type_3</th>\n",
       "      <th>CustomField_StringValue_3</th>\n",
       "    </tr>\n",
       "  </thead>\n",
       "  <tbody>\n",
       "    <tr>\n",
       "      <th>0</th>\n",
       "      <td>48962</td>\n",
       "      <td>[{'Amount': 150.0, 'DetailType': 'SubTotalLine...</td>\n",
       "      <td>3</td>\n",
       "      <td>PI/2019/34468</td>\n",
       "      <td>2019-12-10</td>\n",
       "      <td>NotSet</td>\n",
       "      <td>[{'TxnId': '48902', 'TxnType': 'StatementCharg...</td>\n",
       "      <td>2019-12-10</td>\n",
       "      <td>EmailSent</td>\n",
       "      <td>1.0</td>\n",
       "      <td>...</td>\n",
       "      <td>StringType</td>\n",
       "      <td>Michael McFadyen</td>\n",
       "      <td>1</td>\n",
       "      <td>Order By</td>\n",
       "      <td>StringType</td>\n",
       "      <td>Michael McFadyen</td>\n",
       "      <td>1</td>\n",
       "      <td>Order By</td>\n",
       "      <td>StringType</td>\n",
       "      <td>Michael McFadyen</td>\n",
       "    </tr>\n",
       "    <tr>\n",
       "      <th>1</th>\n",
       "      <td>49237</td>\n",
       "      <td>[{'Amount': 65.0, 'DetailType': 'SubTotalLineD...</td>\n",
       "      <td>1</td>\n",
       "      <td>PI/2019/34545</td>\n",
       "      <td>2019-12-20</td>\n",
       "      <td>NotSet</td>\n",
       "      <td>[{'TxnId': '49223', 'TxnType': 'StatementCharg...</td>\n",
       "      <td>2019-12-20</td>\n",
       "      <td>EmailSent</td>\n",
       "      <td>1.0</td>\n",
       "      <td>...</td>\n",
       "      <td>StringType</td>\n",
       "      <td>Andre Bobbitt</td>\n",
       "      <td>1</td>\n",
       "      <td>Order By</td>\n",
       "      <td>StringType</td>\n",
       "      <td>Andre Bobbitt</td>\n",
       "      <td>1</td>\n",
       "      <td>Order By</td>\n",
       "      <td>StringType</td>\n",
       "      <td>Andre Bobbitt</td>\n",
       "    </tr>\n",
       "  </tbody>\n",
       "</table>\n",
       "<p>2 rows × 73 columns</p>\n",
       "</div>"
      ],
      "text/plain": [
       "      Id                                               Line SyncToken  \\\n",
       "0  48962  [{'Amount': 150.0, 'DetailType': 'SubTotalLine...         3   \n",
       "1  49237  [{'Amount': 65.0, 'DetailType': 'SubTotalLineD...         1   \n",
       "\n",
       "       DocNumber     TxnDate PrintStatus  \\\n",
       "0  PI/2019/34468  2019-12-10      NotSet   \n",
       "1  PI/2019/34545  2019-12-20      NotSet   \n",
       "\n",
       "                                           LinkedTxn     DueDate EmailStatus  \\\n",
       "0  [{'TxnId': '48902', 'TxnType': 'StatementCharg...  2019-12-10   EmailSent   \n",
       "1  [{'TxnId': '49223', 'TxnType': 'StatementCharg...  2019-12-20   EmailSent   \n",
       "\n",
       "   ExchangeRate  ... CustomField_Type_1  CustomField_StringValue_1  \\\n",
       "0           1.0  ...         StringType           Michael McFadyen   \n",
       "1           1.0  ...         StringType              Andre Bobbitt   \n",
       "\n",
       "   CustomField_DefinitionId_2  CustomField_Name_2 CustomField_Type_2  \\\n",
       "0                           1            Order By         StringType   \n",
       "1                           1            Order By         StringType   \n",
       "\n",
       "  CustomField_StringValue_2 CustomField_DefinitionId_3 CustomField_Name_3  \\\n",
       "0          Michael McFadyen                          1           Order By   \n",
       "1             Andre Bobbitt                          1           Order By   \n",
       "\n",
       "  CustomField_Type_3 CustomField_StringValue_3  \n",
       "0         StringType          Michael McFadyen  \n",
       "1         StringType             Andre Bobbitt  \n",
       "\n",
       "[2 rows x 73 columns]"
      ]
     },
     "execution_count": 91,
     "metadata": {},
     "output_type": "execute_result"
    }
   ],
   "source": [
    "temp.head(2)"
   ]
  },
  {
   "cell_type": "code",
   "execution_count": 88,
   "metadata": {},
   "outputs": [
    {
     "name": "stdout",
     "output_type": "stream",
     "text": [
      "0\n"
     ]
    }
   ],
   "source": [
    "for i in np.arange(1):\n",
    "    print(i)"
   ]
  },
  {
   "cell_type": "code",
   "execution_count": 107,
   "metadata": {},
   "outputs": [
    {
     "ename": "KeyError",
     "evalue": "'SubTotalLineDetail'",
     "output_type": "error",
     "traceback": [
      "\u001b[1;31m---------------------------------------------------------------------------\u001b[0m",
      "\u001b[1;31mKeyError\u001b[0m                                  Traceback (most recent call last)",
      "\u001b[1;32mc:\\Suraj\\projects\\test\\test.ipynb Cell 26\u001b[0m line \u001b[0;36m1\n\u001b[0;32m     <a href='vscode-notebook-cell:/c%3A/Suraj/projects/test/test.ipynb#X30sZmlsZQ%3D%3D?line=10'>11</a>\u001b[0m temp_list \u001b[39m=\u001b[39m temp[col][\u001b[39m0\u001b[39m][\u001b[39m0\u001b[39m]\u001b[39m.\u001b[39mkeys()\n\u001b[0;32m     <a href='vscode-notebook-cell:/c%3A/Suraj/projects/test/test.ipynb#X30sZmlsZQ%3D%3D?line=11'>12</a>\u001b[0m \u001b[39mfor\u001b[39;00m key \u001b[39min\u001b[39;00m temp_list:\n\u001b[1;32m---> <a href='vscode-notebook-cell:/c%3A/Suraj/projects/test/test.ipynb#X30sZmlsZQ%3D%3D?line=12'>13</a>\u001b[0m     temp[col\u001b[39m+\u001b[39m\u001b[39m'\u001b[39m\u001b[39m_\u001b[39m\u001b[39m'\u001b[39m\u001b[39m+\u001b[39m key] \u001b[39m=\u001b[39m temp[col]\u001b[39m.\u001b[39;49mapply(\u001b[39mlambda\u001b[39;49;00m x: x[\u001b[39m0\u001b[39;49m][key])\n",
      "File \u001b[1;32mc:\\Suraj\\projects\\test\\env\\lib\\site-packages\\pandas\\core\\series.py:4753\u001b[0m, in \u001b[0;36mSeries.apply\u001b[1;34m(self, func, convert_dtype, args, by_row, **kwargs)\u001b[0m\n\u001b[0;32m   4625\u001b[0m \u001b[39mdef\u001b[39;00m \u001b[39mapply\u001b[39m(\n\u001b[0;32m   4626\u001b[0m     \u001b[39mself\u001b[39m,\n\u001b[0;32m   4627\u001b[0m     func: AggFuncType,\n\u001b[1;32m   (...)\u001b[0m\n\u001b[0;32m   4632\u001b[0m     \u001b[39m*\u001b[39m\u001b[39m*\u001b[39mkwargs,\n\u001b[0;32m   4633\u001b[0m ) \u001b[39m-\u001b[39m\u001b[39m>\u001b[39m DataFrame \u001b[39m|\u001b[39m Series:\n\u001b[0;32m   4634\u001b[0m \u001b[39m    \u001b[39m\u001b[39m\"\"\"\u001b[39;00m\n\u001b[0;32m   4635\u001b[0m \u001b[39m    Invoke function on values of Series.\u001b[39;00m\n\u001b[0;32m   4636\u001b[0m \n\u001b[1;32m   (...)\u001b[0m\n\u001b[0;32m   4751\u001b[0m \u001b[39m    dtype: float64\u001b[39;00m\n\u001b[0;32m   4752\u001b[0m \u001b[39m    \"\"\"\u001b[39;00m\n\u001b[1;32m-> 4753\u001b[0m     \u001b[39mreturn\u001b[39;00m SeriesApply(\n\u001b[0;32m   4754\u001b[0m         \u001b[39mself\u001b[39;49m,\n\u001b[0;32m   4755\u001b[0m         func,\n\u001b[0;32m   4756\u001b[0m         convert_dtype\u001b[39m=\u001b[39;49mconvert_dtype,\n\u001b[0;32m   4757\u001b[0m         by_row\u001b[39m=\u001b[39;49mby_row,\n\u001b[0;32m   4758\u001b[0m         args\u001b[39m=\u001b[39;49margs,\n\u001b[0;32m   4759\u001b[0m         kwargs\u001b[39m=\u001b[39;49mkwargs,\n\u001b[0;32m   4760\u001b[0m     )\u001b[39m.\u001b[39;49mapply()\n",
      "File \u001b[1;32mc:\\Suraj\\projects\\test\\env\\lib\\site-packages\\pandas\\core\\apply.py:1207\u001b[0m, in \u001b[0;36mSeriesApply.apply\u001b[1;34m(self)\u001b[0m\n\u001b[0;32m   1204\u001b[0m     \u001b[39mreturn\u001b[39;00m \u001b[39mself\u001b[39m\u001b[39m.\u001b[39mapply_compat()\n\u001b[0;32m   1206\u001b[0m \u001b[39m# self.func is Callable\u001b[39;00m\n\u001b[1;32m-> 1207\u001b[0m \u001b[39mreturn\u001b[39;00m \u001b[39mself\u001b[39;49m\u001b[39m.\u001b[39;49mapply_standard()\n",
      "File \u001b[1;32mc:\\Suraj\\projects\\test\\env\\lib\\site-packages\\pandas\\core\\apply.py:1287\u001b[0m, in \u001b[0;36mSeriesApply.apply_standard\u001b[1;34m(self)\u001b[0m\n\u001b[0;32m   1281\u001b[0m \u001b[39m# row-wise access\u001b[39;00m\n\u001b[0;32m   1282\u001b[0m \u001b[39m# apply doesn't have a `na_action` keyword and for backward compat reasons\u001b[39;00m\n\u001b[0;32m   1283\u001b[0m \u001b[39m# we need to give `na_action=\"ignore\"` for categorical data.\u001b[39;00m\n\u001b[0;32m   1284\u001b[0m \u001b[39m# TODO: remove the `na_action=\"ignore\"` when that default has been changed in\u001b[39;00m\n\u001b[0;32m   1285\u001b[0m \u001b[39m#  Categorical (GH51645).\u001b[39;00m\n\u001b[0;32m   1286\u001b[0m action \u001b[39m=\u001b[39m \u001b[39m\"\u001b[39m\u001b[39mignore\u001b[39m\u001b[39m\"\u001b[39m \u001b[39mif\u001b[39;00m \u001b[39misinstance\u001b[39m(obj\u001b[39m.\u001b[39mdtype, CategoricalDtype) \u001b[39melse\u001b[39;00m \u001b[39mNone\u001b[39;00m\n\u001b[1;32m-> 1287\u001b[0m mapped \u001b[39m=\u001b[39m obj\u001b[39m.\u001b[39;49m_map_values(\n\u001b[0;32m   1288\u001b[0m     mapper\u001b[39m=\u001b[39;49mcurried, na_action\u001b[39m=\u001b[39;49maction, convert\u001b[39m=\u001b[39;49m\u001b[39mself\u001b[39;49m\u001b[39m.\u001b[39;49mconvert_dtype\n\u001b[0;32m   1289\u001b[0m )\n\u001b[0;32m   1291\u001b[0m \u001b[39mif\u001b[39;00m \u001b[39mlen\u001b[39m(mapped) \u001b[39mand\u001b[39;00m \u001b[39misinstance\u001b[39m(mapped[\u001b[39m0\u001b[39m], ABCSeries):\n\u001b[0;32m   1292\u001b[0m     \u001b[39m# GH#43986 Need to do list(mapped) in order to get treated as nested\u001b[39;00m\n\u001b[0;32m   1293\u001b[0m     \u001b[39m#  See also GH#25959 regarding EA support\u001b[39;00m\n\u001b[0;32m   1294\u001b[0m     \u001b[39mreturn\u001b[39;00m obj\u001b[39m.\u001b[39m_constructor_expanddim(\u001b[39mlist\u001b[39m(mapped), index\u001b[39m=\u001b[39mobj\u001b[39m.\u001b[39mindex)\n",
      "File \u001b[1;32mc:\\Suraj\\projects\\test\\env\\lib\\site-packages\\pandas\\core\\base.py:921\u001b[0m, in \u001b[0;36mIndexOpsMixin._map_values\u001b[1;34m(self, mapper, na_action, convert)\u001b[0m\n\u001b[0;32m    918\u001b[0m \u001b[39mif\u001b[39;00m \u001b[39misinstance\u001b[39m(arr, ExtensionArray):\n\u001b[0;32m    919\u001b[0m     \u001b[39mreturn\u001b[39;00m arr\u001b[39m.\u001b[39mmap(mapper, na_action\u001b[39m=\u001b[39mna_action)\n\u001b[1;32m--> 921\u001b[0m \u001b[39mreturn\u001b[39;00m algorithms\u001b[39m.\u001b[39;49mmap_array(arr, mapper, na_action\u001b[39m=\u001b[39;49mna_action, convert\u001b[39m=\u001b[39;49mconvert)\n",
      "File \u001b[1;32mc:\\Suraj\\projects\\test\\env\\lib\\site-packages\\pandas\\core\\algorithms.py:1814\u001b[0m, in \u001b[0;36mmap_array\u001b[1;34m(arr, mapper, na_action, convert)\u001b[0m\n\u001b[0;32m   1812\u001b[0m values \u001b[39m=\u001b[39m arr\u001b[39m.\u001b[39mastype(\u001b[39mobject\u001b[39m, copy\u001b[39m=\u001b[39m\u001b[39mFalse\u001b[39;00m)\n\u001b[0;32m   1813\u001b[0m \u001b[39mif\u001b[39;00m na_action \u001b[39mis\u001b[39;00m \u001b[39mNone\u001b[39;00m:\n\u001b[1;32m-> 1814\u001b[0m     \u001b[39mreturn\u001b[39;00m lib\u001b[39m.\u001b[39;49mmap_infer(values, mapper, convert\u001b[39m=\u001b[39;49mconvert)\n\u001b[0;32m   1815\u001b[0m \u001b[39melse\u001b[39;00m:\n\u001b[0;32m   1816\u001b[0m     \u001b[39mreturn\u001b[39;00m lib\u001b[39m.\u001b[39mmap_infer_mask(\n\u001b[0;32m   1817\u001b[0m         values, mapper, mask\u001b[39m=\u001b[39misna(values)\u001b[39m.\u001b[39mview(np\u001b[39m.\u001b[39muint8), convert\u001b[39m=\u001b[39mconvert\n\u001b[0;32m   1818\u001b[0m     )\n",
      "File \u001b[1;32mlib.pyx:2920\u001b[0m, in \u001b[0;36mpandas._libs.lib.map_infer\u001b[1;34m()\u001b[0m\n",
      "\u001b[1;32mc:\\Suraj\\projects\\test\\test.ipynb Cell 26\u001b[0m line \u001b[0;36m1\n\u001b[0;32m     <a href='vscode-notebook-cell:/c%3A/Suraj/projects/test/test.ipynb#X30sZmlsZQ%3D%3D?line=10'>11</a>\u001b[0m temp_list \u001b[39m=\u001b[39m temp[col][\u001b[39m0\u001b[39m][\u001b[39m0\u001b[39m]\u001b[39m.\u001b[39mkeys()\n\u001b[0;32m     <a href='vscode-notebook-cell:/c%3A/Suraj/projects/test/test.ipynb#X30sZmlsZQ%3D%3D?line=11'>12</a>\u001b[0m \u001b[39mfor\u001b[39;00m key \u001b[39min\u001b[39;00m temp_list:\n\u001b[1;32m---> <a href='vscode-notebook-cell:/c%3A/Suraj/projects/test/test.ipynb#X30sZmlsZQ%3D%3D?line=12'>13</a>\u001b[0m     temp[col\u001b[39m+\u001b[39m\u001b[39m'\u001b[39m\u001b[39m_\u001b[39m\u001b[39m'\u001b[39m\u001b[39m+\u001b[39m key] \u001b[39m=\u001b[39m temp[col]\u001b[39m.\u001b[39mapply(\u001b[39mlambda\u001b[39;00m x: x[\u001b[39m0\u001b[39;49m][key])\n",
      "\u001b[1;31mKeyError\u001b[0m: 'SubTotalLineDetail'"
     ]
    }
   ],
   "source": [
    "dict_col_list = ['Line', 'LinkedTxn', 'CustomField']\n",
    "# dict_col_list = ['LinkedTxn']\n",
    "\n",
    "for col in dict_col_list:\n",
    "    if len(temp[col][0]) > 1:\n",
    "        for i in np.arange(len(temp[col][0])):\n",
    "            temp_list = temp[col][0][i].keys()\n",
    "            for key in temp_list:\n",
    "                temp[col +'_'+ key + '_' + str(i+1)] = temp[col].apply(lambda x: x[0][key])\n",
    "    else :\n",
    "        temp_list = temp[col][0][0].keys()\n",
    "        for key in temp_list:\n",
    "            temp[col+'_'+ key] = temp[col].apply(lambda x: x[0][key])"
   ]
  },
  {
   "cell_type": "code",
   "execution_count": 82,
   "metadata": {},
   "outputs": [
    {
     "data": {
      "text/plain": [
       "Index(['Id', 'Line', 'SyncToken', 'DocNumber', 'TxnDate', 'PrintStatus',\n",
       "       'LinkedTxn', 'DueDate', 'EmailStatus', 'ExchangeRate', 'CustomField',\n",
       "       'ApplyTaxAfterDiscount', 'TotalAmt', 'Balance', 'CustomerRef.value',\n",
       "       'CustomerRef.name', 'CurrencyRef.value', 'CurrencyRef.name',\n",
       "       'BillEmail.Address', 'SalesTermRef.value', 'SalesTermRef.name',\n",
       "       'MetaData.CreateTime', 'MetaData.LastModifiedByRef.value',\n",
       "       'MetaData.LastUpdatedTime', 'TxnTaxDetail.TotalTax', 'ShipAddr.Id',\n",
       "       'ShipAddr.Line1', 'ShipAddr.Line2', 'ShipAddr.Line3',\n",
       "       'DepartmentRef.value', 'DepartmentRef.name', 'BillAddr.Id',\n",
       "       'BillAddr.Line1', 'BillAddr.Line2', 'BillAddr.Line3', 'ShipFromAddr.Id',\n",
       "       'ShipFromAddr.Line1', 'ShipAddr.Line4', 'BillAddr.Line4',\n",
       "       'TxnTaxDetail.TxnTaxCodeRef.value', 'TxnTaxDetail.TxnTaxCodeRef.name',\n",
       "       'ShipAddr.City', 'ShipAddr.Country', 'ShipAddr.CountrySubDivisionCode',\n",
       "       'ShipAddr.PostalCode', 'BillAddr.City', 'BillAddr.Country',\n",
       "       'BillAddr.CountrySubDivisionCode', 'BillAddr.PostalCode',\n",
       "       'BillAddr.Lat', 'BillAddr.Long', 'ShipAddr.Line5', 'BillAddr.Line5',\n",
       "       'CustomerMemo.value', 'Line_Amount', 'Line_DetailType',\n",
       "       'Line_SubTotalLineDetail', 'LinkedTxn_TxnId_1', 'LinkedTxn_TxnType_1',\n",
       "       'LinkedTxn_TxnId_2', 'LinkedTxn_TxnType_2',\n",
       "       'CustomField_DefinitionId_1', 'CustomField_Name_1',\n",
       "       'CustomField_Type_1', 'CustomField_StringValue_1',\n",
       "       'CustomField_DefinitionId_2', 'CustomField_Name_2',\n",
       "       'CustomField_Type_2', 'CustomField_StringValue_2',\n",
       "       'CustomField_DefinitionId_3', 'CustomField_Name_3',\n",
       "       'CustomField_Type_3', 'CustomField_StringValue_3'],\n",
       "      dtype='object')"
      ]
     },
     "execution_count": 82,
     "metadata": {},
     "output_type": "execute_result"
    }
   ],
   "source": [
    "temp.columns"
   ]
  },
  {
   "cell_type": "code",
   "execution_count": 83,
   "metadata": {},
   "outputs": [
    {
     "data": {
      "text/html": [
       "<div>\n",
       "<style scoped>\n",
       "    .dataframe tbody tr th:only-of-type {\n",
       "        vertical-align: middle;\n",
       "    }\n",
       "\n",
       "    .dataframe tbody tr th {\n",
       "        vertical-align: top;\n",
       "    }\n",
       "\n",
       "    .dataframe thead th {\n",
       "        text-align: right;\n",
       "    }\n",
       "</style>\n",
       "<table border=\"1\" class=\"dataframe\">\n",
       "  <thead>\n",
       "    <tr style=\"text-align: right;\">\n",
       "      <th></th>\n",
       "      <th>Id</th>\n",
       "      <th>Line</th>\n",
       "      <th>SyncToken</th>\n",
       "      <th>DocNumber</th>\n",
       "      <th>TxnDate</th>\n",
       "      <th>PrintStatus</th>\n",
       "      <th>LinkedTxn</th>\n",
       "      <th>DueDate</th>\n",
       "      <th>EmailStatus</th>\n",
       "      <th>ExchangeRate</th>\n",
       "      <th>...</th>\n",
       "      <th>CustomField_Type_1</th>\n",
       "      <th>CustomField_StringValue_1</th>\n",
       "      <th>CustomField_DefinitionId_2</th>\n",
       "      <th>CustomField_Name_2</th>\n",
       "      <th>CustomField_Type_2</th>\n",
       "      <th>CustomField_StringValue_2</th>\n",
       "      <th>CustomField_DefinitionId_3</th>\n",
       "      <th>CustomField_Name_3</th>\n",
       "      <th>CustomField_Type_3</th>\n",
       "      <th>CustomField_StringValue_3</th>\n",
       "    </tr>\n",
       "  </thead>\n",
       "  <tbody>\n",
       "    <tr>\n",
       "      <th>0</th>\n",
       "      <td>48962</td>\n",
       "      <td>[{'Amount': 150.0, 'DetailType': 'SubTotalLine...</td>\n",
       "      <td>3</td>\n",
       "      <td>PI/2019/34468</td>\n",
       "      <td>2019-12-10</td>\n",
       "      <td>NotSet</td>\n",
       "      <td>[{'TxnId': '48902', 'TxnType': 'StatementCharg...</td>\n",
       "      <td>2019-12-10</td>\n",
       "      <td>EmailSent</td>\n",
       "      <td>1.0</td>\n",
       "      <td>...</td>\n",
       "      <td>StringType</td>\n",
       "      <td>Michael McFadyen</td>\n",
       "      <td>1</td>\n",
       "      <td>Order By</td>\n",
       "      <td>StringType</td>\n",
       "      <td>Michael McFadyen</td>\n",
       "      <td>1</td>\n",
       "      <td>Order By</td>\n",
       "      <td>StringType</td>\n",
       "      <td>Michael McFadyen</td>\n",
       "    </tr>\n",
       "    <tr>\n",
       "      <th>1</th>\n",
       "      <td>49237</td>\n",
       "      <td>[{'Amount': 65.0, 'DetailType': 'SubTotalLineD...</td>\n",
       "      <td>1</td>\n",
       "      <td>PI/2019/34545</td>\n",
       "      <td>2019-12-20</td>\n",
       "      <td>NotSet</td>\n",
       "      <td>[{'TxnId': '49223', 'TxnType': 'StatementCharg...</td>\n",
       "      <td>2019-12-20</td>\n",
       "      <td>EmailSent</td>\n",
       "      <td>1.0</td>\n",
       "      <td>...</td>\n",
       "      <td>StringType</td>\n",
       "      <td>Andre Bobbitt</td>\n",
       "      <td>1</td>\n",
       "      <td>Order By</td>\n",
       "      <td>StringType</td>\n",
       "      <td>Andre Bobbitt</td>\n",
       "      <td>1</td>\n",
       "      <td>Order By</td>\n",
       "      <td>StringType</td>\n",
       "      <td>Andre Bobbitt</td>\n",
       "    </tr>\n",
       "  </tbody>\n",
       "</table>\n",
       "<p>2 rows × 73 columns</p>\n",
       "</div>"
      ],
      "text/plain": [
       "      Id                                               Line SyncToken  \\\n",
       "0  48962  [{'Amount': 150.0, 'DetailType': 'SubTotalLine...         3   \n",
       "1  49237  [{'Amount': 65.0, 'DetailType': 'SubTotalLineD...         1   \n",
       "\n",
       "       DocNumber     TxnDate PrintStatus  \\\n",
       "0  PI/2019/34468  2019-12-10      NotSet   \n",
       "1  PI/2019/34545  2019-12-20      NotSet   \n",
       "\n",
       "                                           LinkedTxn     DueDate EmailStatus  \\\n",
       "0  [{'TxnId': '48902', 'TxnType': 'StatementCharg...  2019-12-10   EmailSent   \n",
       "1  [{'TxnId': '49223', 'TxnType': 'StatementCharg...  2019-12-20   EmailSent   \n",
       "\n",
       "   ExchangeRate  ... CustomField_Type_1  CustomField_StringValue_1  \\\n",
       "0           1.0  ...         StringType           Michael McFadyen   \n",
       "1           1.0  ...         StringType              Andre Bobbitt   \n",
       "\n",
       "   CustomField_DefinitionId_2  CustomField_Name_2 CustomField_Type_2  \\\n",
       "0                           1            Order By         StringType   \n",
       "1                           1            Order By         StringType   \n",
       "\n",
       "  CustomField_StringValue_2 CustomField_DefinitionId_3 CustomField_Name_3  \\\n",
       "0          Michael McFadyen                          1           Order By   \n",
       "1             Andre Bobbitt                          1           Order By   \n",
       "\n",
       "  CustomField_Type_3 CustomField_StringValue_3  \n",
       "0         StringType          Michael McFadyen  \n",
       "1         StringType             Andre Bobbitt  \n",
       "\n",
       "[2 rows x 73 columns]"
      ]
     },
     "execution_count": 83,
     "metadata": {},
     "output_type": "execute_result"
    }
   ],
   "source": [
    "temp.head(2)"
   ]
  },
  {
   "cell_type": "markdown",
   "metadata": {},
   "source": []
  },
  {
   "cell_type": "code",
   "execution_count": 30,
   "metadata": {},
   "outputs": [],
   "source": [
    "\n",
    "# data['Line'].apply(lambda x: x[0]['Amount'])"
   ]
  },
  {
   "cell_type": "code",
   "execution_count": 1,
   "metadata": {},
   "outputs": [],
   "source": [
    "import pandas as pd\n",
    "import re  # For regular expressions"
   ]
  },
  {
   "cell_type": "code",
   "execution_count": 2,
   "metadata": {},
   "outputs": [],
   "source": [
    "file_path = r'data\\Egnyte_File_Report_11_Oct-08_Jan23 10112023 - 01082024.csv'"
   ]
  },
  {
   "cell_type": "code",
   "execution_count": 3,
   "metadata": {},
   "outputs": [
    {
     "name": "stderr",
     "output_type": "stream",
     "text": [
      "C:\\Users\\pis05408.PINNACLE\\AppData\\Local\\Temp\\ipykernel_18500\\3349218801.py:1: DtypeWarning: Columns (5,9,10,11) have mixed types. Specify dtype option on import or set low_memory=False.\n",
      "  data = pd.read_csv(file_path, skiprows=1)\n"
     ]
    },
    {
     "data": {
      "text/html": [
       "<div>\n",
       "<style scoped>\n",
       "    .dataframe tbody tr th:only-of-type {\n",
       "        vertical-align: middle;\n",
       "    }\n",
       "\n",
       "    .dataframe tbody tr th {\n",
       "        vertical-align: top;\n",
       "    }\n",
       "\n",
       "    .dataframe thead th {\n",
       "        text-align: right;\n",
       "    }\n",
       "</style>\n",
       "<table border=\"1\" class=\"dataframe\">\n",
       "  <thead>\n",
       "    <tr style=\"text-align: right;\">\n",
       "      <th></th>\n",
       "      <th>File/Folder</th>\n",
       "      <th>Target Path/Link</th>\n",
       "      <th>User/Location</th>\n",
       "      <th>User ID</th>\n",
       "      <th>Transaction Type</th>\n",
       "      <th>Action Info</th>\n",
       "      <th>Access</th>\n",
       "      <th>Time</th>\n",
       "      <th>IP Address</th>\n",
       "      <th>File Checksum</th>\n",
       "      <th>Device Name</th>\n",
       "      <th>File Version</th>\n",
       "      <th>Space Used</th>\n",
       "    </tr>\n",
       "  </thead>\n",
       "  <tbody>\n",
       "    <tr>\n",
       "      <th>0</th>\n",
       "      <td>/Shared/DGP-MECH-08/Kilgore Industries/KGI_004...</td>\n",
       "      <td>NaN</td>\n",
       "      <td>Quaddus Booth ( qbooth@kilgoreind.com )</td>\n",
       "      <td>748</td>\n",
       "      <td>Lock File</td>\n",
       "      <td>NaN</td>\n",
       "      <td>Desktop App</td>\n",
       "      <td>10/11/23 0:02:16</td>\n",
       "      <td>216.74.235.178</td>\n",
       "      <td>93b97fb960bfe412bd71458823598142c58338f0548e5c...</td>\n",
       "      <td>NaN</td>\n",
       "      <td>NaN</td>\n",
       "      <td>0</td>\n",
       "    </tr>\n",
       "    <tr>\n",
       "      <th>1</th>\n",
       "      <td>/Shared/DGP-MECH-08/Kilgore Industries/KGI_004...</td>\n",
       "      <td>NaN</td>\n",
       "      <td>Quaddus Booth ( qbooth@kilgoreind.com )</td>\n",
       "      <td>748</td>\n",
       "      <td>Lock File</td>\n",
       "      <td>NaN</td>\n",
       "      <td>Desktop App</td>\n",
       "      <td>10/11/23 0:02:26</td>\n",
       "      <td>216.74.235.178</td>\n",
       "      <td>0b5f029877641523e384ca72ccc30fd3602c4357b01983...</td>\n",
       "      <td>NaN</td>\n",
       "      <td>NaN</td>\n",
       "      <td>0</td>\n",
       "    </tr>\n",
       "    <tr>\n",
       "      <th>2</th>\n",
       "      <td>/Shared/DGP-MECH-08/Kilgore Industries/KGI_004...</td>\n",
       "      <td>NaN</td>\n",
       "      <td>Quaddus Booth ( qbooth@kilgoreind.com )</td>\n",
       "      <td>748</td>\n",
       "      <td>Lock File</td>\n",
       "      <td>NaN</td>\n",
       "      <td>Desktop App</td>\n",
       "      <td>10/11/23 0:02:36</td>\n",
       "      <td>216.74.235.178</td>\n",
       "      <td>e8ce5614ad0a2e2210d633e6ea105ea4906fe7614c6654...</td>\n",
       "      <td>NaN</td>\n",
       "      <td>NaN</td>\n",
       "      <td>0</td>\n",
       "    </tr>\n",
       "    <tr>\n",
       "      <th>3</th>\n",
       "      <td>/Shared/DGP-MECH-08/Kilgore Industries/KGI_004...</td>\n",
       "      <td>NaN</td>\n",
       "      <td>Quaddus Booth ( qbooth@kilgoreind.com )</td>\n",
       "      <td>748</td>\n",
       "      <td>Lock File</td>\n",
       "      <td>NaN</td>\n",
       "      <td>Desktop App</td>\n",
       "      <td>10/11/23 0:02:46</td>\n",
       "      <td>216.74.235.178</td>\n",
       "      <td>f669687d62ca2871258d95275bd50d072377e5808cf7cc...</td>\n",
       "      <td>NaN</td>\n",
       "      <td>NaN</td>\n",
       "      <td>0</td>\n",
       "    </tr>\n",
       "    <tr>\n",
       "      <th>4</th>\n",
       "      <td>/Shared/DGP-MECH-08/Kilgore Industries/KGI_004...</td>\n",
       "      <td>NaN</td>\n",
       "      <td>Quaddus Booth ( qbooth@kilgoreind.com )</td>\n",
       "      <td>748</td>\n",
       "      <td>Lock File</td>\n",
       "      <td>NaN</td>\n",
       "      <td>Desktop App</td>\n",
       "      <td>10/11/23 0:06:46</td>\n",
       "      <td>216.74.235.178</td>\n",
       "      <td>93b97fb960bfe412bd71458823598142c58338f0548e5c...</td>\n",
       "      <td>NaN</td>\n",
       "      <td>NaN</td>\n",
       "      <td>0</td>\n",
       "    </tr>\n",
       "  </tbody>\n",
       "</table>\n",
       "</div>"
      ],
      "text/plain": [
       "                                         File/Folder Target Path/Link  \\\n",
       "0  /Shared/DGP-MECH-08/Kilgore Industries/KGI_004...              NaN   \n",
       "1  /Shared/DGP-MECH-08/Kilgore Industries/KGI_004...              NaN   \n",
       "2  /Shared/DGP-MECH-08/Kilgore Industries/KGI_004...              NaN   \n",
       "3  /Shared/DGP-MECH-08/Kilgore Industries/KGI_004...              NaN   \n",
       "4  /Shared/DGP-MECH-08/Kilgore Industries/KGI_004...              NaN   \n",
       "\n",
       "                             User/Location  User ID Transaction Type  \\\n",
       "0  Quaddus Booth ( qbooth@kilgoreind.com )      748        Lock File   \n",
       "1  Quaddus Booth ( qbooth@kilgoreind.com )      748        Lock File   \n",
       "2  Quaddus Booth ( qbooth@kilgoreind.com )      748        Lock File   \n",
       "3  Quaddus Booth ( qbooth@kilgoreind.com )      748        Lock File   \n",
       "4  Quaddus Booth ( qbooth@kilgoreind.com )      748        Lock File   \n",
       "\n",
       "  Action Info       Access              Time      IP Address  \\\n",
       "0         NaN  Desktop App  10/11/23 0:02:16  216.74.235.178   \n",
       "1         NaN  Desktop App  10/11/23 0:02:26  216.74.235.178   \n",
       "2         NaN  Desktop App  10/11/23 0:02:36  216.74.235.178   \n",
       "3         NaN  Desktop App  10/11/23 0:02:46  216.74.235.178   \n",
       "4         NaN  Desktop App  10/11/23 0:06:46  216.74.235.178   \n",
       "\n",
       "                                       File Checksum Device Name File Version  \\\n",
       "0  93b97fb960bfe412bd71458823598142c58338f0548e5c...         NaN          NaN   \n",
       "1  0b5f029877641523e384ca72ccc30fd3602c4357b01983...         NaN          NaN   \n",
       "2  e8ce5614ad0a2e2210d633e6ea105ea4906fe7614c6654...         NaN          NaN   \n",
       "3  f669687d62ca2871258d95275bd50d072377e5808cf7cc...         NaN          NaN   \n",
       "4  93b97fb960bfe412bd71458823598142c58338f0548e5c...         NaN          NaN   \n",
       "\n",
       "   Space Used  \n",
       "0           0  \n",
       "1           0  \n",
       "2           0  \n",
       "3           0  \n",
       "4           0  "
      ]
     },
     "execution_count": 3,
     "metadata": {},
     "output_type": "execute_result"
    }
   ],
   "source": [
    "data = pd.read_csv(file_path, skiprows=1)\n",
    "data.head()"
   ]
  },
  {
   "cell_type": "code",
   "execution_count": 22,
   "metadata": {},
   "outputs": [
    {
     "data": {
      "text/plain": [
       "Index(['File/Folder', 'Target Path/Link', 'User/Location', 'User ID',\n",
       "       'Transaction Type', 'Action Info', 'Access', 'Time', 'IP Address',\n",
       "       'File Checksum', 'Device Name', 'File Version', 'Space Used'],\n",
       "      dtype='object')"
      ]
     },
     "execution_count": 22,
     "metadata": {},
     "output_type": "execute_result"
    }
   ],
   "source": [
    "data.columns"
   ]
  },
  {
   "cell_type": "code",
   "execution_count": 4,
   "metadata": {},
   "outputs": [
    {
     "name": "stdout",
     "output_type": "stream",
     "text": [
      "<class 'pandas.core.frame.DataFrame'>\n",
      "RangeIndex: 1691683 entries, 0 to 1691682\n",
      "Data columns (total 13 columns):\n",
      " #   Column            Dtype \n",
      "---  ------            ----- \n",
      " 0   File/Folder       object\n",
      " 1   Target Path/Link  object\n",
      " 2   User/Location     object\n",
      " 3   User ID           int64 \n",
      " 4   Transaction Type  object\n",
      " 5   Action Info       object\n",
      " 6   Access            object\n",
      " 7   Time              object\n",
      " 8   IP Address        object\n",
      " 9   File Checksum     object\n",
      " 10  Device Name       object\n",
      " 11  File Version      object\n",
      " 12  Space Used        int64 \n",
      "dtypes: int64(2), object(11)\n",
      "memory usage: 167.8+ MB\n"
     ]
    }
   ],
   "source": [
    "data.info()"
   ]
  },
  {
   "cell_type": "code",
   "execution_count": 25,
   "metadata": {},
   "outputs": [
    {
     "data": {
      "text/plain": [
       "(1691683, 13)"
      ]
     },
     "execution_count": 25,
     "metadata": {},
     "output_type": "execute_result"
    }
   ],
   "source": [
    "data.shape"
   ]
  },
  {
   "cell_type": "code",
   "execution_count": 5,
   "metadata": {},
   "outputs": [
    {
     "name": "stderr",
     "output_type": "stream",
     "text": [
      "C:\\Users\\pis05408.PINNACLE\\AppData\\Local\\Temp\\ipykernel_18500\\3930017959.py:1: UserWarning: Could not infer format, so each element will be parsed individually, falling back to `dateutil`. To ensure parsing is consistent and as-expected, please specify a format.\n",
      "  data['Time'] = pd.to_datetime(data['Time']).dt.date\n"
     ]
    }
   ],
   "source": [
    "data['Time'] = pd.to_datetime(data['Time']).dt.date"
   ]
  },
  {
   "cell_type": "code",
   "execution_count": 6,
   "metadata": {},
   "outputs": [],
   "source": [
    "data['Time'] = pd.to_datetime(data['Time'])"
   ]
  },
  {
   "cell_type": "code",
   "execution_count": 7,
   "metadata": {},
   "outputs": [
    {
     "data": {
      "text/html": [
       "<div>\n",
       "<style scoped>\n",
       "    .dataframe tbody tr th:only-of-type {\n",
       "        vertical-align: middle;\n",
       "    }\n",
       "\n",
       "    .dataframe tbody tr th {\n",
       "        vertical-align: top;\n",
       "    }\n",
       "\n",
       "    .dataframe thead th {\n",
       "        text-align: right;\n",
       "    }\n",
       "</style>\n",
       "<table border=\"1\" class=\"dataframe\">\n",
       "  <thead>\n",
       "    <tr style=\"text-align: right;\">\n",
       "      <th></th>\n",
       "      <th>File/Folder</th>\n",
       "      <th>Target Path/Link</th>\n",
       "      <th>User/Location</th>\n",
       "      <th>User ID</th>\n",
       "      <th>Transaction Type</th>\n",
       "      <th>Action Info</th>\n",
       "      <th>Access</th>\n",
       "      <th>Time</th>\n",
       "      <th>IP Address</th>\n",
       "      <th>File Checksum</th>\n",
       "      <th>Device Name</th>\n",
       "      <th>File Version</th>\n",
       "      <th>Space Used</th>\n",
       "    </tr>\n",
       "  </thead>\n",
       "  <tbody>\n",
       "    <tr>\n",
       "      <th>1691678</th>\n",
       "      <td>/Shared/DGP-STRC-01/PCC/PCC_0007_AllPecSt24/FR...</td>\n",
       "      <td>https://pinnaclecad.egnyte.com/fl/EbelcDLHNw</td>\n",
       "      <td>Ranjan Kundu ( rkundu@pinnacleinfotech.com )</td>\n",
       "      <td>920</td>\n",
       "      <td>Create Download Link</td>\n",
       "      <td>https://pinnaclecad.egnyte.com/fl/EbelcDLHNw</td>\n",
       "      <td>Web UI</td>\n",
       "      <td>2024-01-08</td>\n",
       "      <td>111.93.172.5</td>\n",
       "      <td>NaN</td>\n",
       "      <td>NaN</td>\n",
       "      <td>NaN</td>\n",
       "      <td>0</td>\n",
       "    </tr>\n",
       "    <tr>\n",
       "      <th>1691679</th>\n",
       "      <td>/Shared/Kol-001/For Lipi Jain/Architecture all...</td>\n",
       "      <td>https://pinnaclecad.egnyte.com/fl/CMful9AK8k</td>\n",
       "      <td>Anonymous access from Mohali, Punjab, India  (...</td>\n",
       "      <td>10</td>\n",
       "      <td>Preview via Link</td>\n",
       "      <td>NaN</td>\n",
       "      <td>Link</td>\n",
       "      <td>2024-01-08</td>\n",
       "      <td>182.75.105.65</td>\n",
       "      <td>e4015811f05b045da383cc18bd36b8593b34eba8669085...</td>\n",
       "      <td>NaN</td>\n",
       "      <td>NaN</td>\n",
       "      <td>34978461</td>\n",
       "    </tr>\n",
       "    <tr>\n",
       "      <th>1691680</th>\n",
       "      <td>/Private/priyankad/BCA Braddell Campus/BC_DSP_...</td>\n",
       "      <td>https://pinnaclecad.egnyte.com/fl/PVC83zAo0f</td>\n",
       "      <td>Anonymous access from Kolkata, West Bengal, In...</td>\n",
       "      <td>2242</td>\n",
       "      <td>Download via Link</td>\n",
       "      <td>NaN</td>\n",
       "      <td>Link</td>\n",
       "      <td>2024-01-08</td>\n",
       "      <td>111.93.172.5</td>\n",
       "      <td>NaN</td>\n",
       "      <td>NaN</td>\n",
       "      <td>NaN</td>\n",
       "      <td>3234258476</td>\n",
       "    </tr>\n",
       "    <tr>\n",
       "      <th>1691681</th>\n",
       "      <td>/Private/priyankad/BCA Braddell Campus/BC_DSP_...</td>\n",
       "      <td>https://pinnaclecad.egnyte.com/fl/PVC83zAo0f</td>\n",
       "      <td>Anonymous access from Kolkata, West Bengal, In...</td>\n",
       "      <td>2242</td>\n",
       "      <td>Download via Link</td>\n",
       "      <td>NaN</td>\n",
       "      <td>Link</td>\n",
       "      <td>2024-01-08</td>\n",
       "      <td>111.93.172.5</td>\n",
       "      <td>NaN</td>\n",
       "      <td>NaN</td>\n",
       "      <td>NaN</td>\n",
       "      <td>4051946416</td>\n",
       "    </tr>\n",
       "    <tr>\n",
       "      <th>1691682</th>\n",
       "      <td>/Private/mshilp/ACS-008/Avenue Mall/Reference ...</td>\n",
       "      <td>NaN</td>\n",
       "      <td>Nisar Khan ( nkhan@pinnaclecad.com )</td>\n",
       "      <td>34</td>\n",
       "      <td>Preview</td>\n",
       "      <td>NaN</td>\n",
       "      <td>Web UI</td>\n",
       "      <td>2024-01-08</td>\n",
       "      <td>182.75.105.65</td>\n",
       "      <td>b46ea840e52dc5f3d057987e4625188214f2f4dac4623b...</td>\n",
       "      <td>NaN</td>\n",
       "      <td>30fc5d81-82ad-4c0c-9173-245410f97a10</td>\n",
       "      <td>539479</td>\n",
       "    </tr>\n",
       "  </tbody>\n",
       "</table>\n",
       "</div>"
      ],
      "text/plain": [
       "                                               File/Folder  \\\n",
       "1691678  /Shared/DGP-STRC-01/PCC/PCC_0007_AllPecSt24/FR...   \n",
       "1691679  /Shared/Kol-001/For Lipi Jain/Architecture all...   \n",
       "1691680  /Private/priyankad/BCA Braddell Campus/BC_DSP_...   \n",
       "1691681  /Private/priyankad/BCA Braddell Campus/BC_DSP_...   \n",
       "1691682  /Private/mshilp/ACS-008/Avenue Mall/Reference ...   \n",
       "\n",
       "                                     Target Path/Link  \\\n",
       "1691678  https://pinnaclecad.egnyte.com/fl/EbelcDLHNw   \n",
       "1691679  https://pinnaclecad.egnyte.com/fl/CMful9AK8k   \n",
       "1691680  https://pinnaclecad.egnyte.com/fl/PVC83zAo0f   \n",
       "1691681  https://pinnaclecad.egnyte.com/fl/PVC83zAo0f   \n",
       "1691682                                           NaN   \n",
       "\n",
       "                                             User/Location  User ID  \\\n",
       "1691678       Ranjan Kundu ( rkundu@pinnacleinfotech.com )      920   \n",
       "1691679  Anonymous access from Mohali, Punjab, India  (...       10   \n",
       "1691680  Anonymous access from Kolkata, West Bengal, In...     2242   \n",
       "1691681  Anonymous access from Kolkata, West Bengal, In...     2242   \n",
       "1691682               Nisar Khan ( nkhan@pinnaclecad.com )       34   \n",
       "\n",
       "             Transaction Type                                   Action Info  \\\n",
       "1691678  Create Download Link  https://pinnaclecad.egnyte.com/fl/EbelcDLHNw   \n",
       "1691679      Preview via Link                                           NaN   \n",
       "1691680     Download via Link                                           NaN   \n",
       "1691681     Download via Link                                           NaN   \n",
       "1691682               Preview                                           NaN   \n",
       "\n",
       "         Access       Time     IP Address  \\\n",
       "1691678  Web UI 2024-01-08   111.93.172.5   \n",
       "1691679    Link 2024-01-08  182.75.105.65   \n",
       "1691680    Link 2024-01-08   111.93.172.5   \n",
       "1691681    Link 2024-01-08   111.93.172.5   \n",
       "1691682  Web UI 2024-01-08  182.75.105.65   \n",
       "\n",
       "                                             File Checksum Device Name  \\\n",
       "1691678                                                NaN         NaN   \n",
       "1691679  e4015811f05b045da383cc18bd36b8593b34eba8669085...         NaN   \n",
       "1691680                                                NaN         NaN   \n",
       "1691681                                                NaN         NaN   \n",
       "1691682  b46ea840e52dc5f3d057987e4625188214f2f4dac4623b...         NaN   \n",
       "\n",
       "                                 File Version  Space Used  \n",
       "1691678                                   NaN           0  \n",
       "1691679                                   NaN    34978461  \n",
       "1691680                                   NaN  3234258476  \n",
       "1691681                                   NaN  4051946416  \n",
       "1691682  30fc5d81-82ad-4c0c-9173-245410f97a10      539479  "
      ]
     },
     "execution_count": 7,
     "metadata": {},
     "output_type": "execute_result"
    }
   ],
   "source": [
    "data.tail()"
   ]
  },
  {
   "cell_type": "code",
   "execution_count": 8,
   "metadata": {},
   "outputs": [
    {
     "name": "stdout",
     "output_type": "stream",
     "text": [
      "<class 'pandas.core.frame.DataFrame'>\n",
      "RangeIndex: 1691683 entries, 0 to 1691682\n",
      "Data columns (total 13 columns):\n",
      " #   Column            Dtype         \n",
      "---  ------            -----         \n",
      " 0   File/Folder       object        \n",
      " 1   Target Path/Link  object        \n",
      " 2   User/Location     object        \n",
      " 3   User ID           int64         \n",
      " 4   Transaction Type  object        \n",
      " 5   Action Info       object        \n",
      " 6   Access            object        \n",
      " 7   Time              datetime64[ns]\n",
      " 8   IP Address        object        \n",
      " 9   File Checksum     object        \n",
      " 10  Device Name       object        \n",
      " 11  File Version      object        \n",
      " 12  Space Used        int64         \n",
      "dtypes: datetime64[ns](1), int64(2), object(10)\n",
      "memory usage: 167.8+ MB\n"
     ]
    }
   ],
   "source": [
    "data.info()"
   ]
  },
  {
   "cell_type": "code",
   "execution_count": 90,
   "metadata": {},
   "outputs": [
    {
     "data": {
      "text/plain": [
       "Timestamp('2024-01-08 00:00:00')"
      ]
     },
     "execution_count": 90,
     "metadata": {},
     "output_type": "execute_result"
    }
   ],
   "source": [
    "max(data['Time'])"
   ]
  },
  {
   "cell_type": "code",
   "execution_count": 91,
   "metadata": {},
   "outputs": [
    {
     "data": {
      "text/plain": [
       "Timestamp('2023-10-11 00:00:00')"
      ]
     },
     "execution_count": 91,
     "metadata": {},
     "output_type": "execute_result"
    }
   ],
   "source": [
    "min(data['Time'])"
   ]
  },
  {
   "cell_type": "code",
   "execution_count": 9,
   "metadata": {},
   "outputs": [],
   "source": [
    "def extract_email(text):\n",
    "  try:\n",
    "    start = text.find(\"(\") + 1\n",
    "    end = text.find(\")\")\n",
    "    return text[start:end].strip()\n",
    "  except:\n",
    "    return \"Null\""
   ]
  },
  {
   "cell_type": "code",
   "execution_count": 10,
   "metadata": {},
   "outputs": [],
   "source": [
    "data['Name'] = data['User/Location'].apply(extract_email)\n"
   ]
  },
  {
   "cell_type": "code",
   "execution_count": 12,
   "metadata": {},
   "outputs": [
    {
     "data": {
      "text/plain": [
       "Index(['File/Folder', 'Target Path/Link', 'User/Location', 'User ID',\n",
       "       'Transaction Type', 'Action Info', 'Access', 'Time', 'IP Address',\n",
       "       'File Checksum', 'Device Name', 'File Version', 'Space Used', 'Name'],\n",
       "      dtype='object')"
      ]
     },
     "execution_count": 12,
     "metadata": {},
     "output_type": "execute_result"
    }
   ],
   "source": [
    "data.columns"
   ]
  },
  {
   "cell_type": "code",
   "execution_count": 13,
   "metadata": {},
   "outputs": [
    {
     "data": {
      "text/html": [
       "<div>\n",
       "<style scoped>\n",
       "    .dataframe tbody tr th:only-of-type {\n",
       "        vertical-align: middle;\n",
       "    }\n",
       "\n",
       "    .dataframe tbody tr th {\n",
       "        vertical-align: top;\n",
       "    }\n",
       "\n",
       "    .dataframe thead th {\n",
       "        text-align: right;\n",
       "    }\n",
       "</style>\n",
       "<table border=\"1\" class=\"dataframe\">\n",
       "  <thead>\n",
       "    <tr style=\"text-align: right;\">\n",
       "      <th></th>\n",
       "      <th>File/Folder</th>\n",
       "      <th>Target Path/Link</th>\n",
       "      <th>User/Location</th>\n",
       "      <th>User ID</th>\n",
       "      <th>Transaction Type</th>\n",
       "      <th>Action Info</th>\n",
       "      <th>Access</th>\n",
       "      <th>Time</th>\n",
       "      <th>IP Address</th>\n",
       "      <th>File Checksum</th>\n",
       "      <th>Device Name</th>\n",
       "      <th>File Version</th>\n",
       "      <th>Space Used</th>\n",
       "      <th>Name</th>\n",
       "    </tr>\n",
       "  </thead>\n",
       "  <tbody>\n",
       "    <tr>\n",
       "      <th>1691678</th>\n",
       "      <td>/Shared/DGP-STRC-01/PCC/PCC_0007_AllPecSt24/FR...</td>\n",
       "      <td>https://pinnaclecad.egnyte.com/fl/EbelcDLHNw</td>\n",
       "      <td>Ranjan Kundu ( rkundu@pinnacleinfotech.com )</td>\n",
       "      <td>920</td>\n",
       "      <td>Create Download Link</td>\n",
       "      <td>https://pinnaclecad.egnyte.com/fl/EbelcDLHNw</td>\n",
       "      <td>Web UI</td>\n",
       "      <td>2024-01-08</td>\n",
       "      <td>111.93.172.5</td>\n",
       "      <td>NaN</td>\n",
       "      <td>NaN</td>\n",
       "      <td>NaN</td>\n",
       "      <td>0</td>\n",
       "      <td>rkundu@pinnacleinfotech.com</td>\n",
       "    </tr>\n",
       "    <tr>\n",
       "      <th>1691679</th>\n",
       "      <td>/Shared/Kol-001/For Lipi Jain/Architecture all...</td>\n",
       "      <td>https://pinnaclecad.egnyte.com/fl/CMful9AK8k</td>\n",
       "      <td>Anonymous access from Mohali, Punjab, India  (...</td>\n",
       "      <td>10</td>\n",
       "      <td>Preview via Link</td>\n",
       "      <td>NaN</td>\n",
       "      <td>Link</td>\n",
       "      <td>2024-01-08</td>\n",
       "      <td>182.75.105.65</td>\n",
       "      <td>e4015811f05b045da383cc18bd36b8593b34eba8669085...</td>\n",
       "      <td>NaN</td>\n",
       "      <td>NaN</td>\n",
       "      <td>34978461</td>\n",
       "      <td>via link</td>\n",
       "    </tr>\n",
       "    <tr>\n",
       "      <th>1691680</th>\n",
       "      <td>/Private/priyankad/BCA Braddell Campus/BC_DSP_...</td>\n",
       "      <td>https://pinnaclecad.egnyte.com/fl/PVC83zAo0f</td>\n",
       "      <td>Anonymous access from Kolkata, West Bengal, In...</td>\n",
       "      <td>2242</td>\n",
       "      <td>Download via Link</td>\n",
       "      <td>NaN</td>\n",
       "      <td>Link</td>\n",
       "      <td>2024-01-08</td>\n",
       "      <td>111.93.172.5</td>\n",
       "      <td>NaN</td>\n",
       "      <td>NaN</td>\n",
       "      <td>NaN</td>\n",
       "      <td>3234258476</td>\n",
       "      <td>via link</td>\n",
       "    </tr>\n",
       "    <tr>\n",
       "      <th>1691681</th>\n",
       "      <td>/Private/priyankad/BCA Braddell Campus/BC_DSP_...</td>\n",
       "      <td>https://pinnaclecad.egnyte.com/fl/PVC83zAo0f</td>\n",
       "      <td>Anonymous access from Kolkata, West Bengal, In...</td>\n",
       "      <td>2242</td>\n",
       "      <td>Download via Link</td>\n",
       "      <td>NaN</td>\n",
       "      <td>Link</td>\n",
       "      <td>2024-01-08</td>\n",
       "      <td>111.93.172.5</td>\n",
       "      <td>NaN</td>\n",
       "      <td>NaN</td>\n",
       "      <td>NaN</td>\n",
       "      <td>4051946416</td>\n",
       "      <td>via link</td>\n",
       "    </tr>\n",
       "    <tr>\n",
       "      <th>1691682</th>\n",
       "      <td>/Private/mshilp/ACS-008/Avenue Mall/Reference ...</td>\n",
       "      <td>NaN</td>\n",
       "      <td>Nisar Khan ( nkhan@pinnaclecad.com )</td>\n",
       "      <td>34</td>\n",
       "      <td>Preview</td>\n",
       "      <td>NaN</td>\n",
       "      <td>Web UI</td>\n",
       "      <td>2024-01-08</td>\n",
       "      <td>182.75.105.65</td>\n",
       "      <td>b46ea840e52dc5f3d057987e4625188214f2f4dac4623b...</td>\n",
       "      <td>NaN</td>\n",
       "      <td>30fc5d81-82ad-4c0c-9173-245410f97a10</td>\n",
       "      <td>539479</td>\n",
       "      <td>nkhan@pinnaclecad.com</td>\n",
       "    </tr>\n",
       "  </tbody>\n",
       "</table>\n",
       "</div>"
      ],
      "text/plain": [
       "                                               File/Folder  \\\n",
       "1691678  /Shared/DGP-STRC-01/PCC/PCC_0007_AllPecSt24/FR...   \n",
       "1691679  /Shared/Kol-001/For Lipi Jain/Architecture all...   \n",
       "1691680  /Private/priyankad/BCA Braddell Campus/BC_DSP_...   \n",
       "1691681  /Private/priyankad/BCA Braddell Campus/BC_DSP_...   \n",
       "1691682  /Private/mshilp/ACS-008/Avenue Mall/Reference ...   \n",
       "\n",
       "                                     Target Path/Link  \\\n",
       "1691678  https://pinnaclecad.egnyte.com/fl/EbelcDLHNw   \n",
       "1691679  https://pinnaclecad.egnyte.com/fl/CMful9AK8k   \n",
       "1691680  https://pinnaclecad.egnyte.com/fl/PVC83zAo0f   \n",
       "1691681  https://pinnaclecad.egnyte.com/fl/PVC83zAo0f   \n",
       "1691682                                           NaN   \n",
       "\n",
       "                                             User/Location  User ID  \\\n",
       "1691678       Ranjan Kundu ( rkundu@pinnacleinfotech.com )      920   \n",
       "1691679  Anonymous access from Mohali, Punjab, India  (...       10   \n",
       "1691680  Anonymous access from Kolkata, West Bengal, In...     2242   \n",
       "1691681  Anonymous access from Kolkata, West Bengal, In...     2242   \n",
       "1691682               Nisar Khan ( nkhan@pinnaclecad.com )       34   \n",
       "\n",
       "             Transaction Type                                   Action Info  \\\n",
       "1691678  Create Download Link  https://pinnaclecad.egnyte.com/fl/EbelcDLHNw   \n",
       "1691679      Preview via Link                                           NaN   \n",
       "1691680     Download via Link                                           NaN   \n",
       "1691681     Download via Link                                           NaN   \n",
       "1691682               Preview                                           NaN   \n",
       "\n",
       "         Access       Time     IP Address  \\\n",
       "1691678  Web UI 2024-01-08   111.93.172.5   \n",
       "1691679    Link 2024-01-08  182.75.105.65   \n",
       "1691680    Link 2024-01-08   111.93.172.5   \n",
       "1691681    Link 2024-01-08   111.93.172.5   \n",
       "1691682  Web UI 2024-01-08  182.75.105.65   \n",
       "\n",
       "                                             File Checksum Device Name  \\\n",
       "1691678                                                NaN         NaN   \n",
       "1691679  e4015811f05b045da383cc18bd36b8593b34eba8669085...         NaN   \n",
       "1691680                                                NaN         NaN   \n",
       "1691681                                                NaN         NaN   \n",
       "1691682  b46ea840e52dc5f3d057987e4625188214f2f4dac4623b...         NaN   \n",
       "\n",
       "                                 File Version  Space Used  \\\n",
       "1691678                                   NaN           0   \n",
       "1691679                                   NaN    34978461   \n",
       "1691680                                   NaN  3234258476   \n",
       "1691681                                   NaN  4051946416   \n",
       "1691682  30fc5d81-82ad-4c0c-9173-245410f97a10      539479   \n",
       "\n",
       "                                Name  \n",
       "1691678  rkundu@pinnacleinfotech.com  \n",
       "1691679                     via link  \n",
       "1691680                     via link  \n",
       "1691681                     via link  \n",
       "1691682        nkhan@pinnaclecad.com  "
      ]
     },
     "execution_count": 13,
     "metadata": {},
     "output_type": "execute_result"
    }
   ],
   "source": [
    "data.tail()"
   ]
  },
  {
   "cell_type": "code",
   "execution_count": 14,
   "metadata": {},
   "outputs": [],
   "source": [
    "file_path2 = r'data\\Access,_Space_Used,__1704710577997.csv'"
   ]
  },
  {
   "cell_type": "code",
   "execution_count": 15,
   "metadata": {},
   "outputs": [
    {
     "name": "stdout",
     "output_type": "stream",
     "text": [
      "(580394, 14)\n"
     ]
    },
    {
     "name": "stderr",
     "output_type": "stream",
     "text": [
      "C:\\Users\\pis05408.PINNACLE\\AppData\\Local\\Temp\\ipykernel_18500\\2594015722.py:1: DtypeWarning: Columns (2,3,7,8,9) have mixed types. Specify dtype option on import or set low_memory=False.\n",
      "  df = pd.read_csv(file_path2)\n"
     ]
    }
   ],
   "source": [
    "df = pd.read_csv(file_path2)\n",
    "print(df.shape)"
   ]
  },
  {
   "cell_type": "code",
   "execution_count": 16,
   "metadata": {},
   "outputs": [
    {
     "data": {
      "text/html": [
       "<div>\n",
       "<style scoped>\n",
       "    .dataframe tbody tr th:only-of-type {\n",
       "        vertical-align: middle;\n",
       "    }\n",
       "\n",
       "    .dataframe tbody tr th {\n",
       "        vertical-align: top;\n",
       "    }\n",
       "\n",
       "    .dataframe thead th {\n",
       "        text-align: right;\n",
       "    }\n",
       "</style>\n",
       "<table border=\"1\" class=\"dataframe\">\n",
       "  <thead>\n",
       "    <tr style=\"text-align: right;\">\n",
       "      <th></th>\n",
       "      <th>Access</th>\n",
       "      <th>Space Used</th>\n",
       "      <th>Action Info</th>\n",
       "      <th>Device Name</th>\n",
       "      <th>File Checksum</th>\n",
       "      <th>File Version</th>\n",
       "      <th>File/Folder</th>\n",
       "      <th>IP Address</th>\n",
       "      <th>Name</th>\n",
       "      <th>Target Path/Link</th>\n",
       "      <th>Time</th>\n",
       "      <th>Transaction Type</th>\n",
       "      <th>User ID</th>\n",
       "      <th>User/Location</th>\n",
       "    </tr>\n",
       "  </thead>\n",
       "  <tbody>\n",
       "    <tr>\n",
       "      <th>0</th>\n",
       "      <td>Storage Sync</td>\n",
       "      <td>0</td>\n",
       "      <td>NaN</td>\n",
       "      <td>NaN</td>\n",
       "      <td>NaN</td>\n",
       "      <td>NaN</td>\n",
       "      <td>/Shared/MDU-RBR-001/NSM_0013</td>\n",
       "      <td>115.244.221.174</td>\n",
       "      <td>reymond@pinnacleinfotech.com</td>\n",
       "      <td>/Shared/MDU-RBR-001/NSM_0013_ The Avenues Mall</td>\n",
       "      <td>2023-11-20 00:00:00</td>\n",
       "      <td>Move Folder</td>\n",
       "      <td>741</td>\n",
       "      <td>A X REYMOND ( reymond@pinnacleinfotech.com )</td>\n",
       "    </tr>\n",
       "    <tr>\n",
       "      <th>1</th>\n",
       "      <td>Storage Sync</td>\n",
       "      <td>0</td>\n",
       "      <td>NaN</td>\n",
       "      <td>NaN</td>\n",
       "      <td>NaN</td>\n",
       "      <td>NaN</td>\n",
       "      <td>/Shared/MDU-RBR-001/NSM_0013/New folder</td>\n",
       "      <td>115.244.221.174</td>\n",
       "      <td>reymond@pinnacleinfotech.com</td>\n",
       "      <td>/Shared/MDU-RBR-001/NSM_0013/REBAR CHANGE ORDER</td>\n",
       "      <td>2023-11-20 00:00:00</td>\n",
       "      <td>Move Folder</td>\n",
       "      <td>741</td>\n",
       "      <td>A X REYMOND ( reymond@pinnacleinfotech.com )</td>\n",
       "    </tr>\n",
       "    <tr>\n",
       "      <th>2</th>\n",
       "      <td>Storage Sync</td>\n",
       "      <td>0</td>\n",
       "      <td>NaN</td>\n",
       "      <td>NaN</td>\n",
       "      <td>NaN</td>\n",
       "      <td>NaN</td>\n",
       "      <td>/Shared/MDU-RBR-001/NSM_0013/New folder</td>\n",
       "      <td>115.244.221.174</td>\n",
       "      <td>reymond@pinnacleinfotech.com</td>\n",
       "      <td>NaN</td>\n",
       "      <td>2023-11-20 00:00:00</td>\n",
       "      <td>Create Folder</td>\n",
       "      <td>741</td>\n",
       "      <td>A X REYMOND ( reymond@pinnacleinfotech.com )</td>\n",
       "    </tr>\n",
       "    <tr>\n",
       "      <th>3</th>\n",
       "      <td>Storage Sync</td>\n",
       "      <td>0</td>\n",
       "      <td>NaN</td>\n",
       "      <td>NaN</td>\n",
       "      <td>NaN</td>\n",
       "      <td>NaN</td>\n",
       "      <td>/Shared/MDU-RBR-001/NSM_0013/REBAR CHANGE ORDER</td>\n",
       "      <td>115.244.221.174</td>\n",
       "      <td>reymond@pinnacleinfotech.com</td>\n",
       "      <td>/Shared/MDU-RBR-001/NSM_0013_ The Avenues Mall...</td>\n",
       "      <td>2023-11-20 00:00:00</td>\n",
       "      <td>Move Folder - Parent</td>\n",
       "      <td>741</td>\n",
       "      <td>A X REYMOND ( reymond@pinnacleinfotech.com )</td>\n",
       "    </tr>\n",
       "    <tr>\n",
       "      <th>4</th>\n",
       "      <td>Storage Sync</td>\n",
       "      <td>0</td>\n",
       "      <td>NaN</td>\n",
       "      <td>NaN</td>\n",
       "      <td>NaN</td>\n",
       "      <td>NaN</td>\n",
       "      <td>/Shared/MDU-RBR-001/New folder</td>\n",
       "      <td>115.244.221.174</td>\n",
       "      <td>reymond@pinnacleinfotech.com</td>\n",
       "      <td>/Shared/MDU-RBR-001/NSM_0013</td>\n",
       "      <td>2023-11-20 00:00:00</td>\n",
       "      <td>Move Folder</td>\n",
       "      <td>741</td>\n",
       "      <td>A X REYMOND ( reymond@pinnacleinfotech.com )</td>\n",
       "    </tr>\n",
       "  </tbody>\n",
       "</table>\n",
       "</div>"
      ],
      "text/plain": [
       "         Access  Space Used Action Info Device Name File Checksum  \\\n",
       "0  Storage Sync           0         NaN         NaN           NaN   \n",
       "1  Storage Sync           0         NaN         NaN           NaN   \n",
       "2  Storage Sync           0         NaN         NaN           NaN   \n",
       "3  Storage Sync           0         NaN         NaN           NaN   \n",
       "4  Storage Sync           0         NaN         NaN           NaN   \n",
       "\n",
       "  File Version                                      File/Folder  \\\n",
       "0          NaN                     /Shared/MDU-RBR-001/NSM_0013   \n",
       "1          NaN          /Shared/MDU-RBR-001/NSM_0013/New folder   \n",
       "2          NaN          /Shared/MDU-RBR-001/NSM_0013/New folder   \n",
       "3          NaN  /Shared/MDU-RBR-001/NSM_0013/REBAR CHANGE ORDER   \n",
       "4          NaN                   /Shared/MDU-RBR-001/New folder   \n",
       "\n",
       "        IP Address                          Name  \\\n",
       "0  115.244.221.174  reymond@pinnacleinfotech.com   \n",
       "1  115.244.221.174  reymond@pinnacleinfotech.com   \n",
       "2  115.244.221.174  reymond@pinnacleinfotech.com   \n",
       "3  115.244.221.174  reymond@pinnacleinfotech.com   \n",
       "4  115.244.221.174  reymond@pinnacleinfotech.com   \n",
       "\n",
       "                                    Target Path/Link                 Time  \\\n",
       "0     /Shared/MDU-RBR-001/NSM_0013_ The Avenues Mall  2023-11-20 00:00:00   \n",
       "1    /Shared/MDU-RBR-001/NSM_0013/REBAR CHANGE ORDER  2023-11-20 00:00:00   \n",
       "2                                                NaN  2023-11-20 00:00:00   \n",
       "3  /Shared/MDU-RBR-001/NSM_0013_ The Avenues Mall...  2023-11-20 00:00:00   \n",
       "4                       /Shared/MDU-RBR-001/NSM_0013  2023-11-20 00:00:00   \n",
       "\n",
       "       Transaction Type  User ID                                 User/Location  \n",
       "0           Move Folder      741  A X REYMOND ( reymond@pinnacleinfotech.com )  \n",
       "1           Move Folder      741  A X REYMOND ( reymond@pinnacleinfotech.com )  \n",
       "2         Create Folder      741  A X REYMOND ( reymond@pinnacleinfotech.com )  \n",
       "3  Move Folder - Parent      741  A X REYMOND ( reymond@pinnacleinfotech.com )  \n",
       "4           Move Folder      741  A X REYMOND ( reymond@pinnacleinfotech.com )  "
      ]
     },
     "execution_count": 16,
     "metadata": {},
     "output_type": "execute_result"
    }
   ],
   "source": [
    "df.head()"
   ]
  },
  {
   "cell_type": "code",
   "execution_count": 76,
   "metadata": {},
   "outputs": [
    {
     "data": {
      "text/plain": [
       "Index(['Access', 'Space Used', 'Action Info', 'Device Name', 'File Checksum',\n",
       "       'File Version', 'File/Folder', 'IP Address', 'Name', 'Target Path/Link',\n",
       "       'Time', 'Transaction Type', 'User ID', 'User/Location'],\n",
       "      dtype='object')"
      ]
     },
     "execution_count": 76,
     "metadata": {},
     "output_type": "execute_result"
    }
   ],
   "source": [
    "# df.columns"
   ]
  },
  {
   "cell_type": "code",
   "execution_count": 77,
   "metadata": {},
   "outputs": [
    {
     "data": {
      "text/plain": [
       "Index(['File/Folder', 'Target Path/Link', 'User/Location', 'User ID',\n",
       "       'Transaction Type', 'Action Info', 'Access', 'Time', 'IP Address',\n",
       "       'File Checksum', 'Device Name', 'File Version', 'Space Used', 'Name'],\n",
       "      dtype='object')"
      ]
     },
     "execution_count": 77,
     "metadata": {},
     "output_type": "execute_result"
    }
   ],
   "source": [
    "# data.columns"
   ]
  },
  {
   "cell_type": "code",
   "execution_count": 17,
   "metadata": {},
   "outputs": [
    {
     "name": "stdout",
     "output_type": "stream",
     "text": [
      "<class 'pandas.core.frame.DataFrame'>\n",
      "RangeIndex: 580394 entries, 0 to 580393\n",
      "Data columns (total 14 columns):\n",
      " #   Column            Non-Null Count   Dtype \n",
      "---  ------            --------------   ----- \n",
      " 0   Access            580394 non-null  object\n",
      " 1   Space Used        580394 non-null  int64 \n",
      " 2   Action Info       12208 non-null   object\n",
      " 3   Device Name       270 non-null     object\n",
      " 4   File Checksum     429304 non-null  object\n",
      " 5   File Version      403787 non-null  object\n",
      " 6   File/Folder       580394 non-null  object\n",
      " 7   IP Address        409200 non-null  object\n",
      " 8   Name              376401 non-null  object\n",
      " 9   Target Path/Link  194228 non-null  object\n",
      " 10  Time              580394 non-null  object\n",
      " 11  Transaction Type  580394 non-null  object\n",
      " 12  User ID           580394 non-null  int64 \n",
      " 13  User/Location     580394 non-null  object\n",
      "dtypes: int64(2), object(12)\n",
      "memory usage: 62.0+ MB\n"
     ]
    }
   ],
   "source": [
    "df.info()"
   ]
  },
  {
   "cell_type": "code",
   "execution_count": 18,
   "metadata": {},
   "outputs": [],
   "source": [
    "df['Time'] = pd.to_datetime(df['Time']).dt.date"
   ]
  },
  {
   "cell_type": "code",
   "execution_count": 19,
   "metadata": {},
   "outputs": [],
   "source": [
    "df['Time'] = pd.to_datetime(df['Time'])"
   ]
  },
  {
   "cell_type": "code",
   "execution_count": 20,
   "metadata": {},
   "outputs": [
    {
     "name": "stdout",
     "output_type": "stream",
     "text": [
      "<class 'pandas.core.frame.DataFrame'>\n",
      "RangeIndex: 580394 entries, 0 to 580393\n",
      "Data columns (total 14 columns):\n",
      " #   Column            Non-Null Count   Dtype         \n",
      "---  ------            --------------   -----         \n",
      " 0   Access            580394 non-null  object        \n",
      " 1   Space Used        580394 non-null  int64         \n",
      " 2   Action Info       12208 non-null   object        \n",
      " 3   Device Name       270 non-null     object        \n",
      " 4   File Checksum     429304 non-null  object        \n",
      " 5   File Version      403787 non-null  object        \n",
      " 6   File/Folder       580394 non-null  object        \n",
      " 7   IP Address        409200 non-null  object        \n",
      " 8   Name              376401 non-null  object        \n",
      " 9   Target Path/Link  194228 non-null  object        \n",
      " 10  Time              580394 non-null  datetime64[ns]\n",
      " 11  Transaction Type  580394 non-null  object        \n",
      " 12  User ID           580394 non-null  int64         \n",
      " 13  User/Location     580394 non-null  object        \n",
      "dtypes: datetime64[ns](1), int64(2), object(11)\n",
      "memory usage: 62.0+ MB\n"
     ]
    }
   ],
   "source": [
    "df.info()"
   ]
  },
  {
   "cell_type": "code",
   "execution_count": 21,
   "metadata": {},
   "outputs": [
    {
     "data": {
      "text/html": [
       "<div>\n",
       "<style scoped>\n",
       "    .dataframe tbody tr th:only-of-type {\n",
       "        vertical-align: middle;\n",
       "    }\n",
       "\n",
       "    .dataframe tbody tr th {\n",
       "        vertical-align: top;\n",
       "    }\n",
       "\n",
       "    .dataframe thead th {\n",
       "        text-align: right;\n",
       "    }\n",
       "</style>\n",
       "<table border=\"1\" class=\"dataframe\">\n",
       "  <thead>\n",
       "    <tr style=\"text-align: right;\">\n",
       "      <th></th>\n",
       "      <th>Access</th>\n",
       "      <th>Space Used</th>\n",
       "      <th>Action Info</th>\n",
       "      <th>Device Name</th>\n",
       "      <th>File Checksum</th>\n",
       "      <th>File Version</th>\n",
       "      <th>File/Folder</th>\n",
       "      <th>IP Address</th>\n",
       "      <th>Name</th>\n",
       "      <th>Target Path/Link</th>\n",
       "      <th>Time</th>\n",
       "      <th>Transaction Type</th>\n",
       "      <th>User ID</th>\n",
       "      <th>User/Location</th>\n",
       "    </tr>\n",
       "  </thead>\n",
       "  <tbody>\n",
       "    <tr>\n",
       "      <th>0</th>\n",
       "      <td>Storage Sync</td>\n",
       "      <td>0</td>\n",
       "      <td>NaN</td>\n",
       "      <td>NaN</td>\n",
       "      <td>NaN</td>\n",
       "      <td>NaN</td>\n",
       "      <td>/Shared/MDU-RBR-001/NSM_0013</td>\n",
       "      <td>115.244.221.174</td>\n",
       "      <td>reymond@pinnacleinfotech.com</td>\n",
       "      <td>/Shared/MDU-RBR-001/NSM_0013_ The Avenues Mall</td>\n",
       "      <td>2023-11-20</td>\n",
       "      <td>Move Folder</td>\n",
       "      <td>741</td>\n",
       "      <td>A X REYMOND ( reymond@pinnacleinfotech.com )</td>\n",
       "    </tr>\n",
       "    <tr>\n",
       "      <th>1</th>\n",
       "      <td>Storage Sync</td>\n",
       "      <td>0</td>\n",
       "      <td>NaN</td>\n",
       "      <td>NaN</td>\n",
       "      <td>NaN</td>\n",
       "      <td>NaN</td>\n",
       "      <td>/Shared/MDU-RBR-001/NSM_0013/New folder</td>\n",
       "      <td>115.244.221.174</td>\n",
       "      <td>reymond@pinnacleinfotech.com</td>\n",
       "      <td>/Shared/MDU-RBR-001/NSM_0013/REBAR CHANGE ORDER</td>\n",
       "      <td>2023-11-20</td>\n",
       "      <td>Move Folder</td>\n",
       "      <td>741</td>\n",
       "      <td>A X REYMOND ( reymond@pinnacleinfotech.com )</td>\n",
       "    </tr>\n",
       "    <tr>\n",
       "      <th>2</th>\n",
       "      <td>Storage Sync</td>\n",
       "      <td>0</td>\n",
       "      <td>NaN</td>\n",
       "      <td>NaN</td>\n",
       "      <td>NaN</td>\n",
       "      <td>NaN</td>\n",
       "      <td>/Shared/MDU-RBR-001/NSM_0013/New folder</td>\n",
       "      <td>115.244.221.174</td>\n",
       "      <td>reymond@pinnacleinfotech.com</td>\n",
       "      <td>NaN</td>\n",
       "      <td>2023-11-20</td>\n",
       "      <td>Create Folder</td>\n",
       "      <td>741</td>\n",
       "      <td>A X REYMOND ( reymond@pinnacleinfotech.com )</td>\n",
       "    </tr>\n",
       "    <tr>\n",
       "      <th>3</th>\n",
       "      <td>Storage Sync</td>\n",
       "      <td>0</td>\n",
       "      <td>NaN</td>\n",
       "      <td>NaN</td>\n",
       "      <td>NaN</td>\n",
       "      <td>NaN</td>\n",
       "      <td>/Shared/MDU-RBR-001/NSM_0013/REBAR CHANGE ORDER</td>\n",
       "      <td>115.244.221.174</td>\n",
       "      <td>reymond@pinnacleinfotech.com</td>\n",
       "      <td>/Shared/MDU-RBR-001/NSM_0013_ The Avenues Mall...</td>\n",
       "      <td>2023-11-20</td>\n",
       "      <td>Move Folder - Parent</td>\n",
       "      <td>741</td>\n",
       "      <td>A X REYMOND ( reymond@pinnacleinfotech.com )</td>\n",
       "    </tr>\n",
       "    <tr>\n",
       "      <th>4</th>\n",
       "      <td>Storage Sync</td>\n",
       "      <td>0</td>\n",
       "      <td>NaN</td>\n",
       "      <td>NaN</td>\n",
       "      <td>NaN</td>\n",
       "      <td>NaN</td>\n",
       "      <td>/Shared/MDU-RBR-001/New folder</td>\n",
       "      <td>115.244.221.174</td>\n",
       "      <td>reymond@pinnacleinfotech.com</td>\n",
       "      <td>/Shared/MDU-RBR-001/NSM_0013</td>\n",
       "      <td>2023-11-20</td>\n",
       "      <td>Move Folder</td>\n",
       "      <td>741</td>\n",
       "      <td>A X REYMOND ( reymond@pinnacleinfotech.com )</td>\n",
       "    </tr>\n",
       "  </tbody>\n",
       "</table>\n",
       "</div>"
      ],
      "text/plain": [
       "         Access  Space Used Action Info Device Name File Checksum  \\\n",
       "0  Storage Sync           0         NaN         NaN           NaN   \n",
       "1  Storage Sync           0         NaN         NaN           NaN   \n",
       "2  Storage Sync           0         NaN         NaN           NaN   \n",
       "3  Storage Sync           0         NaN         NaN           NaN   \n",
       "4  Storage Sync           0         NaN         NaN           NaN   \n",
       "\n",
       "  File Version                                      File/Folder  \\\n",
       "0          NaN                     /Shared/MDU-RBR-001/NSM_0013   \n",
       "1          NaN          /Shared/MDU-RBR-001/NSM_0013/New folder   \n",
       "2          NaN          /Shared/MDU-RBR-001/NSM_0013/New folder   \n",
       "3          NaN  /Shared/MDU-RBR-001/NSM_0013/REBAR CHANGE ORDER   \n",
       "4          NaN                   /Shared/MDU-RBR-001/New folder   \n",
       "\n",
       "        IP Address                          Name  \\\n",
       "0  115.244.221.174  reymond@pinnacleinfotech.com   \n",
       "1  115.244.221.174  reymond@pinnacleinfotech.com   \n",
       "2  115.244.221.174  reymond@pinnacleinfotech.com   \n",
       "3  115.244.221.174  reymond@pinnacleinfotech.com   \n",
       "4  115.244.221.174  reymond@pinnacleinfotech.com   \n",
       "\n",
       "                                    Target Path/Link       Time  \\\n",
       "0     /Shared/MDU-RBR-001/NSM_0013_ The Avenues Mall 2023-11-20   \n",
       "1    /Shared/MDU-RBR-001/NSM_0013/REBAR CHANGE ORDER 2023-11-20   \n",
       "2                                                NaN 2023-11-20   \n",
       "3  /Shared/MDU-RBR-001/NSM_0013_ The Avenues Mall... 2023-11-20   \n",
       "4                       /Shared/MDU-RBR-001/NSM_0013 2023-11-20   \n",
       "\n",
       "       Transaction Type  User ID                                 User/Location  \n",
       "0           Move Folder      741  A X REYMOND ( reymond@pinnacleinfotech.com )  \n",
       "1           Move Folder      741  A X REYMOND ( reymond@pinnacleinfotech.com )  \n",
       "2         Create Folder      741  A X REYMOND ( reymond@pinnacleinfotech.com )  \n",
       "3  Move Folder - Parent      741  A X REYMOND ( reymond@pinnacleinfotech.com )  \n",
       "4           Move Folder      741  A X REYMOND ( reymond@pinnacleinfotech.com )  "
      ]
     },
     "execution_count": 21,
     "metadata": {},
     "output_type": "execute_result"
    }
   ],
   "source": [
    "df.head()"
   ]
  },
  {
   "cell_type": "code",
   "execution_count": 22,
   "metadata": {},
   "outputs": [
    {
     "name": "stdout",
     "output_type": "stream",
     "text": [
      "(580394, 14)\n",
      "(247188, 14)\n"
     ]
    }
   ],
   "source": [
    "print(df.shape)\n",
    "temp = df[df['Time'] < pd.to_datetime('2023-10-11')]\n",
    "print(temp.shape)"
   ]
  },
  {
   "cell_type": "code",
   "execution_count": 24,
   "metadata": {},
   "outputs": [
    {
     "data": {
      "text/plain": [
       "Timestamp('2023-10-10 00:00:00')"
      ]
     },
     "execution_count": 24,
     "metadata": {},
     "output_type": "execute_result"
    }
   ],
   "source": [
    "max(temp['Time'])"
   ]
  },
  {
   "cell_type": "code",
   "execution_count": 25,
   "metadata": {},
   "outputs": [
    {
     "data": {
      "text/plain": [
       "Timestamp('2023-09-01 00:00:00')"
      ]
     },
     "execution_count": 25,
     "metadata": {},
     "output_type": "execute_result"
    }
   ],
   "source": [
    "min(temp['Time'])"
   ]
  },
  {
   "cell_type": "code",
   "execution_count": 26,
   "metadata": {},
   "outputs": [],
   "source": [
    "test_1 = pd.concat([data,temp], axis=0)"
   ]
  },
  {
   "cell_type": "code",
   "execution_count": 27,
   "metadata": {},
   "outputs": [
    {
     "data": {
      "text/plain": [
       "(1938871, 14)"
      ]
     },
     "execution_count": 27,
     "metadata": {},
     "output_type": "execute_result"
    }
   ],
   "source": [
    "test_1.shape"
   ]
  },
  {
   "cell_type": "code",
   "execution_count": 28,
   "metadata": {},
   "outputs": [
    {
     "data": {
      "text/html": [
       "<div>\n",
       "<style scoped>\n",
       "    .dataframe tbody tr th:only-of-type {\n",
       "        vertical-align: middle;\n",
       "    }\n",
       "\n",
       "    .dataframe tbody tr th {\n",
       "        vertical-align: top;\n",
       "    }\n",
       "\n",
       "    .dataframe thead th {\n",
       "        text-align: right;\n",
       "    }\n",
       "</style>\n",
       "<table border=\"1\" class=\"dataframe\">\n",
       "  <thead>\n",
       "    <tr style=\"text-align: right;\">\n",
       "      <th></th>\n",
       "      <th>File/Folder</th>\n",
       "      <th>Target Path/Link</th>\n",
       "      <th>User/Location</th>\n",
       "      <th>User ID</th>\n",
       "      <th>Transaction Type</th>\n",
       "      <th>Action Info</th>\n",
       "      <th>Access</th>\n",
       "      <th>Time</th>\n",
       "      <th>IP Address</th>\n",
       "      <th>File Checksum</th>\n",
       "      <th>Device Name</th>\n",
       "      <th>File Version</th>\n",
       "      <th>Space Used</th>\n",
       "      <th>Name</th>\n",
       "    </tr>\n",
       "  </thead>\n",
       "  <tbody>\n",
       "    <tr>\n",
       "      <th>580387</th>\n",
       "      <td>/Shared/JPR-MECH-11/AFH_0001-Sparrow Intel_Sho...</td>\n",
       "      <td>/Shared/JPR-MECH-11/AFH_0001-Sparrow Intel/Fro...</td>\n",
       "      <td>vivek john ( vjohn@pinnacleinfotech.com )</td>\n",
       "      <td>811</td>\n",
       "      <td>Move - Parent</td>\n",
       "      <td>NaN</td>\n",
       "      <td>Web UI</td>\n",
       "      <td>2023-10-10</td>\n",
       "      <td>182.75.105.65</td>\n",
       "      <td>2-5-52428800-fd5243ac810684636cec4624a9248d3b7...</td>\n",
       "      <td>NaN</td>\n",
       "      <td>f5e4bcf4-d46b-483b-b092-08a36b3fc56d</td>\n",
       "      <td>229949440</td>\n",
       "      <td>vjohn@pinnacleinfotech.com</td>\n",
       "    </tr>\n",
       "    <tr>\n",
       "      <th>580388</th>\n",
       "      <td>/Shared/JPR-MECH-11/AFH_0001-Sparrow Intel_Sho...</td>\n",
       "      <td>/Shared/JPR-MECH-11/AFH_0001-Sparrow Intel/Fro...</td>\n",
       "      <td>vivek john ( vjohn@pinnacleinfotech.com )</td>\n",
       "      <td>811</td>\n",
       "      <td>Move - Parent</td>\n",
       "      <td>NaN</td>\n",
       "      <td>Web UI</td>\n",
       "      <td>2023-10-10</td>\n",
       "      <td>182.75.105.65</td>\n",
       "      <td>2-5-52428800-3dfb2a10a8fad8125fa7d7012dcedbfe2...</td>\n",
       "      <td>NaN</td>\n",
       "      <td>45e358a6-7a6c-474a-a8a9-6b62fcad49aa</td>\n",
       "      <td>230612992</td>\n",
       "      <td>vjohn@pinnacleinfotech.com</td>\n",
       "    </tr>\n",
       "    <tr>\n",
       "      <th>580389</th>\n",
       "      <td>/Shared/JPR-MECH-11/AFH_0001-Sparrow Intel_Sho...</td>\n",
       "      <td>NaN</td>\n",
       "      <td>vivek john ( vjohn@pinnacleinfotech.com )</td>\n",
       "      <td>811</td>\n",
       "      <td>Upload</td>\n",
       "      <td>NaN</td>\n",
       "      <td>Web UI</td>\n",
       "      <td>2023-09-22</td>\n",
       "      <td>182.75.105.65</td>\n",
       "      <td>2-5-52428800-002244863eba8ae9b2c8c3a123e5e307d...</td>\n",
       "      <td>NaN</td>\n",
       "      <td>94cf84cd-306e-494f-b2d2-0d3f5289a6e7</td>\n",
       "      <td>239415296</td>\n",
       "      <td>vjohn@pinnacleinfotech.com</td>\n",
       "    </tr>\n",
       "    <tr>\n",
       "      <th>580390</th>\n",
       "      <td>/Shared/JPR-MECH-11/AFH_0001-Sparrow Intel_Sho...</td>\n",
       "      <td>/Shared/JPR-MECH-11/AFH_0001-Sparrow Intel/Fro...</td>\n",
       "      <td>vivek john ( vjohn@pinnacleinfotech.com )</td>\n",
       "      <td>811</td>\n",
       "      <td>Move - Parent</td>\n",
       "      <td>NaN</td>\n",
       "      <td>Web UI</td>\n",
       "      <td>2023-10-10</td>\n",
       "      <td>182.75.105.65</td>\n",
       "      <td>2-5-52428800-3f26cb270e32db4fbb4c04b058aa6832a...</td>\n",
       "      <td>NaN</td>\n",
       "      <td>15e22343-06e8-4bb0-a24e-4dd0045b3a50</td>\n",
       "      <td>239497216</td>\n",
       "      <td>vjohn@pinnacleinfotech.com</td>\n",
       "    </tr>\n",
       "    <tr>\n",
       "      <th>580391</th>\n",
       "      <td>/Shared/JPR-MECH-11/AFH_0001-Sparrow Intel_Sho...</td>\n",
       "      <td>NaN</td>\n",
       "      <td>vivek john ( vjohn@pinnacleinfotech.com )</td>\n",
       "      <td>811</td>\n",
       "      <td>Upload</td>\n",
       "      <td>NaN</td>\n",
       "      <td>Web UI</td>\n",
       "      <td>2023-09-22</td>\n",
       "      <td>182.75.105.65</td>\n",
       "      <td>2-5-52428800-3f26cb270e32db4fbb4c04b058aa6832a...</td>\n",
       "      <td>NaN</td>\n",
       "      <td>15e22343-06e8-4bb0-a24e-4dd0045b3a50</td>\n",
       "      <td>239497216</td>\n",
       "      <td>vjohn@pinnacleinfotech.com</td>\n",
       "    </tr>\n",
       "  </tbody>\n",
       "</table>\n",
       "</div>"
      ],
      "text/plain": [
       "                                              File/Folder  \\\n",
       "580387  /Shared/JPR-MECH-11/AFH_0001-Sparrow Intel_Sho...   \n",
       "580388  /Shared/JPR-MECH-11/AFH_0001-Sparrow Intel_Sho...   \n",
       "580389  /Shared/JPR-MECH-11/AFH_0001-Sparrow Intel_Sho...   \n",
       "580390  /Shared/JPR-MECH-11/AFH_0001-Sparrow Intel_Sho...   \n",
       "580391  /Shared/JPR-MECH-11/AFH_0001-Sparrow Intel_Sho...   \n",
       "\n",
       "                                         Target Path/Link  \\\n",
       "580387  /Shared/JPR-MECH-11/AFH_0001-Sparrow Intel/Fro...   \n",
       "580388  /Shared/JPR-MECH-11/AFH_0001-Sparrow Intel/Fro...   \n",
       "580389                                                NaN   \n",
       "580390  /Shared/JPR-MECH-11/AFH_0001-Sparrow Intel/Fro...   \n",
       "580391                                                NaN   \n",
       "\n",
       "                                    User/Location  User ID Transaction Type  \\\n",
       "580387  vivek john ( vjohn@pinnacleinfotech.com )      811    Move - Parent   \n",
       "580388  vivek john ( vjohn@pinnacleinfotech.com )      811    Move - Parent   \n",
       "580389  vivek john ( vjohn@pinnacleinfotech.com )      811           Upload   \n",
       "580390  vivek john ( vjohn@pinnacleinfotech.com )      811    Move - Parent   \n",
       "580391  vivek john ( vjohn@pinnacleinfotech.com )      811           Upload   \n",
       "\n",
       "       Action Info  Access       Time     IP Address  \\\n",
       "580387         NaN  Web UI 2023-10-10  182.75.105.65   \n",
       "580388         NaN  Web UI 2023-10-10  182.75.105.65   \n",
       "580389         NaN  Web UI 2023-09-22  182.75.105.65   \n",
       "580390         NaN  Web UI 2023-10-10  182.75.105.65   \n",
       "580391         NaN  Web UI 2023-09-22  182.75.105.65   \n",
       "\n",
       "                                            File Checksum Device Name  \\\n",
       "580387  2-5-52428800-fd5243ac810684636cec4624a9248d3b7...         NaN   \n",
       "580388  2-5-52428800-3dfb2a10a8fad8125fa7d7012dcedbfe2...         NaN   \n",
       "580389  2-5-52428800-002244863eba8ae9b2c8c3a123e5e307d...         NaN   \n",
       "580390  2-5-52428800-3f26cb270e32db4fbb4c04b058aa6832a...         NaN   \n",
       "580391  2-5-52428800-3f26cb270e32db4fbb4c04b058aa6832a...         NaN   \n",
       "\n",
       "                                File Version  Space Used  \\\n",
       "580387  f5e4bcf4-d46b-483b-b092-08a36b3fc56d   229949440   \n",
       "580388  45e358a6-7a6c-474a-a8a9-6b62fcad49aa   230612992   \n",
       "580389  94cf84cd-306e-494f-b2d2-0d3f5289a6e7   239415296   \n",
       "580390  15e22343-06e8-4bb0-a24e-4dd0045b3a50   239497216   \n",
       "580391  15e22343-06e8-4bb0-a24e-4dd0045b3a50   239497216   \n",
       "\n",
       "                              Name  \n",
       "580387  vjohn@pinnacleinfotech.com  \n",
       "580388  vjohn@pinnacleinfotech.com  \n",
       "580389  vjohn@pinnacleinfotech.com  \n",
       "580390  vjohn@pinnacleinfotech.com  \n",
       "580391  vjohn@pinnacleinfotech.com  "
      ]
     },
     "execution_count": 28,
     "metadata": {},
     "output_type": "execute_result"
    }
   ],
   "source": [
    "test_1.tail()"
   ]
  },
  {
   "cell_type": "code",
   "execution_count": null,
   "metadata": {},
   "outputs": [],
   "source": [
    "# test_1.to_csv('data\\joined_data.csv')"
   ]
  },
  {
   "cell_type": "code",
   "execution_count": 36,
   "metadata": {},
   "outputs": [],
   "source": [
    "test_1.iloc[:,:-1].to_csv('data\\joined_data.csv',index=False)"
   ]
  }
 ],
 "metadata": {
  "instance_type": "ml.t3.medium",
  "kernelspec": {
   "display_name": "base",
   "language": "python",
   "name": "python3"
  },
  "language_info": {
   "codemirror_mode": {
    "name": "ipython",
    "version": 3
   },
   "file_extension": ".py",
   "mimetype": "text/x-python",
   "name": "python",
   "nbconvert_exporter": "python",
   "pygments_lexer": "ipython3",
   "version": "3.9.18"
  }
 },
 "nbformat": 4,
 "nbformat_minor": 4
}
