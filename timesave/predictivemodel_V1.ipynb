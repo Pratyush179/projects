{
 "cells": [
  {
   "cell_type": "code",
   "execution_count": 233,
   "metadata": {},
   "outputs": [],
   "source": [
    "import pandas as pd\n",
    "import numpy as np\n",
    "import matplotlib.pyplot as plt\n",
    "import seaborn as sns\n",
    "import re\n",
    "\n",
    "# To Display all columns in a dataframe\n",
    "pd.set_option('display.max_columns', None)"
   ]
  },
  {
   "cell_type": "code",
   "execution_count": 189,
   "metadata": {},
   "outputs": [],
   "source": [
    "# reading the data\n",
    "file_path = r'data\\TimeSaved_Data.xlsx'"
   ]
  },
  {
   "cell_type": "code",
   "execution_count": 190,
   "metadata": {},
   "outputs": [
    {
     "data": {
      "text/html": [
       "<div>\n",
       "<style scoped>\n",
       "    .dataframe tbody tr th:only-of-type {\n",
       "        vertical-align: middle;\n",
       "    }\n",
       "\n",
       "    .dataframe tbody tr th {\n",
       "        vertical-align: top;\n",
       "    }\n",
       "\n",
       "    .dataframe thead th {\n",
       "        text-align: right;\n",
       "    }\n",
       "</style>\n",
       "<table border=\"1\" class=\"dataframe\">\n",
       "  <thead>\n",
       "    <tr style=\"text-align: right;\">\n",
       "      <th></th>\n",
       "      <th>project_id</th>\n",
       "      <th>projectname</th>\n",
       "      <th>package_name</th>\n",
       "      <th>Scope of Work</th>\n",
       "      <th>Software Platform</th>\n",
       "      <th>lod</th>\n",
       "      <th>contracthours</th>\n",
       "      <th>tradep</th>\n",
       "      <th>project_days</th>\n",
       "      <th>Time Saved Per Hit Count (Hrs)</th>\n",
       "    </tr>\n",
       "  </thead>\n",
       "  <tbody>\n",
       "    <tr>\n",
       "      <th>0</th>\n",
       "      <td>75681</td>\n",
       "      <td>55 Premier Series (45' Product) - B45L - Aurora</td>\n",
       "      <td>Pi Dock</td>\n",
       "      <td>3D Modeling,Construction Drawing Set</td>\n",
       "      <td>Revit 2019</td>\n",
       "      <td>300.0</td>\n",
       "      <td>249.0</td>\n",
       "      <td>Architecture</td>\n",
       "      <td>383</td>\n",
       "      <td>0.000002</td>\n",
       "    </tr>\n",
       "    <tr>\n",
       "      <th>1</th>\n",
       "      <td>75681</td>\n",
       "      <td>55 Premier Series (45' Product) - B45L - Aurora</td>\n",
       "      <td>Pi Navisworks</td>\n",
       "      <td>3D Modeling,Construction Drawing Set</td>\n",
       "      <td>Revit 2019</td>\n",
       "      <td>300.0</td>\n",
       "      <td>249.0</td>\n",
       "      <td>Architecture</td>\n",
       "      <td>383</td>\n",
       "      <td>0.029735</td>\n",
       "    </tr>\n",
       "  </tbody>\n",
       "</table>\n",
       "</div>"
      ],
      "text/plain": [
       "   project_id                                       projectname  \\\n",
       "0       75681   55 Premier Series (45' Product) - B45L - Aurora   \n",
       "1       75681   55 Premier Series (45' Product) - B45L - Aurora   \n",
       "\n",
       "    package_name                         Scope of Work Software Platform  \\\n",
       "0        Pi Dock  3D Modeling,Construction Drawing Set        Revit 2019   \n",
       "1  Pi Navisworks  3D Modeling,Construction Drawing Set        Revit 2019   \n",
       "\n",
       "     lod  contracthours        tradep  project_days  \\\n",
       "0  300.0          249.0  Architecture           383   \n",
       "1  300.0          249.0  Architecture           383   \n",
       "\n",
       "   Time Saved Per Hit Count (Hrs)  \n",
       "0                        0.000002  \n",
       "1                        0.029735  "
      ]
     },
     "execution_count": 190,
     "metadata": {},
     "output_type": "execute_result"
    }
   ],
   "source": [
    "data = pd.read_excel(file_path)\n",
    "data.head(2)"
   ]
  },
  {
   "cell_type": "code",
   "execution_count": 191,
   "metadata": {},
   "outputs": [],
   "source": [
    "data.columns = [col.replace(\" \",\"_\").lower() for col in data.columns]"
   ]
  },
  {
   "cell_type": "code",
   "execution_count": 192,
   "metadata": {},
   "outputs": [
    {
     "data": {
      "text/html": [
       "<div>\n",
       "<style scoped>\n",
       "    .dataframe tbody tr th:only-of-type {\n",
       "        vertical-align: middle;\n",
       "    }\n",
       "\n",
       "    .dataframe tbody tr th {\n",
       "        vertical-align: top;\n",
       "    }\n",
       "\n",
       "    .dataframe thead th {\n",
       "        text-align: right;\n",
       "    }\n",
       "</style>\n",
       "<table border=\"1\" class=\"dataframe\">\n",
       "  <thead>\n",
       "    <tr style=\"text-align: right;\">\n",
       "      <th></th>\n",
       "      <th>project_id</th>\n",
       "      <th>projectname</th>\n",
       "      <th>package_name</th>\n",
       "      <th>scope_of_work</th>\n",
       "      <th>software_platform</th>\n",
       "      <th>lod</th>\n",
       "      <th>contracthours</th>\n",
       "      <th>tradep</th>\n",
       "      <th>project_days</th>\n",
       "      <th>time_saved_per_hit_count_(hrs)</th>\n",
       "    </tr>\n",
       "  </thead>\n",
       "  <tbody>\n",
       "    <tr>\n",
       "      <th>0</th>\n",
       "      <td>75681</td>\n",
       "      <td>55 Premier Series (45' Product) - B45L - Aurora</td>\n",
       "      <td>Pi Dock</td>\n",
       "      <td>3D Modeling,Construction Drawing Set</td>\n",
       "      <td>Revit 2019</td>\n",
       "      <td>300.0</td>\n",
       "      <td>249.0</td>\n",
       "      <td>Architecture</td>\n",
       "      <td>383</td>\n",
       "      <td>0.000002</td>\n",
       "    </tr>\n",
       "    <tr>\n",
       "      <th>1</th>\n",
       "      <td>75681</td>\n",
       "      <td>55 Premier Series (45' Product) - B45L - Aurora</td>\n",
       "      <td>Pi Navisworks</td>\n",
       "      <td>3D Modeling,Construction Drawing Set</td>\n",
       "      <td>Revit 2019</td>\n",
       "      <td>300.0</td>\n",
       "      <td>249.0</td>\n",
       "      <td>Architecture</td>\n",
       "      <td>383</td>\n",
       "      <td>0.029735</td>\n",
       "    </tr>\n",
       "  </tbody>\n",
       "</table>\n",
       "</div>"
      ],
      "text/plain": [
       "   project_id                                       projectname  \\\n",
       "0       75681   55 Premier Series (45' Product) - B45L - Aurora   \n",
       "1       75681   55 Premier Series (45' Product) - B45L - Aurora   \n",
       "\n",
       "    package_name                         scope_of_work software_platform  \\\n",
       "0        Pi Dock  3D Modeling,Construction Drawing Set        Revit 2019   \n",
       "1  Pi Navisworks  3D Modeling,Construction Drawing Set        Revit 2019   \n",
       "\n",
       "     lod  contracthours        tradep  project_days  \\\n",
       "0  300.0          249.0  Architecture           383   \n",
       "1  300.0          249.0  Architecture           383   \n",
       "\n",
       "   time_saved_per_hit_count_(hrs)  \n",
       "0                        0.000002  \n",
       "1                        0.029735  "
      ]
     },
     "execution_count": 192,
     "metadata": {},
     "output_type": "execute_result"
    }
   ],
   "source": [
    "data.head(2)"
   ]
  },
  {
   "cell_type": "code",
   "execution_count": 193,
   "metadata": {},
   "outputs": [
    {
     "name": "stdout",
     "output_type": "stream",
     "text": [
      "<class 'pandas.core.frame.DataFrame'>\n",
      "RangeIndex: 2665 entries, 0 to 2664\n",
      "Data columns (total 10 columns):\n",
      " #   Column                          Non-Null Count  Dtype  \n",
      "---  ------                          --------------  -----  \n",
      " 0   project_id                      2665 non-null   int64  \n",
      " 1   projectname                     2665 non-null   object \n",
      " 2   package_name                    2627 non-null   object \n",
      " 3   scope_of_work                   2665 non-null   object \n",
      " 4   software_platform               2665 non-null   object \n",
      " 5   lod                             1886 non-null   float64\n",
      " 6   contracthours                   2665 non-null   float64\n",
      " 7   tradep                          2665 non-null   object \n",
      " 8   project_days                    2665 non-null   int64  \n",
      " 9   time_saved_per_hit_count_(hrs)  2579 non-null   float64\n",
      "dtypes: float64(3), int64(2), object(5)\n",
      "memory usage: 208.3+ KB\n"
     ]
    }
   ],
   "source": [
    "data.info()"
   ]
  },
  {
   "cell_type": "code",
   "execution_count": 194,
   "metadata": {},
   "outputs": [
    {
     "data": {
      "text/plain": [
       "(2665, 10)"
      ]
     },
     "execution_count": 194,
     "metadata": {},
     "output_type": "execute_result"
    }
   ],
   "source": [
    "data.shape"
   ]
  },
  {
   "cell_type": "code",
   "execution_count": 195,
   "metadata": {},
   "outputs": [
    {
     "data": {
      "text/plain": [
       "project_id                          0\n",
       "projectname                         0\n",
       "package_name                       38\n",
       "scope_of_work                       0\n",
       "software_platform                   0\n",
       "lod                               779\n",
       "contracthours                       0\n",
       "tradep                              0\n",
       "project_days                        0\n",
       "time_saved_per_hit_count_(hrs)     86\n",
       "dtype: int64"
      ]
     },
     "execution_count": 195,
     "metadata": {},
     "output_type": "execute_result"
    }
   ],
   "source": [
    "# checking the data for NULL\n",
    "data.isnull().sum()"
   ]
  },
  {
   "cell_type": "code",
   "execution_count": 196,
   "metadata": {},
   "outputs": [],
   "source": [
    "# Dropping the Null records from package name and time save\n",
    "data = data.dropna(axis=0, subset=['package_name', 'time_saved_per_hit_count_(hrs)'], inplace=False)"
   ]
  },
  {
   "cell_type": "code",
   "execution_count": 197,
   "metadata": {},
   "outputs": [],
   "source": [
    "# Replacing the null lod values with median \n",
    "data['lod'] = data['lod'].fillna(data['lod'].median(), inplace=False)"
   ]
  },
  {
   "cell_type": "code",
   "execution_count": 198,
   "metadata": {},
   "outputs": [
    {
     "data": {
      "text/plain": [
       "project_id                        0\n",
       "projectname                       0\n",
       "package_name                      0\n",
       "scope_of_work                     0\n",
       "software_platform                 0\n",
       "lod                               0\n",
       "contracthours                     0\n",
       "tradep                            0\n",
       "project_days                      0\n",
       "time_saved_per_hit_count_(hrs)    0\n",
       "dtype: int64"
      ]
     },
     "execution_count": 198,
     "metadata": {},
     "output_type": "execute_result"
    }
   ],
   "source": [
    "data.isnull().sum()"
   ]
  },
  {
   "cell_type": "code",
   "execution_count": 199,
   "metadata": {},
   "outputs": [
    {
     "data": {
      "text/html": [
       "<div>\n",
       "<style scoped>\n",
       "    .dataframe tbody tr th:only-of-type {\n",
       "        vertical-align: middle;\n",
       "    }\n",
       "\n",
       "    .dataframe tbody tr th {\n",
       "        vertical-align: top;\n",
       "    }\n",
       "\n",
       "    .dataframe thead th {\n",
       "        text-align: right;\n",
       "    }\n",
       "</style>\n",
       "<table border=\"1\" class=\"dataframe\">\n",
       "  <thead>\n",
       "    <tr style=\"text-align: right;\">\n",
       "      <th></th>\n",
       "      <th>project_id</th>\n",
       "      <th>projectname</th>\n",
       "      <th>package_name</th>\n",
       "      <th>scope_of_work</th>\n",
       "      <th>software_platform</th>\n",
       "      <th>lod</th>\n",
       "      <th>contracthours</th>\n",
       "      <th>tradep</th>\n",
       "      <th>project_days</th>\n",
       "      <th>time_saved_per_hit_count_(hrs)</th>\n",
       "    </tr>\n",
       "  </thead>\n",
       "  <tbody>\n",
       "    <tr>\n",
       "      <th>0</th>\n",
       "      <td>75681</td>\n",
       "      <td>55 Premier Series (45' Product) - B45L - Aurora</td>\n",
       "      <td>Pi Dock</td>\n",
       "      <td>3D Modeling,Construction Drawing Set</td>\n",
       "      <td>Revit 2019</td>\n",
       "      <td>300.0</td>\n",
       "      <td>249.0</td>\n",
       "      <td>Architecture</td>\n",
       "      <td>383</td>\n",
       "      <td>0.000002</td>\n",
       "    </tr>\n",
       "    <tr>\n",
       "      <th>1</th>\n",
       "      <td>75681</td>\n",
       "      <td>55 Premier Series (45' Product) - B45L - Aurora</td>\n",
       "      <td>Pi Navisworks</td>\n",
       "      <td>3D Modeling,Construction Drawing Set</td>\n",
       "      <td>Revit 2019</td>\n",
       "      <td>300.0</td>\n",
       "      <td>249.0</td>\n",
       "      <td>Architecture</td>\n",
       "      <td>383</td>\n",
       "      <td>0.029735</td>\n",
       "    </tr>\n",
       "    <tr>\n",
       "      <th>3</th>\n",
       "      <td>64254</td>\n",
       "      <td>UC New ED Surgery Infill</td>\n",
       "      <td>Pi Mechanical</td>\n",
       "      <td>2D Drawings</td>\n",
       "      <td>Revit Fabrication</td>\n",
       "      <td>400.0</td>\n",
       "      <td>212.0</td>\n",
       "      <td>Mechanical Sheet Metal</td>\n",
       "      <td>578</td>\n",
       "      <td>1.067006</td>\n",
       "    </tr>\n",
       "    <tr>\n",
       "      <th>4</th>\n",
       "      <td>31571</td>\n",
       "      <td>Via Mizner</td>\n",
       "      <td>Pi Mechanical</td>\n",
       "      <td>BIM Coordination,Shop Drawings</td>\n",
       "      <td>Revit-2018,AutoCAD</td>\n",
       "      <td>400.0</td>\n",
       "      <td>36.0</td>\n",
       "      <td>Plumbing</td>\n",
       "      <td>110</td>\n",
       "      <td>0.140591</td>\n",
       "    </tr>\n",
       "    <tr>\n",
       "      <th>5</th>\n",
       "      <td>31758</td>\n",
       "      <td>YMCA, Milton Keynes</td>\n",
       "      <td>Pi Mechanical</td>\n",
       "      <td>3D Modeling,Coordination,COBie,Shop Drawings,B...</td>\n",
       "      <td>Revit-2019</td>\n",
       "      <td>400.0</td>\n",
       "      <td>4662.0</td>\n",
       "      <td>Mechanical,Electrical,Plumbing</td>\n",
       "      <td>1068</td>\n",
       "      <td>0.037221</td>\n",
       "    </tr>\n",
       "  </tbody>\n",
       "</table>\n",
       "</div>"
      ],
      "text/plain": [
       "   project_id                                       projectname  \\\n",
       "0       75681   55 Premier Series (45' Product) - B45L - Aurora   \n",
       "1       75681   55 Premier Series (45' Product) - B45L - Aurora   \n",
       "3       64254                          UC New ED Surgery Infill   \n",
       "4       31571                                       Via Mizner    \n",
       "5       31758                               YMCA, Milton Keynes   \n",
       "\n",
       "    package_name                                      scope_of_work  \\\n",
       "0        Pi Dock               3D Modeling,Construction Drawing Set   \n",
       "1  Pi Navisworks               3D Modeling,Construction Drawing Set   \n",
       "3  Pi Mechanical                                        2D Drawings   \n",
       "4  Pi Mechanical                     BIM Coordination,Shop Drawings   \n",
       "5  Pi Mechanical  3D Modeling,Coordination,COBie,Shop Drawings,B...   \n",
       "\n",
       "     software_platform    lod  contracthours                          tradep  \\\n",
       "0           Revit 2019  300.0          249.0                    Architecture   \n",
       "1           Revit 2019  300.0          249.0                    Architecture   \n",
       "3    Revit Fabrication  400.0          212.0          Mechanical Sheet Metal   \n",
       "4  Revit-2018,AutoCAD   400.0           36.0                        Plumbing   \n",
       "5           Revit-2019  400.0         4662.0  Mechanical,Electrical,Plumbing   \n",
       "\n",
       "   project_days  time_saved_per_hit_count_(hrs)  \n",
       "0           383                        0.000002  \n",
       "1           383                        0.029735  \n",
       "3           578                        1.067006  \n",
       "4           110                        0.140591  \n",
       "5          1068                        0.037221  "
      ]
     },
     "execution_count": 199,
     "metadata": {},
     "output_type": "execute_result"
    }
   ],
   "source": [
    "data.head()"
   ]
  },
  {
   "cell_type": "markdown",
   "metadata": {},
   "source": [
    "### Handelling package column"
   ]
  },
  {
   "cell_type": "code",
   "execution_count": 200,
   "metadata": {},
   "outputs": [],
   "source": [
    "package_list = data['package_name'].unique().tolist()"
   ]
  },
  {
   "cell_type": "code",
   "execution_count": 201,
   "metadata": {},
   "outputs": [
    {
     "name": "stdout",
     "output_type": "stream",
     "text": [
      "(1323, 2)\n"
     ]
    },
    {
     "data": {
      "text/html": [
       "<div>\n",
       "<style scoped>\n",
       "    .dataframe tbody tr th:only-of-type {\n",
       "        vertical-align: middle;\n",
       "    }\n",
       "\n",
       "    .dataframe tbody tr th {\n",
       "        vertical-align: top;\n",
       "    }\n",
       "\n",
       "    .dataframe thead th {\n",
       "        text-align: right;\n",
       "    }\n",
       "</style>\n",
       "<table border=\"1\" class=\"dataframe\">\n",
       "  <thead>\n",
       "    <tr style=\"text-align: right;\">\n",
       "      <th></th>\n",
       "      <th>project_id</th>\n",
       "      <th>package_name</th>\n",
       "    </tr>\n",
       "  </thead>\n",
       "  <tbody>\n",
       "    <tr>\n",
       "      <th>1322</th>\n",
       "      <td>78348</td>\n",
       "      <td>Pi Mechanical</td>\n",
       "    </tr>\n",
       "    <tr>\n",
       "      <th>1321</th>\n",
       "      <td>78326</td>\n",
       "      <td>Pi Electrical</td>\n",
       "    </tr>\n",
       "    <tr>\n",
       "      <th>1320</th>\n",
       "      <td>78302</td>\n",
       "      <td>Pi Electrical,Pi Mechanical,Pi Quality</td>\n",
       "    </tr>\n",
       "    <tr>\n",
       "      <th>1319</th>\n",
       "      <td>78298</td>\n",
       "      <td>Pi Electrical,Pi Mechanical</td>\n",
       "    </tr>\n",
       "    <tr>\n",
       "      <th>1318</th>\n",
       "      <td>78297</td>\n",
       "      <td>Pi Mechanical</td>\n",
       "    </tr>\n",
       "  </tbody>\n",
       "</table>\n",
       "</div>"
      ],
      "text/plain": [
       "      project_id                            package_name\n",
       "1322       78348                           Pi Mechanical\n",
       "1321       78326                           Pi Electrical\n",
       "1320       78302  Pi Electrical,Pi Mechanical,Pi Quality\n",
       "1319       78298             Pi Electrical,Pi Mechanical\n",
       "1318       78297                           Pi Mechanical"
      ]
     },
     "execution_count": 201,
     "metadata": {},
     "output_type": "execute_result"
    }
   ],
   "source": [
    "df_package_grouped = data.groupby(by=['project_id'])['package_name'].aggregate(','.join).reset_index().sort_values(by='project_id', ascending=False)\n",
    "print(df_package_grouped.shape)\n",
    "df_package_grouped.head()"
   ]
  },
  {
   "cell_type": "code",
   "execution_count": 202,
   "metadata": {},
   "outputs": [],
   "source": [
    "# df_package_grouped['package_name'].apply(lambda x: 1 if 'Pi Mechanical' in x else 0)"
   ]
  },
  {
   "cell_type": "code",
   "execution_count": 203,
   "metadata": {},
   "outputs": [],
   "source": [
    "for package in package_list:\n",
    "    df_package_grouped['package_' + package.lower()] = df_package_grouped['package_name'].apply(lambda x: 1 if str(package) in str(x) else 0)"
   ]
  },
  {
   "cell_type": "code",
   "execution_count": 204,
   "metadata": {},
   "outputs": [
    {
     "data": {
      "text/html": [
       "<div>\n",
       "<style scoped>\n",
       "    .dataframe tbody tr th:only-of-type {\n",
       "        vertical-align: middle;\n",
       "    }\n",
       "\n",
       "    .dataframe tbody tr th {\n",
       "        vertical-align: top;\n",
       "    }\n",
       "\n",
       "    .dataframe thead th {\n",
       "        text-align: right;\n",
       "    }\n",
       "</style>\n",
       "<table border=\"1\" class=\"dataframe\">\n",
       "  <thead>\n",
       "    <tr style=\"text-align: right;\">\n",
       "      <th></th>\n",
       "      <th>project_id</th>\n",
       "      <th>package_name</th>\n",
       "      <th>package_pi dock</th>\n",
       "      <th>package_pi navisworks</th>\n",
       "      <th>package_pi mechanical</th>\n",
       "      <th>package_pi quality</th>\n",
       "      <th>package_pi electrical</th>\n",
       "      <th>package_pi scrum</th>\n",
       "      <th>package_pi acs</th>\n",
       "      <th>package_pi document package</th>\n",
       "      <th>package_pi swr</th>\n",
       "      <th>package_pi common package</th>\n",
       "      <th>package_pi mep package</th>\n",
       "      <th>package_pi plant3d</th>\n",
       "      <th>package_pi mechanical package</th>\n",
       "      <th>package_pi scrum package</th>\n",
       "    </tr>\n",
       "  </thead>\n",
       "  <tbody>\n",
       "    <tr>\n",
       "      <th>1322</th>\n",
       "      <td>78348</td>\n",
       "      <td>Pi Mechanical</td>\n",
       "      <td>0</td>\n",
       "      <td>0</td>\n",
       "      <td>1</td>\n",
       "      <td>0</td>\n",
       "      <td>0</td>\n",
       "      <td>0</td>\n",
       "      <td>0</td>\n",
       "      <td>0</td>\n",
       "      <td>0</td>\n",
       "      <td>0</td>\n",
       "      <td>0</td>\n",
       "      <td>0</td>\n",
       "      <td>0</td>\n",
       "      <td>0</td>\n",
       "    </tr>\n",
       "    <tr>\n",
       "      <th>1321</th>\n",
       "      <td>78326</td>\n",
       "      <td>Pi Electrical</td>\n",
       "      <td>0</td>\n",
       "      <td>0</td>\n",
       "      <td>0</td>\n",
       "      <td>0</td>\n",
       "      <td>1</td>\n",
       "      <td>0</td>\n",
       "      <td>0</td>\n",
       "      <td>0</td>\n",
       "      <td>0</td>\n",
       "      <td>0</td>\n",
       "      <td>0</td>\n",
       "      <td>0</td>\n",
       "      <td>0</td>\n",
       "      <td>0</td>\n",
       "    </tr>\n",
       "    <tr>\n",
       "      <th>1320</th>\n",
       "      <td>78302</td>\n",
       "      <td>Pi Electrical,Pi Mechanical,Pi Quality</td>\n",
       "      <td>0</td>\n",
       "      <td>0</td>\n",
       "      <td>1</td>\n",
       "      <td>1</td>\n",
       "      <td>1</td>\n",
       "      <td>0</td>\n",
       "      <td>0</td>\n",
       "      <td>0</td>\n",
       "      <td>0</td>\n",
       "      <td>0</td>\n",
       "      <td>0</td>\n",
       "      <td>0</td>\n",
       "      <td>0</td>\n",
       "      <td>0</td>\n",
       "    </tr>\n",
       "    <tr>\n",
       "      <th>1319</th>\n",
       "      <td>78298</td>\n",
       "      <td>Pi Electrical,Pi Mechanical</td>\n",
       "      <td>0</td>\n",
       "      <td>0</td>\n",
       "      <td>1</td>\n",
       "      <td>0</td>\n",
       "      <td>1</td>\n",
       "      <td>0</td>\n",
       "      <td>0</td>\n",
       "      <td>0</td>\n",
       "      <td>0</td>\n",
       "      <td>0</td>\n",
       "      <td>0</td>\n",
       "      <td>0</td>\n",
       "      <td>0</td>\n",
       "      <td>0</td>\n",
       "    </tr>\n",
       "    <tr>\n",
       "      <th>1318</th>\n",
       "      <td>78297</td>\n",
       "      <td>Pi Mechanical</td>\n",
       "      <td>0</td>\n",
       "      <td>0</td>\n",
       "      <td>1</td>\n",
       "      <td>0</td>\n",
       "      <td>0</td>\n",
       "      <td>0</td>\n",
       "      <td>0</td>\n",
       "      <td>0</td>\n",
       "      <td>0</td>\n",
       "      <td>0</td>\n",
       "      <td>0</td>\n",
       "      <td>0</td>\n",
       "      <td>0</td>\n",
       "      <td>0</td>\n",
       "    </tr>\n",
       "  </tbody>\n",
       "</table>\n",
       "</div>"
      ],
      "text/plain": [
       "      project_id                            package_name  package_pi dock  \\\n",
       "1322       78348                           Pi Mechanical                0   \n",
       "1321       78326                           Pi Electrical                0   \n",
       "1320       78302  Pi Electrical,Pi Mechanical,Pi Quality                0   \n",
       "1319       78298             Pi Electrical,Pi Mechanical                0   \n",
       "1318       78297                           Pi Mechanical                0   \n",
       "\n",
       "      package_pi navisworks  package_pi mechanical  package_pi quality  \\\n",
       "1322                      0                      1                   0   \n",
       "1321                      0                      0                   0   \n",
       "1320                      0                      1                   1   \n",
       "1319                      0                      1                   0   \n",
       "1318                      0                      1                   0   \n",
       "\n",
       "      package_pi electrical  package_pi scrum  package_pi acs  \\\n",
       "1322                      0                 0               0   \n",
       "1321                      1                 0               0   \n",
       "1320                      1                 0               0   \n",
       "1319                      1                 0               0   \n",
       "1318                      0                 0               0   \n",
       "\n",
       "      package_pi document package  package_pi swr  package_pi common package  \\\n",
       "1322                            0               0                          0   \n",
       "1321                            0               0                          0   \n",
       "1320                            0               0                          0   \n",
       "1319                            0               0                          0   \n",
       "1318                            0               0                          0   \n",
       "\n",
       "      package_pi mep package  package_pi plant3d  \\\n",
       "1322                       0                   0   \n",
       "1321                       0                   0   \n",
       "1320                       0                   0   \n",
       "1319                       0                   0   \n",
       "1318                       0                   0   \n",
       "\n",
       "      package_pi mechanical package  package_pi scrum package  \n",
       "1322                              0                         0  \n",
       "1321                              0                         0  \n",
       "1320                              0                         0  \n",
       "1319                              0                         0  \n",
       "1318                              0                         0  "
      ]
     },
     "execution_count": 204,
     "metadata": {},
     "output_type": "execute_result"
    }
   ],
   "source": [
    "df_package_grouped.head()"
   ]
  },
  {
   "cell_type": "markdown",
   "metadata": {},
   "source": [
    "### Handelling Scope of work column"
   ]
  },
  {
   "cell_type": "code",
   "execution_count": 205,
   "metadata": {},
   "outputs": [
    {
     "data": {
      "text/html": [
       "<div>\n",
       "<style scoped>\n",
       "    .dataframe tbody tr th:only-of-type {\n",
       "        vertical-align: middle;\n",
       "    }\n",
       "\n",
       "    .dataframe tbody tr th {\n",
       "        vertical-align: top;\n",
       "    }\n",
       "\n",
       "    .dataframe thead th {\n",
       "        text-align: right;\n",
       "    }\n",
       "</style>\n",
       "<table border=\"1\" class=\"dataframe\">\n",
       "  <thead>\n",
       "    <tr style=\"text-align: right;\">\n",
       "      <th></th>\n",
       "      <th>project_id</th>\n",
       "      <th>projectname</th>\n",
       "      <th>package_name</th>\n",
       "      <th>scope_of_work</th>\n",
       "      <th>software_platform</th>\n",
       "      <th>lod</th>\n",
       "      <th>contracthours</th>\n",
       "      <th>tradep</th>\n",
       "      <th>project_days</th>\n",
       "      <th>time_saved_per_hit_count_(hrs)</th>\n",
       "    </tr>\n",
       "  </thead>\n",
       "  <tbody>\n",
       "    <tr>\n",
       "      <th>0</th>\n",
       "      <td>75681</td>\n",
       "      <td>55 Premier Series (45' Product) - B45L - Aurora</td>\n",
       "      <td>Pi Dock</td>\n",
       "      <td>3D Modeling,Construction Drawing Set</td>\n",
       "      <td>Revit 2019</td>\n",
       "      <td>300.0</td>\n",
       "      <td>249.0</td>\n",
       "      <td>Architecture</td>\n",
       "      <td>383</td>\n",
       "      <td>0.000002</td>\n",
       "    </tr>\n",
       "    <tr>\n",
       "      <th>1</th>\n",
       "      <td>75681</td>\n",
       "      <td>55 Premier Series (45' Product) - B45L - Aurora</td>\n",
       "      <td>Pi Navisworks</td>\n",
       "      <td>3D Modeling,Construction Drawing Set</td>\n",
       "      <td>Revit 2019</td>\n",
       "      <td>300.0</td>\n",
       "      <td>249.0</td>\n",
       "      <td>Architecture</td>\n",
       "      <td>383</td>\n",
       "      <td>0.029735</td>\n",
       "    </tr>\n",
       "  </tbody>\n",
       "</table>\n",
       "</div>"
      ],
      "text/plain": [
       "   project_id                                       projectname  \\\n",
       "0       75681   55 Premier Series (45' Product) - B45L - Aurora   \n",
       "1       75681   55 Premier Series (45' Product) - B45L - Aurora   \n",
       "\n",
       "    package_name                         scope_of_work software_platform  \\\n",
       "0        Pi Dock  3D Modeling,Construction Drawing Set        Revit 2019   \n",
       "1  Pi Navisworks  3D Modeling,Construction Drawing Set        Revit 2019   \n",
       "\n",
       "     lod  contracthours        tradep  project_days  \\\n",
       "0  300.0          249.0  Architecture           383   \n",
       "1  300.0          249.0  Architecture           383   \n",
       "\n",
       "   time_saved_per_hit_count_(hrs)  \n",
       "0                        0.000002  \n",
       "1                        0.029735  "
      ]
     },
     "execution_count": 205,
     "metadata": {},
     "output_type": "execute_result"
    }
   ],
   "source": [
    "data.head(2)"
   ]
  },
  {
   "cell_type": "code",
   "execution_count": 206,
   "metadata": {},
   "outputs": [
    {
     "name": "stdout",
     "output_type": "stream",
     "text": [
      "(1323, 2)\n"
     ]
    },
    {
     "data": {
      "text/html": [
       "<div>\n",
       "<style scoped>\n",
       "    .dataframe tbody tr th:only-of-type {\n",
       "        vertical-align: middle;\n",
       "    }\n",
       "\n",
       "    .dataframe tbody tr th {\n",
       "        vertical-align: top;\n",
       "    }\n",
       "\n",
       "    .dataframe thead th {\n",
       "        text-align: right;\n",
       "    }\n",
       "</style>\n",
       "<table border=\"1\" class=\"dataframe\">\n",
       "  <thead>\n",
       "    <tr style=\"text-align: right;\">\n",
       "      <th></th>\n",
       "      <th>project_id</th>\n",
       "      <th>scope_of_work</th>\n",
       "    </tr>\n",
       "  </thead>\n",
       "  <tbody>\n",
       "    <tr>\n",
       "      <th>1322</th>\n",
       "      <td>78348</td>\n",
       "      <td>3D Modeling,2D Drawings</td>\n",
       "    </tr>\n",
       "    <tr>\n",
       "      <th>1321</th>\n",
       "      <td>78326</td>\n",
       "      <td>Shop drawings</td>\n",
       "    </tr>\n",
       "    <tr>\n",
       "      <th>1320</th>\n",
       "      <td>78302</td>\n",
       "      <td>3D Modeling,3D Modeling,3D Modeling</td>\n",
       "    </tr>\n",
       "    <tr>\n",
       "      <th>1319</th>\n",
       "      <td>78298</td>\n",
       "      <td>3D Modeling,3D Modeling</td>\n",
       "    </tr>\n",
       "    <tr>\n",
       "      <th>1318</th>\n",
       "      <td>78297</td>\n",
       "      <td>3D Modeling,Coordination,Shop Drawings</td>\n",
       "    </tr>\n",
       "  </tbody>\n",
       "</table>\n",
       "</div>"
      ],
      "text/plain": [
       "      project_id                           scope_of_work\n",
       "1322       78348                 3D Modeling,2D Drawings\n",
       "1321       78326                           Shop drawings\n",
       "1320       78302     3D Modeling,3D Modeling,3D Modeling\n",
       "1319       78298                 3D Modeling,3D Modeling\n",
       "1318       78297  3D Modeling,Coordination,Shop Drawings"
      ]
     },
     "execution_count": 206,
     "metadata": {},
     "output_type": "execute_result"
    }
   ],
   "source": [
    "df_scopeofwork_grouped = data.groupby(by=['project_id'])['scope_of_work'].aggregate(','.join).reset_index().sort_values(by='project_id', ascending=False)\n",
    "print(df_scopeofwork_grouped.shape)\n",
    "df_scopeofwork_grouped.head()"
   ]
  },
  {
   "cell_type": "code",
   "execution_count": 207,
   "metadata": {},
   "outputs": [
    {
     "name": "stdout",
     "output_type": "stream",
     "text": [
      "344\n"
     ]
    }
   ],
   "source": [
    "scopeofwork_list = df_scopeofwork_grouped['scope_of_work'].str.split(',').explode().str.replace(\" \",\"\").str.lower().unique().tolist()\n",
    "print(len(scopeofwork_list))\n",
    "# scopeofwork_list"
   ]
  },
  {
   "cell_type": "markdown",
   "metadata": {},
   "source": [
    "## Handling Software Platform"
   ]
  },
  {
   "cell_type": "code",
   "execution_count": 208,
   "metadata": {},
   "outputs": [
    {
     "data": {
      "text/html": [
       "<div>\n",
       "<style scoped>\n",
       "    .dataframe tbody tr th:only-of-type {\n",
       "        vertical-align: middle;\n",
       "    }\n",
       "\n",
       "    .dataframe tbody tr th {\n",
       "        vertical-align: top;\n",
       "    }\n",
       "\n",
       "    .dataframe thead th {\n",
       "        text-align: right;\n",
       "    }\n",
       "</style>\n",
       "<table border=\"1\" class=\"dataframe\">\n",
       "  <thead>\n",
       "    <tr style=\"text-align: right;\">\n",
       "      <th></th>\n",
       "      <th>project_id</th>\n",
       "      <th>projectname</th>\n",
       "      <th>package_name</th>\n",
       "      <th>scope_of_work</th>\n",
       "      <th>software_platform</th>\n",
       "      <th>lod</th>\n",
       "      <th>contracthours</th>\n",
       "      <th>tradep</th>\n",
       "      <th>project_days</th>\n",
       "      <th>time_saved_per_hit_count_(hrs)</th>\n",
       "    </tr>\n",
       "  </thead>\n",
       "  <tbody>\n",
       "    <tr>\n",
       "      <th>0</th>\n",
       "      <td>75681</td>\n",
       "      <td>55 Premier Series (45' Product) - B45L - Aurora</td>\n",
       "      <td>Pi Dock</td>\n",
       "      <td>3D Modeling,Construction Drawing Set</td>\n",
       "      <td>Revit 2019</td>\n",
       "      <td>300.0</td>\n",
       "      <td>249.0</td>\n",
       "      <td>Architecture</td>\n",
       "      <td>383</td>\n",
       "      <td>0.000002</td>\n",
       "    </tr>\n",
       "    <tr>\n",
       "      <th>1</th>\n",
       "      <td>75681</td>\n",
       "      <td>55 Premier Series (45' Product) - B45L - Aurora</td>\n",
       "      <td>Pi Navisworks</td>\n",
       "      <td>3D Modeling,Construction Drawing Set</td>\n",
       "      <td>Revit 2019</td>\n",
       "      <td>300.0</td>\n",
       "      <td>249.0</td>\n",
       "      <td>Architecture</td>\n",
       "      <td>383</td>\n",
       "      <td>0.029735</td>\n",
       "    </tr>\n",
       "  </tbody>\n",
       "</table>\n",
       "</div>"
      ],
      "text/plain": [
       "   project_id                                       projectname  \\\n",
       "0       75681   55 Premier Series (45' Product) - B45L - Aurora   \n",
       "1       75681   55 Premier Series (45' Product) - B45L - Aurora   \n",
       "\n",
       "    package_name                         scope_of_work software_platform  \\\n",
       "0        Pi Dock  3D Modeling,Construction Drawing Set        Revit 2019   \n",
       "1  Pi Navisworks  3D Modeling,Construction Drawing Set        Revit 2019   \n",
       "\n",
       "     lod  contracthours        tradep  project_days  \\\n",
       "0  300.0          249.0  Architecture           383   \n",
       "1  300.0          249.0  Architecture           383   \n",
       "\n",
       "   time_saved_per_hit_count_(hrs)  \n",
       "0                        0.000002  \n",
       "1                        0.029735  "
      ]
     },
     "execution_count": 208,
     "metadata": {},
     "output_type": "execute_result"
    }
   ],
   "source": [
    "data.head(2)"
   ]
  },
  {
   "cell_type": "code",
   "execution_count": 209,
   "metadata": {},
   "outputs": [
    {
     "name": "stdout",
     "output_type": "stream",
     "text": [
      "(1323, 2)\n"
     ]
    },
    {
     "data": {
      "text/html": [
       "<div>\n",
       "<style scoped>\n",
       "    .dataframe tbody tr th:only-of-type {\n",
       "        vertical-align: middle;\n",
       "    }\n",
       "\n",
       "    .dataframe tbody tr th {\n",
       "        vertical-align: top;\n",
       "    }\n",
       "\n",
       "    .dataframe thead th {\n",
       "        text-align: right;\n",
       "    }\n",
       "</style>\n",
       "<table border=\"1\" class=\"dataframe\">\n",
       "  <thead>\n",
       "    <tr style=\"text-align: right;\">\n",
       "      <th></th>\n",
       "      <th>project_id</th>\n",
       "      <th>software_platform</th>\n",
       "    </tr>\n",
       "  </thead>\n",
       "  <tbody>\n",
       "    <tr>\n",
       "      <th>1322</th>\n",
       "      <td>78348</td>\n",
       "      <td>Revit, AutoCAD</td>\n",
       "    </tr>\n",
       "    <tr>\n",
       "      <th>1321</th>\n",
       "      <td>78326</td>\n",
       "      <td>Revit Fabrication</td>\n",
       "    </tr>\n",
       "    <tr>\n",
       "      <th>1320</th>\n",
       "      <td>78302</td>\n",
       "      <td>Revit 2021, Recap,Revit 2021, Recap,Revit 2021...</td>\n",
       "    </tr>\n",
       "    <tr>\n",
       "      <th>1319</th>\n",
       "      <td>78298</td>\n",
       "      <td>Revit 2022, Recap,Revit 2022, Recap</td>\n",
       "    </tr>\n",
       "    <tr>\n",
       "      <th>1318</th>\n",
       "      <td>78297</td>\n",
       "      <td>Revit Fabrication, Navisworks</td>\n",
       "    </tr>\n",
       "  </tbody>\n",
       "</table>\n",
       "</div>"
      ],
      "text/plain": [
       "      project_id                                  software_platform\n",
       "1322       78348                                     Revit, AutoCAD\n",
       "1321       78326                                  Revit Fabrication\n",
       "1320       78302  Revit 2021, Recap,Revit 2021, Recap,Revit 2021...\n",
       "1319       78298                Revit 2022, Recap,Revit 2022, Recap\n",
       "1318       78297                      Revit Fabrication, Navisworks"
      ]
     },
     "execution_count": 209,
     "metadata": {},
     "output_type": "execute_result"
    }
   ],
   "source": [
    "df_software_grouped = data.groupby(by=['project_id'])['software_platform'].aggregate(','.join).reset_index().sort_values(by='project_id', ascending=False)\n",
    "print(df_software_grouped.shape)\n",
    "df_software_grouped.head()"
   ]
  },
  {
   "cell_type": "code",
   "execution_count": 210,
   "metadata": {},
   "outputs": [],
   "source": [
    "df_software_grouped['software_platform'] = df_software_grouped['software_platform'].apply(lambda x: re.sub(r'\\d', '', x))"
   ]
  },
  {
   "cell_type": "code",
   "execution_count": 211,
   "metadata": {},
   "outputs": [
    {
     "name": "stdout",
     "output_type": "stream",
     "text": [
      "127\n"
     ]
    }
   ],
   "source": [
    "software_list = df_software_grouped['software_platform'].str.split(',').explode().str.replace(\" \",\"\").str.lower().unique().tolist()\n",
    "print(len(software_list))"
   ]
  },
  {
   "cell_type": "code",
   "execution_count": 212,
   "metadata": {},
   "outputs": [],
   "source": [
    "# df_software_grouped[df_software_grouped['project_id']==76704]"
   ]
  },
  {
   "cell_type": "code",
   "execution_count": 213,
   "metadata": {},
   "outputs": [],
   "source": [
    "soft_list = [\"revit\", \"navish\", \"tekla\", \"autocad\", \"plantd\", \"fabrication\", \"rebar\"]\n",
    "\n",
    "for item in soft_list:\n",
    "    df_software_grouped['software_' + item] = df_software_grouped['software_platform'].apply(lambda x: 1 if str(item).lower() in x.lower() else 0)\n"
   ]
  },
  {
   "cell_type": "code",
   "execution_count": 214,
   "metadata": {},
   "outputs": [
    {
     "data": {
      "text/html": [
       "<div>\n",
       "<style scoped>\n",
       "    .dataframe tbody tr th:only-of-type {\n",
       "        vertical-align: middle;\n",
       "    }\n",
       "\n",
       "    .dataframe tbody tr th {\n",
       "        vertical-align: top;\n",
       "    }\n",
       "\n",
       "    .dataframe thead th {\n",
       "        text-align: right;\n",
       "    }\n",
       "</style>\n",
       "<table border=\"1\" class=\"dataframe\">\n",
       "  <thead>\n",
       "    <tr style=\"text-align: right;\">\n",
       "      <th></th>\n",
       "      <th>project_id</th>\n",
       "      <th>software_platform</th>\n",
       "      <th>software_revit</th>\n",
       "      <th>software_navish</th>\n",
       "      <th>software_tekla</th>\n",
       "      <th>software_autocad</th>\n",
       "      <th>software_plantd</th>\n",
       "      <th>software_fabrication</th>\n",
       "      <th>software_rebar</th>\n",
       "    </tr>\n",
       "  </thead>\n",
       "  <tbody>\n",
       "    <tr>\n",
       "      <th>1322</th>\n",
       "      <td>78348</td>\n",
       "      <td>Revit, AutoCAD</td>\n",
       "      <td>1</td>\n",
       "      <td>0</td>\n",
       "      <td>0</td>\n",
       "      <td>1</td>\n",
       "      <td>0</td>\n",
       "      <td>0</td>\n",
       "      <td>0</td>\n",
       "    </tr>\n",
       "    <tr>\n",
       "      <th>1321</th>\n",
       "      <td>78326</td>\n",
       "      <td>Revit Fabrication</td>\n",
       "      <td>1</td>\n",
       "      <td>0</td>\n",
       "      <td>0</td>\n",
       "      <td>0</td>\n",
       "      <td>0</td>\n",
       "      <td>1</td>\n",
       "      <td>0</td>\n",
       "    </tr>\n",
       "  </tbody>\n",
       "</table>\n",
       "</div>"
      ],
      "text/plain": [
       "      project_id  software_platform  software_revit  software_navish  \\\n",
       "1322       78348     Revit, AutoCAD               1                0   \n",
       "1321       78326  Revit Fabrication               1                0   \n",
       "\n",
       "      software_tekla  software_autocad  software_plantd  software_fabrication  \\\n",
       "1322               0                 1                0                     0   \n",
       "1321               0                 0                0                     1   \n",
       "\n",
       "      software_rebar  \n",
       "1322               0  \n",
       "1321               0  "
      ]
     },
     "execution_count": 214,
     "metadata": {},
     "output_type": "execute_result"
    }
   ],
   "source": [
    "df_software_grouped.head(2)"
   ]
  },
  {
   "cell_type": "markdown",
   "metadata": {},
   "source": [
    "## Trade"
   ]
  },
  {
   "cell_type": "code",
   "execution_count": 215,
   "metadata": {},
   "outputs": [
    {
     "data": {
      "text/html": [
       "<div>\n",
       "<style scoped>\n",
       "    .dataframe tbody tr th:only-of-type {\n",
       "        vertical-align: middle;\n",
       "    }\n",
       "\n",
       "    .dataframe tbody tr th {\n",
       "        vertical-align: top;\n",
       "    }\n",
       "\n",
       "    .dataframe thead th {\n",
       "        text-align: right;\n",
       "    }\n",
       "</style>\n",
       "<table border=\"1\" class=\"dataframe\">\n",
       "  <thead>\n",
       "    <tr style=\"text-align: right;\">\n",
       "      <th></th>\n",
       "      <th>project_id</th>\n",
       "      <th>projectname</th>\n",
       "      <th>package_name</th>\n",
       "      <th>scope_of_work</th>\n",
       "      <th>software_platform</th>\n",
       "      <th>lod</th>\n",
       "      <th>contracthours</th>\n",
       "      <th>tradep</th>\n",
       "      <th>project_days</th>\n",
       "      <th>time_saved_per_hit_count_(hrs)</th>\n",
       "    </tr>\n",
       "  </thead>\n",
       "  <tbody>\n",
       "    <tr>\n",
       "      <th>0</th>\n",
       "      <td>75681</td>\n",
       "      <td>55 Premier Series (45' Product) - B45L - Aurora</td>\n",
       "      <td>Pi Dock</td>\n",
       "      <td>3D Modeling,Construction Drawing Set</td>\n",
       "      <td>Revit 2019</td>\n",
       "      <td>300.0</td>\n",
       "      <td>249.0</td>\n",
       "      <td>Architecture</td>\n",
       "      <td>383</td>\n",
       "      <td>0.000002</td>\n",
       "    </tr>\n",
       "    <tr>\n",
       "      <th>1</th>\n",
       "      <td>75681</td>\n",
       "      <td>55 Premier Series (45' Product) - B45L - Aurora</td>\n",
       "      <td>Pi Navisworks</td>\n",
       "      <td>3D Modeling,Construction Drawing Set</td>\n",
       "      <td>Revit 2019</td>\n",
       "      <td>300.0</td>\n",
       "      <td>249.0</td>\n",
       "      <td>Architecture</td>\n",
       "      <td>383</td>\n",
       "      <td>0.029735</td>\n",
       "    </tr>\n",
       "  </tbody>\n",
       "</table>\n",
       "</div>"
      ],
      "text/plain": [
       "   project_id                                       projectname  \\\n",
       "0       75681   55 Premier Series (45' Product) - B45L - Aurora   \n",
       "1       75681   55 Premier Series (45' Product) - B45L - Aurora   \n",
       "\n",
       "    package_name                         scope_of_work software_platform  \\\n",
       "0        Pi Dock  3D Modeling,Construction Drawing Set        Revit 2019   \n",
       "1  Pi Navisworks  3D Modeling,Construction Drawing Set        Revit 2019   \n",
       "\n",
       "     lod  contracthours        tradep  project_days  \\\n",
       "0  300.0          249.0  Architecture           383   \n",
       "1  300.0          249.0  Architecture           383   \n",
       "\n",
       "   time_saved_per_hit_count_(hrs)  \n",
       "0                        0.000002  \n",
       "1                        0.029735  "
      ]
     },
     "execution_count": 215,
     "metadata": {},
     "output_type": "execute_result"
    }
   ],
   "source": [
    "data.head(2)"
   ]
  },
  {
   "cell_type": "code",
   "execution_count": 216,
   "metadata": {},
   "outputs": [
    {
     "name": "stdout",
     "output_type": "stream",
     "text": [
      "(1323, 2)\n"
     ]
    },
    {
     "data": {
      "text/html": [
       "<div>\n",
       "<style scoped>\n",
       "    .dataframe tbody tr th:only-of-type {\n",
       "        vertical-align: middle;\n",
       "    }\n",
       "\n",
       "    .dataframe tbody tr th {\n",
       "        vertical-align: top;\n",
       "    }\n",
       "\n",
       "    .dataframe thead th {\n",
       "        text-align: right;\n",
       "    }\n",
       "</style>\n",
       "<table border=\"1\" class=\"dataframe\">\n",
       "  <thead>\n",
       "    <tr style=\"text-align: right;\">\n",
       "      <th></th>\n",
       "      <th>project_id</th>\n",
       "      <th>tradep</th>\n",
       "    </tr>\n",
       "  </thead>\n",
       "  <tbody>\n",
       "    <tr>\n",
       "      <th>1322</th>\n",
       "      <td>78348</td>\n",
       "      <td>Structure,Site Utility</td>\n",
       "    </tr>\n",
       "    <tr>\n",
       "      <th>1321</th>\n",
       "      <td>78326</td>\n",
       "      <td>Mechanical Duct,Mechanical Pipe</td>\n",
       "    </tr>\n",
       "    <tr>\n",
       "      <th>1320</th>\n",
       "      <td>78302</td>\n",
       "      <td>Architecture,Structure,Mechanical,Electrical,P...</td>\n",
       "    </tr>\n",
       "    <tr>\n",
       "      <th>1319</th>\n",
       "      <td>78298</td>\n",
       "      <td>Architecture,Structure,Architecture,Structure</td>\n",
       "    </tr>\n",
       "    <tr>\n",
       "      <th>1318</th>\n",
       "      <td>78297</td>\n",
       "      <td>Mechanical Room</td>\n",
       "    </tr>\n",
       "  </tbody>\n",
       "</table>\n",
       "</div>"
      ],
      "text/plain": [
       "      project_id                                             tradep\n",
       "1322       78348                             Structure,Site Utility\n",
       "1321       78326                    Mechanical Duct,Mechanical Pipe\n",
       "1320       78302  Architecture,Structure,Mechanical,Electrical,P...\n",
       "1319       78298      Architecture,Structure,Architecture,Structure\n",
       "1318       78297                                    Mechanical Room"
      ]
     },
     "execution_count": 216,
     "metadata": {},
     "output_type": "execute_result"
    }
   ],
   "source": [
    "df_trade_grouped = data.groupby(by=['project_id'])['tradep'].aggregate(','.join).reset_index().sort_values(by='project_id', ascending=False)\n",
    "print(df_trade_grouped.shape)\n",
    "df_trade_grouped.head()"
   ]
  },
  {
   "cell_type": "code",
   "execution_count": 217,
   "metadata": {},
   "outputs": [
    {
     "name": "stdout",
     "output_type": "stream",
     "text": [
      "69\n"
     ]
    }
   ],
   "source": [
    "trade_list = df_trade_grouped['tradep'].str.split(',').explode().str.replace(\" \",\"\").str.lower().unique().tolist()\n",
    "print(len(trade_list))"
   ]
  },
  {
   "cell_type": "code",
   "execution_count": 218,
   "metadata": {},
   "outputs": [],
   "source": [
    "trade_list = [\"Plumbing\", \"Electrical\", \"Mechanical\", \"Architecture\", \"fireprotection\", \"duct\", \"structur\"]\n",
    "\n",
    "for item in trade_list:\n",
    "    df_trade_grouped['trade_' + item] = df_trade_grouped['tradep'].apply(lambda x: 1 if str(item).lower() in x.lower() else 0)\n"
   ]
  },
  {
   "cell_type": "code",
   "execution_count": 219,
   "metadata": {},
   "outputs": [
    {
     "data": {
      "text/html": [
       "<div>\n",
       "<style scoped>\n",
       "    .dataframe tbody tr th:only-of-type {\n",
       "        vertical-align: middle;\n",
       "    }\n",
       "\n",
       "    .dataframe tbody tr th {\n",
       "        vertical-align: top;\n",
       "    }\n",
       "\n",
       "    .dataframe thead th {\n",
       "        text-align: right;\n",
       "    }\n",
       "</style>\n",
       "<table border=\"1\" class=\"dataframe\">\n",
       "  <thead>\n",
       "    <tr style=\"text-align: right;\">\n",
       "      <th></th>\n",
       "      <th>project_id</th>\n",
       "      <th>tradep</th>\n",
       "      <th>trade_Plumbing</th>\n",
       "      <th>trade_Electrical</th>\n",
       "      <th>trade_Mechanical</th>\n",
       "      <th>trade_Architecture</th>\n",
       "      <th>trade_fireprotection</th>\n",
       "      <th>trade_duct</th>\n",
       "      <th>trade_structur</th>\n",
       "    </tr>\n",
       "  </thead>\n",
       "  <tbody>\n",
       "    <tr>\n",
       "      <th>1322</th>\n",
       "      <td>78348</td>\n",
       "      <td>Structure,Site Utility</td>\n",
       "      <td>0</td>\n",
       "      <td>0</td>\n",
       "      <td>0</td>\n",
       "      <td>0</td>\n",
       "      <td>0</td>\n",
       "      <td>0</td>\n",
       "      <td>1</td>\n",
       "    </tr>\n",
       "    <tr>\n",
       "      <th>1321</th>\n",
       "      <td>78326</td>\n",
       "      <td>Mechanical Duct,Mechanical Pipe</td>\n",
       "      <td>0</td>\n",
       "      <td>0</td>\n",
       "      <td>1</td>\n",
       "      <td>0</td>\n",
       "      <td>0</td>\n",
       "      <td>1</td>\n",
       "      <td>0</td>\n",
       "    </tr>\n",
       "  </tbody>\n",
       "</table>\n",
       "</div>"
      ],
      "text/plain": [
       "      project_id                           tradep  trade_Plumbing  \\\n",
       "1322       78348           Structure,Site Utility               0   \n",
       "1321       78326  Mechanical Duct,Mechanical Pipe               0   \n",
       "\n",
       "      trade_Electrical  trade_Mechanical  trade_Architecture  \\\n",
       "1322                 0                 0                   0   \n",
       "1321                 0                 1                   0   \n",
       "\n",
       "      trade_fireprotection  trade_duct  trade_structur  \n",
       "1322                     0           0               1  \n",
       "1321                     0           1               0  "
      ]
     },
     "execution_count": 219,
     "metadata": {},
     "output_type": "execute_result"
    }
   ],
   "source": [
    "df_trade_grouped.head(2)"
   ]
  },
  {
   "cell_type": "code",
   "execution_count": 220,
   "metadata": {},
   "outputs": [
    {
     "data": {
      "text/html": [
       "<div>\n",
       "<style scoped>\n",
       "    .dataframe tbody tr th:only-of-type {\n",
       "        vertical-align: middle;\n",
       "    }\n",
       "\n",
       "    .dataframe tbody tr th {\n",
       "        vertical-align: top;\n",
       "    }\n",
       "\n",
       "    .dataframe thead th {\n",
       "        text-align: right;\n",
       "    }\n",
       "</style>\n",
       "<table border=\"1\" class=\"dataframe\">\n",
       "  <thead>\n",
       "    <tr style=\"text-align: right;\">\n",
       "      <th></th>\n",
       "      <th>project_id</th>\n",
       "      <th>projectname</th>\n",
       "      <th>package_name</th>\n",
       "      <th>scope_of_work</th>\n",
       "      <th>software_platform</th>\n",
       "      <th>lod</th>\n",
       "      <th>contracthours</th>\n",
       "      <th>tradep</th>\n",
       "      <th>project_days</th>\n",
       "      <th>time_saved_per_hit_count_(hrs)</th>\n",
       "    </tr>\n",
       "  </thead>\n",
       "  <tbody>\n",
       "    <tr>\n",
       "      <th>0</th>\n",
       "      <td>75681</td>\n",
       "      <td>55 Premier Series (45' Product) - B45L - Aurora</td>\n",
       "      <td>Pi Dock</td>\n",
       "      <td>3D Modeling,Construction Drawing Set</td>\n",
       "      <td>Revit 2019</td>\n",
       "      <td>300.0</td>\n",
       "      <td>249.0</td>\n",
       "      <td>Architecture</td>\n",
       "      <td>383</td>\n",
       "      <td>0.000002</td>\n",
       "    </tr>\n",
       "    <tr>\n",
       "      <th>1</th>\n",
       "      <td>75681</td>\n",
       "      <td>55 Premier Series (45' Product) - B45L - Aurora</td>\n",
       "      <td>Pi Navisworks</td>\n",
       "      <td>3D Modeling,Construction Drawing Set</td>\n",
       "      <td>Revit 2019</td>\n",
       "      <td>300.0</td>\n",
       "      <td>249.0</td>\n",
       "      <td>Architecture</td>\n",
       "      <td>383</td>\n",
       "      <td>0.029735</td>\n",
       "    </tr>\n",
       "  </tbody>\n",
       "</table>\n",
       "</div>"
      ],
      "text/plain": [
       "   project_id                                       projectname  \\\n",
       "0       75681   55 Premier Series (45' Product) - B45L - Aurora   \n",
       "1       75681   55 Premier Series (45' Product) - B45L - Aurora   \n",
       "\n",
       "    package_name                         scope_of_work software_platform  \\\n",
       "0        Pi Dock  3D Modeling,Construction Drawing Set        Revit 2019   \n",
       "1  Pi Navisworks  3D Modeling,Construction Drawing Set        Revit 2019   \n",
       "\n",
       "     lod  contracthours        tradep  project_days  \\\n",
       "0  300.0          249.0  Architecture           383   \n",
       "1  300.0          249.0  Architecture           383   \n",
       "\n",
       "   time_saved_per_hit_count_(hrs)  \n",
       "0                        0.000002  \n",
       "1                        0.029735  "
      ]
     },
     "execution_count": 220,
     "metadata": {},
     "output_type": "execute_result"
    }
   ],
   "source": [
    "data.head(2)"
   ]
  },
  {
   "cell_type": "code",
   "execution_count": 221,
   "metadata": {},
   "outputs": [],
   "source": [
    "# data[data['project_id']==78326]"
   ]
  },
  {
   "cell_type": "markdown",
   "metadata": {},
   "source": [
    "## Grouping the numerical columns"
   ]
  },
  {
   "cell_type": "code",
   "execution_count": 222,
   "metadata": {},
   "outputs": [
    {
     "data": {
      "text/html": [
       "<div>\n",
       "<style scoped>\n",
       "    .dataframe tbody tr th:only-of-type {\n",
       "        vertical-align: middle;\n",
       "    }\n",
       "\n",
       "    .dataframe tbody tr th {\n",
       "        vertical-align: top;\n",
       "    }\n",
       "\n",
       "    .dataframe thead th {\n",
       "        text-align: right;\n",
       "    }\n",
       "</style>\n",
       "<table border=\"1\" class=\"dataframe\">\n",
       "  <thead>\n",
       "    <tr style=\"text-align: right;\">\n",
       "      <th></th>\n",
       "      <th>project_id</th>\n",
       "      <th>lod</th>\n",
       "      <th>contracthours</th>\n",
       "      <th>project_days</th>\n",
       "      <th>time_saved_per_hit_count_(hrs)</th>\n",
       "    </tr>\n",
       "  </thead>\n",
       "  <tbody>\n",
       "    <tr>\n",
       "      <th>1322</th>\n",
       "      <td>78348</td>\n",
       "      <td>300.0</td>\n",
       "      <td>400.0</td>\n",
       "      <td>0.0</td>\n",
       "      <td>0.072662</td>\n",
       "    </tr>\n",
       "    <tr>\n",
       "      <th>1321</th>\n",
       "      <td>78326</td>\n",
       "      <td>400.0</td>\n",
       "      <td>227.0</td>\n",
       "      <td>63.0</td>\n",
       "      <td>0.000006</td>\n",
       "    </tr>\n",
       "  </tbody>\n",
       "</table>\n",
       "</div>"
      ],
      "text/plain": [
       "      project_id    lod  contracthours  project_days  \\\n",
       "1322       78348  300.0          400.0           0.0   \n",
       "1321       78326  400.0          227.0          63.0   \n",
       "\n",
       "      time_saved_per_hit_count_(hrs)  \n",
       "1322                        0.072662  \n",
       "1321                        0.000006  "
      ]
     },
     "execution_count": 222,
     "metadata": {},
     "output_type": "execute_result"
    }
   ],
   "source": [
    "grouped_df = data.groupby(by=['project_id'])[['lod', 'contracthours', 'project_days', 'time_saved_per_hit_count_(hrs)']].aggregate('median').reset_index().sort_values(by='project_id', ascending=False)\n",
    "grouped_df.head(2)"
   ]
  },
  {
   "cell_type": "markdown",
   "metadata": {},
   "source": [
    "## Combining all the grouped tables"
   ]
  },
  {
   "cell_type": "code",
   "execution_count": 223,
   "metadata": {},
   "outputs": [],
   "source": [
    "df = pd.concat([grouped_df, df_package_grouped.iloc[:,2:], df_software_grouped.iloc[:,2:] ,df_trade_grouped.iloc[:,2:], ], axis=1)\n",
    "# df = df.reset_index(drop=True)"
   ]
  },
  {
   "cell_type": "code",
   "execution_count": 224,
   "metadata": {},
   "outputs": [],
   "source": [
    "# Rename the 'col1' column to 'new_column_name'\n",
    "df = df.rename(columns={'time_saved_per_hit_count_(hrs)': 'time_saved'})"
   ]
  },
  {
   "cell_type": "code",
   "execution_count": 225,
   "metadata": {},
   "outputs": [],
   "source": [
    "df = df.set_index(keys=['project_id'])"
   ]
  },
  {
   "cell_type": "code",
   "execution_count": 226,
   "metadata": {},
   "outputs": [
    {
     "data": {
      "text/html": [
       "<div>\n",
       "<style scoped>\n",
       "    .dataframe tbody tr th:only-of-type {\n",
       "        vertical-align: middle;\n",
       "    }\n",
       "\n",
       "    .dataframe tbody tr th {\n",
       "        vertical-align: top;\n",
       "    }\n",
       "\n",
       "    .dataframe thead th {\n",
       "        text-align: right;\n",
       "    }\n",
       "</style>\n",
       "<table border=\"1\" class=\"dataframe\">\n",
       "  <thead>\n",
       "    <tr style=\"text-align: right;\">\n",
       "      <th></th>\n",
       "      <th>lod</th>\n",
       "      <th>contracthours</th>\n",
       "      <th>project_days</th>\n",
       "      <th>time_saved</th>\n",
       "      <th>package_pi dock</th>\n",
       "      <th>package_pi navisworks</th>\n",
       "      <th>package_pi mechanical</th>\n",
       "      <th>package_pi quality</th>\n",
       "      <th>package_pi electrical</th>\n",
       "      <th>package_pi scrum</th>\n",
       "      <th>package_pi acs</th>\n",
       "      <th>package_pi document package</th>\n",
       "      <th>package_pi swr</th>\n",
       "      <th>package_pi common package</th>\n",
       "      <th>package_pi mep package</th>\n",
       "      <th>package_pi plant3d</th>\n",
       "      <th>package_pi mechanical package</th>\n",
       "      <th>package_pi scrum package</th>\n",
       "      <th>software_revit</th>\n",
       "      <th>software_navish</th>\n",
       "      <th>software_tekla</th>\n",
       "      <th>software_autocad</th>\n",
       "      <th>software_plantd</th>\n",
       "      <th>software_fabrication</th>\n",
       "      <th>software_rebar</th>\n",
       "      <th>trade_Plumbing</th>\n",
       "      <th>trade_Electrical</th>\n",
       "      <th>trade_Mechanical</th>\n",
       "      <th>trade_Architecture</th>\n",
       "      <th>trade_fireprotection</th>\n",
       "      <th>trade_duct</th>\n",
       "      <th>trade_structur</th>\n",
       "    </tr>\n",
       "    <tr>\n",
       "      <th>project_id</th>\n",
       "      <th></th>\n",
       "      <th></th>\n",
       "      <th></th>\n",
       "      <th></th>\n",
       "      <th></th>\n",
       "      <th></th>\n",
       "      <th></th>\n",
       "      <th></th>\n",
       "      <th></th>\n",
       "      <th></th>\n",
       "      <th></th>\n",
       "      <th></th>\n",
       "      <th></th>\n",
       "      <th></th>\n",
       "      <th></th>\n",
       "      <th></th>\n",
       "      <th></th>\n",
       "      <th></th>\n",
       "      <th></th>\n",
       "      <th></th>\n",
       "      <th></th>\n",
       "      <th></th>\n",
       "      <th></th>\n",
       "      <th></th>\n",
       "      <th></th>\n",
       "      <th></th>\n",
       "      <th></th>\n",
       "      <th></th>\n",
       "      <th></th>\n",
       "      <th></th>\n",
       "      <th></th>\n",
       "      <th></th>\n",
       "    </tr>\n",
       "  </thead>\n",
       "  <tbody>\n",
       "    <tr>\n",
       "      <th>78348</th>\n",
       "      <td>300.0</td>\n",
       "      <td>400.0</td>\n",
       "      <td>0.0</td>\n",
       "      <td>0.072662</td>\n",
       "      <td>0</td>\n",
       "      <td>0</td>\n",
       "      <td>1</td>\n",
       "      <td>0</td>\n",
       "      <td>0</td>\n",
       "      <td>0</td>\n",
       "      <td>0</td>\n",
       "      <td>0</td>\n",
       "      <td>0</td>\n",
       "      <td>0</td>\n",
       "      <td>0</td>\n",
       "      <td>0</td>\n",
       "      <td>0</td>\n",
       "      <td>0</td>\n",
       "      <td>1</td>\n",
       "      <td>0</td>\n",
       "      <td>0</td>\n",
       "      <td>1</td>\n",
       "      <td>0</td>\n",
       "      <td>0</td>\n",
       "      <td>0</td>\n",
       "      <td>0</td>\n",
       "      <td>0</td>\n",
       "      <td>0</td>\n",
       "      <td>0</td>\n",
       "      <td>0</td>\n",
       "      <td>0</td>\n",
       "      <td>1</td>\n",
       "    </tr>\n",
       "    <tr>\n",
       "      <th>78326</th>\n",
       "      <td>400.0</td>\n",
       "      <td>227.0</td>\n",
       "      <td>63.0</td>\n",
       "      <td>0.000006</td>\n",
       "      <td>0</td>\n",
       "      <td>0</td>\n",
       "      <td>0</td>\n",
       "      <td>0</td>\n",
       "      <td>1</td>\n",
       "      <td>0</td>\n",
       "      <td>0</td>\n",
       "      <td>0</td>\n",
       "      <td>0</td>\n",
       "      <td>0</td>\n",
       "      <td>0</td>\n",
       "      <td>0</td>\n",
       "      <td>0</td>\n",
       "      <td>0</td>\n",
       "      <td>1</td>\n",
       "      <td>0</td>\n",
       "      <td>0</td>\n",
       "      <td>0</td>\n",
       "      <td>0</td>\n",
       "      <td>1</td>\n",
       "      <td>0</td>\n",
       "      <td>0</td>\n",
       "      <td>0</td>\n",
       "      <td>1</td>\n",
       "      <td>0</td>\n",
       "      <td>0</td>\n",
       "      <td>1</td>\n",
       "      <td>0</td>\n",
       "    </tr>\n",
       "    <tr>\n",
       "      <th>78302</th>\n",
       "      <td>300.0</td>\n",
       "      <td>220.0</td>\n",
       "      <td>15.0</td>\n",
       "      <td>0.029272</td>\n",
       "      <td>0</td>\n",
       "      <td>0</td>\n",
       "      <td>1</td>\n",
       "      <td>1</td>\n",
       "      <td>1</td>\n",
       "      <td>0</td>\n",
       "      <td>0</td>\n",
       "      <td>0</td>\n",
       "      <td>0</td>\n",
       "      <td>0</td>\n",
       "      <td>0</td>\n",
       "      <td>0</td>\n",
       "      <td>0</td>\n",
       "      <td>0</td>\n",
       "      <td>1</td>\n",
       "      <td>0</td>\n",
       "      <td>0</td>\n",
       "      <td>0</td>\n",
       "      <td>0</td>\n",
       "      <td>0</td>\n",
       "      <td>0</td>\n",
       "      <td>1</td>\n",
       "      <td>1</td>\n",
       "      <td>1</td>\n",
       "      <td>1</td>\n",
       "      <td>0</td>\n",
       "      <td>0</td>\n",
       "      <td>1</td>\n",
       "    </tr>\n",
       "    <tr>\n",
       "      <th>78298</th>\n",
       "      <td>300.0</td>\n",
       "      <td>180.0</td>\n",
       "      <td>16.0</td>\n",
       "      <td>0.043800</td>\n",
       "      <td>0</td>\n",
       "      <td>0</td>\n",
       "      <td>1</td>\n",
       "      <td>0</td>\n",
       "      <td>1</td>\n",
       "      <td>0</td>\n",
       "      <td>0</td>\n",
       "      <td>0</td>\n",
       "      <td>0</td>\n",
       "      <td>0</td>\n",
       "      <td>0</td>\n",
       "      <td>0</td>\n",
       "      <td>0</td>\n",
       "      <td>0</td>\n",
       "      <td>1</td>\n",
       "      <td>0</td>\n",
       "      <td>0</td>\n",
       "      <td>0</td>\n",
       "      <td>0</td>\n",
       "      <td>0</td>\n",
       "      <td>0</td>\n",
       "      <td>0</td>\n",
       "      <td>0</td>\n",
       "      <td>0</td>\n",
       "      <td>1</td>\n",
       "      <td>0</td>\n",
       "      <td>0</td>\n",
       "      <td>1</td>\n",
       "    </tr>\n",
       "    <tr>\n",
       "      <th>78297</th>\n",
       "      <td>450.0</td>\n",
       "      <td>99.0</td>\n",
       "      <td>39.0</td>\n",
       "      <td>0.024720</td>\n",
       "      <td>0</td>\n",
       "      <td>0</td>\n",
       "      <td>1</td>\n",
       "      <td>0</td>\n",
       "      <td>0</td>\n",
       "      <td>0</td>\n",
       "      <td>0</td>\n",
       "      <td>0</td>\n",
       "      <td>0</td>\n",
       "      <td>0</td>\n",
       "      <td>0</td>\n",
       "      <td>0</td>\n",
       "      <td>0</td>\n",
       "      <td>0</td>\n",
       "      <td>1</td>\n",
       "      <td>0</td>\n",
       "      <td>0</td>\n",
       "      <td>0</td>\n",
       "      <td>0</td>\n",
       "      <td>1</td>\n",
       "      <td>0</td>\n",
       "      <td>0</td>\n",
       "      <td>0</td>\n",
       "      <td>1</td>\n",
       "      <td>0</td>\n",
       "      <td>0</td>\n",
       "      <td>0</td>\n",
       "      <td>0</td>\n",
       "    </tr>\n",
       "  </tbody>\n",
       "</table>\n",
       "</div>"
      ],
      "text/plain": [
       "              lod  contracthours  project_days  time_saved  package_pi dock  \\\n",
       "project_id                                                                    \n",
       "78348       300.0          400.0           0.0    0.072662                0   \n",
       "78326       400.0          227.0          63.0    0.000006                0   \n",
       "78302       300.0          220.0          15.0    0.029272                0   \n",
       "78298       300.0          180.0          16.0    0.043800                0   \n",
       "78297       450.0           99.0          39.0    0.024720                0   \n",
       "\n",
       "            package_pi navisworks  package_pi mechanical  package_pi quality  \\\n",
       "project_id                                                                     \n",
       "78348                           0                      1                   0   \n",
       "78326                           0                      0                   0   \n",
       "78302                           0                      1                   1   \n",
       "78298                           0                      1                   0   \n",
       "78297                           0                      1                   0   \n",
       "\n",
       "            package_pi electrical  package_pi scrum  package_pi acs  \\\n",
       "project_id                                                            \n",
       "78348                           0                 0               0   \n",
       "78326                           1                 0               0   \n",
       "78302                           1                 0               0   \n",
       "78298                           1                 0               0   \n",
       "78297                           0                 0               0   \n",
       "\n",
       "            package_pi document package  package_pi swr  \\\n",
       "project_id                                                \n",
       "78348                                 0               0   \n",
       "78326                                 0               0   \n",
       "78302                                 0               0   \n",
       "78298                                 0               0   \n",
       "78297                                 0               0   \n",
       "\n",
       "            package_pi common package  package_pi mep package  \\\n",
       "project_id                                                      \n",
       "78348                               0                       0   \n",
       "78326                               0                       0   \n",
       "78302                               0                       0   \n",
       "78298                               0                       0   \n",
       "78297                               0                       0   \n",
       "\n",
       "            package_pi plant3d  package_pi mechanical package  \\\n",
       "project_id                                                      \n",
       "78348                        0                              0   \n",
       "78326                        0                              0   \n",
       "78302                        0                              0   \n",
       "78298                        0                              0   \n",
       "78297                        0                              0   \n",
       "\n",
       "            package_pi scrum package  software_revit  software_navish  \\\n",
       "project_id                                                              \n",
       "78348                              0               1                0   \n",
       "78326                              0               1                0   \n",
       "78302                              0               1                0   \n",
       "78298                              0               1                0   \n",
       "78297                              0               1                0   \n",
       "\n",
       "            software_tekla  software_autocad  software_plantd  \\\n",
       "project_id                                                      \n",
       "78348                    0                 1                0   \n",
       "78326                    0                 0                0   \n",
       "78302                    0                 0                0   \n",
       "78298                    0                 0                0   \n",
       "78297                    0                 0                0   \n",
       "\n",
       "            software_fabrication  software_rebar  trade_Plumbing  \\\n",
       "project_id                                                         \n",
       "78348                          0               0               0   \n",
       "78326                          1               0               0   \n",
       "78302                          0               0               1   \n",
       "78298                          0               0               0   \n",
       "78297                          1               0               0   \n",
       "\n",
       "            trade_Electrical  trade_Mechanical  trade_Architecture  \\\n",
       "project_id                                                           \n",
       "78348                      0                 0                   0   \n",
       "78326                      0                 1                   0   \n",
       "78302                      1                 1                   1   \n",
       "78298                      0                 0                   1   \n",
       "78297                      0                 1                   0   \n",
       "\n",
       "            trade_fireprotection  trade_duct  trade_structur  \n",
       "project_id                                                    \n",
       "78348                          0           0               1  \n",
       "78326                          0           1               0  \n",
       "78302                          0           0               1  \n",
       "78298                          0           0               1  \n",
       "78297                          0           0               0  "
      ]
     },
     "execution_count": 226,
     "metadata": {},
     "output_type": "execute_result"
    }
   ],
   "source": [
    "df.head()"
   ]
  },
  {
   "cell_type": "markdown",
   "metadata": {},
   "source": [
    "## Data Exploration"
   ]
  },
  {
   "cell_type": "code",
   "execution_count": 244,
   "metadata": {},
   "outputs": [
    {
     "data": {
      "text/plain": [
       "(185, 32)"
      ]
     },
     "execution_count": 244,
     "metadata": {},
     "output_type": "execute_result"
    }
   ],
   "source": [
    "df[df['time_saved']>1].shape"
   ]
  },
  {
   "cell_type": "code",
   "execution_count": 243,
   "metadata": {},
   "outputs": [
    {
     "data": {
      "image/png": "[encoded data removed]",
      "text/plain": [
       "<Figure size 640x480 with 1 Axes>"
      ]
     },
     "metadata": {},
     "output_type": "display_data"
    }
   ],
   "source": [
    "sns.boxplot(x=df['time_saved'])\n",
    "plt.show()"
   ]
  },
  {
   "cell_type": "code",
   "execution_count": 238,
   "metadata": {},
   "outputs": [
    {
     "data": {
      "image/png": "[encoded data removed]",
      "text/plain": [
       "<Figure size 640x480 with 1 Axes>"
      ]
     },
     "metadata": {},
     "output_type": "display_data"
    }
   ],
   "source": [
    "# Plot the histogram\n",
    "sns.kdeplot(x=df['time_saved'])\n",
    "plt.show()"
   ]
  },
  {
   "cell_type": "code",
   "execution_count": null,
   "metadata": {},
   "outputs": [],
   "source": []
  },
  {
   "cell_type": "markdown",
   "metadata": {},
   "source": [
    "### Base predictive model testing"
   ]
  },
  {
   "cell_type": "code",
   "execution_count": 284,
   "metadata": {},
   "outputs": [
    {
     "data": {
      "text/plain": [
       "(163, 32)"
      ]
     },
     "execution_count": 284,
     "metadata": {},
     "output_type": "execute_result"
    }
   ],
   "source": [
    "df_test = df[(df['time_saved']>1) & (df['time_saved']<10)]\n",
    "# df_test = df[(df['time_saved']>0) & (df['time_saved']<1)]\n",
    "df_test.shape"
   ]
  },
  {
   "cell_type": "code",
   "execution_count": 285,
   "metadata": {},
   "outputs": [],
   "source": [
    "X = df_test.drop(columns=['time_saved'], inplace=False)\n",
    "y = df_test['time_saved']"
   ]
  },
  {
   "cell_type": "code",
   "execution_count": 286,
   "metadata": {},
   "outputs": [],
   "source": [
    "from sklearn.model_selection import train_test_split\n",
    "from sklearn.metrics import mean_squared_error, r2_score\n",
    "\n",
    "# Spliting the data into train and test\n",
    "X_train, X_test, y_train, y_test = train_test_split(X, y, test_size=0.3, random_state=42)"
   ]
  },
  {
   "cell_type": "code",
   "execution_count": 287,
   "metadata": {},
   "outputs": [],
   "source": [
    "# from sklearn.linear_model import LinearRegression\n",
    "\n",
    "# # Create a linear regression model\n",
    "# model = LinearRegression()\n",
    "\n",
    "# # Train the model\n",
    "# model.fit(X_train, y_train)\n",
    "\n",
    "# # Make predictions on the testing set\n",
    "# y_pred = model.predict(X_test)\n",
    "\n",
    "# # Evaluate the model\n",
    "# mse = mean_squared_error(y_test, y_pred)\n",
    "# r2 = r2_score(y_test, y_pred)\n",
    "\n",
    "# print(f\"MSE: {mse}\")\n",
    "# print(f\"R-squared: {r2}\")"
   ]
  },
  {
   "cell_type": "code",
   "execution_count": 288,
   "metadata": {},
   "outputs": [
    {
     "name": "stdout",
     "output_type": "stream",
     "text": [
      "MSE: 2.924886571158273\n",
      "R-squared: -0.33392602595322485\n"
     ]
    }
   ],
   "source": [
    "from sklearn.ensemble import RandomForestRegressor\n",
    "\n",
    "# Create a linear regression model\n",
    "model = RandomForestRegressor(n_estimators=100, random_state=42)\n",
    "\n",
    "# Train the model\n",
    "model.fit(X_train, y_train)\n",
    "\n",
    "# Make predictions on the testing set\n",
    "y_pred = model.predict(X_test)\n",
    "\n",
    "# Evaluate the model\n",
    "mse = mean_squared_error(y_test, y_pred)\n",
    "r2 = r2_score(y_test, y_pred)\n",
    "\n",
    "print(f\"MSE: {mse}\")\n",
    "print(f\"R-squared: {r2}\")"
   ]
  },
  {
   "cell_type": "code",
   "execution_count": 289,
   "metadata": {},
   "outputs": [
    {
     "data": {
      "image/png": "[encoded data removed]",
      "text/plain": [
       "<Figure size 640x480 with 1 Axes>"
      ]
     },
     "metadata": {},
     "output_type": "display_data"
    }
   ],
   "source": [
    "x = np.arange(len(y_test))\n",
    "# Plot y_test and y_pred\n",
    "plt.scatter(x, y_test, color='blue', label='Actual', alpha=0.7)\n",
    "plt.scatter(x, y_pred, color='red', label='Predicted', alpha=0.7)\n",
    "\n",
    "# Add labels and title\n",
    "plt.xlabel('X')\n",
    "plt.ylabel('Y')\n",
    "plt.title('Actual vs. Predicted Values')\n",
    "\n",
    "# Add legend and show plot\n",
    "plt.legend()\n",
    "plt.show()"
   ]
  },
  {
   "cell_type": "code",
   "execution_count": 290,
   "metadata": {},
   "outputs": [
    {
     "data": {
      "image/png": "[encoded data removed]",
      "text/plain": [
       "<Figure size 640x480 with 1 Axes>"
      ]
     },
     "metadata": {},
     "output_type": "display_data"
    }
   ],
   "source": [
    "# Create a line plot for y_test and y_pred\n",
    "plt.plot(x, y_test, label='Actual', marker='o', linestyle='-')\n",
    "plt.plot(x, y_pred, label='Predicted', marker='x', linestyle='--')\n",
    "\n",
    "# Add labels and a legend\n",
    "plt.xlabel('Data Points')\n",
    "plt.ylabel('Values')\n",
    "plt.legend()\n",
    "\n",
    "# Show the plot\n",
    "plt.title('Actual vs. Predicted Values')\n",
    "plt.grid(True)\n",
    "plt.show()"
   ]
  },
  {
   "cell_type": "code",
   "execution_count": null,
   "metadata": {},
   "outputs": [],
   "source": []
  }
 ],
 "metadata": {
  "kernelspec": {
   "display_name": "Python 3",
   "language": "python",
   "name": "python3"
  },
  "language_info": {
   "codemirror_mode": {
    "name": "ipython",
    "version": 3
   },
   "file_extension": ".py",
   "mimetype": "text/x-python",
   "name": "python",
   "nbconvert_exporter": "python",
   "pygments_lexer": "ipython3",
   "version": "3.10.13"
  }
 },
 "nbformat": 4,
 "nbformat_minor": 2
}
