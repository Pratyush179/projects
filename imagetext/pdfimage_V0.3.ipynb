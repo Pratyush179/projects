{
 "cells": [
  {
   "cell_type": "markdown",
   "metadata": {},
   "source": [
    "## Easy OCR"
   ]
  },
  {
   "cell_type": "code",
   "execution_count": 6,
   "metadata": {},
   "outputs": [],
   "source": [
    "# import easyocr"
   ]
  },
  {
   "cell_type": "code",
   "execution_count": 7,
   "metadata": {},
   "outputs": [],
   "source": [
    "# import PIL.Image\n",
    "# print(PIL.Image.__file__)"
   ]
  },
  {
   "cell_type": "code",
   "execution_count": 8,
   "metadata": {},
   "outputs": [],
   "source": [
    "# reader = easyocr.Reader(['en'])\n",
    "# result = reader.readtext('data\\sampleimage.png')"
   ]
  },
  {
   "cell_type": "code",
   "execution_count": 9,
   "metadata": {},
   "outputs": [],
   "source": [
    "# for detection in result:\n",
    "#     coords = detection[0]\n",
    "#     text = detection[1]\n",
    "#     print(f\"Text: {text}, Coordinates: {coords}\")"
   ]
  },
  {
   "cell_type": "code",
   "execution_count": 10,
   "metadata": {},
   "outputs": [],
   "source": [
    "# from PIL import Image\n",
    "# print(Image.ANTIALIAS)"
   ]
  },
  {
   "cell_type": "markdown",
   "metadata": {},
   "source": [
    "## FITZ"
   ]
  },
  {
   "cell_type": "code",
   "execution_count": 11,
   "metadata": {},
   "outputs": [],
   "source": [
    "# import fitz\n",
    "\n",
    "# doc = fitz.open('data\\sampleimage.png')\n",
    "# page = doc[0]\n",
    "# blocks = page.get_text(\"blocks\")\n",
    "\n",
    "# for block in blocks:\n",
    "#     x, y, x1, y1 = block[:4]\n",
    "#     text = block[4]\n",
    "#     print(f\"Text: {text}, Coordinates: ({x}, {y}, {x1-x}, {y1-y})\")\n"
   ]
  },
  {
   "cell_type": "markdown",
   "metadata": {},
   "source": [
    "## PDFMiner"
   ]
  },
  {
   "cell_type": "code",
   "execution_count": 2,
   "metadata": {},
   "outputs": [],
   "source": [
    "from pdfminer.high_level import extract_pages\n",
    "from pdfminer.layout import LTTextContainer\n",
    "import pandas as pd\n",
    "\n",
    "dfs = []\n",
    "for page_layout in extract_pages('data\\sample.pdf'):\n",
    "    for element in page_layout:\n",
    "        if isinstance(element, LTTextContainer):\n",
    "            x, y, x1, y1 = element.bbox\n",
    "            text = element.get_text()\n",
    "            # print(f\"Text: {text.strip()}, Coordinates: ({x}, {y}, {x1-x}, {y1-y})\")\n",
    "            list_dict = {'text': text, 'x': x, 'y': y, 'w': (x1-x), 'h': (y1-y)}\n",
    "            dfs.append(pd.DataFrame([list_dict]))"
   ]
  },
  {
   "cell_type": "code",
   "execution_count": 3,
   "metadata": {},
   "outputs": [],
   "source": [
    "df = pd.concat(dfs, ignore_index=True)"
   ]
  },
  {
   "cell_type": "code",
   "execution_count": 5,
   "metadata": {},
   "outputs": [],
   "source": [
    "# df.to_csv('data/pdfminerdata.csv', index=False)"
   ]
  },
  {
   "cell_type": "code",
   "execution_count": 20,
   "metadata": {},
   "outputs": [
    {
     "name": "stdout",
     "output_type": "stream",
     "text": [
      "1 Sheets\n",
      "2 S-MP-01-L - MECHANICAL PIPING FIRST FLOOR PLAN AREA L\n"
     ]
    }
   ],
   "source": [
    "## Title extraction\n",
    "from pdfminer.pdfparser import PDFParser\n",
    "from pdfminer.pdfdocument import PDFDocument\n",
    "# Open a PDF document.\n",
    "fp = open('data\\sample.pdf', 'rb')\n",
    "parser = PDFParser(fp)\n",
    "document = PDFDocument(parser)\n",
    "# Get the outlines of the document.\n",
    "outlines = document.get_outlines()\n",
    "for (level,title,dest,a,se) in outlines:\n",
    "    print (level, title)"
   ]
  },
  {
   "cell_type": "code",
   "execution_count": 27,
   "metadata": {},
   "outputs": [],
   "source": [
    "# # Extrcat text\n",
    "# from pdfminer.layout import LAParams\n",
    "# from pdfminer.converter import PDFResourceManager, PDFPageAggregator\n",
    "# from pdfminer.pdfpage import PDFPage\n",
    "# from pdfminer.layout import LTTextBoxHorizontal\n",
    "# from pdfminer.pdfinterp import PDFPageInterpreter\n",
    "# document = open('data\\sample.pdf', 'rb')\n",
    "# #Create resource manager\n",
    "# rsrcmgr = PDFResourceManager()\n",
    "# # Set parameters for analysis.\n",
    "# laparams = LAParams()\n",
    "# # Create a PDF page aggregator object.\n",
    "# device = PDFPageAggregator(rsrcmgr, laparams=laparams)\n",
    "# interpreter = PDFPageInterpreter(rsrcmgr, device)\n",
    "# for page in PDFPage.get_pages(document):\n",
    "#     interpreter.process_page(page)\n",
    "#     # receive the LTPage object for the page.\n",
    "#     layout = device.get_result()\n",
    "#     for element in layout:\n",
    "#         if isinstance(element, LTTextBoxHorizontal):\n",
    "#             print(element.get_text())\n"
   ]
  },
  {
   "cell_type": "code",
   "execution_count": 26,
   "metadata": {},
   "outputs": [],
   "source": [
    "# from pdfminer.high_level import extract_pages\n",
    "# for page_layout in extract_pages(\"data\\sample.pdf\"):\n",
    "#     for element in page_layout:\n",
    "#         print(element)"
   ]
  },
  {
   "cell_type": "code",
   "execution_count": 29,
   "metadata": {},
   "outputs": [],
   "source": [
    "# from pdfminer.high_level import extract_pages\n",
    "# from pdfminer.layout import LTTextContainer, LTChar\n",
    "# for page_layout in extract_pages(\"data\\sample.pdf\"):\n",
    "#     for element in page_layout:\n",
    "#         if isinstance(element, LTTextContainer):\n",
    "#             for text_line in element:\n",
    "#                 for character in text_line:\n",
    "#                     if isinstance(character, LTChar):\n",
    "#                         print(character.fontname)\n",
    "#                         print(character.size)"
   ]
  },
  {
   "cell_type": "code",
   "execution_count": null,
   "metadata": {},
   "outputs": [],
   "source": []
  },
  {
   "cell_type": "code",
   "execution_count": null,
   "metadata": {},
   "outputs": [],
   "source": []
  },
  {
   "cell_type": "code",
   "execution_count": null,
   "metadata": {},
   "outputs": [],
   "source": []
  },
  {
   "cell_type": "code",
   "execution_count": null,
   "metadata": {},
   "outputs": [],
   "source": []
  },
  {
   "cell_type": "code",
   "execution_count": null,
   "metadata": {},
   "outputs": [],
   "source": []
  },
  {
   "cell_type": "markdown",
   "metadata": {},
   "source": [
    "## PDF Plumber"
   ]
  },
  {
   "cell_type": "code",
   "execution_count": 12,
   "metadata": {},
   "outputs": [],
   "source": [
    "import pdfplumber"
   ]
  },
  {
   "cell_type": "code",
   "execution_count": 14,
   "metadata": {},
   "outputs": [],
   "source": [
    "dfs1 = []\n",
    "with pdfplumber.open('data\\sample.pdf') as pdf:\n",
    "    page = pdf.pages[0]\n",
    "    for word in page.extract_words():\n",
    "        x, y, x1, y1 = word['x0'], word['top'], word['x1'], word['bottom']\n",
    "        text = word['text']\n",
    "        # print(f\"Text: {text}, Coordinates: ({x}, {y}, {x1-x}, {y1-y})\")\n",
    "        list_dict = {'text': text, 'x': x, 'y': y, 'w': (x1-x), 'h': (y1-y)}\n",
    "        dfs1.append(pd.DataFrame([list_dict]))"
   ]
  },
  {
   "cell_type": "code",
   "execution_count": 15,
   "metadata": {},
   "outputs": [],
   "source": [
    "df_plumber = pd.concat(dfs1, ignore_index=True)"
   ]
  },
  {
   "cell_type": "code",
   "execution_count": 16,
   "metadata": {},
   "outputs": [
    {
     "data": {
      "text/html": [
       "<div>\n",
       "<style scoped>\n",
       "    .dataframe tbody tr th:only-of-type {\n",
       "        vertical-align: middle;\n",
       "    }\n",
       "\n",
       "    .dataframe tbody tr th {\n",
       "        vertical-align: top;\n",
       "    }\n",
       "\n",
       "    .dataframe thead th {\n",
       "        text-align: right;\n",
       "    }\n",
       "</style>\n",
       "<table border=\"1\" class=\"dataframe\">\n",
       "  <thead>\n",
       "    <tr style=\"text-align: right;\">\n",
       "      <th></th>\n",
       "      <th>text</th>\n",
       "      <th>x</th>\n",
       "      <th>y</th>\n",
       "      <th>w</th>\n",
       "      <th>h</th>\n",
       "    </tr>\n",
       "  </thead>\n",
       "  <tbody>\n",
       "    <tr>\n",
       "      <th>0</th>\n",
       "      <td>GENERAL</td>\n",
       "      <td>2581.558967</td>\n",
       "      <td>66.551695</td>\n",
       "      <td>121.194850</td>\n",
       "      <td>24.94869</td>\n",
       "    </tr>\n",
       "    <tr>\n",
       "      <th>1</th>\n",
       "      <td>NOTES:</td>\n",
       "      <td>2709.718696</td>\n",
       "      <td>66.551695</td>\n",
       "      <td>94.223007</td>\n",
       "      <td>24.94869</td>\n",
       "    </tr>\n",
       "    <tr>\n",
       "      <th>2</th>\n",
       "      <td>KEY</td>\n",
       "      <td>1494.719402</td>\n",
       "      <td>92.467041</td>\n",
       "      <td>51.298341</td>\n",
       "      <td>24.95339</td>\n",
       "    </tr>\n",
       "    <tr>\n",
       "      <th>3</th>\n",
       "      <td>NOTES:</td>\n",
       "      <td>1553.039532</td>\n",
       "      <td>92.467041</td>\n",
       "      <td>94.222812</td>\n",
       "      <td>24.95339</td>\n",
       "    </tr>\n",
       "    <tr>\n",
       "      <th>4</th>\n",
       "      <td>1.</td>\n",
       "      <td>2545.558982</td>\n",
       "      <td>99.331524</td>\n",
       "      <td>20.851743</td>\n",
       "      <td>24.94869</td>\n",
       "    </tr>\n",
       "  </tbody>\n",
       "</table>\n",
       "</div>"
      ],
      "text/plain": [
       "      text            x          y           w         h\n",
       "0  GENERAL  2581.558967  66.551695  121.194850  24.94869\n",
       "1   NOTES:  2709.718696  66.551695   94.223007  24.94869\n",
       "2      KEY  1494.719402  92.467041   51.298341  24.95339\n",
       "3   NOTES:  1553.039532  92.467041   94.222812  24.95339\n",
       "4       1.  2545.558982  99.331524   20.851743  24.94869"
      ]
     },
     "execution_count": 16,
     "metadata": {},
     "output_type": "execute_result"
    }
   ],
   "source": [
    "df_plumber.head()"
   ]
  },
  {
   "cell_type": "code",
   "execution_count": 17,
   "metadata": {},
   "outputs": [
    {
     "data": {
      "text/plain": [
       "(1322, 5)"
      ]
     },
     "execution_count": 17,
     "metadata": {},
     "output_type": "execute_result"
    }
   ],
   "source": [
    "df_plumber.shape"
   ]
  },
  {
   "cell_type": "code",
   "execution_count": 19,
   "metadata": {},
   "outputs": [],
   "source": [
    "# df_plumber.to_csv('data/df_plumber.csv', index=False)"
   ]
  },
  {
   "cell_type": "code",
   "execution_count": null,
   "metadata": {},
   "outputs": [],
   "source": []
  },
  {
   "cell_type": "code",
   "execution_count": null,
   "metadata": {},
   "outputs": [],
   "source": []
  }
 ],
 "metadata": {
  "kernelspec": {
   "display_name": "Python 3",
   "language": "python",
   "name": "python3"
  },
  "language_info": {
   "codemirror_mode": {
    "name": "ipython",
    "version": 3
   },
   "file_extension": ".py",
   "mimetype": "text/x-python",
   "name": "python",
   "nbconvert_exporter": "python",
   "pygments_lexer": "ipython3",
   "version": "3.11.4"
  },
  "orig_nbformat": 4
 },
 "nbformat": 4,
 "nbformat_minor": 2
}
